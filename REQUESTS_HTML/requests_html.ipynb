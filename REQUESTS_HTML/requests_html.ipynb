{
 "cells": [
  {
   "cell_type": "code",
   "execution_count": 9,
   "metadata": {},
   "outputs": [],
   "source": [
    "from requests_html import HTMLSession\n",
    "session = HTMLSession()\n",
    "r = session.get('https://python.org/')"
   ]
  },
  {
   "cell_type": "code",
   "execution_count": 8,
   "metadata": {},
   "outputs": [
    {
     "ename": "SyntaxError",
     "evalue": "invalid syntax (<ipython-input-8-1d71d1453b83>, line 1)",
     "output_type": "error",
     "traceback": [
      "\u001b[0;36m  File \u001b[0;32m\"<ipython-input-8-1d71d1453b83>\"\u001b[0;36m, line \u001b[0;32m1\u001b[0m\n\u001b[0;31m    pipenv install requests-html\u001b[0m\n\u001b[0m           ^\u001b[0m\n\u001b[0;31mSyntaxError\u001b[0m\u001b[0;31m:\u001b[0m invalid syntax\n"
     ]
    }
   ],
   "source": [
    "pipenv install requests-html\n",
    "\n",
    "#async\n",
    "#print(about.lineno)\n",
    "#sel = 'body > div.application-main > div.jumbotron.jumbotron-codelines > div > div > div.col-md-7.text-center.text-md-left > p'"
   ]
  },
  {
   "cell_type": "code",
   "execution_count": 10,
   "metadata": {},
   "outputs": [
    {
     "name": "stdout",
     "output_type": "stream",
     "text": [
      "{'http://www.web2py.com/', 'http://roundup.sourceforge.net/', '/events/calendars/', '/success-stories/python-provides-convenience-and-flexibility-for-scalable-mlai/', 'http://brochure.getpython.info/', '/dev/', '/community/lists/', 'http://pycon.blogspot.com/', 'http://pyfound.blogspot.com/', 'https://docs.python.org/3/license.html', '/dev/peps/', '/doc/', 'http://docs.python.org/3/tutorial/introduction.html#using-python-as-a-calculator', '/events/python-events/1043/', '/dev/security/', 'https://docs.python.org/faq/', 'https://psfmember.org/civicrm/contribute/transact?reset=1&id=2', '/community/sigs/', '/privacy/', 'http://feedproxy.google.com/~r/PythonSoftwareFoundationNews/~3/v6DGTOxHRDQ/python-developers-survey-2020-results.html', '/events/python-events/past/', 'http://www.pylonsproject.org/', '/blogs/', '/downloads/', '/about/apps', 'https://bugs.python.org/', '/downloads/release/python-392/', 'http://feedproxy.google.com/~r/PythonInsider/~3/K1v58uqKOsI/python-392rc1-and-388rc1-are-now.html', '/events/python-events/1046/', '/', 'https://status.python.org/', 'https://wiki.python.org/moin/PythonEventsCalendar#Submitting_an_Event', 'https://www.jetbrains.com/lp/python-developers-survey-2020/', 'http://www.scipy.org', '/about/', 'http://planetpython.org/', '/events/', 'https://wiki.python.org/moin/BeginnersGuide', '/users/membership/', '//docs.python.org/3/tutorial/', 'http://www.riverbankcomputing.co.uk/software/pyqt/intro', 'https://wiki.qt.io/PySide', '/about/legal/', 'https://kivy.org/', '/downloads/source/', 'https://github.com/python/pythondotorg/issues', '/dev/peps/peps.rss', '/events/python-events/995/', '//docs.python.org/3/tutorial/introduction.html#lists', '/success-stories/category/engineering/', '/psf-landing/', '/success-stories/', '/community/logos/', '/download/alternatives', '/community/', '/jobs/', 'http://www.saltstack.com', '/psf/', '/events/python-user-group/', '/dev/core-mentorship/', '/psf/get-involved/', 'http://tornadoweb.org', 'http://bottlepy.org', 'http://feedproxy.google.com/~r/PythonInsider/~3/neAiV_Bq2Ck/python-392-and-388-are-now-available.html', 'http://feedproxy.google.com/~r/PythonInsider/~3/NfEAmX9_8yk/python-3710-and-3613-security-updates.html', 'https://www.facebook.com/pythonlang?fref=ts', '/psf/annual-report/2020/', '/shell/', '/events/python-events/1041/', '/success-stories/category/scientific/', '/community/merchandise/', '/download/other/', 'https://wiki.gnome.org/Projects/PyGObject', 'http://www.wxpython.org/', 'http://python.org/dev/peps/', 'http://www.djangoproject.com/', '/success-stories/category/arts/', 'https://mail.python.org/mailman/listinfo/python-dev', '//jobs.python.org', '/psf/newsletter/', 'http://wiki.python.org/moin/Languages', '/community/workshops/', '/community/awards', 'http://pandas.pydata.org/', '/community-landing/', '/about/apps/', 'https://twitter.com/ThePSF', '/community/diversity/', '/psf/community-stories/', '/about/gettingstarted/', '/events/python-events', '/events/python-user-group/past/', 'http://ipython.org', 'https://pypi.org/', 'https://docs.python.org', 'http://feedproxy.google.com/~r/PythonSoftwareFoundationNews/~3/HxJ0eRomZwI/python-software-foundation-fellow.html', 'https://wiki.python.org/moin/', 'http://www.ansible.com', '/success-stories/category/business/', '/community/forums/', '/about/help/', '/community/survey', '/doc/av', '//docs.python.org/3/tutorial/controlflow.html#defining-functions', 'https://wiki.python.org/moin/PythonBooks', '/downloads/windows/', 'http://buildbot.net/', 'https://www.openstack.org', 'http://wiki.python.org/moin/TkInter', '/psf/sponsorship/sponsors/#heroku', '/about/quotes/', '/community/irc/', '/psf/conduct/', 'https://blog.python.org', '/events/python-user-group/1047/', '/downloads/mac-osx/', '/success-stories/category/government/', '/success-stories/category/education/', '/doc/essays/', '//docs.python.org/3/tutorial/controlflow.html', '/success-stories/category/software-development/', 'https://devguide.python.org/', 'http://flask.pocoo.org/', 'http://trac.edgewall.org/', '/psf/donations/'}\n"
     ]
    }
   ],
   "source": [
    "print(r.html.links)"
   ]
  },
  {
   "cell_type": "code",
   "execution_count": 11,
   "metadata": {},
   "outputs": [
    {
     "name": "stdout",
     "output_type": "stream",
     "text": [
      "{'https://www.python.org/events/python-user-group/', 'http://roundup.sourceforge.net/', 'http://www.web2py.com/', 'https://www.python.org/dev/security/', 'https://www.python.org/download/alternatives', 'https://www.python.org/psf-landing/', 'http://brochure.getpython.info/', 'https://www.python.org/dev/', 'http://pycon.blogspot.com/', 'http://pyfound.blogspot.com/', 'https://docs.python.org/3/license.html', 'http://docs.python.org/3/tutorial/introduction.html#using-python-as-a-calculator', 'https://www.python.org/blogs/', 'https://www.python.org/community-landing/', 'https://www.python.org/jobs/', 'https://www.python.org/events/python-events/1041/', 'https://www.python.org/doc/', 'https://docs.python.org/3/tutorial/controlflow.html', 'https://docs.python.org/faq/', 'https://psfmember.org/civicrm/contribute/transact?reset=1&id=2', 'http://feedproxy.google.com/~r/PythonSoftwareFoundationNews/~3/v6DGTOxHRDQ/python-developers-survey-2020-results.html', 'https://www.python.org/downloads/source/', 'http://www.pylonsproject.org/', 'https://www.python.org/about/gettingstarted/', 'https://www.python.org/about/legal/', 'https://bugs.python.org/', 'http://feedproxy.google.com/~r/PythonInsider/~3/K1v58uqKOsI/python-392rc1-and-388rc1-are-now.html', 'https://www.python.org/community/irc/', 'https://www.python.org/about/quotes/', 'https://www.python.org/psf/newsletter/', 'https://status.python.org/', 'https://wiki.python.org/moin/PythonEventsCalendar#Submitting_an_Event', 'https://www.python.org/dev/peps/', 'https://www.python.org/psf/annual-report/2020/', 'https://www.python.org/community/logos/', 'https://www.python.org/downloads/release/python-392/', 'https://www.python.org/downloads/windows/', 'https://www.python.org/events/calendars/', 'https://www.jetbrains.com/lp/python-developers-survey-2020/', 'http://www.scipy.org', 'https://www.python.org/psf/get-involved/', 'https://www.python.org/doc/essays/', 'https://www.python.org/dev/peps/peps.rss', 'http://planetpython.org/', 'https://wiki.python.org/moin/BeginnersGuide', 'https://www.python.org/community/', 'https://www.python.org/psf/donations/', 'https://www.python.org/events/python-events/1046/', 'http://www.riverbankcomputing.co.uk/software/pyqt/intro', 'https://www.python.org/community/diversity/', 'https://wiki.qt.io/PySide', 'https://www.python.org/success-stories/category/scientific/', 'https://www.python.org/community/forums/', 'https://kivy.org/', 'https://www.python.org/psf/conduct/', 'https://github.com/python/pythondotorg/issues', 'https://www.python.org/events/python-events/995/', 'https://www.python.org/about/apps/', 'https://www.python.org/download/other/', 'https://www.python.org/events/python-user-group/1047/', 'http://www.saltstack.com', 'https://www.python.org/events/python-events/past/', 'https://www.python.org/community/lists/', 'https://www.python.org/', 'https://docs.python.org/3/tutorial/introduction.html#lists', 'https://www.python.org/psf/', 'http://tornadoweb.org', 'https://www.python.org/community/survey', 'https://www.python.org/community/sigs/', 'http://bottlepy.org', 'http://feedproxy.google.com/~r/PythonInsider/~3/neAiV_Bq2Ck/python-392-and-388-are-now-available.html', 'http://feedproxy.google.com/~r/PythonInsider/~3/NfEAmX9_8yk/python-3710-and-3613-security-updates.html', 'https://www.facebook.com/pythonlang?fref=ts', 'https://www.python.org/success-stories/python-provides-convenience-and-flexibility-for-scalable-mlai/', 'https://www.python.org/downloads/', 'https://www.python.org/success-stories/category/engineering/', 'https://www.python.org/community/awards', 'https://www.python.org/psf/sponsorship/sponsors/#heroku', 'https://www.python.org/events/python-events/1043/', 'https://docs.python.org/3/tutorial/controlflow.html#defining-functions', 'https://wiki.gnome.org/Projects/PyGObject', 'http://www.wxpython.org/', 'http://python.org/dev/peps/', 'https://www.python.org/community/merchandise/', 'http://www.djangoproject.com/', 'https://mail.python.org/mailman/listinfo/python-dev', 'http://wiki.python.org/moin/Languages', 'http://pandas.pydata.org/', 'https://www.python.org/about/apps', 'https://twitter.com/ThePSF', 'https://www.python.org/success-stories/category/business/', 'http://ipython.org', 'https://pypi.org/', 'https://docs.python.org', 'http://feedproxy.google.com/~r/PythonSoftwareFoundationNews/~3/HxJ0eRomZwI/python-software-foundation-fellow.html', 'https://wiki.python.org/moin/', 'http://www.ansible.com', 'https://www.python.org/doc/av', 'https://www.python.org/users/membership/', 'https://jobs.python.org', 'https://www.python.org/about/help/', 'https://docs.python.org/3/tutorial/', 'https://www.python.org/downloads/mac-osx/', 'https://wiki.python.org/moin/PythonBooks', 'https://www.python.org/shell/', 'https://www.python.org/success-stories/category/education/', 'https://www.python.org/events/', 'http://buildbot.net/', 'https://www.python.org/success-stories/category/software-development/', 'https://www.openstack.org', 'http://wiki.python.org/moin/TkInter', 'https://www.python.org/success-stories/', 'https://www.python.org/community/workshops/', 'https://blog.python.org', 'https://www.python.org/events/python-events', 'https://www.python.org/success-stories/category/government/', 'https://www.python.org/psf/community-stories/', 'https://www.python.org/success-stories/category/arts/', 'https://www.python.org/events/python-user-group/past/', 'https://devguide.python.org/', 'https://www.python.org/about/', 'https://www.python.org/privacy/', 'http://flask.pocoo.org/', 'http://trac.edgewall.org/', 'https://www.python.org/dev/core-mentorship/'}\n"
     ]
    }
   ],
   "source": [
    "print(r.html.absolute_links)"
   ]
  },
  {
   "cell_type": "code",
   "execution_count": 13,
   "metadata": {},
   "outputs": [
    {
     "name": "stdout",
     "output_type": "stream",
     "text": [
      "<Element 'li' id='about' class=('tier-1', 'element-1') aria-haspopup='true'>\n"
     ]
    }
   ],
   "source": [
    "about = r.html.find('#about', first=True)\n",
    "print(about)"
   ]
  },
  {
   "cell_type": "code",
   "execution_count": 14,
   "metadata": {},
   "outputs": [
    {
     "name": "stdout",
     "output_type": "stream",
     "text": [
      "About\n",
      "Applications\n",
      "Quotes\n",
      "Getting Started\n",
      "Help\n",
      "Python Brochure\n"
     ]
    }
   ],
   "source": [
    "print(about.text)"
   ]
  },
  {
   "cell_type": "code",
   "execution_count": 15,
   "metadata": {},
   "outputs": [
    {
     "name": "stdout",
     "output_type": "stream",
     "text": [
      "{'id': 'about', 'class': ('tier-1', 'element-1'), 'aria-haspopup': 'true'}\n"
     ]
    }
   ],
   "source": [
    "print(about.attrs)"
   ]
  },
  {
   "cell_type": "code",
   "execution_count": 16,
   "metadata": {},
   "outputs": [
    {
     "name": "stdout",
     "output_type": "stream",
     "text": [
      "<li id=\"about\" class=\"tier-1 element-1\" aria-haspopup=\"true\">\n",
      "<a href=\"/about/\" title=\"\" class=\"\">About</a>\n",
      "<ul class=\"subnav menu\" role=\"menu\" aria-hidden=\"true\">\n",
      "<li class=\"tier-2 element-1\" role=\"treeitem\"><a href=\"/about/apps/\" title=\"\">Applications</a></li>\n",
      "<li class=\"tier-2 element-2\" role=\"treeitem\"><a href=\"/about/quotes/\" title=\"\">Quotes</a></li>\n",
      "<li class=\"tier-2 element-3\" role=\"treeitem\"><a href=\"/about/gettingstarted/\" title=\"\">Getting Started</a></li>\n",
      "<li class=\"tier-2 element-4\" role=\"treeitem\"><a href=\"/about/help/\" title=\"\">Help</a></li>\n",
      "<li class=\"tier-2 element-5\" role=\"treeitem\"><a href=\"http://brochure.getpython.info/\" title=\"\">Python Brochure</a></li>\n",
      "</ul>\n",
      "</li>\n"
     ]
    }
   ],
   "source": [
    "print(about.html)"
   ]
  },
  {
   "cell_type": "code",
   "execution_count": 17,
   "metadata": {},
   "outputs": [
    {
     "name": "stdout",
     "output_type": "stream",
     "text": [
      "li\n"
     ]
    }
   ],
   "source": [
    "print(about.tag)"
   ]
  },
  {
   "cell_type": "code",
   "execution_count": 18,
   "metadata": {},
   "outputs": [
    {
     "name": "stdout",
     "output_type": "stream",
     "text": [
      "None\n"
     ]
    }
   ],
   "source": [
    "print(about.lineno)"
   ]
  },
  {
   "cell_type": "code",
   "execution_count": 19,
   "metadata": {},
   "outputs": [
    {
     "data": {
      "text/plain": [
       "[<Element 'a' href='/about/' title='' class=()>,\n",
       " <Element 'a' href='/about/apps/' title=''>,\n",
       " <Element 'a' href='/about/quotes/' title=''>,\n",
       " <Element 'a' href='/about/gettingstarted/' title=''>,\n",
       " <Element 'a' href='/about/help/' title=''>,\n",
       " <Element 'a' href='http://brochure.getpython.info/' title=''>]"
      ]
     },
     "execution_count": 19,
     "metadata": {},
     "output_type": "execute_result"
    }
   ],
   "source": [
    "about.find('a')"
   ]
  },
  {
   "cell_type": "code",
   "execution_count": 20,
   "metadata": {},
   "outputs": [
    {
     "name": "stdout",
     "output_type": "stream",
     "text": [
      "{'https://www.python.org/about/gettingstarted/', 'https://www.python.org/about/help/', 'https://www.python.org/about/apps/', 'https://www.python.org/about/', 'http://brochure.getpython.info/', 'https://www.python.org/about/quotes/'}\n"
     ]
    }
   ],
   "source": [
    "print(about.absolute_links)"
   ]
  },
  {
   "cell_type": "code",
   "execution_count": 23,
   "metadata": {},
   "outputs": [
    {
     "name": "stdout",
     "output_type": "stream",
     "text": [
      "programming\n"
     ]
    }
   ],
   "source": [
    "#r.html.search('Python is a {} language')[0]\n",
    "print(r.html.search('Python is a {} language')[0])"
   ]
  },
  {
   "cell_type": "code",
   "execution_count": 25,
   "metadata": {},
   "outputs": [
    {
     "name": "stdout",
     "output_type": "stream",
     "text": [
      "body > div.application-main > div.jumbotron.jumbotron-codelines > div > div > div.col-md-7.text-center.text-md-left > p\n"
     ]
    }
   ],
   "source": [
    "#r = session.get('https://github.com/')\n",
    "r= session.get('https://github.com/')\n",
    "sel = 'body > div.application-main > div.jumbotron.jumbotron-codelines > div > div > div.col-md-7.text-center.text-md-left > p'\n",
    "print(sel)"
   ]
  },
  {
   "cell_type": "code",
   "execution_count": 26,
   "metadata": {},
   "outputs": [
    {
     "name": "stdout",
     "output_type": "stream",
     "text": [
      "[]\n"
     ]
    }
   ],
   "source": [
    "print(r.html.xpath('a'))"
   ]
  },
  {
   "cell_type": "code",
   "execution_count": 27,
   "metadata": {},
   "outputs": [
    {
     "name": "stdout",
     "output_type": "stream",
     "text": [
      "[<Element 'a' href='https://kenreitz.org/projects'>, <Element 'a' class=('reference', 'internal') href='dev/contributing/#kenneth-reitz-s-code-style'>]\n"
     ]
    }
   ],
   "source": [
    "r = session.get('http://python-requests.org/')\n",
    "print(r.html.find('a', containing='kenneth'))"
   ]
  },
  {
   "cell_type": "code",
   "execution_count": 28,
   "metadata": {},
   "outputs": [
    {
     "ename": "RuntimeError",
     "evalue": "Cannot use HTMLSession within an existing event loop. Use AsyncHTMLSession instead.",
     "output_type": "error",
     "traceback": [
      "\u001b[0;31m---------------------------------------------------------------------------\u001b[0m",
      "\u001b[0;31mRuntimeError\u001b[0m                              Traceback (most recent call last)",
      "\u001b[0;32m<ipython-input-28-c64d7c3f7c1b>\u001b[0m in \u001b[0;36m<module>\u001b[0;34m\u001b[0m\n\u001b[1;32m      1\u001b[0m \u001b[0mr\u001b[0m \u001b[0;34m=\u001b[0m \u001b[0msession\u001b[0m\u001b[0;34m.\u001b[0m\u001b[0mget\u001b[0m\u001b[0;34m(\u001b[0m\u001b[0;34m'http://python-requests.org/'\u001b[0m\u001b[0;34m)\u001b[0m\u001b[0;34m\u001b[0m\u001b[0;34m\u001b[0m\u001b[0m\n\u001b[1;32m      2\u001b[0m \u001b[0;34m\u001b[0m\u001b[0m\n\u001b[0;32m----> 3\u001b[0;31m \u001b[0mr\u001b[0m\u001b[0;34m.\u001b[0m\u001b[0mhtml\u001b[0m\u001b[0;34m.\u001b[0m\u001b[0mrender\u001b[0m\u001b[0;34m(\u001b[0m\u001b[0;34m)\u001b[0m\u001b[0;34m\u001b[0m\u001b[0;34m\u001b[0m\u001b[0m\n\u001b[0m\u001b[1;32m      4\u001b[0m \u001b[0;34m\u001b[0m\u001b[0m\n\u001b[1;32m      5\u001b[0m \u001b[0mr\u001b[0m\u001b[0;34m.\u001b[0m\u001b[0mhtml\u001b[0m\u001b[0;34m.\u001b[0m\u001b[0msearch\u001b[0m\u001b[0;34m(\u001b[0m\u001b[0;34m'Python 2 will retire in only {months} months!'\u001b[0m\u001b[0;34m)\u001b[0m\u001b[0;34m[\u001b[0m\u001b[0;34m'months'\u001b[0m\u001b[0;34m]\u001b[0m\u001b[0;34m\u001b[0m\u001b[0;34m\u001b[0m\u001b[0m\n",
      "\u001b[0;32m~/opt/anaconda3/lib/python3.8/site-packages/requests_html.py\u001b[0m in \u001b[0;36mrender\u001b[0;34m(self, retries, script, wait, scrolldown, sleep, reload, timeout, keep_page)\u001b[0m\n\u001b[1;32m    584\u001b[0m         \"\"\"\n\u001b[1;32m    585\u001b[0m \u001b[0;34m\u001b[0m\u001b[0m\n\u001b[0;32m--> 586\u001b[0;31m         \u001b[0mself\u001b[0m\u001b[0;34m.\u001b[0m\u001b[0mbrowser\u001b[0m \u001b[0;34m=\u001b[0m \u001b[0mself\u001b[0m\u001b[0;34m.\u001b[0m\u001b[0msession\u001b[0m\u001b[0;34m.\u001b[0m\u001b[0mbrowser\u001b[0m  \u001b[0;31m# Automatically create a event loop and browser\u001b[0m\u001b[0;34m\u001b[0m\u001b[0;34m\u001b[0m\u001b[0m\n\u001b[0m\u001b[1;32m    587\u001b[0m         \u001b[0mcontent\u001b[0m \u001b[0;34m=\u001b[0m \u001b[0;32mNone\u001b[0m\u001b[0;34m\u001b[0m\u001b[0;34m\u001b[0m\u001b[0m\n\u001b[1;32m    588\u001b[0m \u001b[0;34m\u001b[0m\u001b[0m\n",
      "\u001b[0;32m~/opt/anaconda3/lib/python3.8/site-packages/requests_html.py\u001b[0m in \u001b[0;36mbrowser\u001b[0;34m(self)\u001b[0m\n\u001b[1;32m    727\u001b[0m             \u001b[0mself\u001b[0m\u001b[0;34m.\u001b[0m\u001b[0mloop\u001b[0m \u001b[0;34m=\u001b[0m \u001b[0masyncio\u001b[0m\u001b[0;34m.\u001b[0m\u001b[0mget_event_loop\u001b[0m\u001b[0;34m(\u001b[0m\u001b[0;34m)\u001b[0m\u001b[0;34m\u001b[0m\u001b[0;34m\u001b[0m\u001b[0m\n\u001b[1;32m    728\u001b[0m             \u001b[0;32mif\u001b[0m \u001b[0mself\u001b[0m\u001b[0;34m.\u001b[0m\u001b[0mloop\u001b[0m\u001b[0;34m.\u001b[0m\u001b[0mis_running\u001b[0m\u001b[0;34m(\u001b[0m\u001b[0;34m)\u001b[0m\u001b[0;34m:\u001b[0m\u001b[0;34m\u001b[0m\u001b[0;34m\u001b[0m\u001b[0m\n\u001b[0;32m--> 729\u001b[0;31m                 \u001b[0;32mraise\u001b[0m \u001b[0mRuntimeError\u001b[0m\u001b[0;34m(\u001b[0m\u001b[0;34m\"Cannot use HTMLSession within an existing event loop. Use AsyncHTMLSession instead.\"\u001b[0m\u001b[0;34m)\u001b[0m\u001b[0;34m\u001b[0m\u001b[0;34m\u001b[0m\u001b[0m\n\u001b[0m\u001b[1;32m    730\u001b[0m             \u001b[0mself\u001b[0m\u001b[0;34m.\u001b[0m\u001b[0m_browser\u001b[0m \u001b[0;34m=\u001b[0m \u001b[0mself\u001b[0m\u001b[0;34m.\u001b[0m\u001b[0mloop\u001b[0m\u001b[0;34m.\u001b[0m\u001b[0mrun_until_complete\u001b[0m\u001b[0;34m(\u001b[0m\u001b[0msuper\u001b[0m\u001b[0;34m(\u001b[0m\u001b[0;34m)\u001b[0m\u001b[0;34m.\u001b[0m\u001b[0mbrowser\u001b[0m\u001b[0;34m)\u001b[0m\u001b[0;34m\u001b[0m\u001b[0;34m\u001b[0m\u001b[0m\n\u001b[1;32m    731\u001b[0m         \u001b[0;32mreturn\u001b[0m \u001b[0mself\u001b[0m\u001b[0;34m.\u001b[0m\u001b[0m_browser\u001b[0m\u001b[0;34m\u001b[0m\u001b[0;34m\u001b[0m\u001b[0m\n",
      "\u001b[0;31mRuntimeError\u001b[0m: Cannot use HTMLSession within an existing event loop. Use AsyncHTMLSession instead."
     ]
    }
   ],
   "source": [
    "r = session.get('http://python-requests.org/')\n",
    "\n",
    "r.html.render()\n",
    "\n",
    "r.html.search('Python 2 will retire in only {months} months!')['months']\n",
    "'<time>25</time>'"
   ]
  },
  {
   "cell_type": "code",
   "execution_count": 34,
   "metadata": {},
   "outputs": [
    {
     "name": "stdout",
     "output_type": "stream",
     "text": [
      "<HTML url='https://www.reddit.com/'>\n",
      "<HTML url='https://store.steampowered.com/app/505460/Foxhole/?rdt_cid=3078743345632187945'>\n",
      "<HTML url='https://store.steampowered.com/tag/browse/?snr=1_5_9__12'>\n",
      "<HTML url='https://store.steampowered.com/tag/browse/?snr=1_237_237__12'>\n",
      "<HTML url='https://store.steampowered.com/tag/browse/?snr=1_237_237__12'>\n",
      "<HTML url='https://store.steampowered.com/tag/browse/?snr=1_237_237__12'>\n",
      "<HTML url='https://store.steampowered.com/tag/browse/?snr=1_237_237__12'>\n",
      "<HTML url='https://store.steampowered.com/tag/browse/?snr=1_237_237__12'>\n",
      "<HTML url='https://store.steampowered.com/tag/browse/?snr=1_237_237__12'>\n",
      "<HTML url='https://store.steampowered.com/tag/browse/?snr=1_237_237__12'>\n",
      "<HTML url='https://store.steampowered.com/tag/browse/?snr=1_237_237__12'>\n",
      "<HTML url='https://store.steampowered.com/tag/browse/?snr=1_237_237__12'>\n"
     ]
    },
    {
     "ename": "KeyboardInterrupt",
     "evalue": "",
     "output_type": "error",
     "traceback": [
      "\u001b[0;31m---------------------------------------------------------------------------\u001b[0m",
      "\u001b[0;31mKeyboardInterrupt\u001b[0m                         Traceback (most recent call last)",
      "\u001b[0;32m<ipython-input-34-bf348ebcf62f>\u001b[0m in \u001b[0;36m<module>\u001b[0;34m\u001b[0m\n\u001b[1;32m      1\u001b[0m \u001b[0mr\u001b[0m \u001b[0;34m=\u001b[0m \u001b[0msession\u001b[0m\u001b[0;34m.\u001b[0m\u001b[0mget\u001b[0m\u001b[0;34m(\u001b[0m\u001b[0;34m'https://reddit.com'\u001b[0m\u001b[0;34m)\u001b[0m\u001b[0;34m\u001b[0m\u001b[0;34m\u001b[0m\u001b[0m\n\u001b[0;32m----> 2\u001b[0;31m \u001b[0;32mfor\u001b[0m \u001b[0mhtml\u001b[0m \u001b[0;32min\u001b[0m \u001b[0mr\u001b[0m\u001b[0;34m.\u001b[0m\u001b[0mhtml\u001b[0m\u001b[0;34m:\u001b[0m\u001b[0;34m\u001b[0m\u001b[0;34m\u001b[0m\u001b[0m\n\u001b[0m\u001b[1;32m      3\u001b[0m      \u001b[0mprint\u001b[0m\u001b[0;34m(\u001b[0m\u001b[0mhtml\u001b[0m\u001b[0;34m)\u001b[0m\u001b[0;34m\u001b[0m\u001b[0;34m\u001b[0m\u001b[0m\n\u001b[1;32m      4\u001b[0m \u001b[0;31m# <HTML url='https://www.reddit.com/'>\u001b[0m\u001b[0;34m\u001b[0m\u001b[0;34m\u001b[0m\u001b[0;34m\u001b[0m\u001b[0m\n\u001b[1;32m      5\u001b[0m \u001b[0;31m# <HTML url='https://www.reddit.com/?count=25&after=t3_81puu5'>\u001b[0m\u001b[0;34m\u001b[0m\u001b[0;34m\u001b[0m\u001b[0;34m\u001b[0m\u001b[0m\n",
      "\u001b[0;32m~/opt/anaconda3/lib/python3.8/site-packages/requests_html.py\u001b[0m in \u001b[0;36m__iter__\u001b[0;34m(self)\u001b[0m\n\u001b[1;32m    479\u001b[0m             \u001b[0;32myield\u001b[0m \u001b[0mnext\u001b[0m\u001b[0;34m\u001b[0m\u001b[0;34m\u001b[0m\u001b[0m\n\u001b[1;32m    480\u001b[0m             \u001b[0;32mtry\u001b[0m\u001b[0;34m:\u001b[0m\u001b[0;34m\u001b[0m\u001b[0;34m\u001b[0m\u001b[0m\n\u001b[0;32m--> 481\u001b[0;31m                 \u001b[0mnext\u001b[0m \u001b[0;34m=\u001b[0m \u001b[0mnext\u001b[0m\u001b[0;34m.\u001b[0m\u001b[0mnext\u001b[0m\u001b[0;34m(\u001b[0m\u001b[0mfetch\u001b[0m\u001b[0;34m=\u001b[0m\u001b[0;32mTrue\u001b[0m\u001b[0;34m,\u001b[0m \u001b[0mnext_symbol\u001b[0m\u001b[0;34m=\u001b[0m\u001b[0mself\u001b[0m\u001b[0;34m.\u001b[0m\u001b[0mnext_symbol\u001b[0m\u001b[0;34m)\u001b[0m\u001b[0;34m.\u001b[0m\u001b[0mhtml\u001b[0m\u001b[0;34m\u001b[0m\u001b[0;34m\u001b[0m\u001b[0m\n\u001b[0m\u001b[1;32m    482\u001b[0m             \u001b[0;32mexcept\u001b[0m \u001b[0mAttributeError\u001b[0m\u001b[0;34m:\u001b[0m\u001b[0;34m\u001b[0m\u001b[0;34m\u001b[0m\u001b[0m\n\u001b[1;32m    483\u001b[0m                 \u001b[0;32mbreak\u001b[0m\u001b[0;34m\u001b[0m\u001b[0;34m\u001b[0m\u001b[0m\n",
      "\u001b[0;32m~/opt/anaconda3/lib/python3.8/site-packages/requests_html.py\u001b[0m in \u001b[0;36mnext\u001b[0;34m(self, fetch, next_symbol)\u001b[0m\n\u001b[1;32m    468\u001b[0m \u001b[0;34m\u001b[0m\u001b[0m\n\u001b[1;32m    469\u001b[0m         \u001b[0;32mif\u001b[0m \u001b[0mfetch\u001b[0m\u001b[0;34m:\u001b[0m\u001b[0;34m\u001b[0m\u001b[0;34m\u001b[0m\u001b[0m\n\u001b[0;32m--> 470\u001b[0;31m             \u001b[0;32mreturn\u001b[0m \u001b[0mself\u001b[0m\u001b[0;34m.\u001b[0m\u001b[0msession\u001b[0m\u001b[0;34m.\u001b[0m\u001b[0mget\u001b[0m\u001b[0;34m(\u001b[0m\u001b[0murl\u001b[0m\u001b[0;34m)\u001b[0m\u001b[0;34m\u001b[0m\u001b[0;34m\u001b[0m\u001b[0m\n\u001b[0m\u001b[1;32m    471\u001b[0m         \u001b[0;32melse\u001b[0m\u001b[0;34m:\u001b[0m\u001b[0;34m\u001b[0m\u001b[0;34m\u001b[0m\u001b[0m\n\u001b[1;32m    472\u001b[0m             \u001b[0;32mreturn\u001b[0m \u001b[0murl\u001b[0m\u001b[0;34m\u001b[0m\u001b[0;34m\u001b[0m\u001b[0m\n",
      "\u001b[0;32m~/opt/anaconda3/lib/python3.8/site-packages/requests/sessions.py\u001b[0m in \u001b[0;36mget\u001b[0;34m(self, url, **kwargs)\u001b[0m\n\u001b[1;32m    541\u001b[0m \u001b[0;34m\u001b[0m\u001b[0m\n\u001b[1;32m    542\u001b[0m         \u001b[0mkwargs\u001b[0m\u001b[0;34m.\u001b[0m\u001b[0msetdefault\u001b[0m\u001b[0;34m(\u001b[0m\u001b[0;34m'allow_redirects'\u001b[0m\u001b[0;34m,\u001b[0m \u001b[0;32mTrue\u001b[0m\u001b[0;34m)\u001b[0m\u001b[0;34m\u001b[0m\u001b[0;34m\u001b[0m\u001b[0m\n\u001b[0;32m--> 543\u001b[0;31m         \u001b[0;32mreturn\u001b[0m \u001b[0mself\u001b[0m\u001b[0;34m.\u001b[0m\u001b[0mrequest\u001b[0m\u001b[0;34m(\u001b[0m\u001b[0;34m'GET'\u001b[0m\u001b[0;34m,\u001b[0m \u001b[0murl\u001b[0m\u001b[0;34m,\u001b[0m \u001b[0;34m**\u001b[0m\u001b[0mkwargs\u001b[0m\u001b[0;34m)\u001b[0m\u001b[0;34m\u001b[0m\u001b[0;34m\u001b[0m\u001b[0m\n\u001b[0m\u001b[1;32m    544\u001b[0m \u001b[0;34m\u001b[0m\u001b[0m\n\u001b[1;32m    545\u001b[0m     \u001b[0;32mdef\u001b[0m \u001b[0moptions\u001b[0m\u001b[0;34m(\u001b[0m\u001b[0mself\u001b[0m\u001b[0;34m,\u001b[0m \u001b[0murl\u001b[0m\u001b[0;34m,\u001b[0m \u001b[0;34m**\u001b[0m\u001b[0mkwargs\u001b[0m\u001b[0;34m)\u001b[0m\u001b[0;34m:\u001b[0m\u001b[0;34m\u001b[0m\u001b[0;34m\u001b[0m\u001b[0m\n",
      "\u001b[0;32m~/opt/anaconda3/lib/python3.8/site-packages/requests/sessions.py\u001b[0m in \u001b[0;36mrequest\u001b[0;34m(self, method, url, params, data, headers, cookies, files, auth, timeout, allow_redirects, proxies, hooks, stream, verify, cert, json)\u001b[0m\n\u001b[1;32m    528\u001b[0m         }\n\u001b[1;32m    529\u001b[0m         \u001b[0msend_kwargs\u001b[0m\u001b[0;34m.\u001b[0m\u001b[0mupdate\u001b[0m\u001b[0;34m(\u001b[0m\u001b[0msettings\u001b[0m\u001b[0;34m)\u001b[0m\u001b[0;34m\u001b[0m\u001b[0;34m\u001b[0m\u001b[0m\n\u001b[0;32m--> 530\u001b[0;31m         \u001b[0mresp\u001b[0m \u001b[0;34m=\u001b[0m \u001b[0mself\u001b[0m\u001b[0;34m.\u001b[0m\u001b[0msend\u001b[0m\u001b[0;34m(\u001b[0m\u001b[0mprep\u001b[0m\u001b[0;34m,\u001b[0m \u001b[0;34m**\u001b[0m\u001b[0msend_kwargs\u001b[0m\u001b[0;34m)\u001b[0m\u001b[0;34m\u001b[0m\u001b[0;34m\u001b[0m\u001b[0m\n\u001b[0m\u001b[1;32m    531\u001b[0m \u001b[0;34m\u001b[0m\u001b[0m\n\u001b[1;32m    532\u001b[0m         \u001b[0;32mreturn\u001b[0m \u001b[0mresp\u001b[0m\u001b[0;34m\u001b[0m\u001b[0;34m\u001b[0m\u001b[0m\n",
      "\u001b[0;32m~/opt/anaconda3/lib/python3.8/site-packages/requests/sessions.py\u001b[0m in \u001b[0;36msend\u001b[0;34m(self, request, **kwargs)\u001b[0m\n\u001b[1;32m    641\u001b[0m \u001b[0;34m\u001b[0m\u001b[0m\n\u001b[1;32m    642\u001b[0m         \u001b[0;31m# Send the request\u001b[0m\u001b[0;34m\u001b[0m\u001b[0;34m\u001b[0m\u001b[0;34m\u001b[0m\u001b[0m\n\u001b[0;32m--> 643\u001b[0;31m         \u001b[0mr\u001b[0m \u001b[0;34m=\u001b[0m \u001b[0madapter\u001b[0m\u001b[0;34m.\u001b[0m\u001b[0msend\u001b[0m\u001b[0;34m(\u001b[0m\u001b[0mrequest\u001b[0m\u001b[0;34m,\u001b[0m \u001b[0;34m**\u001b[0m\u001b[0mkwargs\u001b[0m\u001b[0;34m)\u001b[0m\u001b[0;34m\u001b[0m\u001b[0;34m\u001b[0m\u001b[0m\n\u001b[0m\u001b[1;32m    644\u001b[0m \u001b[0;34m\u001b[0m\u001b[0m\n\u001b[1;32m    645\u001b[0m         \u001b[0;31m# Total elapsed time of the request (approximately)\u001b[0m\u001b[0;34m\u001b[0m\u001b[0;34m\u001b[0m\u001b[0;34m\u001b[0m\u001b[0m\n",
      "\u001b[0;32m~/opt/anaconda3/lib/python3.8/site-packages/requests/adapters.py\u001b[0m in \u001b[0;36msend\u001b[0;34m(self, request, stream, timeout, verify, cert, proxies)\u001b[0m\n\u001b[1;32m    437\u001b[0m         \u001b[0;32mtry\u001b[0m\u001b[0;34m:\u001b[0m\u001b[0;34m\u001b[0m\u001b[0;34m\u001b[0m\u001b[0m\n\u001b[1;32m    438\u001b[0m             \u001b[0;32mif\u001b[0m \u001b[0;32mnot\u001b[0m \u001b[0mchunked\u001b[0m\u001b[0;34m:\u001b[0m\u001b[0;34m\u001b[0m\u001b[0;34m\u001b[0m\u001b[0m\n\u001b[0;32m--> 439\u001b[0;31m                 resp = conn.urlopen(\n\u001b[0m\u001b[1;32m    440\u001b[0m                     \u001b[0mmethod\u001b[0m\u001b[0;34m=\u001b[0m\u001b[0mrequest\u001b[0m\u001b[0;34m.\u001b[0m\u001b[0mmethod\u001b[0m\u001b[0;34m,\u001b[0m\u001b[0;34m\u001b[0m\u001b[0;34m\u001b[0m\u001b[0m\n\u001b[1;32m    441\u001b[0m                     \u001b[0murl\u001b[0m\u001b[0;34m=\u001b[0m\u001b[0murl\u001b[0m\u001b[0;34m,\u001b[0m\u001b[0;34m\u001b[0m\u001b[0;34m\u001b[0m\u001b[0m\n",
      "\u001b[0;32m~/opt/anaconda3/lib/python3.8/site-packages/urllib3/connectionpool.py\u001b[0m in \u001b[0;36murlopen\u001b[0;34m(self, method, url, body, headers, retries, redirect, assert_same_host, timeout, pool_timeout, release_conn, chunked, body_pos, **response_kw)\u001b[0m\n\u001b[1;32m    668\u001b[0m \u001b[0;34m\u001b[0m\u001b[0m\n\u001b[1;32m    669\u001b[0m             \u001b[0;31m# Make the request on the httplib connection object.\u001b[0m\u001b[0;34m\u001b[0m\u001b[0;34m\u001b[0m\u001b[0;34m\u001b[0m\u001b[0m\n\u001b[0;32m--> 670\u001b[0;31m             httplib_response = self._make_request(\n\u001b[0m\u001b[1;32m    671\u001b[0m                 \u001b[0mconn\u001b[0m\u001b[0;34m,\u001b[0m\u001b[0;34m\u001b[0m\u001b[0;34m\u001b[0m\u001b[0m\n\u001b[1;32m    672\u001b[0m                 \u001b[0mmethod\u001b[0m\u001b[0;34m,\u001b[0m\u001b[0;34m\u001b[0m\u001b[0;34m\u001b[0m\u001b[0m\n",
      "\u001b[0;32m~/opt/anaconda3/lib/python3.8/site-packages/urllib3/connectionpool.py\u001b[0m in \u001b[0;36m_make_request\u001b[0;34m(self, conn, method, url, timeout, chunked, **httplib_request_kw)\u001b[0m\n\u001b[1;32m    424\u001b[0m                     \u001b[0;31m# Python 3 (including for exceptions like SystemExit).\u001b[0m\u001b[0;34m\u001b[0m\u001b[0;34m\u001b[0m\u001b[0;34m\u001b[0m\u001b[0m\n\u001b[1;32m    425\u001b[0m                     \u001b[0;31m# Otherwise it looks like a bug in the code.\u001b[0m\u001b[0;34m\u001b[0m\u001b[0;34m\u001b[0m\u001b[0;34m\u001b[0m\u001b[0m\n\u001b[0;32m--> 426\u001b[0;31m                     \u001b[0msix\u001b[0m\u001b[0;34m.\u001b[0m\u001b[0mraise_from\u001b[0m\u001b[0;34m(\u001b[0m\u001b[0me\u001b[0m\u001b[0;34m,\u001b[0m \u001b[0;32mNone\u001b[0m\u001b[0;34m)\u001b[0m\u001b[0;34m\u001b[0m\u001b[0;34m\u001b[0m\u001b[0m\n\u001b[0m\u001b[1;32m    427\u001b[0m         \u001b[0;32mexcept\u001b[0m \u001b[0;34m(\u001b[0m\u001b[0mSocketTimeout\u001b[0m\u001b[0;34m,\u001b[0m \u001b[0mBaseSSLError\u001b[0m\u001b[0;34m,\u001b[0m \u001b[0mSocketError\u001b[0m\u001b[0;34m)\u001b[0m \u001b[0;32mas\u001b[0m \u001b[0me\u001b[0m\u001b[0;34m:\u001b[0m\u001b[0;34m\u001b[0m\u001b[0;34m\u001b[0m\u001b[0m\n\u001b[1;32m    428\u001b[0m             \u001b[0mself\u001b[0m\u001b[0;34m.\u001b[0m\u001b[0m_raise_timeout\u001b[0m\u001b[0;34m(\u001b[0m\u001b[0merr\u001b[0m\u001b[0;34m=\u001b[0m\u001b[0me\u001b[0m\u001b[0;34m,\u001b[0m \u001b[0murl\u001b[0m\u001b[0;34m=\u001b[0m\u001b[0murl\u001b[0m\u001b[0;34m,\u001b[0m \u001b[0mtimeout_value\u001b[0m\u001b[0;34m=\u001b[0m\u001b[0mread_timeout\u001b[0m\u001b[0;34m)\u001b[0m\u001b[0;34m\u001b[0m\u001b[0;34m\u001b[0m\u001b[0m\n",
      "\u001b[0;32m~/opt/anaconda3/lib/python3.8/site-packages/urllib3/packages/six.py\u001b[0m in \u001b[0;36mraise_from\u001b[0;34m(value, from_value)\u001b[0m\n",
      "\u001b[0;32m~/opt/anaconda3/lib/python3.8/site-packages/urllib3/connectionpool.py\u001b[0m in \u001b[0;36m_make_request\u001b[0;34m(self, conn, method, url, timeout, chunked, **httplib_request_kw)\u001b[0m\n\u001b[1;32m    419\u001b[0m                 \u001b[0;31m# Python 3\u001b[0m\u001b[0;34m\u001b[0m\u001b[0;34m\u001b[0m\u001b[0;34m\u001b[0m\u001b[0m\n\u001b[1;32m    420\u001b[0m                 \u001b[0;32mtry\u001b[0m\u001b[0;34m:\u001b[0m\u001b[0;34m\u001b[0m\u001b[0;34m\u001b[0m\u001b[0m\n\u001b[0;32m--> 421\u001b[0;31m                     \u001b[0mhttplib_response\u001b[0m \u001b[0;34m=\u001b[0m \u001b[0mconn\u001b[0m\u001b[0;34m.\u001b[0m\u001b[0mgetresponse\u001b[0m\u001b[0;34m(\u001b[0m\u001b[0;34m)\u001b[0m\u001b[0;34m\u001b[0m\u001b[0;34m\u001b[0m\u001b[0m\n\u001b[0m\u001b[1;32m    422\u001b[0m                 \u001b[0;32mexcept\u001b[0m \u001b[0mBaseException\u001b[0m \u001b[0;32mas\u001b[0m \u001b[0me\u001b[0m\u001b[0;34m:\u001b[0m\u001b[0;34m\u001b[0m\u001b[0;34m\u001b[0m\u001b[0m\n\u001b[1;32m    423\u001b[0m                     \u001b[0;31m# Remove the TypeError from the exception chain in\u001b[0m\u001b[0;34m\u001b[0m\u001b[0;34m\u001b[0m\u001b[0;34m\u001b[0m\u001b[0m\n",
      "\u001b[0;32m~/opt/anaconda3/lib/python3.8/http/client.py\u001b[0m in \u001b[0;36mgetresponse\u001b[0;34m(self)\u001b[0m\n\u001b[1;32m   1345\u001b[0m         \u001b[0;32mtry\u001b[0m\u001b[0;34m:\u001b[0m\u001b[0;34m\u001b[0m\u001b[0;34m\u001b[0m\u001b[0m\n\u001b[1;32m   1346\u001b[0m             \u001b[0;32mtry\u001b[0m\u001b[0;34m:\u001b[0m\u001b[0;34m\u001b[0m\u001b[0;34m\u001b[0m\u001b[0m\n\u001b[0;32m-> 1347\u001b[0;31m                 \u001b[0mresponse\u001b[0m\u001b[0;34m.\u001b[0m\u001b[0mbegin\u001b[0m\u001b[0;34m(\u001b[0m\u001b[0;34m)\u001b[0m\u001b[0;34m\u001b[0m\u001b[0;34m\u001b[0m\u001b[0m\n\u001b[0m\u001b[1;32m   1348\u001b[0m             \u001b[0;32mexcept\u001b[0m \u001b[0mConnectionError\u001b[0m\u001b[0;34m:\u001b[0m\u001b[0;34m\u001b[0m\u001b[0;34m\u001b[0m\u001b[0m\n\u001b[1;32m   1349\u001b[0m                 \u001b[0mself\u001b[0m\u001b[0;34m.\u001b[0m\u001b[0mclose\u001b[0m\u001b[0;34m(\u001b[0m\u001b[0;34m)\u001b[0m\u001b[0;34m\u001b[0m\u001b[0;34m\u001b[0m\u001b[0m\n",
      "\u001b[0;32m~/opt/anaconda3/lib/python3.8/http/client.py\u001b[0m in \u001b[0;36mbegin\u001b[0;34m(self)\u001b[0m\n\u001b[1;32m    305\u001b[0m         \u001b[0;31m# read until we get a non-100 response\u001b[0m\u001b[0;34m\u001b[0m\u001b[0;34m\u001b[0m\u001b[0;34m\u001b[0m\u001b[0m\n\u001b[1;32m    306\u001b[0m         \u001b[0;32mwhile\u001b[0m \u001b[0;32mTrue\u001b[0m\u001b[0;34m:\u001b[0m\u001b[0;34m\u001b[0m\u001b[0;34m\u001b[0m\u001b[0m\n\u001b[0;32m--> 307\u001b[0;31m             \u001b[0mversion\u001b[0m\u001b[0;34m,\u001b[0m \u001b[0mstatus\u001b[0m\u001b[0;34m,\u001b[0m \u001b[0mreason\u001b[0m \u001b[0;34m=\u001b[0m \u001b[0mself\u001b[0m\u001b[0;34m.\u001b[0m\u001b[0m_read_status\u001b[0m\u001b[0;34m(\u001b[0m\u001b[0;34m)\u001b[0m\u001b[0;34m\u001b[0m\u001b[0;34m\u001b[0m\u001b[0m\n\u001b[0m\u001b[1;32m    308\u001b[0m             \u001b[0;32mif\u001b[0m \u001b[0mstatus\u001b[0m \u001b[0;34m!=\u001b[0m \u001b[0mCONTINUE\u001b[0m\u001b[0;34m:\u001b[0m\u001b[0;34m\u001b[0m\u001b[0;34m\u001b[0m\u001b[0m\n\u001b[1;32m    309\u001b[0m                 \u001b[0;32mbreak\u001b[0m\u001b[0;34m\u001b[0m\u001b[0;34m\u001b[0m\u001b[0m\n",
      "\u001b[0;32m~/opt/anaconda3/lib/python3.8/http/client.py\u001b[0m in \u001b[0;36m_read_status\u001b[0;34m(self)\u001b[0m\n\u001b[1;32m    266\u001b[0m \u001b[0;34m\u001b[0m\u001b[0m\n\u001b[1;32m    267\u001b[0m     \u001b[0;32mdef\u001b[0m \u001b[0m_read_status\u001b[0m\u001b[0;34m(\u001b[0m\u001b[0mself\u001b[0m\u001b[0;34m)\u001b[0m\u001b[0;34m:\u001b[0m\u001b[0;34m\u001b[0m\u001b[0;34m\u001b[0m\u001b[0m\n\u001b[0;32m--> 268\u001b[0;31m         \u001b[0mline\u001b[0m \u001b[0;34m=\u001b[0m \u001b[0mstr\u001b[0m\u001b[0;34m(\u001b[0m\u001b[0mself\u001b[0m\u001b[0;34m.\u001b[0m\u001b[0mfp\u001b[0m\u001b[0;34m.\u001b[0m\u001b[0mreadline\u001b[0m\u001b[0;34m(\u001b[0m\u001b[0m_MAXLINE\u001b[0m \u001b[0;34m+\u001b[0m \u001b[0;36m1\u001b[0m\u001b[0;34m)\u001b[0m\u001b[0;34m,\u001b[0m \u001b[0;34m\"iso-8859-1\"\u001b[0m\u001b[0;34m)\u001b[0m\u001b[0;34m\u001b[0m\u001b[0;34m\u001b[0m\u001b[0m\n\u001b[0m\u001b[1;32m    269\u001b[0m         \u001b[0;32mif\u001b[0m \u001b[0mlen\u001b[0m\u001b[0;34m(\u001b[0m\u001b[0mline\u001b[0m\u001b[0;34m)\u001b[0m \u001b[0;34m>\u001b[0m \u001b[0m_MAXLINE\u001b[0m\u001b[0;34m:\u001b[0m\u001b[0;34m\u001b[0m\u001b[0;34m\u001b[0m\u001b[0m\n\u001b[1;32m    270\u001b[0m             \u001b[0;32mraise\u001b[0m \u001b[0mLineTooLong\u001b[0m\u001b[0;34m(\u001b[0m\u001b[0;34m\"status line\"\u001b[0m\u001b[0;34m)\u001b[0m\u001b[0;34m\u001b[0m\u001b[0;34m\u001b[0m\u001b[0m\n",
      "\u001b[0;32m~/opt/anaconda3/lib/python3.8/socket.py\u001b[0m in \u001b[0;36mreadinto\u001b[0;34m(self, b)\u001b[0m\n\u001b[1;32m    667\u001b[0m         \u001b[0;32mwhile\u001b[0m \u001b[0;32mTrue\u001b[0m\u001b[0;34m:\u001b[0m\u001b[0;34m\u001b[0m\u001b[0;34m\u001b[0m\u001b[0m\n\u001b[1;32m    668\u001b[0m             \u001b[0;32mtry\u001b[0m\u001b[0;34m:\u001b[0m\u001b[0;34m\u001b[0m\u001b[0;34m\u001b[0m\u001b[0m\n\u001b[0;32m--> 669\u001b[0;31m                 \u001b[0;32mreturn\u001b[0m \u001b[0mself\u001b[0m\u001b[0;34m.\u001b[0m\u001b[0m_sock\u001b[0m\u001b[0;34m.\u001b[0m\u001b[0mrecv_into\u001b[0m\u001b[0;34m(\u001b[0m\u001b[0mb\u001b[0m\u001b[0;34m)\u001b[0m\u001b[0;34m\u001b[0m\u001b[0;34m\u001b[0m\u001b[0m\n\u001b[0m\u001b[1;32m    670\u001b[0m             \u001b[0;32mexcept\u001b[0m \u001b[0mtimeout\u001b[0m\u001b[0;34m:\u001b[0m\u001b[0;34m\u001b[0m\u001b[0;34m\u001b[0m\u001b[0m\n\u001b[1;32m    671\u001b[0m                 \u001b[0mself\u001b[0m\u001b[0;34m.\u001b[0m\u001b[0m_timeout_occurred\u001b[0m \u001b[0;34m=\u001b[0m \u001b[0;32mTrue\u001b[0m\u001b[0;34m\u001b[0m\u001b[0;34m\u001b[0m\u001b[0m\n",
      "\u001b[0;32m~/opt/anaconda3/lib/python3.8/ssl.py\u001b[0m in \u001b[0;36mrecv_into\u001b[0;34m(self, buffer, nbytes, flags)\u001b[0m\n\u001b[1;32m   1239\u001b[0m                   \u001b[0;34m\"non-zero flags not allowed in calls to recv_into() on %s\"\u001b[0m \u001b[0;34m%\u001b[0m\u001b[0;34m\u001b[0m\u001b[0;34m\u001b[0m\u001b[0m\n\u001b[1;32m   1240\u001b[0m                   self.__class__)\n\u001b[0;32m-> 1241\u001b[0;31m             \u001b[0;32mreturn\u001b[0m \u001b[0mself\u001b[0m\u001b[0;34m.\u001b[0m\u001b[0mread\u001b[0m\u001b[0;34m(\u001b[0m\u001b[0mnbytes\u001b[0m\u001b[0;34m,\u001b[0m \u001b[0mbuffer\u001b[0m\u001b[0;34m)\u001b[0m\u001b[0;34m\u001b[0m\u001b[0;34m\u001b[0m\u001b[0m\n\u001b[0m\u001b[1;32m   1242\u001b[0m         \u001b[0;32melse\u001b[0m\u001b[0;34m:\u001b[0m\u001b[0;34m\u001b[0m\u001b[0;34m\u001b[0m\u001b[0m\n\u001b[1;32m   1243\u001b[0m             \u001b[0;32mreturn\u001b[0m \u001b[0msuper\u001b[0m\u001b[0;34m(\u001b[0m\u001b[0;34m)\u001b[0m\u001b[0;34m.\u001b[0m\u001b[0mrecv_into\u001b[0m\u001b[0;34m(\u001b[0m\u001b[0mbuffer\u001b[0m\u001b[0;34m,\u001b[0m \u001b[0mnbytes\u001b[0m\u001b[0;34m,\u001b[0m \u001b[0mflags\u001b[0m\u001b[0;34m)\u001b[0m\u001b[0;34m\u001b[0m\u001b[0;34m\u001b[0m\u001b[0m\n",
      "\u001b[0;32m~/opt/anaconda3/lib/python3.8/ssl.py\u001b[0m in \u001b[0;36mread\u001b[0;34m(self, len, buffer)\u001b[0m\n\u001b[1;32m   1097\u001b[0m         \u001b[0;32mtry\u001b[0m\u001b[0;34m:\u001b[0m\u001b[0;34m\u001b[0m\u001b[0;34m\u001b[0m\u001b[0m\n\u001b[1;32m   1098\u001b[0m             \u001b[0;32mif\u001b[0m \u001b[0mbuffer\u001b[0m \u001b[0;32mis\u001b[0m \u001b[0;32mnot\u001b[0m \u001b[0;32mNone\u001b[0m\u001b[0;34m:\u001b[0m\u001b[0;34m\u001b[0m\u001b[0;34m\u001b[0m\u001b[0m\n\u001b[0;32m-> 1099\u001b[0;31m                 \u001b[0;32mreturn\u001b[0m \u001b[0mself\u001b[0m\u001b[0;34m.\u001b[0m\u001b[0m_sslobj\u001b[0m\u001b[0;34m.\u001b[0m\u001b[0mread\u001b[0m\u001b[0;34m(\u001b[0m\u001b[0mlen\u001b[0m\u001b[0;34m,\u001b[0m \u001b[0mbuffer\u001b[0m\u001b[0;34m)\u001b[0m\u001b[0;34m\u001b[0m\u001b[0;34m\u001b[0m\u001b[0m\n\u001b[0m\u001b[1;32m   1100\u001b[0m             \u001b[0;32melse\u001b[0m\u001b[0;34m:\u001b[0m\u001b[0;34m\u001b[0m\u001b[0;34m\u001b[0m\u001b[0m\n\u001b[1;32m   1101\u001b[0m                 \u001b[0;32mreturn\u001b[0m \u001b[0mself\u001b[0m\u001b[0;34m.\u001b[0m\u001b[0m_sslobj\u001b[0m\u001b[0;34m.\u001b[0m\u001b[0mread\u001b[0m\u001b[0;34m(\u001b[0m\u001b[0mlen\u001b[0m\u001b[0;34m)\u001b[0m\u001b[0;34m\u001b[0m\u001b[0;34m\u001b[0m\u001b[0m\n",
      "\u001b[0;31mKeyboardInterrupt\u001b[0m: "
     ]
    }
   ],
   "source": [
    "r = session.get('https://reddit.com')\n",
    "for html in r.html:\n",
    "     print(html)\n",
    "# <HTML url='https://www.reddit.com/'>\n",
    "# <HTML url='https://www.reddit.com/?count=25&after=t3_81puu5'>\n",
    "# <HTML url='https://www.reddit.com/?count=50&after=t3_81nevg'>\n",
    "# <HTML url='https://www.reddit.com/?count=75&after=t3_81lqtp'>\n",
    "# <HTML url='https://www.reddit.com/?count=100&after=t3_81k1c8'>\n",
    "# <HTML url='https://www.reddit.com/?count=125&after=t3_81p438'>\n",
    "# <HTML url='https://www.reddit.com/?count=150&after=t3_81nrcd'>"
   ]
  },
  {
   "cell_type": "code",
   "execution_count": 31,
   "metadata": {},
   "outputs": [
    {
     "name": "stdout",
     "output_type": "stream",
     "text": [
      "<HTML url='https://www.bravotv.com/below-deck-sailing-yacht?cid=soc_reddit_x_20200301_bravo_org_x_BDSY_x_x_x_BDSY-Reddit-AMA-Description&rdt_cid=2983442620287616008&utm_campaign=x_20200301_bravo_org_x_BDSY_x_x_x&utm_medium=reddit&utm_source=soc&utm_term=BDSY-Reddit-AMA-Description'>\n",
      "<HTML url='https://www.bravotv.com/below-deck-sailing-yacht?cid=soc_reddit_x_20200301_bravo_org_x_BDSY_x_x_x_BDSY-Reddit-AMA-Description&rdt_cid=2983442620287616008&utm_campaign=x_20200301_bravo_org_x_BDSY_x_x_x&utm_medium=reddit&utm_source=soc&utm_term=BDSY-Reddit-AMA-Description'>\n",
      "<HTML url='https://www.bravotv.com/below-deck-sailing-yacht?cid=soc_reddit_x_20200301_bravo_org_x_BDSY_x_x_x_BDSY-Reddit-AMA-Description&rdt_cid=2983442620287616008&utm_campaign=x_20200301_bravo_org_x_BDSY_x_x_x&utm_medium=reddit&utm_source=soc&utm_term=BDSY-Reddit-AMA-Description'>\n",
      "<HTML url='https://www.bravotv.com/below-deck-sailing-yacht?cid=soc_reddit_x_20200301_bravo_org_x_BDSY_x_x_x_BDSY-Reddit-AMA-Description&rdt_cid=2983442620287616008&utm_campaign=x_20200301_bravo_org_x_BDSY_x_x_x&utm_medium=reddit&utm_source=soc&utm_term=BDSY-Reddit-AMA-Description'>\n",
      "<HTML url='https://www.bravotv.com/below-deck-sailing-yacht?cid=soc_reddit_x_20200301_bravo_org_x_BDSY_x_x_x_BDSY-Reddit-AMA-Description&rdt_cid=2983442620287616008&utm_campaign=x_20200301_bravo_org_x_BDSY_x_x_x&utm_medium=reddit&utm_source=soc&utm_term=BDSY-Reddit-AMA-Description'>\n",
      "<HTML url='https://www.bravotv.com/below-deck-sailing-yacht?cid=soc_reddit_x_20200301_bravo_org_x_BDSY_x_x_x_BDSY-Reddit-AMA-Description&rdt_cid=2983442620287616008&utm_campaign=x_20200301_bravo_org_x_BDSY_x_x_x&utm_medium=reddit&utm_source=soc&utm_term=BDSY-Reddit-AMA-Description'>\n",
      "<HTML url='https://www.bravotv.com/below-deck-sailing-yacht?cid=soc_reddit_x_20200301_bravo_org_x_BDSY_x_x_x_BDSY-Reddit-AMA-Description&rdt_cid=2983442620287616008&utm_campaign=x_20200301_bravo_org_x_BDSY_x_x_x&utm_medium=reddit&utm_source=soc&utm_term=BDSY-Reddit-AMA-Description'>\n",
      "<HTML url='https://www.bravotv.com/below-deck-sailing-yacht?cid=soc_reddit_x_20200301_bravo_org_x_BDSY_x_x_x_BDSY-Reddit-AMA-Description&rdt_cid=2983442620287616008&utm_campaign=x_20200301_bravo_org_x_BDSY_x_x_x&utm_medium=reddit&utm_source=soc&utm_term=BDSY-Reddit-AMA-Description'>\n",
      "<HTML url='https://www.bravotv.com/below-deck-sailing-yacht?cid=soc_reddit_x_20200301_bravo_org_x_BDSY_x_x_x_BDSY-Reddit-AMA-Description&rdt_cid=2983442620287616008&utm_campaign=x_20200301_bravo_org_x_BDSY_x_x_x&utm_medium=reddit&utm_source=soc&utm_term=BDSY-Reddit-AMA-Description'>\n",
      "<HTML url='https://www.bravotv.com/below-deck-sailing-yacht?cid=soc_reddit_x_20200301_bravo_org_x_BDSY_x_x_x_BDSY-Reddit-AMA-Description&rdt_cid=2983442620287616008&utm_campaign=x_20200301_bravo_org_x_BDSY_x_x_x&utm_medium=reddit&utm_source=soc&utm_term=BDSY-Reddit-AMA-Description'>\n",
      "<HTML url='https://www.bravotv.com/below-deck-sailing-yacht?cid=soc_reddit_x_20200301_bravo_org_x_BDSY_x_x_x_BDSY-Reddit-AMA-Description&rdt_cid=2983442620287616008&utm_campaign=x_20200301_bravo_org_x_BDSY_x_x_x&utm_medium=reddit&utm_source=soc&utm_term=BDSY-Reddit-AMA-Description'>\n",
      "<HTML url='https://www.bravotv.com/below-deck-sailing-yacht?cid=soc_reddit_x_20200301_bravo_org_x_BDSY_x_x_x_BDSY-Reddit-AMA-Description&rdt_cid=2983442620287616008&utm_campaign=x_20200301_bravo_org_x_BDSY_x_x_x&utm_medium=reddit&utm_source=soc&utm_term=BDSY-Reddit-AMA-Description'>\n",
      "<HTML url='https://www.bravotv.com/below-deck-sailing-yacht?cid=soc_reddit_x_20200301_bravo_org_x_BDSY_x_x_x_BDSY-Reddit-AMA-Description&rdt_cid=2983442620287616008&utm_campaign=x_20200301_bravo_org_x_BDSY_x_x_x&utm_medium=reddit&utm_source=soc&utm_term=BDSY-Reddit-AMA-Description'>\n",
      "<HTML url='https://www.bravotv.com/below-deck-sailing-yacht?cid=soc_reddit_x_20200301_bravo_org_x_BDSY_x_x_x_BDSY-Reddit-AMA-Description&rdt_cid=2983442620287616008&utm_campaign=x_20200301_bravo_org_x_BDSY_x_x_x&utm_medium=reddit&utm_source=soc&utm_term=BDSY-Reddit-AMA-Description'>\n",
      "<HTML url='https://www.bravotv.com/below-deck-sailing-yacht?cid=soc_reddit_x_20200301_bravo_org_x_BDSY_x_x_x_BDSY-Reddit-AMA-Description&rdt_cid=2983442620287616008&utm_campaign=x_20200301_bravo_org_x_BDSY_x_x_x&utm_medium=reddit&utm_source=soc&utm_term=BDSY-Reddit-AMA-Description'>\n",
      "<HTML url='https://www.bravotv.com/below-deck-sailing-yacht?cid=soc_reddit_x_20200301_bravo_org_x_BDSY_x_x_x_BDSY-Reddit-AMA-Description&rdt_cid=2983442620287616008&utm_campaign=x_20200301_bravo_org_x_BDSY_x_x_x&utm_medium=reddit&utm_source=soc&utm_term=BDSY-Reddit-AMA-Description'>\n",
      "<HTML url='https://www.bravotv.com/below-deck-sailing-yacht?cid=soc_reddit_x_20200301_bravo_org_x_BDSY_x_x_x_BDSY-Reddit-AMA-Description&rdt_cid=2983442620287616008&utm_campaign=x_20200301_bravo_org_x_BDSY_x_x_x&utm_medium=reddit&utm_source=soc&utm_term=BDSY-Reddit-AMA-Description'>\n",
      "<HTML url='https://www.bravotv.com/below-deck-sailing-yacht?cid=soc_reddit_x_20200301_bravo_org_x_BDSY_x_x_x_BDSY-Reddit-AMA-Description&rdt_cid=2983442620287616008&utm_campaign=x_20200301_bravo_org_x_BDSY_x_x_x&utm_medium=reddit&utm_source=soc&utm_term=BDSY-Reddit-AMA-Description'>\n",
      "<HTML url='https://www.bravotv.com/below-deck-sailing-yacht?cid=soc_reddit_x_20200301_bravo_org_x_BDSY_x_x_x_BDSY-Reddit-AMA-Description&rdt_cid=2983442620287616008&utm_campaign=x_20200301_bravo_org_x_BDSY_x_x_x&utm_medium=reddit&utm_source=soc&utm_term=BDSY-Reddit-AMA-Description'>\n",
      "<HTML url='https://www.bravotv.com/below-deck-sailing-yacht?cid=soc_reddit_x_20200301_bravo_org_x_BDSY_x_x_x_BDSY-Reddit-AMA-Description&rdt_cid=2983442620287616008&utm_campaign=x_20200301_bravo_org_x_BDSY_x_x_x&utm_medium=reddit&utm_source=soc&utm_term=BDSY-Reddit-AMA-Description'>\n",
      "<HTML url='https://www.bravotv.com/below-deck-sailing-yacht?cid=soc_reddit_x_20200301_bravo_org_x_BDSY_x_x_x_BDSY-Reddit-AMA-Description&rdt_cid=2983442620287616008&utm_campaign=x_20200301_bravo_org_x_BDSY_x_x_x&utm_medium=reddit&utm_source=soc&utm_term=BDSY-Reddit-AMA-Description'>\n",
      "<HTML url='https://www.bravotv.com/below-deck-sailing-yacht?cid=soc_reddit_x_20200301_bravo_org_x_BDSY_x_x_x_BDSY-Reddit-AMA-Description&rdt_cid=2983442620287616008&utm_campaign=x_20200301_bravo_org_x_BDSY_x_x_x&utm_medium=reddit&utm_source=soc&utm_term=BDSY-Reddit-AMA-Description'>\n",
      "<HTML url='https://www.bravotv.com/below-deck-sailing-yacht?cid=soc_reddit_x_20200301_bravo_org_x_BDSY_x_x_x_BDSY-Reddit-AMA-Description&rdt_cid=2983442620287616008&utm_campaign=x_20200301_bravo_org_x_BDSY_x_x_x&utm_medium=reddit&utm_source=soc&utm_term=BDSY-Reddit-AMA-Description'>\n",
      "<HTML url='https://www.bravotv.com/below-deck-sailing-yacht?cid=soc_reddit_x_20200301_bravo_org_x_BDSY_x_x_x_BDSY-Reddit-AMA-Description&rdt_cid=2983442620287616008&utm_campaign=x_20200301_bravo_org_x_BDSY_x_x_x&utm_medium=reddit&utm_source=soc&utm_term=BDSY-Reddit-AMA-Description'>\n",
      "<HTML url='https://www.bravotv.com/below-deck-sailing-yacht?cid=soc_reddit_x_20200301_bravo_org_x_BDSY_x_x_x_BDSY-Reddit-AMA-Description&rdt_cid=2983442620287616008&utm_campaign=x_20200301_bravo_org_x_BDSY_x_x_x&utm_medium=reddit&utm_source=soc&utm_term=BDSY-Reddit-AMA-Description'>\n",
      "<HTML url='https://www.bravotv.com/below-deck-sailing-yacht?cid=soc_reddit_x_20200301_bravo_org_x_BDSY_x_x_x_BDSY-Reddit-AMA-Description&rdt_cid=2983442620287616008&utm_campaign=x_20200301_bravo_org_x_BDSY_x_x_x&utm_medium=reddit&utm_source=soc&utm_term=BDSY-Reddit-AMA-Description'>\n",
      "<HTML url='https://www.bravotv.com/below-deck-sailing-yacht?cid=soc_reddit_x_20200301_bravo_org_x_BDSY_x_x_x_BDSY-Reddit-AMA-Description&rdt_cid=2983442620287616008&utm_campaign=x_20200301_bravo_org_x_BDSY_x_x_x&utm_medium=reddit&utm_source=soc&utm_term=BDSY-Reddit-AMA-Description'>\n",
      "<HTML url='https://www.bravotv.com/below-deck-sailing-yacht?cid=soc_reddit_x_20200301_bravo_org_x_BDSY_x_x_x_BDSY-Reddit-AMA-Description&rdt_cid=2983442620287616008&utm_campaign=x_20200301_bravo_org_x_BDSY_x_x_x&utm_medium=reddit&utm_source=soc&utm_term=BDSY-Reddit-AMA-Description'>\n",
      "<HTML url='https://www.bravotv.com/below-deck-sailing-yacht?cid=soc_reddit_x_20200301_bravo_org_x_BDSY_x_x_x_BDSY-Reddit-AMA-Description&rdt_cid=2983442620287616008&utm_campaign=x_20200301_bravo_org_x_BDSY_x_x_x&utm_medium=reddit&utm_source=soc&utm_term=BDSY-Reddit-AMA-Description'>\n"
     ]
    },
    {
     "name": "stdout",
     "output_type": "stream",
     "text": [
      "<HTML url='https://www.bravotv.com/below-deck-sailing-yacht?cid=soc_reddit_x_20200301_bravo_org_x_BDSY_x_x_x_BDSY-Reddit-AMA-Description&rdt_cid=2983442620287616008&utm_campaign=x_20200301_bravo_org_x_BDSY_x_x_x&utm_medium=reddit&utm_source=soc&utm_term=BDSY-Reddit-AMA-Description'>\n",
      "<HTML url='https://www.bravotv.com/below-deck-sailing-yacht?cid=soc_reddit_x_20200301_bravo_org_x_BDSY_x_x_x_BDSY-Reddit-AMA-Description&rdt_cid=2983442620287616008&utm_campaign=x_20200301_bravo_org_x_BDSY_x_x_x&utm_medium=reddit&utm_source=soc&utm_term=BDSY-Reddit-AMA-Description'>\n",
      "<HTML url='https://www.bravotv.com/below-deck-sailing-yacht?cid=soc_reddit_x_20200301_bravo_org_x_BDSY_x_x_x_BDSY-Reddit-AMA-Description&rdt_cid=2983442620287616008&utm_campaign=x_20200301_bravo_org_x_BDSY_x_x_x&utm_medium=reddit&utm_source=soc&utm_term=BDSY-Reddit-AMA-Description'>\n",
      "<HTML url='https://www.bravotv.com/below-deck-sailing-yacht?cid=soc_reddit_x_20200301_bravo_org_x_BDSY_x_x_x_BDSY-Reddit-AMA-Description&rdt_cid=2983442620287616008&utm_campaign=x_20200301_bravo_org_x_BDSY_x_x_x&utm_medium=reddit&utm_source=soc&utm_term=BDSY-Reddit-AMA-Description'>\n",
      "<HTML url='https://www.bravotv.com/below-deck-sailing-yacht?cid=soc_reddit_x_20200301_bravo_org_x_BDSY_x_x_x_BDSY-Reddit-AMA-Description&rdt_cid=2983442620287616008&utm_campaign=x_20200301_bravo_org_x_BDSY_x_x_x&utm_medium=reddit&utm_source=soc&utm_term=BDSY-Reddit-AMA-Description'>\n",
      "<HTML url='https://www.bravotv.com/below-deck-sailing-yacht?cid=soc_reddit_x_20200301_bravo_org_x_BDSY_x_x_x_BDSY-Reddit-AMA-Description&rdt_cid=2983442620287616008&utm_campaign=x_20200301_bravo_org_x_BDSY_x_x_x&utm_medium=reddit&utm_source=soc&utm_term=BDSY-Reddit-AMA-Description'>\n",
      "<HTML url='https://www.bravotv.com/below-deck-sailing-yacht?cid=soc_reddit_x_20200301_bravo_org_x_BDSY_x_x_x_BDSY-Reddit-AMA-Description&rdt_cid=2983442620287616008&utm_campaign=x_20200301_bravo_org_x_BDSY_x_x_x&utm_medium=reddit&utm_source=soc&utm_term=BDSY-Reddit-AMA-Description'>\n",
      "<HTML url='https://www.bravotv.com/below-deck-sailing-yacht?cid=soc_reddit_x_20200301_bravo_org_x_BDSY_x_x_x_BDSY-Reddit-AMA-Description&rdt_cid=2983442620287616008&utm_campaign=x_20200301_bravo_org_x_BDSY_x_x_x&utm_medium=reddit&utm_source=soc&utm_term=BDSY-Reddit-AMA-Description'>\n",
      "<HTML url='https://www.bravotv.com/below-deck-sailing-yacht?cid=soc_reddit_x_20200301_bravo_org_x_BDSY_x_x_x_BDSY-Reddit-AMA-Description&rdt_cid=2983442620287616008&utm_campaign=x_20200301_bravo_org_x_BDSY_x_x_x&utm_medium=reddit&utm_source=soc&utm_term=BDSY-Reddit-AMA-Description'>\n",
      "<HTML url='https://www.bravotv.com/below-deck-sailing-yacht?cid=soc_reddit_x_20200301_bravo_org_x_BDSY_x_x_x_BDSY-Reddit-AMA-Description&rdt_cid=2983442620287616008&utm_campaign=x_20200301_bravo_org_x_BDSY_x_x_x&utm_medium=reddit&utm_source=soc&utm_term=BDSY-Reddit-AMA-Description'>\n",
      "<HTML url='https://www.bravotv.com/below-deck-sailing-yacht?cid=soc_reddit_x_20200301_bravo_org_x_BDSY_x_x_x_BDSY-Reddit-AMA-Description&rdt_cid=2983442620287616008&utm_campaign=x_20200301_bravo_org_x_BDSY_x_x_x&utm_medium=reddit&utm_source=soc&utm_term=BDSY-Reddit-AMA-Description'>\n",
      "<HTML url='https://www.bravotv.com/below-deck-sailing-yacht?cid=soc_reddit_x_20200301_bravo_org_x_BDSY_x_x_x_BDSY-Reddit-AMA-Description&rdt_cid=2983442620287616008&utm_campaign=x_20200301_bravo_org_x_BDSY_x_x_x&utm_medium=reddit&utm_source=soc&utm_term=BDSY-Reddit-AMA-Description'>\n",
      "<HTML url='https://www.bravotv.com/below-deck-sailing-yacht?cid=soc_reddit_x_20200301_bravo_org_x_BDSY_x_x_x_BDSY-Reddit-AMA-Description&rdt_cid=2983442620287616008&utm_campaign=x_20200301_bravo_org_x_BDSY_x_x_x&utm_medium=reddit&utm_source=soc&utm_term=BDSY-Reddit-AMA-Description'>\n",
      "<HTML url='https://www.bravotv.com/below-deck-sailing-yacht?cid=soc_reddit_x_20200301_bravo_org_x_BDSY_x_x_x_BDSY-Reddit-AMA-Description&rdt_cid=2983442620287616008&utm_campaign=x_20200301_bravo_org_x_BDSY_x_x_x&utm_medium=reddit&utm_source=soc&utm_term=BDSY-Reddit-AMA-Description'>\n",
      "<HTML url='https://www.bravotv.com/below-deck-sailing-yacht?cid=soc_reddit_x_20200301_bravo_org_x_BDSY_x_x_x_BDSY-Reddit-AMA-Description&rdt_cid=2983442620287616008&utm_campaign=x_20200301_bravo_org_x_BDSY_x_x_x&utm_medium=reddit&utm_source=soc&utm_term=BDSY-Reddit-AMA-Description'>\n",
      "<HTML url='https://www.bravotv.com/below-deck-sailing-yacht?cid=soc_reddit_x_20200301_bravo_org_x_BDSY_x_x_x_BDSY-Reddit-AMA-Description&rdt_cid=2983442620287616008&utm_campaign=x_20200301_bravo_org_x_BDSY_x_x_x&utm_medium=reddit&utm_source=soc&utm_term=BDSY-Reddit-AMA-Description'>\n",
      "<HTML url='https://www.bravotv.com/below-deck-sailing-yacht?cid=soc_reddit_x_20200301_bravo_org_x_BDSY_x_x_x_BDSY-Reddit-AMA-Description&rdt_cid=2983442620287616008&utm_campaign=x_20200301_bravo_org_x_BDSY_x_x_x&utm_medium=reddit&utm_source=soc&utm_term=BDSY-Reddit-AMA-Description'>\n",
      "<HTML url='https://www.bravotv.com/below-deck-sailing-yacht?cid=soc_reddit_x_20200301_bravo_org_x_BDSY_x_x_x_BDSY-Reddit-AMA-Description&rdt_cid=2983442620287616008&utm_campaign=x_20200301_bravo_org_x_BDSY_x_x_x&utm_medium=reddit&utm_source=soc&utm_term=BDSY-Reddit-AMA-Description'>\n",
      "<HTML url='https://www.bravotv.com/below-deck-sailing-yacht?cid=soc_reddit_x_20200301_bravo_org_x_BDSY_x_x_x_BDSY-Reddit-AMA-Description&rdt_cid=2983442620287616008&utm_campaign=x_20200301_bravo_org_x_BDSY_x_x_x&utm_medium=reddit&utm_source=soc&utm_term=BDSY-Reddit-AMA-Description'>\n",
      "<HTML url='https://www.bravotv.com/below-deck-sailing-yacht?cid=soc_reddit_x_20200301_bravo_org_x_BDSY_x_x_x_BDSY-Reddit-AMA-Description&rdt_cid=2983442620287616008&utm_campaign=x_20200301_bravo_org_x_BDSY_x_x_x&utm_medium=reddit&utm_source=soc&utm_term=BDSY-Reddit-AMA-Description'>\n",
      "<HTML url='https://www.bravotv.com/below-deck-sailing-yacht?cid=soc_reddit_x_20200301_bravo_org_x_BDSY_x_x_x_BDSY-Reddit-AMA-Description&rdt_cid=2983442620287616008&utm_campaign=x_20200301_bravo_org_x_BDSY_x_x_x&utm_medium=reddit&utm_source=soc&utm_term=BDSY-Reddit-AMA-Description'>\n",
      "<HTML url='https://www.bravotv.com/below-deck-sailing-yacht?cid=soc_reddit_x_20200301_bravo_org_x_BDSY_x_x_x_BDSY-Reddit-AMA-Description&rdt_cid=2983442620287616008&utm_campaign=x_20200301_bravo_org_x_BDSY_x_x_x&utm_medium=reddit&utm_source=soc&utm_term=BDSY-Reddit-AMA-Description'>\n",
      "<HTML url='https://www.bravotv.com/below-deck-sailing-yacht?cid=soc_reddit_x_20200301_bravo_org_x_BDSY_x_x_x_BDSY-Reddit-AMA-Description&rdt_cid=2983442620287616008&utm_campaign=x_20200301_bravo_org_x_BDSY_x_x_x&utm_medium=reddit&utm_source=soc&utm_term=BDSY-Reddit-AMA-Description'>\n",
      "<HTML url='https://www.bravotv.com/below-deck-sailing-yacht?cid=soc_reddit_x_20200301_bravo_org_x_BDSY_x_x_x_BDSY-Reddit-AMA-Description&rdt_cid=2983442620287616008&utm_campaign=x_20200301_bravo_org_x_BDSY_x_x_x&utm_medium=reddit&utm_source=soc&utm_term=BDSY-Reddit-AMA-Description'>\n",
      "<HTML url='https://www.bravotv.com/below-deck-sailing-yacht?cid=soc_reddit_x_20200301_bravo_org_x_BDSY_x_x_x_BDSY-Reddit-AMA-Description&rdt_cid=2983442620287616008&utm_campaign=x_20200301_bravo_org_x_BDSY_x_x_x&utm_medium=reddit&utm_source=soc&utm_term=BDSY-Reddit-AMA-Description'>\n",
      "<HTML url='https://www.bravotv.com/below-deck-sailing-yacht?cid=soc_reddit_x_20200301_bravo_org_x_BDSY_x_x_x_BDSY-Reddit-AMA-Description&rdt_cid=2983442620287616008&utm_campaign=x_20200301_bravo_org_x_BDSY_x_x_x&utm_medium=reddit&utm_source=soc&utm_term=BDSY-Reddit-AMA-Description'>\n",
      "<HTML url='https://www.bravotv.com/below-deck-sailing-yacht?cid=soc_reddit_x_20200301_bravo_org_x_BDSY_x_x_x_BDSY-Reddit-AMA-Description&rdt_cid=2983442620287616008&utm_campaign=x_20200301_bravo_org_x_BDSY_x_x_x&utm_medium=reddit&utm_source=soc&utm_term=BDSY-Reddit-AMA-Description'>\n",
      "<HTML url='https://www.bravotv.com/below-deck-sailing-yacht?cid=soc_reddit_x_20200301_bravo_org_x_BDSY_x_x_x_BDSY-Reddit-AMA-Description&rdt_cid=2983442620287616008&utm_campaign=x_20200301_bravo_org_x_BDSY_x_x_x&utm_medium=reddit&utm_source=soc&utm_term=BDSY-Reddit-AMA-Description'>\n",
      "<HTML url='https://www.bravotv.com/below-deck-sailing-yacht?cid=soc_reddit_x_20200301_bravo_org_x_BDSY_x_x_x_BDSY-Reddit-AMA-Description&rdt_cid=2983442620287616008&utm_campaign=x_20200301_bravo_org_x_BDSY_x_x_x&utm_medium=reddit&utm_source=soc&utm_term=BDSY-Reddit-AMA-Description'>\n"
     ]
    },
    {
     "name": "stdout",
     "output_type": "stream",
     "text": [
      "<HTML url='https://www.bravotv.com/below-deck-sailing-yacht?cid=soc_reddit_x_20200301_bravo_org_x_BDSY_x_x_x_BDSY-Reddit-AMA-Description&rdt_cid=2983442620287616008&utm_campaign=x_20200301_bravo_org_x_BDSY_x_x_x&utm_medium=reddit&utm_source=soc&utm_term=BDSY-Reddit-AMA-Description'>\n",
      "<HTML url='https://www.bravotv.com/below-deck-sailing-yacht?cid=soc_reddit_x_20200301_bravo_org_x_BDSY_x_x_x_BDSY-Reddit-AMA-Description&rdt_cid=2983442620287616008&utm_campaign=x_20200301_bravo_org_x_BDSY_x_x_x&utm_medium=reddit&utm_source=soc&utm_term=BDSY-Reddit-AMA-Description'>\n",
      "<HTML url='https://www.bravotv.com/below-deck-sailing-yacht?cid=soc_reddit_x_20200301_bravo_org_x_BDSY_x_x_x_BDSY-Reddit-AMA-Description&rdt_cid=2983442620287616008&utm_campaign=x_20200301_bravo_org_x_BDSY_x_x_x&utm_medium=reddit&utm_source=soc&utm_term=BDSY-Reddit-AMA-Description'>\n",
      "<HTML url='https://www.bravotv.com/below-deck-sailing-yacht?cid=soc_reddit_x_20200301_bravo_org_x_BDSY_x_x_x_BDSY-Reddit-AMA-Description&rdt_cid=2983442620287616008&utm_campaign=x_20200301_bravo_org_x_BDSY_x_x_x&utm_medium=reddit&utm_source=soc&utm_term=BDSY-Reddit-AMA-Description'>\n",
      "<HTML url='https://www.bravotv.com/below-deck-sailing-yacht?cid=soc_reddit_x_20200301_bravo_org_x_BDSY_x_x_x_BDSY-Reddit-AMA-Description&rdt_cid=2983442620287616008&utm_campaign=x_20200301_bravo_org_x_BDSY_x_x_x&utm_medium=reddit&utm_source=soc&utm_term=BDSY-Reddit-AMA-Description'>\n",
      "<HTML url='https://www.bravotv.com/below-deck-sailing-yacht?cid=soc_reddit_x_20200301_bravo_org_x_BDSY_x_x_x_BDSY-Reddit-AMA-Description&rdt_cid=2983442620287616008&utm_campaign=x_20200301_bravo_org_x_BDSY_x_x_x&utm_medium=reddit&utm_source=soc&utm_term=BDSY-Reddit-AMA-Description'>\n",
      "<HTML url='https://www.bravotv.com/below-deck-sailing-yacht?cid=soc_reddit_x_20200301_bravo_org_x_BDSY_x_x_x_BDSY-Reddit-AMA-Description&rdt_cid=2983442620287616008&utm_campaign=x_20200301_bravo_org_x_BDSY_x_x_x&utm_medium=reddit&utm_source=soc&utm_term=BDSY-Reddit-AMA-Description'>\n",
      "<HTML url='https://www.bravotv.com/below-deck-sailing-yacht?cid=soc_reddit_x_20200301_bravo_org_x_BDSY_x_x_x_BDSY-Reddit-AMA-Description&rdt_cid=2983442620287616008&utm_campaign=x_20200301_bravo_org_x_BDSY_x_x_x&utm_medium=reddit&utm_source=soc&utm_term=BDSY-Reddit-AMA-Description'>\n",
      "<HTML url='https://www.bravotv.com/below-deck-sailing-yacht?cid=soc_reddit_x_20200301_bravo_org_x_BDSY_x_x_x_BDSY-Reddit-AMA-Description&rdt_cid=2983442620287616008&utm_campaign=x_20200301_bravo_org_x_BDSY_x_x_x&utm_medium=reddit&utm_source=soc&utm_term=BDSY-Reddit-AMA-Description'>\n",
      "<HTML url='https://www.bravotv.com/below-deck-sailing-yacht?cid=soc_reddit_x_20200301_bravo_org_x_BDSY_x_x_x_BDSY-Reddit-AMA-Description&rdt_cid=2983442620287616008&utm_campaign=x_20200301_bravo_org_x_BDSY_x_x_x&utm_medium=reddit&utm_source=soc&utm_term=BDSY-Reddit-AMA-Description'>\n",
      "<HTML url='https://www.bravotv.com/below-deck-sailing-yacht?cid=soc_reddit_x_20200301_bravo_org_x_BDSY_x_x_x_BDSY-Reddit-AMA-Description&rdt_cid=2983442620287616008&utm_campaign=x_20200301_bravo_org_x_BDSY_x_x_x&utm_medium=reddit&utm_source=soc&utm_term=BDSY-Reddit-AMA-Description'>\n",
      "<HTML url='https://www.bravotv.com/below-deck-sailing-yacht?cid=soc_reddit_x_20200301_bravo_org_x_BDSY_x_x_x_BDSY-Reddit-AMA-Description&rdt_cid=2983442620287616008&utm_campaign=x_20200301_bravo_org_x_BDSY_x_x_x&utm_medium=reddit&utm_source=soc&utm_term=BDSY-Reddit-AMA-Description'>\n",
      "<HTML url='https://www.bravotv.com/below-deck-sailing-yacht?cid=soc_reddit_x_20200301_bravo_org_x_BDSY_x_x_x_BDSY-Reddit-AMA-Description&rdt_cid=2983442620287616008&utm_campaign=x_20200301_bravo_org_x_BDSY_x_x_x&utm_medium=reddit&utm_source=soc&utm_term=BDSY-Reddit-AMA-Description'>\n",
      "<HTML url='https://www.bravotv.com/below-deck-sailing-yacht?cid=soc_reddit_x_20200301_bravo_org_x_BDSY_x_x_x_BDSY-Reddit-AMA-Description&rdt_cid=2983442620287616008&utm_campaign=x_20200301_bravo_org_x_BDSY_x_x_x&utm_medium=reddit&utm_source=soc&utm_term=BDSY-Reddit-AMA-Description'>\n",
      "<HTML url='https://www.bravotv.com/below-deck-sailing-yacht?cid=soc_reddit_x_20200301_bravo_org_x_BDSY_x_x_x_BDSY-Reddit-AMA-Description&rdt_cid=2983442620287616008&utm_campaign=x_20200301_bravo_org_x_BDSY_x_x_x&utm_medium=reddit&utm_source=soc&utm_term=BDSY-Reddit-AMA-Description'>\n",
      "<HTML url='https://www.bravotv.com/below-deck-sailing-yacht?cid=soc_reddit_x_20200301_bravo_org_x_BDSY_x_x_x_BDSY-Reddit-AMA-Description&rdt_cid=2983442620287616008&utm_campaign=x_20200301_bravo_org_x_BDSY_x_x_x&utm_medium=reddit&utm_source=soc&utm_term=BDSY-Reddit-AMA-Description'>\n",
      "<HTML url='https://www.bravotv.com/below-deck-sailing-yacht?cid=soc_reddit_x_20200301_bravo_org_x_BDSY_x_x_x_BDSY-Reddit-AMA-Description&rdt_cid=2983442620287616008&utm_campaign=x_20200301_bravo_org_x_BDSY_x_x_x&utm_medium=reddit&utm_source=soc&utm_term=BDSY-Reddit-AMA-Description'>\n",
      "<HTML url='https://www.bravotv.com/below-deck-sailing-yacht?cid=soc_reddit_x_20200301_bravo_org_x_BDSY_x_x_x_BDSY-Reddit-AMA-Description&rdt_cid=2983442620287616008&utm_campaign=x_20200301_bravo_org_x_BDSY_x_x_x&utm_medium=reddit&utm_source=soc&utm_term=BDSY-Reddit-AMA-Description'>\n",
      "<HTML url='https://www.bravotv.com/below-deck-sailing-yacht?cid=soc_reddit_x_20200301_bravo_org_x_BDSY_x_x_x_BDSY-Reddit-AMA-Description&rdt_cid=2983442620287616008&utm_campaign=x_20200301_bravo_org_x_BDSY_x_x_x&utm_medium=reddit&utm_source=soc&utm_term=BDSY-Reddit-AMA-Description'>\n",
      "<HTML url='https://www.bravotv.com/below-deck-sailing-yacht?cid=soc_reddit_x_20200301_bravo_org_x_BDSY_x_x_x_BDSY-Reddit-AMA-Description&rdt_cid=2983442620287616008&utm_campaign=x_20200301_bravo_org_x_BDSY_x_x_x&utm_medium=reddit&utm_source=soc&utm_term=BDSY-Reddit-AMA-Description'>\n",
      "<HTML url='https://www.bravotv.com/below-deck-sailing-yacht?cid=soc_reddit_x_20200301_bravo_org_x_BDSY_x_x_x_BDSY-Reddit-AMA-Description&rdt_cid=2983442620287616008&utm_campaign=x_20200301_bravo_org_x_BDSY_x_x_x&utm_medium=reddit&utm_source=soc&utm_term=BDSY-Reddit-AMA-Description'>\n",
      "<HTML url='https://www.bravotv.com/below-deck-sailing-yacht?cid=soc_reddit_x_20200301_bravo_org_x_BDSY_x_x_x_BDSY-Reddit-AMA-Description&rdt_cid=2983442620287616008&utm_campaign=x_20200301_bravo_org_x_BDSY_x_x_x&utm_medium=reddit&utm_source=soc&utm_term=BDSY-Reddit-AMA-Description'>\n",
      "<HTML url='https://www.bravotv.com/below-deck-sailing-yacht?cid=soc_reddit_x_20200301_bravo_org_x_BDSY_x_x_x_BDSY-Reddit-AMA-Description&rdt_cid=2983442620287616008&utm_campaign=x_20200301_bravo_org_x_BDSY_x_x_x&utm_medium=reddit&utm_source=soc&utm_term=BDSY-Reddit-AMA-Description'>\n",
      "<HTML url='https://www.bravotv.com/below-deck-sailing-yacht?cid=soc_reddit_x_20200301_bravo_org_x_BDSY_x_x_x_BDSY-Reddit-AMA-Description&rdt_cid=2983442620287616008&utm_campaign=x_20200301_bravo_org_x_BDSY_x_x_x&utm_medium=reddit&utm_source=soc&utm_term=BDSY-Reddit-AMA-Description'>\n",
      "<HTML url='https://www.bravotv.com/below-deck-sailing-yacht?cid=soc_reddit_x_20200301_bravo_org_x_BDSY_x_x_x_BDSY-Reddit-AMA-Description&rdt_cid=2983442620287616008&utm_campaign=x_20200301_bravo_org_x_BDSY_x_x_x&utm_medium=reddit&utm_source=soc&utm_term=BDSY-Reddit-AMA-Description'>\n",
      "<HTML url='https://www.bravotv.com/below-deck-sailing-yacht?cid=soc_reddit_x_20200301_bravo_org_x_BDSY_x_x_x_BDSY-Reddit-AMA-Description&rdt_cid=2983442620287616008&utm_campaign=x_20200301_bravo_org_x_BDSY_x_x_x&utm_medium=reddit&utm_source=soc&utm_term=BDSY-Reddit-AMA-Description'>\n",
      "<HTML url='https://www.bravotv.com/below-deck-sailing-yacht?cid=soc_reddit_x_20200301_bravo_org_x_BDSY_x_x_x_BDSY-Reddit-AMA-Description&rdt_cid=2983442620287616008&utm_campaign=x_20200301_bravo_org_x_BDSY_x_x_x&utm_medium=reddit&utm_source=soc&utm_term=BDSY-Reddit-AMA-Description'>\n",
      "<HTML url='https://www.bravotv.com/below-deck-sailing-yacht?cid=soc_reddit_x_20200301_bravo_org_x_BDSY_x_x_x_BDSY-Reddit-AMA-Description&rdt_cid=2983442620287616008&utm_campaign=x_20200301_bravo_org_x_BDSY_x_x_x&utm_medium=reddit&utm_source=soc&utm_term=BDSY-Reddit-AMA-Description'>\n",
      "<HTML url='https://www.bravotv.com/below-deck-sailing-yacht?cid=soc_reddit_x_20200301_bravo_org_x_BDSY_x_x_x_BDSY-Reddit-AMA-Description&rdt_cid=2983442620287616008&utm_campaign=x_20200301_bravo_org_x_BDSY_x_x_x&utm_medium=reddit&utm_source=soc&utm_term=BDSY-Reddit-AMA-Description'>\n"
     ]
    },
    {
     "name": "stdout",
     "output_type": "stream",
     "text": [
      "<HTML url='https://www.bravotv.com/below-deck-sailing-yacht?cid=soc_reddit_x_20200301_bravo_org_x_BDSY_x_x_x_BDSY-Reddit-AMA-Description&rdt_cid=2983442620287616008&utm_campaign=x_20200301_bravo_org_x_BDSY_x_x_x&utm_medium=reddit&utm_source=soc&utm_term=BDSY-Reddit-AMA-Description'>\n",
      "<HTML url='https://www.bravotv.com/below-deck-sailing-yacht?cid=soc_reddit_x_20200301_bravo_org_x_BDSY_x_x_x_BDSY-Reddit-AMA-Description&rdt_cid=2983442620287616008&utm_campaign=x_20200301_bravo_org_x_BDSY_x_x_x&utm_medium=reddit&utm_source=soc&utm_term=BDSY-Reddit-AMA-Description'>\n",
      "<HTML url='https://www.bravotv.com/below-deck-sailing-yacht?cid=soc_reddit_x_20200301_bravo_org_x_BDSY_x_x_x_BDSY-Reddit-AMA-Description&rdt_cid=2983442620287616008&utm_campaign=x_20200301_bravo_org_x_BDSY_x_x_x&utm_medium=reddit&utm_source=soc&utm_term=BDSY-Reddit-AMA-Description'>\n",
      "<HTML url='https://www.bravotv.com/below-deck-sailing-yacht?cid=soc_reddit_x_20200301_bravo_org_x_BDSY_x_x_x_BDSY-Reddit-AMA-Description&rdt_cid=2983442620287616008&utm_campaign=x_20200301_bravo_org_x_BDSY_x_x_x&utm_medium=reddit&utm_source=soc&utm_term=BDSY-Reddit-AMA-Description'>\n",
      "<HTML url='https://www.bravotv.com/below-deck-sailing-yacht?cid=soc_reddit_x_20200301_bravo_org_x_BDSY_x_x_x_BDSY-Reddit-AMA-Description&rdt_cid=2983442620287616008&utm_campaign=x_20200301_bravo_org_x_BDSY_x_x_x&utm_medium=reddit&utm_source=soc&utm_term=BDSY-Reddit-AMA-Description'>\n",
      "<HTML url='https://www.bravotv.com/below-deck-sailing-yacht?cid=soc_reddit_x_20200301_bravo_org_x_BDSY_x_x_x_BDSY-Reddit-AMA-Description&rdt_cid=2983442620287616008&utm_campaign=x_20200301_bravo_org_x_BDSY_x_x_x&utm_medium=reddit&utm_source=soc&utm_term=BDSY-Reddit-AMA-Description'>\n",
      "<HTML url='https://www.bravotv.com/below-deck-sailing-yacht?cid=soc_reddit_x_20200301_bravo_org_x_BDSY_x_x_x_BDSY-Reddit-AMA-Description&rdt_cid=2983442620287616008&utm_campaign=x_20200301_bravo_org_x_BDSY_x_x_x&utm_medium=reddit&utm_source=soc&utm_term=BDSY-Reddit-AMA-Description'>\n",
      "<HTML url='https://www.bravotv.com/below-deck-sailing-yacht?cid=soc_reddit_x_20200301_bravo_org_x_BDSY_x_x_x_BDSY-Reddit-AMA-Description&rdt_cid=2983442620287616008&utm_campaign=x_20200301_bravo_org_x_BDSY_x_x_x&utm_medium=reddit&utm_source=soc&utm_term=BDSY-Reddit-AMA-Description'>\n",
      "<HTML url='https://www.bravotv.com/below-deck-sailing-yacht?cid=soc_reddit_x_20200301_bravo_org_x_BDSY_x_x_x_BDSY-Reddit-AMA-Description&rdt_cid=2983442620287616008&utm_campaign=x_20200301_bravo_org_x_BDSY_x_x_x&utm_medium=reddit&utm_source=soc&utm_term=BDSY-Reddit-AMA-Description'>\n",
      "<HTML url='https://www.bravotv.com/below-deck-sailing-yacht?cid=soc_reddit_x_20200301_bravo_org_x_BDSY_x_x_x_BDSY-Reddit-AMA-Description&rdt_cid=2983442620287616008&utm_campaign=x_20200301_bravo_org_x_BDSY_x_x_x&utm_medium=reddit&utm_source=soc&utm_term=BDSY-Reddit-AMA-Description'>\n",
      "<HTML url='https://www.bravotv.com/below-deck-sailing-yacht?cid=soc_reddit_x_20200301_bravo_org_x_BDSY_x_x_x_BDSY-Reddit-AMA-Description&rdt_cid=2983442620287616008&utm_campaign=x_20200301_bravo_org_x_BDSY_x_x_x&utm_medium=reddit&utm_source=soc&utm_term=BDSY-Reddit-AMA-Description'>\n",
      "<HTML url='https://www.bravotv.com/below-deck-sailing-yacht?cid=soc_reddit_x_20200301_bravo_org_x_BDSY_x_x_x_BDSY-Reddit-AMA-Description&rdt_cid=2983442620287616008&utm_campaign=x_20200301_bravo_org_x_BDSY_x_x_x&utm_medium=reddit&utm_source=soc&utm_term=BDSY-Reddit-AMA-Description'>\n",
      "<HTML url='https://www.bravotv.com/below-deck-sailing-yacht?cid=soc_reddit_x_20200301_bravo_org_x_BDSY_x_x_x_BDSY-Reddit-AMA-Description&rdt_cid=2983442620287616008&utm_campaign=x_20200301_bravo_org_x_BDSY_x_x_x&utm_medium=reddit&utm_source=soc&utm_term=BDSY-Reddit-AMA-Description'>\n",
      "<HTML url='https://www.bravotv.com/below-deck-sailing-yacht?cid=soc_reddit_x_20200301_bravo_org_x_BDSY_x_x_x_BDSY-Reddit-AMA-Description&rdt_cid=2983442620287616008&utm_campaign=x_20200301_bravo_org_x_BDSY_x_x_x&utm_medium=reddit&utm_source=soc&utm_term=BDSY-Reddit-AMA-Description'>\n",
      "<HTML url='https://www.bravotv.com/below-deck-sailing-yacht?cid=soc_reddit_x_20200301_bravo_org_x_BDSY_x_x_x_BDSY-Reddit-AMA-Description&rdt_cid=2983442620287616008&utm_campaign=x_20200301_bravo_org_x_BDSY_x_x_x&utm_medium=reddit&utm_source=soc&utm_term=BDSY-Reddit-AMA-Description'>\n",
      "<HTML url='https://www.bravotv.com/below-deck-sailing-yacht?cid=soc_reddit_x_20200301_bravo_org_x_BDSY_x_x_x_BDSY-Reddit-AMA-Description&rdt_cid=2983442620287616008&utm_campaign=x_20200301_bravo_org_x_BDSY_x_x_x&utm_medium=reddit&utm_source=soc&utm_term=BDSY-Reddit-AMA-Description'>\n",
      "<HTML url='https://www.bravotv.com/below-deck-sailing-yacht?cid=soc_reddit_x_20200301_bravo_org_x_BDSY_x_x_x_BDSY-Reddit-AMA-Description&rdt_cid=2983442620287616008&utm_campaign=x_20200301_bravo_org_x_BDSY_x_x_x&utm_medium=reddit&utm_source=soc&utm_term=BDSY-Reddit-AMA-Description'>\n",
      "<HTML url='https://www.bravotv.com/below-deck-sailing-yacht?cid=soc_reddit_x_20200301_bravo_org_x_BDSY_x_x_x_BDSY-Reddit-AMA-Description&rdt_cid=2983442620287616008&utm_campaign=x_20200301_bravo_org_x_BDSY_x_x_x&utm_medium=reddit&utm_source=soc&utm_term=BDSY-Reddit-AMA-Description'>\n",
      "<HTML url='https://www.bravotv.com/below-deck-sailing-yacht?cid=soc_reddit_x_20200301_bravo_org_x_BDSY_x_x_x_BDSY-Reddit-AMA-Description&rdt_cid=2983442620287616008&utm_campaign=x_20200301_bravo_org_x_BDSY_x_x_x&utm_medium=reddit&utm_source=soc&utm_term=BDSY-Reddit-AMA-Description'>\n",
      "<HTML url='https://www.bravotv.com/below-deck-sailing-yacht?cid=soc_reddit_x_20200301_bravo_org_x_BDSY_x_x_x_BDSY-Reddit-AMA-Description&rdt_cid=2983442620287616008&utm_campaign=x_20200301_bravo_org_x_BDSY_x_x_x&utm_medium=reddit&utm_source=soc&utm_term=BDSY-Reddit-AMA-Description'>\n",
      "<HTML url='https://www.bravotv.com/below-deck-sailing-yacht?cid=soc_reddit_x_20200301_bravo_org_x_BDSY_x_x_x_BDSY-Reddit-AMA-Description&rdt_cid=2983442620287616008&utm_campaign=x_20200301_bravo_org_x_BDSY_x_x_x&utm_medium=reddit&utm_source=soc&utm_term=BDSY-Reddit-AMA-Description'>\n",
      "<HTML url='https://www.bravotv.com/below-deck-sailing-yacht?cid=soc_reddit_x_20200301_bravo_org_x_BDSY_x_x_x_BDSY-Reddit-AMA-Description&rdt_cid=2983442620287616008&utm_campaign=x_20200301_bravo_org_x_BDSY_x_x_x&utm_medium=reddit&utm_source=soc&utm_term=BDSY-Reddit-AMA-Description'>\n",
      "<HTML url='https://www.bravotv.com/below-deck-sailing-yacht?cid=soc_reddit_x_20200301_bravo_org_x_BDSY_x_x_x_BDSY-Reddit-AMA-Description&rdt_cid=2983442620287616008&utm_campaign=x_20200301_bravo_org_x_BDSY_x_x_x&utm_medium=reddit&utm_source=soc&utm_term=BDSY-Reddit-AMA-Description'>\n",
      "<HTML url='https://www.bravotv.com/below-deck-sailing-yacht?cid=soc_reddit_x_20200301_bravo_org_x_BDSY_x_x_x_BDSY-Reddit-AMA-Description&rdt_cid=2983442620287616008&utm_campaign=x_20200301_bravo_org_x_BDSY_x_x_x&utm_medium=reddit&utm_source=soc&utm_term=BDSY-Reddit-AMA-Description'>\n",
      "<HTML url='https://www.bravotv.com/below-deck-sailing-yacht?cid=soc_reddit_x_20200301_bravo_org_x_BDSY_x_x_x_BDSY-Reddit-AMA-Description&rdt_cid=2983442620287616008&utm_campaign=x_20200301_bravo_org_x_BDSY_x_x_x&utm_medium=reddit&utm_source=soc&utm_term=BDSY-Reddit-AMA-Description'>\n",
      "<HTML url='https://www.bravotv.com/below-deck-sailing-yacht?cid=soc_reddit_x_20200301_bravo_org_x_BDSY_x_x_x_BDSY-Reddit-AMA-Description&rdt_cid=2983442620287616008&utm_campaign=x_20200301_bravo_org_x_BDSY_x_x_x&utm_medium=reddit&utm_source=soc&utm_term=BDSY-Reddit-AMA-Description'>\n",
      "<HTML url='https://www.bravotv.com/below-deck-sailing-yacht?cid=soc_reddit_x_20200301_bravo_org_x_BDSY_x_x_x_BDSY-Reddit-AMA-Description&rdt_cid=2983442620287616008&utm_campaign=x_20200301_bravo_org_x_BDSY_x_x_x&utm_medium=reddit&utm_source=soc&utm_term=BDSY-Reddit-AMA-Description'>\n",
      "<HTML url='https://www.bravotv.com/below-deck-sailing-yacht?cid=soc_reddit_x_20200301_bravo_org_x_BDSY_x_x_x_BDSY-Reddit-AMA-Description&rdt_cid=2983442620287616008&utm_campaign=x_20200301_bravo_org_x_BDSY_x_x_x&utm_medium=reddit&utm_source=soc&utm_term=BDSY-Reddit-AMA-Description'>\n",
      "<HTML url='https://www.bravotv.com/below-deck-sailing-yacht?cid=soc_reddit_x_20200301_bravo_org_x_BDSY_x_x_x_BDSY-Reddit-AMA-Description&rdt_cid=2983442620287616008&utm_campaign=x_20200301_bravo_org_x_BDSY_x_x_x&utm_medium=reddit&utm_source=soc&utm_term=BDSY-Reddit-AMA-Description'>\n"
     ]
    },
    {
     "name": "stdout",
     "output_type": "stream",
     "text": [
      "<HTML url='https://www.bravotv.com/below-deck-sailing-yacht?cid=soc_reddit_x_20200301_bravo_org_x_BDSY_x_x_x_BDSY-Reddit-AMA-Description&rdt_cid=2983442620287616008&utm_campaign=x_20200301_bravo_org_x_BDSY_x_x_x&utm_medium=reddit&utm_source=soc&utm_term=BDSY-Reddit-AMA-Description'>\n",
      "<HTML url='https://www.bravotv.com/below-deck-sailing-yacht?cid=soc_reddit_x_20200301_bravo_org_x_BDSY_x_x_x_BDSY-Reddit-AMA-Description&rdt_cid=2983442620287616008&utm_campaign=x_20200301_bravo_org_x_BDSY_x_x_x&utm_medium=reddit&utm_source=soc&utm_term=BDSY-Reddit-AMA-Description'>\n",
      "<HTML url='https://www.bravotv.com/below-deck-sailing-yacht?cid=soc_reddit_x_20200301_bravo_org_x_BDSY_x_x_x_BDSY-Reddit-AMA-Description&rdt_cid=2983442620287616008&utm_campaign=x_20200301_bravo_org_x_BDSY_x_x_x&utm_medium=reddit&utm_source=soc&utm_term=BDSY-Reddit-AMA-Description'>\n",
      "<HTML url='https://www.bravotv.com/below-deck-sailing-yacht?cid=soc_reddit_x_20200301_bravo_org_x_BDSY_x_x_x_BDSY-Reddit-AMA-Description&rdt_cid=2983442620287616008&utm_campaign=x_20200301_bravo_org_x_BDSY_x_x_x&utm_medium=reddit&utm_source=soc&utm_term=BDSY-Reddit-AMA-Description'>\n",
      "<HTML url='https://www.bravotv.com/below-deck-sailing-yacht?cid=soc_reddit_x_20200301_bravo_org_x_BDSY_x_x_x_BDSY-Reddit-AMA-Description&rdt_cid=2983442620287616008&utm_campaign=x_20200301_bravo_org_x_BDSY_x_x_x&utm_medium=reddit&utm_source=soc&utm_term=BDSY-Reddit-AMA-Description'>\n",
      "<HTML url='https://www.bravotv.com/below-deck-sailing-yacht?cid=soc_reddit_x_20200301_bravo_org_x_BDSY_x_x_x_BDSY-Reddit-AMA-Description&rdt_cid=2983442620287616008&utm_campaign=x_20200301_bravo_org_x_BDSY_x_x_x&utm_medium=reddit&utm_source=soc&utm_term=BDSY-Reddit-AMA-Description'>\n",
      "<HTML url='https://www.bravotv.com/below-deck-sailing-yacht?cid=soc_reddit_x_20200301_bravo_org_x_BDSY_x_x_x_BDSY-Reddit-AMA-Description&rdt_cid=2983442620287616008&utm_campaign=x_20200301_bravo_org_x_BDSY_x_x_x&utm_medium=reddit&utm_source=soc&utm_term=BDSY-Reddit-AMA-Description'>\n",
      "<HTML url='https://www.bravotv.com/below-deck-sailing-yacht?cid=soc_reddit_x_20200301_bravo_org_x_BDSY_x_x_x_BDSY-Reddit-AMA-Description&rdt_cid=2983442620287616008&utm_campaign=x_20200301_bravo_org_x_BDSY_x_x_x&utm_medium=reddit&utm_source=soc&utm_term=BDSY-Reddit-AMA-Description'>\n",
      "<HTML url='https://www.bravotv.com/below-deck-sailing-yacht?cid=soc_reddit_x_20200301_bravo_org_x_BDSY_x_x_x_BDSY-Reddit-AMA-Description&rdt_cid=2983442620287616008&utm_campaign=x_20200301_bravo_org_x_BDSY_x_x_x&utm_medium=reddit&utm_source=soc&utm_term=BDSY-Reddit-AMA-Description'>\n",
      "<HTML url='https://www.bravotv.com/below-deck-sailing-yacht?cid=soc_reddit_x_20200301_bravo_org_x_BDSY_x_x_x_BDSY-Reddit-AMA-Description&rdt_cid=2983442620287616008&utm_campaign=x_20200301_bravo_org_x_BDSY_x_x_x&utm_medium=reddit&utm_source=soc&utm_term=BDSY-Reddit-AMA-Description'>\n",
      "<HTML url='https://www.bravotv.com/below-deck-sailing-yacht?cid=soc_reddit_x_20200301_bravo_org_x_BDSY_x_x_x_BDSY-Reddit-AMA-Description&rdt_cid=2983442620287616008&utm_campaign=x_20200301_bravo_org_x_BDSY_x_x_x&utm_medium=reddit&utm_source=soc&utm_term=BDSY-Reddit-AMA-Description'>\n",
      "<HTML url='https://www.bravotv.com/below-deck-sailing-yacht?cid=soc_reddit_x_20200301_bravo_org_x_BDSY_x_x_x_BDSY-Reddit-AMA-Description&rdt_cid=2983442620287616008&utm_campaign=x_20200301_bravo_org_x_BDSY_x_x_x&utm_medium=reddit&utm_source=soc&utm_term=BDSY-Reddit-AMA-Description'>\n",
      "<HTML url='https://www.bravotv.com/below-deck-sailing-yacht?cid=soc_reddit_x_20200301_bravo_org_x_BDSY_x_x_x_BDSY-Reddit-AMA-Description&rdt_cid=2983442620287616008&utm_campaign=x_20200301_bravo_org_x_BDSY_x_x_x&utm_medium=reddit&utm_source=soc&utm_term=BDSY-Reddit-AMA-Description'>\n",
      "<HTML url='https://www.bravotv.com/below-deck-sailing-yacht?cid=soc_reddit_x_20200301_bravo_org_x_BDSY_x_x_x_BDSY-Reddit-AMA-Description&rdt_cid=2983442620287616008&utm_campaign=x_20200301_bravo_org_x_BDSY_x_x_x&utm_medium=reddit&utm_source=soc&utm_term=BDSY-Reddit-AMA-Description'>\n",
      "<HTML url='https://www.bravotv.com/below-deck-sailing-yacht?cid=soc_reddit_x_20200301_bravo_org_x_BDSY_x_x_x_BDSY-Reddit-AMA-Description&rdt_cid=2983442620287616008&utm_campaign=x_20200301_bravo_org_x_BDSY_x_x_x&utm_medium=reddit&utm_source=soc&utm_term=BDSY-Reddit-AMA-Description'>\n",
      "<HTML url='https://www.bravotv.com/below-deck-sailing-yacht?cid=soc_reddit_x_20200301_bravo_org_x_BDSY_x_x_x_BDSY-Reddit-AMA-Description&rdt_cid=2983442620287616008&utm_campaign=x_20200301_bravo_org_x_BDSY_x_x_x&utm_medium=reddit&utm_source=soc&utm_term=BDSY-Reddit-AMA-Description'>\n",
      "<HTML url='https://www.bravotv.com/below-deck-sailing-yacht?cid=soc_reddit_x_20200301_bravo_org_x_BDSY_x_x_x_BDSY-Reddit-AMA-Description&rdt_cid=2983442620287616008&utm_campaign=x_20200301_bravo_org_x_BDSY_x_x_x&utm_medium=reddit&utm_source=soc&utm_term=BDSY-Reddit-AMA-Description'>\n",
      "<HTML url='https://www.bravotv.com/below-deck-sailing-yacht?cid=soc_reddit_x_20200301_bravo_org_x_BDSY_x_x_x_BDSY-Reddit-AMA-Description&rdt_cid=2983442620287616008&utm_campaign=x_20200301_bravo_org_x_BDSY_x_x_x&utm_medium=reddit&utm_source=soc&utm_term=BDSY-Reddit-AMA-Description'>\n",
      "<HTML url='https://www.bravotv.com/below-deck-sailing-yacht?cid=soc_reddit_x_20200301_bravo_org_x_BDSY_x_x_x_BDSY-Reddit-AMA-Description&rdt_cid=2983442620287616008&utm_campaign=x_20200301_bravo_org_x_BDSY_x_x_x&utm_medium=reddit&utm_source=soc&utm_term=BDSY-Reddit-AMA-Description'>\n",
      "<HTML url='https://www.bravotv.com/below-deck-sailing-yacht?cid=soc_reddit_x_20200301_bravo_org_x_BDSY_x_x_x_BDSY-Reddit-AMA-Description&rdt_cid=2983442620287616008&utm_campaign=x_20200301_bravo_org_x_BDSY_x_x_x&utm_medium=reddit&utm_source=soc&utm_term=BDSY-Reddit-AMA-Description'>\n",
      "<HTML url='https://www.bravotv.com/below-deck-sailing-yacht?cid=soc_reddit_x_20200301_bravo_org_x_BDSY_x_x_x_BDSY-Reddit-AMA-Description&rdt_cid=2983442620287616008&utm_campaign=x_20200301_bravo_org_x_BDSY_x_x_x&utm_medium=reddit&utm_source=soc&utm_term=BDSY-Reddit-AMA-Description'>\n",
      "<HTML url='https://www.bravotv.com/below-deck-sailing-yacht?cid=soc_reddit_x_20200301_bravo_org_x_BDSY_x_x_x_BDSY-Reddit-AMA-Description&rdt_cid=2983442620287616008&utm_campaign=x_20200301_bravo_org_x_BDSY_x_x_x&utm_medium=reddit&utm_source=soc&utm_term=BDSY-Reddit-AMA-Description'>\n",
      "<HTML url='https://www.bravotv.com/below-deck-sailing-yacht?cid=soc_reddit_x_20200301_bravo_org_x_BDSY_x_x_x_BDSY-Reddit-AMA-Description&rdt_cid=2983442620287616008&utm_campaign=x_20200301_bravo_org_x_BDSY_x_x_x&utm_medium=reddit&utm_source=soc&utm_term=BDSY-Reddit-AMA-Description'>\n",
      "<HTML url='https://www.bravotv.com/below-deck-sailing-yacht?cid=soc_reddit_x_20200301_bravo_org_x_BDSY_x_x_x_BDSY-Reddit-AMA-Description&rdt_cid=2983442620287616008&utm_campaign=x_20200301_bravo_org_x_BDSY_x_x_x&utm_medium=reddit&utm_source=soc&utm_term=BDSY-Reddit-AMA-Description'>\n",
      "<HTML url='https://www.bravotv.com/below-deck-sailing-yacht?cid=soc_reddit_x_20200301_bravo_org_x_BDSY_x_x_x_BDSY-Reddit-AMA-Description&rdt_cid=2983442620287616008&utm_campaign=x_20200301_bravo_org_x_BDSY_x_x_x&utm_medium=reddit&utm_source=soc&utm_term=BDSY-Reddit-AMA-Description'>\n",
      "<HTML url='https://www.bravotv.com/below-deck-sailing-yacht?cid=soc_reddit_x_20200301_bravo_org_x_BDSY_x_x_x_BDSY-Reddit-AMA-Description&rdt_cid=2983442620287616008&utm_campaign=x_20200301_bravo_org_x_BDSY_x_x_x&utm_medium=reddit&utm_source=soc&utm_term=BDSY-Reddit-AMA-Description'>\n",
      "<HTML url='https://www.bravotv.com/below-deck-sailing-yacht?cid=soc_reddit_x_20200301_bravo_org_x_BDSY_x_x_x_BDSY-Reddit-AMA-Description&rdt_cid=2983442620287616008&utm_campaign=x_20200301_bravo_org_x_BDSY_x_x_x&utm_medium=reddit&utm_source=soc&utm_term=BDSY-Reddit-AMA-Description'>\n",
      "<HTML url='https://www.bravotv.com/below-deck-sailing-yacht?cid=soc_reddit_x_20200301_bravo_org_x_BDSY_x_x_x_BDSY-Reddit-AMA-Description&rdt_cid=2983442620287616008&utm_campaign=x_20200301_bravo_org_x_BDSY_x_x_x&utm_medium=reddit&utm_source=soc&utm_term=BDSY-Reddit-AMA-Description'>\n",
      "<HTML url='https://www.bravotv.com/below-deck-sailing-yacht?cid=soc_reddit_x_20200301_bravo_org_x_BDSY_x_x_x_BDSY-Reddit-AMA-Description&rdt_cid=2983442620287616008&utm_campaign=x_20200301_bravo_org_x_BDSY_x_x_x&utm_medium=reddit&utm_source=soc&utm_term=BDSY-Reddit-AMA-Description'>\n"
     ]
    },
    {
     "name": "stdout",
     "output_type": "stream",
     "text": [
      "<HTML url='https://www.bravotv.com/below-deck-sailing-yacht?cid=soc_reddit_x_20200301_bravo_org_x_BDSY_x_x_x_BDSY-Reddit-AMA-Description&rdt_cid=2983442620287616008&utm_campaign=x_20200301_bravo_org_x_BDSY_x_x_x&utm_medium=reddit&utm_source=soc&utm_term=BDSY-Reddit-AMA-Description'>\n",
      "<HTML url='https://www.bravotv.com/below-deck-sailing-yacht?cid=soc_reddit_x_20200301_bravo_org_x_BDSY_x_x_x_BDSY-Reddit-AMA-Description&rdt_cid=2983442620287616008&utm_campaign=x_20200301_bravo_org_x_BDSY_x_x_x&utm_medium=reddit&utm_source=soc&utm_term=BDSY-Reddit-AMA-Description'>\n",
      "<HTML url='https://www.bravotv.com/below-deck-sailing-yacht?cid=soc_reddit_x_20200301_bravo_org_x_BDSY_x_x_x_BDSY-Reddit-AMA-Description&rdt_cid=2983442620287616008&utm_campaign=x_20200301_bravo_org_x_BDSY_x_x_x&utm_medium=reddit&utm_source=soc&utm_term=BDSY-Reddit-AMA-Description'>\n",
      "<HTML url='https://www.bravotv.com/below-deck-sailing-yacht?cid=soc_reddit_x_20200301_bravo_org_x_BDSY_x_x_x_BDSY-Reddit-AMA-Description&rdt_cid=2983442620287616008&utm_campaign=x_20200301_bravo_org_x_BDSY_x_x_x&utm_medium=reddit&utm_source=soc&utm_term=BDSY-Reddit-AMA-Description'>\n",
      "<HTML url='https://www.bravotv.com/below-deck-sailing-yacht?cid=soc_reddit_x_20200301_bravo_org_x_BDSY_x_x_x_BDSY-Reddit-AMA-Description&rdt_cid=2983442620287616008&utm_campaign=x_20200301_bravo_org_x_BDSY_x_x_x&utm_medium=reddit&utm_source=soc&utm_term=BDSY-Reddit-AMA-Description'>\n",
      "<HTML url='https://www.bravotv.com/below-deck-sailing-yacht?cid=soc_reddit_x_20200301_bravo_org_x_BDSY_x_x_x_BDSY-Reddit-AMA-Description&rdt_cid=2983442620287616008&utm_campaign=x_20200301_bravo_org_x_BDSY_x_x_x&utm_medium=reddit&utm_source=soc&utm_term=BDSY-Reddit-AMA-Description'>\n",
      "<HTML url='https://www.bravotv.com/below-deck-sailing-yacht?cid=soc_reddit_x_20200301_bravo_org_x_BDSY_x_x_x_BDSY-Reddit-AMA-Description&rdt_cid=2983442620287616008&utm_campaign=x_20200301_bravo_org_x_BDSY_x_x_x&utm_medium=reddit&utm_source=soc&utm_term=BDSY-Reddit-AMA-Description'>\n",
      "<HTML url='https://www.bravotv.com/below-deck-sailing-yacht?cid=soc_reddit_x_20200301_bravo_org_x_BDSY_x_x_x_BDSY-Reddit-AMA-Description&rdt_cid=2983442620287616008&utm_campaign=x_20200301_bravo_org_x_BDSY_x_x_x&utm_medium=reddit&utm_source=soc&utm_term=BDSY-Reddit-AMA-Description'>\n",
      "<HTML url='https://www.bravotv.com/below-deck-sailing-yacht?cid=soc_reddit_x_20200301_bravo_org_x_BDSY_x_x_x_BDSY-Reddit-AMA-Description&rdt_cid=2983442620287616008&utm_campaign=x_20200301_bravo_org_x_BDSY_x_x_x&utm_medium=reddit&utm_source=soc&utm_term=BDSY-Reddit-AMA-Description'>\n",
      "<HTML url='https://www.bravotv.com/below-deck-sailing-yacht?cid=soc_reddit_x_20200301_bravo_org_x_BDSY_x_x_x_BDSY-Reddit-AMA-Description&rdt_cid=2983442620287616008&utm_campaign=x_20200301_bravo_org_x_BDSY_x_x_x&utm_medium=reddit&utm_source=soc&utm_term=BDSY-Reddit-AMA-Description'>\n",
      "<HTML url='https://www.bravotv.com/below-deck-sailing-yacht?cid=soc_reddit_x_20200301_bravo_org_x_BDSY_x_x_x_BDSY-Reddit-AMA-Description&rdt_cid=2983442620287616008&utm_campaign=x_20200301_bravo_org_x_BDSY_x_x_x&utm_medium=reddit&utm_source=soc&utm_term=BDSY-Reddit-AMA-Description'>\n",
      "<HTML url='https://www.bravotv.com/below-deck-sailing-yacht?cid=soc_reddit_x_20200301_bravo_org_x_BDSY_x_x_x_BDSY-Reddit-AMA-Description&rdt_cid=2983442620287616008&utm_campaign=x_20200301_bravo_org_x_BDSY_x_x_x&utm_medium=reddit&utm_source=soc&utm_term=BDSY-Reddit-AMA-Description'>\n",
      "<HTML url='https://www.bravotv.com/below-deck-sailing-yacht?cid=soc_reddit_x_20200301_bravo_org_x_BDSY_x_x_x_BDSY-Reddit-AMA-Description&rdt_cid=2983442620287616008&utm_campaign=x_20200301_bravo_org_x_BDSY_x_x_x&utm_medium=reddit&utm_source=soc&utm_term=BDSY-Reddit-AMA-Description'>\n",
      "<HTML url='https://www.bravotv.com/below-deck-sailing-yacht?cid=soc_reddit_x_20200301_bravo_org_x_BDSY_x_x_x_BDSY-Reddit-AMA-Description&rdt_cid=2983442620287616008&utm_campaign=x_20200301_bravo_org_x_BDSY_x_x_x&utm_medium=reddit&utm_source=soc&utm_term=BDSY-Reddit-AMA-Description'>\n",
      "<HTML url='https://www.bravotv.com/below-deck-sailing-yacht?cid=soc_reddit_x_20200301_bravo_org_x_BDSY_x_x_x_BDSY-Reddit-AMA-Description&rdt_cid=2983442620287616008&utm_campaign=x_20200301_bravo_org_x_BDSY_x_x_x&utm_medium=reddit&utm_source=soc&utm_term=BDSY-Reddit-AMA-Description'>\n",
      "<HTML url='https://www.bravotv.com/below-deck-sailing-yacht?cid=soc_reddit_x_20200301_bravo_org_x_BDSY_x_x_x_BDSY-Reddit-AMA-Description&rdt_cid=2983442620287616008&utm_campaign=x_20200301_bravo_org_x_BDSY_x_x_x&utm_medium=reddit&utm_source=soc&utm_term=BDSY-Reddit-AMA-Description'>\n",
      "<HTML url='https://www.bravotv.com/below-deck-sailing-yacht?cid=soc_reddit_x_20200301_bravo_org_x_BDSY_x_x_x_BDSY-Reddit-AMA-Description&rdt_cid=2983442620287616008&utm_campaign=x_20200301_bravo_org_x_BDSY_x_x_x&utm_medium=reddit&utm_source=soc&utm_term=BDSY-Reddit-AMA-Description'>\n",
      "<HTML url='https://www.bravotv.com/below-deck-sailing-yacht?cid=soc_reddit_x_20200301_bravo_org_x_BDSY_x_x_x_BDSY-Reddit-AMA-Description&rdt_cid=2983442620287616008&utm_campaign=x_20200301_bravo_org_x_BDSY_x_x_x&utm_medium=reddit&utm_source=soc&utm_term=BDSY-Reddit-AMA-Description'>\n",
      "<HTML url='https://www.bravotv.com/below-deck-sailing-yacht?cid=soc_reddit_x_20200301_bravo_org_x_BDSY_x_x_x_BDSY-Reddit-AMA-Description&rdt_cid=2983442620287616008&utm_campaign=x_20200301_bravo_org_x_BDSY_x_x_x&utm_medium=reddit&utm_source=soc&utm_term=BDSY-Reddit-AMA-Description'>\n",
      "<HTML url='https://www.bravotv.com/below-deck-sailing-yacht?cid=soc_reddit_x_20200301_bravo_org_x_BDSY_x_x_x_BDSY-Reddit-AMA-Description&rdt_cid=2983442620287616008&utm_campaign=x_20200301_bravo_org_x_BDSY_x_x_x&utm_medium=reddit&utm_source=soc&utm_term=BDSY-Reddit-AMA-Description'>\n",
      "<HTML url='https://www.bravotv.com/below-deck-sailing-yacht?cid=soc_reddit_x_20200301_bravo_org_x_BDSY_x_x_x_BDSY-Reddit-AMA-Description&rdt_cid=2983442620287616008&utm_campaign=x_20200301_bravo_org_x_BDSY_x_x_x&utm_medium=reddit&utm_source=soc&utm_term=BDSY-Reddit-AMA-Description'>\n",
      "<HTML url='https://www.bravotv.com/below-deck-sailing-yacht?cid=soc_reddit_x_20200301_bravo_org_x_BDSY_x_x_x_BDSY-Reddit-AMA-Description&rdt_cid=2983442620287616008&utm_campaign=x_20200301_bravo_org_x_BDSY_x_x_x&utm_medium=reddit&utm_source=soc&utm_term=BDSY-Reddit-AMA-Description'>\n",
      "<HTML url='https://www.bravotv.com/below-deck-sailing-yacht?cid=soc_reddit_x_20200301_bravo_org_x_BDSY_x_x_x_BDSY-Reddit-AMA-Description&rdt_cid=2983442620287616008&utm_campaign=x_20200301_bravo_org_x_BDSY_x_x_x&utm_medium=reddit&utm_source=soc&utm_term=BDSY-Reddit-AMA-Description'>\n",
      "<HTML url='https://www.bravotv.com/below-deck-sailing-yacht?cid=soc_reddit_x_20200301_bravo_org_x_BDSY_x_x_x_BDSY-Reddit-AMA-Description&rdt_cid=2983442620287616008&utm_campaign=x_20200301_bravo_org_x_BDSY_x_x_x&utm_medium=reddit&utm_source=soc&utm_term=BDSY-Reddit-AMA-Description'>\n",
      "<HTML url='https://www.bravotv.com/below-deck-sailing-yacht?cid=soc_reddit_x_20200301_bravo_org_x_BDSY_x_x_x_BDSY-Reddit-AMA-Description&rdt_cid=2983442620287616008&utm_campaign=x_20200301_bravo_org_x_BDSY_x_x_x&utm_medium=reddit&utm_source=soc&utm_term=BDSY-Reddit-AMA-Description'>\n",
      "<HTML url='https://www.bravotv.com/below-deck-sailing-yacht?cid=soc_reddit_x_20200301_bravo_org_x_BDSY_x_x_x_BDSY-Reddit-AMA-Description&rdt_cid=2983442620287616008&utm_campaign=x_20200301_bravo_org_x_BDSY_x_x_x&utm_medium=reddit&utm_source=soc&utm_term=BDSY-Reddit-AMA-Description'>\n",
      "<HTML url='https://www.bravotv.com/below-deck-sailing-yacht?cid=soc_reddit_x_20200301_bravo_org_x_BDSY_x_x_x_BDSY-Reddit-AMA-Description&rdt_cid=2983442620287616008&utm_campaign=x_20200301_bravo_org_x_BDSY_x_x_x&utm_medium=reddit&utm_source=soc&utm_term=BDSY-Reddit-AMA-Description'>\n",
      "<HTML url='https://www.bravotv.com/below-deck-sailing-yacht?cid=soc_reddit_x_20200301_bravo_org_x_BDSY_x_x_x_BDSY-Reddit-AMA-Description&rdt_cid=2983442620287616008&utm_campaign=x_20200301_bravo_org_x_BDSY_x_x_x&utm_medium=reddit&utm_source=soc&utm_term=BDSY-Reddit-AMA-Description'>\n",
      "<HTML url='https://www.bravotv.com/below-deck-sailing-yacht?cid=soc_reddit_x_20200301_bravo_org_x_BDSY_x_x_x_BDSY-Reddit-AMA-Description&rdt_cid=2983442620287616008&utm_campaign=x_20200301_bravo_org_x_BDSY_x_x_x&utm_medium=reddit&utm_source=soc&utm_term=BDSY-Reddit-AMA-Description'>\n"
     ]
    },
    {
     "name": "stdout",
     "output_type": "stream",
     "text": [
      "<HTML url='https://www.bravotv.com/below-deck-sailing-yacht?cid=soc_reddit_x_20200301_bravo_org_x_BDSY_x_x_x_BDSY-Reddit-AMA-Description&rdt_cid=2983442620287616008&utm_campaign=x_20200301_bravo_org_x_BDSY_x_x_x&utm_medium=reddit&utm_source=soc&utm_term=BDSY-Reddit-AMA-Description'>\n",
      "<HTML url='https://www.bravotv.com/below-deck-sailing-yacht?cid=soc_reddit_x_20200301_bravo_org_x_BDSY_x_x_x_BDSY-Reddit-AMA-Description&rdt_cid=2983442620287616008&utm_campaign=x_20200301_bravo_org_x_BDSY_x_x_x&utm_medium=reddit&utm_source=soc&utm_term=BDSY-Reddit-AMA-Description'>\n",
      "<HTML url='https://www.bravotv.com/below-deck-sailing-yacht?cid=soc_reddit_x_20200301_bravo_org_x_BDSY_x_x_x_BDSY-Reddit-AMA-Description&rdt_cid=2983442620287616008&utm_campaign=x_20200301_bravo_org_x_BDSY_x_x_x&utm_medium=reddit&utm_source=soc&utm_term=BDSY-Reddit-AMA-Description'>\n",
      "<HTML url='https://www.bravotv.com/below-deck-sailing-yacht?cid=soc_reddit_x_20200301_bravo_org_x_BDSY_x_x_x_BDSY-Reddit-AMA-Description&rdt_cid=2983442620287616008&utm_campaign=x_20200301_bravo_org_x_BDSY_x_x_x&utm_medium=reddit&utm_source=soc&utm_term=BDSY-Reddit-AMA-Description'>\n",
      "<HTML url='https://www.bravotv.com/below-deck-sailing-yacht?cid=soc_reddit_x_20200301_bravo_org_x_BDSY_x_x_x_BDSY-Reddit-AMA-Description&rdt_cid=2983442620287616008&utm_campaign=x_20200301_bravo_org_x_BDSY_x_x_x&utm_medium=reddit&utm_source=soc&utm_term=BDSY-Reddit-AMA-Description'>\n",
      "<HTML url='https://www.bravotv.com/below-deck-sailing-yacht?cid=soc_reddit_x_20200301_bravo_org_x_BDSY_x_x_x_BDSY-Reddit-AMA-Description&rdt_cid=2983442620287616008&utm_campaign=x_20200301_bravo_org_x_BDSY_x_x_x&utm_medium=reddit&utm_source=soc&utm_term=BDSY-Reddit-AMA-Description'>\n",
      "<HTML url='https://www.bravotv.com/below-deck-sailing-yacht?cid=soc_reddit_x_20200301_bravo_org_x_BDSY_x_x_x_BDSY-Reddit-AMA-Description&rdt_cid=2983442620287616008&utm_campaign=x_20200301_bravo_org_x_BDSY_x_x_x&utm_medium=reddit&utm_source=soc&utm_term=BDSY-Reddit-AMA-Description'>\n",
      "<HTML url='https://www.bravotv.com/below-deck-sailing-yacht?cid=soc_reddit_x_20200301_bravo_org_x_BDSY_x_x_x_BDSY-Reddit-AMA-Description&rdt_cid=2983442620287616008&utm_campaign=x_20200301_bravo_org_x_BDSY_x_x_x&utm_medium=reddit&utm_source=soc&utm_term=BDSY-Reddit-AMA-Description'>\n",
      "<HTML url='https://www.bravotv.com/below-deck-sailing-yacht?cid=soc_reddit_x_20200301_bravo_org_x_BDSY_x_x_x_BDSY-Reddit-AMA-Description&rdt_cid=2983442620287616008&utm_campaign=x_20200301_bravo_org_x_BDSY_x_x_x&utm_medium=reddit&utm_source=soc&utm_term=BDSY-Reddit-AMA-Description'>\n",
      "<HTML url='https://www.bravotv.com/below-deck-sailing-yacht?cid=soc_reddit_x_20200301_bravo_org_x_BDSY_x_x_x_BDSY-Reddit-AMA-Description&rdt_cid=2983442620287616008&utm_campaign=x_20200301_bravo_org_x_BDSY_x_x_x&utm_medium=reddit&utm_source=soc&utm_term=BDSY-Reddit-AMA-Description'>\n",
      "<HTML url='https://www.bravotv.com/below-deck-sailing-yacht?cid=soc_reddit_x_20200301_bravo_org_x_BDSY_x_x_x_BDSY-Reddit-AMA-Description&rdt_cid=2983442620287616008&utm_campaign=x_20200301_bravo_org_x_BDSY_x_x_x&utm_medium=reddit&utm_source=soc&utm_term=BDSY-Reddit-AMA-Description'>\n",
      "<HTML url='https://www.bravotv.com/below-deck-sailing-yacht?cid=soc_reddit_x_20200301_bravo_org_x_BDSY_x_x_x_BDSY-Reddit-AMA-Description&rdt_cid=2983442620287616008&utm_campaign=x_20200301_bravo_org_x_BDSY_x_x_x&utm_medium=reddit&utm_source=soc&utm_term=BDSY-Reddit-AMA-Description'>\n",
      "<HTML url='https://www.bravotv.com/below-deck-sailing-yacht?cid=soc_reddit_x_20200301_bravo_org_x_BDSY_x_x_x_BDSY-Reddit-AMA-Description&rdt_cid=2983442620287616008&utm_campaign=x_20200301_bravo_org_x_BDSY_x_x_x&utm_medium=reddit&utm_source=soc&utm_term=BDSY-Reddit-AMA-Description'>\n",
      "<HTML url='https://www.bravotv.com/below-deck-sailing-yacht?cid=soc_reddit_x_20200301_bravo_org_x_BDSY_x_x_x_BDSY-Reddit-AMA-Description&rdt_cid=2983442620287616008&utm_campaign=x_20200301_bravo_org_x_BDSY_x_x_x&utm_medium=reddit&utm_source=soc&utm_term=BDSY-Reddit-AMA-Description'>\n",
      "<HTML url='https://www.bravotv.com/below-deck-sailing-yacht?cid=soc_reddit_x_20200301_bravo_org_x_BDSY_x_x_x_BDSY-Reddit-AMA-Description&rdt_cid=2983442620287616008&utm_campaign=x_20200301_bravo_org_x_BDSY_x_x_x&utm_medium=reddit&utm_source=soc&utm_term=BDSY-Reddit-AMA-Description'>\n",
      "<HTML url='https://www.bravotv.com/below-deck-sailing-yacht?cid=soc_reddit_x_20200301_bravo_org_x_BDSY_x_x_x_BDSY-Reddit-AMA-Description&rdt_cid=2983442620287616008&utm_campaign=x_20200301_bravo_org_x_BDSY_x_x_x&utm_medium=reddit&utm_source=soc&utm_term=BDSY-Reddit-AMA-Description'>\n",
      "<HTML url='https://www.bravotv.com/below-deck-sailing-yacht?cid=soc_reddit_x_20200301_bravo_org_x_BDSY_x_x_x_BDSY-Reddit-AMA-Description&rdt_cid=2983442620287616008&utm_campaign=x_20200301_bravo_org_x_BDSY_x_x_x&utm_medium=reddit&utm_source=soc&utm_term=BDSY-Reddit-AMA-Description'>\n",
      "<HTML url='https://www.bravotv.com/below-deck-sailing-yacht?cid=soc_reddit_x_20200301_bravo_org_x_BDSY_x_x_x_BDSY-Reddit-AMA-Description&rdt_cid=2983442620287616008&utm_campaign=x_20200301_bravo_org_x_BDSY_x_x_x&utm_medium=reddit&utm_source=soc&utm_term=BDSY-Reddit-AMA-Description'>\n",
      "<HTML url='https://www.bravotv.com/below-deck-sailing-yacht?cid=soc_reddit_x_20200301_bravo_org_x_BDSY_x_x_x_BDSY-Reddit-AMA-Description&rdt_cid=2983442620287616008&utm_campaign=x_20200301_bravo_org_x_BDSY_x_x_x&utm_medium=reddit&utm_source=soc&utm_term=BDSY-Reddit-AMA-Description'>\n",
      "<HTML url='https://www.bravotv.com/below-deck-sailing-yacht?cid=soc_reddit_x_20200301_bravo_org_x_BDSY_x_x_x_BDSY-Reddit-AMA-Description&rdt_cid=2983442620287616008&utm_campaign=x_20200301_bravo_org_x_BDSY_x_x_x&utm_medium=reddit&utm_source=soc&utm_term=BDSY-Reddit-AMA-Description'>\n",
      "<HTML url='https://www.bravotv.com/below-deck-sailing-yacht?cid=soc_reddit_x_20200301_bravo_org_x_BDSY_x_x_x_BDSY-Reddit-AMA-Description&rdt_cid=2983442620287616008&utm_campaign=x_20200301_bravo_org_x_BDSY_x_x_x&utm_medium=reddit&utm_source=soc&utm_term=BDSY-Reddit-AMA-Description'>\n",
      "<HTML url='https://www.bravotv.com/below-deck-sailing-yacht?cid=soc_reddit_x_20200301_bravo_org_x_BDSY_x_x_x_BDSY-Reddit-AMA-Description&rdt_cid=2983442620287616008&utm_campaign=x_20200301_bravo_org_x_BDSY_x_x_x&utm_medium=reddit&utm_source=soc&utm_term=BDSY-Reddit-AMA-Description'>\n",
      "<HTML url='https://www.bravotv.com/below-deck-sailing-yacht?cid=soc_reddit_x_20200301_bravo_org_x_BDSY_x_x_x_BDSY-Reddit-AMA-Description&rdt_cid=2983442620287616008&utm_campaign=x_20200301_bravo_org_x_BDSY_x_x_x&utm_medium=reddit&utm_source=soc&utm_term=BDSY-Reddit-AMA-Description'>\n",
      "<HTML url='https://www.bravotv.com/below-deck-sailing-yacht?cid=soc_reddit_x_20200301_bravo_org_x_BDSY_x_x_x_BDSY-Reddit-AMA-Description&rdt_cid=2983442620287616008&utm_campaign=x_20200301_bravo_org_x_BDSY_x_x_x&utm_medium=reddit&utm_source=soc&utm_term=BDSY-Reddit-AMA-Description'>\n",
      "<HTML url='https://www.bravotv.com/below-deck-sailing-yacht?cid=soc_reddit_x_20200301_bravo_org_x_BDSY_x_x_x_BDSY-Reddit-AMA-Description&rdt_cid=2983442620287616008&utm_campaign=x_20200301_bravo_org_x_BDSY_x_x_x&utm_medium=reddit&utm_source=soc&utm_term=BDSY-Reddit-AMA-Description'>\n",
      "<HTML url='https://www.bravotv.com/below-deck-sailing-yacht?cid=soc_reddit_x_20200301_bravo_org_x_BDSY_x_x_x_BDSY-Reddit-AMA-Description&rdt_cid=2983442620287616008&utm_campaign=x_20200301_bravo_org_x_BDSY_x_x_x&utm_medium=reddit&utm_source=soc&utm_term=BDSY-Reddit-AMA-Description'>\n",
      "<HTML url='https://www.bravotv.com/below-deck-sailing-yacht?cid=soc_reddit_x_20200301_bravo_org_x_BDSY_x_x_x_BDSY-Reddit-AMA-Description&rdt_cid=2983442620287616008&utm_campaign=x_20200301_bravo_org_x_BDSY_x_x_x&utm_medium=reddit&utm_source=soc&utm_term=BDSY-Reddit-AMA-Description'>\n",
      "<HTML url='https://www.bravotv.com/below-deck-sailing-yacht?cid=soc_reddit_x_20200301_bravo_org_x_BDSY_x_x_x_BDSY-Reddit-AMA-Description&rdt_cid=2983442620287616008&utm_campaign=x_20200301_bravo_org_x_BDSY_x_x_x&utm_medium=reddit&utm_source=soc&utm_term=BDSY-Reddit-AMA-Description'>\n",
      "<HTML url='https://www.bravotv.com/below-deck-sailing-yacht?cid=soc_reddit_x_20200301_bravo_org_x_BDSY_x_x_x_BDSY-Reddit-AMA-Description&rdt_cid=2983442620287616008&utm_campaign=x_20200301_bravo_org_x_BDSY_x_x_x&utm_medium=reddit&utm_source=soc&utm_term=BDSY-Reddit-AMA-Description'>\n"
     ]
    },
    {
     "name": "stdout",
     "output_type": "stream",
     "text": [
      "<HTML url='https://www.bravotv.com/below-deck-sailing-yacht?cid=soc_reddit_x_20200301_bravo_org_x_BDSY_x_x_x_BDSY-Reddit-AMA-Description&rdt_cid=2983442620287616008&utm_campaign=x_20200301_bravo_org_x_BDSY_x_x_x&utm_medium=reddit&utm_source=soc&utm_term=BDSY-Reddit-AMA-Description'>\n",
      "<HTML url='https://www.bravotv.com/below-deck-sailing-yacht?cid=soc_reddit_x_20200301_bravo_org_x_BDSY_x_x_x_BDSY-Reddit-AMA-Description&rdt_cid=2983442620287616008&utm_campaign=x_20200301_bravo_org_x_BDSY_x_x_x&utm_medium=reddit&utm_source=soc&utm_term=BDSY-Reddit-AMA-Description'>\n",
      "<HTML url='https://www.bravotv.com/below-deck-sailing-yacht?cid=soc_reddit_x_20200301_bravo_org_x_BDSY_x_x_x_BDSY-Reddit-AMA-Description&rdt_cid=2983442620287616008&utm_campaign=x_20200301_bravo_org_x_BDSY_x_x_x&utm_medium=reddit&utm_source=soc&utm_term=BDSY-Reddit-AMA-Description'>\n",
      "<HTML url='https://www.bravotv.com/below-deck-sailing-yacht?cid=soc_reddit_x_20200301_bravo_org_x_BDSY_x_x_x_BDSY-Reddit-AMA-Description&rdt_cid=2983442620287616008&utm_campaign=x_20200301_bravo_org_x_BDSY_x_x_x&utm_medium=reddit&utm_source=soc&utm_term=BDSY-Reddit-AMA-Description'>\n",
      "<HTML url='https://www.bravotv.com/below-deck-sailing-yacht?cid=soc_reddit_x_20200301_bravo_org_x_BDSY_x_x_x_BDSY-Reddit-AMA-Description&rdt_cid=2983442620287616008&utm_campaign=x_20200301_bravo_org_x_BDSY_x_x_x&utm_medium=reddit&utm_source=soc&utm_term=BDSY-Reddit-AMA-Description'>\n",
      "<HTML url='https://www.bravotv.com/below-deck-sailing-yacht?cid=soc_reddit_x_20200301_bravo_org_x_BDSY_x_x_x_BDSY-Reddit-AMA-Description&rdt_cid=2983442620287616008&utm_campaign=x_20200301_bravo_org_x_BDSY_x_x_x&utm_medium=reddit&utm_source=soc&utm_term=BDSY-Reddit-AMA-Description'>\n",
      "<HTML url='https://www.bravotv.com/below-deck-sailing-yacht?cid=soc_reddit_x_20200301_bravo_org_x_BDSY_x_x_x_BDSY-Reddit-AMA-Description&rdt_cid=2983442620287616008&utm_campaign=x_20200301_bravo_org_x_BDSY_x_x_x&utm_medium=reddit&utm_source=soc&utm_term=BDSY-Reddit-AMA-Description'>\n",
      "<HTML url='https://www.bravotv.com/below-deck-sailing-yacht?cid=soc_reddit_x_20200301_bravo_org_x_BDSY_x_x_x_BDSY-Reddit-AMA-Description&rdt_cid=2983442620287616008&utm_campaign=x_20200301_bravo_org_x_BDSY_x_x_x&utm_medium=reddit&utm_source=soc&utm_term=BDSY-Reddit-AMA-Description'>\n",
      "<HTML url='https://www.bravotv.com/below-deck-sailing-yacht?cid=soc_reddit_x_20200301_bravo_org_x_BDSY_x_x_x_BDSY-Reddit-AMA-Description&rdt_cid=2983442620287616008&utm_campaign=x_20200301_bravo_org_x_BDSY_x_x_x&utm_medium=reddit&utm_source=soc&utm_term=BDSY-Reddit-AMA-Description'>\n",
      "<HTML url='https://www.bravotv.com/below-deck-sailing-yacht?cid=soc_reddit_x_20200301_bravo_org_x_BDSY_x_x_x_BDSY-Reddit-AMA-Description&rdt_cid=2983442620287616008&utm_campaign=x_20200301_bravo_org_x_BDSY_x_x_x&utm_medium=reddit&utm_source=soc&utm_term=BDSY-Reddit-AMA-Description'>\n",
      "<HTML url='https://www.bravotv.com/below-deck-sailing-yacht?cid=soc_reddit_x_20200301_bravo_org_x_BDSY_x_x_x_BDSY-Reddit-AMA-Description&rdt_cid=2983442620287616008&utm_campaign=x_20200301_bravo_org_x_BDSY_x_x_x&utm_medium=reddit&utm_source=soc&utm_term=BDSY-Reddit-AMA-Description'>\n",
      "<HTML url='https://www.bravotv.com/below-deck-sailing-yacht?cid=soc_reddit_x_20200301_bravo_org_x_BDSY_x_x_x_BDSY-Reddit-AMA-Description&rdt_cid=2983442620287616008&utm_campaign=x_20200301_bravo_org_x_BDSY_x_x_x&utm_medium=reddit&utm_source=soc&utm_term=BDSY-Reddit-AMA-Description'>\n",
      "<HTML url='https://www.bravotv.com/below-deck-sailing-yacht?cid=soc_reddit_x_20200301_bravo_org_x_BDSY_x_x_x_BDSY-Reddit-AMA-Description&rdt_cid=2983442620287616008&utm_campaign=x_20200301_bravo_org_x_BDSY_x_x_x&utm_medium=reddit&utm_source=soc&utm_term=BDSY-Reddit-AMA-Description'>\n",
      "<HTML url='https://www.bravotv.com/below-deck-sailing-yacht?cid=soc_reddit_x_20200301_bravo_org_x_BDSY_x_x_x_BDSY-Reddit-AMA-Description&rdt_cid=2983442620287616008&utm_campaign=x_20200301_bravo_org_x_BDSY_x_x_x&utm_medium=reddit&utm_source=soc&utm_term=BDSY-Reddit-AMA-Description'>\n",
      "<HTML url='https://www.bravotv.com/below-deck-sailing-yacht?cid=soc_reddit_x_20200301_bravo_org_x_BDSY_x_x_x_BDSY-Reddit-AMA-Description&rdt_cid=2983442620287616008&utm_campaign=x_20200301_bravo_org_x_BDSY_x_x_x&utm_medium=reddit&utm_source=soc&utm_term=BDSY-Reddit-AMA-Description'>\n",
      "<HTML url='https://www.bravotv.com/below-deck-sailing-yacht?cid=soc_reddit_x_20200301_bravo_org_x_BDSY_x_x_x_BDSY-Reddit-AMA-Description&rdt_cid=2983442620287616008&utm_campaign=x_20200301_bravo_org_x_BDSY_x_x_x&utm_medium=reddit&utm_source=soc&utm_term=BDSY-Reddit-AMA-Description'>\n",
      "<HTML url='https://www.bravotv.com/below-deck-sailing-yacht?cid=soc_reddit_x_20200301_bravo_org_x_BDSY_x_x_x_BDSY-Reddit-AMA-Description&rdt_cid=2983442620287616008&utm_campaign=x_20200301_bravo_org_x_BDSY_x_x_x&utm_medium=reddit&utm_source=soc&utm_term=BDSY-Reddit-AMA-Description'>\n",
      "<HTML url='https://www.bravotv.com/below-deck-sailing-yacht?cid=soc_reddit_x_20200301_bravo_org_x_BDSY_x_x_x_BDSY-Reddit-AMA-Description&rdt_cid=2983442620287616008&utm_campaign=x_20200301_bravo_org_x_BDSY_x_x_x&utm_medium=reddit&utm_source=soc&utm_term=BDSY-Reddit-AMA-Description'>\n",
      "<HTML url='https://www.bravotv.com/below-deck-sailing-yacht?cid=soc_reddit_x_20200301_bravo_org_x_BDSY_x_x_x_BDSY-Reddit-AMA-Description&rdt_cid=2983442620287616008&utm_campaign=x_20200301_bravo_org_x_BDSY_x_x_x&utm_medium=reddit&utm_source=soc&utm_term=BDSY-Reddit-AMA-Description'>\n",
      "<HTML url='https://www.bravotv.com/below-deck-sailing-yacht?cid=soc_reddit_x_20200301_bravo_org_x_BDSY_x_x_x_BDSY-Reddit-AMA-Description&rdt_cid=2983442620287616008&utm_campaign=x_20200301_bravo_org_x_BDSY_x_x_x&utm_medium=reddit&utm_source=soc&utm_term=BDSY-Reddit-AMA-Description'>\n",
      "<HTML url='https://www.bravotv.com/below-deck-sailing-yacht?cid=soc_reddit_x_20200301_bravo_org_x_BDSY_x_x_x_BDSY-Reddit-AMA-Description&rdt_cid=2983442620287616008&utm_campaign=x_20200301_bravo_org_x_BDSY_x_x_x&utm_medium=reddit&utm_source=soc&utm_term=BDSY-Reddit-AMA-Description'>\n",
      "<HTML url='https://www.bravotv.com/below-deck-sailing-yacht?cid=soc_reddit_x_20200301_bravo_org_x_BDSY_x_x_x_BDSY-Reddit-AMA-Description&rdt_cid=2983442620287616008&utm_campaign=x_20200301_bravo_org_x_BDSY_x_x_x&utm_medium=reddit&utm_source=soc&utm_term=BDSY-Reddit-AMA-Description'>\n",
      "<HTML url='https://www.bravotv.com/below-deck-sailing-yacht?cid=soc_reddit_x_20200301_bravo_org_x_BDSY_x_x_x_BDSY-Reddit-AMA-Description&rdt_cid=2983442620287616008&utm_campaign=x_20200301_bravo_org_x_BDSY_x_x_x&utm_medium=reddit&utm_source=soc&utm_term=BDSY-Reddit-AMA-Description'>\n",
      "<HTML url='https://www.bravotv.com/below-deck-sailing-yacht?cid=soc_reddit_x_20200301_bravo_org_x_BDSY_x_x_x_BDSY-Reddit-AMA-Description&rdt_cid=2983442620287616008&utm_campaign=x_20200301_bravo_org_x_BDSY_x_x_x&utm_medium=reddit&utm_source=soc&utm_term=BDSY-Reddit-AMA-Description'>\n",
      "<HTML url='https://www.bravotv.com/below-deck-sailing-yacht?cid=soc_reddit_x_20200301_bravo_org_x_BDSY_x_x_x_BDSY-Reddit-AMA-Description&rdt_cid=2983442620287616008&utm_campaign=x_20200301_bravo_org_x_BDSY_x_x_x&utm_medium=reddit&utm_source=soc&utm_term=BDSY-Reddit-AMA-Description'>\n",
      "<HTML url='https://www.bravotv.com/below-deck-sailing-yacht?cid=soc_reddit_x_20200301_bravo_org_x_BDSY_x_x_x_BDSY-Reddit-AMA-Description&rdt_cid=2983442620287616008&utm_campaign=x_20200301_bravo_org_x_BDSY_x_x_x&utm_medium=reddit&utm_source=soc&utm_term=BDSY-Reddit-AMA-Description'>\n",
      "<HTML url='https://www.bravotv.com/below-deck-sailing-yacht?cid=soc_reddit_x_20200301_bravo_org_x_BDSY_x_x_x_BDSY-Reddit-AMA-Description&rdt_cid=2983442620287616008&utm_campaign=x_20200301_bravo_org_x_BDSY_x_x_x&utm_medium=reddit&utm_source=soc&utm_term=BDSY-Reddit-AMA-Description'>\n",
      "<HTML url='https://www.bravotv.com/below-deck-sailing-yacht?cid=soc_reddit_x_20200301_bravo_org_x_BDSY_x_x_x_BDSY-Reddit-AMA-Description&rdt_cid=2983442620287616008&utm_campaign=x_20200301_bravo_org_x_BDSY_x_x_x&utm_medium=reddit&utm_source=soc&utm_term=BDSY-Reddit-AMA-Description'>\n",
      "<HTML url='https://www.bravotv.com/below-deck-sailing-yacht?cid=soc_reddit_x_20200301_bravo_org_x_BDSY_x_x_x_BDSY-Reddit-AMA-Description&rdt_cid=2983442620287616008&utm_campaign=x_20200301_bravo_org_x_BDSY_x_x_x&utm_medium=reddit&utm_source=soc&utm_term=BDSY-Reddit-AMA-Description'>\n"
     ]
    },
    {
     "name": "stdout",
     "output_type": "stream",
     "text": [
      "<HTML url='https://www.bravotv.com/below-deck-sailing-yacht?cid=soc_reddit_x_20200301_bravo_org_x_BDSY_x_x_x_BDSY-Reddit-AMA-Description&rdt_cid=2983442620287616008&utm_campaign=x_20200301_bravo_org_x_BDSY_x_x_x&utm_medium=reddit&utm_source=soc&utm_term=BDSY-Reddit-AMA-Description'>\n",
      "<HTML url='https://www.bravotv.com/below-deck-sailing-yacht?cid=soc_reddit_x_20200301_bravo_org_x_BDSY_x_x_x_BDSY-Reddit-AMA-Description&rdt_cid=2983442620287616008&utm_campaign=x_20200301_bravo_org_x_BDSY_x_x_x&utm_medium=reddit&utm_source=soc&utm_term=BDSY-Reddit-AMA-Description'>\n",
      "<HTML url='https://www.bravotv.com/below-deck-sailing-yacht?cid=soc_reddit_x_20200301_bravo_org_x_BDSY_x_x_x_BDSY-Reddit-AMA-Description&rdt_cid=2983442620287616008&utm_campaign=x_20200301_bravo_org_x_BDSY_x_x_x&utm_medium=reddit&utm_source=soc&utm_term=BDSY-Reddit-AMA-Description'>\n",
      "<HTML url='https://www.bravotv.com/below-deck-sailing-yacht?cid=soc_reddit_x_20200301_bravo_org_x_BDSY_x_x_x_BDSY-Reddit-AMA-Description&rdt_cid=2983442620287616008&utm_campaign=x_20200301_bravo_org_x_BDSY_x_x_x&utm_medium=reddit&utm_source=soc&utm_term=BDSY-Reddit-AMA-Description'>\n",
      "<HTML url='https://www.bravotv.com/below-deck-sailing-yacht?cid=soc_reddit_x_20200301_bravo_org_x_BDSY_x_x_x_BDSY-Reddit-AMA-Description&rdt_cid=2983442620287616008&utm_campaign=x_20200301_bravo_org_x_BDSY_x_x_x&utm_medium=reddit&utm_source=soc&utm_term=BDSY-Reddit-AMA-Description'>\n",
      "<HTML url='https://www.bravotv.com/below-deck-sailing-yacht?cid=soc_reddit_x_20200301_bravo_org_x_BDSY_x_x_x_BDSY-Reddit-AMA-Description&rdt_cid=2983442620287616008&utm_campaign=x_20200301_bravo_org_x_BDSY_x_x_x&utm_medium=reddit&utm_source=soc&utm_term=BDSY-Reddit-AMA-Description'>\n",
      "<HTML url='https://www.bravotv.com/below-deck-sailing-yacht?cid=soc_reddit_x_20200301_bravo_org_x_BDSY_x_x_x_BDSY-Reddit-AMA-Description&rdt_cid=2983442620287616008&utm_campaign=x_20200301_bravo_org_x_BDSY_x_x_x&utm_medium=reddit&utm_source=soc&utm_term=BDSY-Reddit-AMA-Description'>\n",
      "<HTML url='https://www.bravotv.com/below-deck-sailing-yacht?cid=soc_reddit_x_20200301_bravo_org_x_BDSY_x_x_x_BDSY-Reddit-AMA-Description&rdt_cid=2983442620287616008&utm_campaign=x_20200301_bravo_org_x_BDSY_x_x_x&utm_medium=reddit&utm_source=soc&utm_term=BDSY-Reddit-AMA-Description'>\n",
      "<HTML url='https://www.bravotv.com/below-deck-sailing-yacht?cid=soc_reddit_x_20200301_bravo_org_x_BDSY_x_x_x_BDSY-Reddit-AMA-Description&rdt_cid=2983442620287616008&utm_campaign=x_20200301_bravo_org_x_BDSY_x_x_x&utm_medium=reddit&utm_source=soc&utm_term=BDSY-Reddit-AMA-Description'>\n",
      "<HTML url='https://www.bravotv.com/below-deck-sailing-yacht?cid=soc_reddit_x_20200301_bravo_org_x_BDSY_x_x_x_BDSY-Reddit-AMA-Description&rdt_cid=2983442620287616008&utm_campaign=x_20200301_bravo_org_x_BDSY_x_x_x&utm_medium=reddit&utm_source=soc&utm_term=BDSY-Reddit-AMA-Description'>\n",
      "<HTML url='https://www.bravotv.com/below-deck-sailing-yacht?cid=soc_reddit_x_20200301_bravo_org_x_BDSY_x_x_x_BDSY-Reddit-AMA-Description&rdt_cid=2983442620287616008&utm_campaign=x_20200301_bravo_org_x_BDSY_x_x_x&utm_medium=reddit&utm_source=soc&utm_term=BDSY-Reddit-AMA-Description'>\n",
      "<HTML url='https://www.bravotv.com/below-deck-sailing-yacht?cid=soc_reddit_x_20200301_bravo_org_x_BDSY_x_x_x_BDSY-Reddit-AMA-Description&rdt_cid=2983442620287616008&utm_campaign=x_20200301_bravo_org_x_BDSY_x_x_x&utm_medium=reddit&utm_source=soc&utm_term=BDSY-Reddit-AMA-Description'>\n",
      "<HTML url='https://www.bravotv.com/below-deck-sailing-yacht?cid=soc_reddit_x_20200301_bravo_org_x_BDSY_x_x_x_BDSY-Reddit-AMA-Description&rdt_cid=2983442620287616008&utm_campaign=x_20200301_bravo_org_x_BDSY_x_x_x&utm_medium=reddit&utm_source=soc&utm_term=BDSY-Reddit-AMA-Description'>\n",
      "<HTML url='https://www.bravotv.com/below-deck-sailing-yacht?cid=soc_reddit_x_20200301_bravo_org_x_BDSY_x_x_x_BDSY-Reddit-AMA-Description&rdt_cid=2983442620287616008&utm_campaign=x_20200301_bravo_org_x_BDSY_x_x_x&utm_medium=reddit&utm_source=soc&utm_term=BDSY-Reddit-AMA-Description'>\n",
      "<HTML url='https://www.bravotv.com/below-deck-sailing-yacht?cid=soc_reddit_x_20200301_bravo_org_x_BDSY_x_x_x_BDSY-Reddit-AMA-Description&rdt_cid=2983442620287616008&utm_campaign=x_20200301_bravo_org_x_BDSY_x_x_x&utm_medium=reddit&utm_source=soc&utm_term=BDSY-Reddit-AMA-Description'>\n",
      "<HTML url='https://www.bravotv.com/below-deck-sailing-yacht?cid=soc_reddit_x_20200301_bravo_org_x_BDSY_x_x_x_BDSY-Reddit-AMA-Description&rdt_cid=2983442620287616008&utm_campaign=x_20200301_bravo_org_x_BDSY_x_x_x&utm_medium=reddit&utm_source=soc&utm_term=BDSY-Reddit-AMA-Description'>\n",
      "<HTML url='https://www.bravotv.com/below-deck-sailing-yacht?cid=soc_reddit_x_20200301_bravo_org_x_BDSY_x_x_x_BDSY-Reddit-AMA-Description&rdt_cid=2983442620287616008&utm_campaign=x_20200301_bravo_org_x_BDSY_x_x_x&utm_medium=reddit&utm_source=soc&utm_term=BDSY-Reddit-AMA-Description'>\n",
      "<HTML url='https://www.bravotv.com/below-deck-sailing-yacht?cid=soc_reddit_x_20200301_bravo_org_x_BDSY_x_x_x_BDSY-Reddit-AMA-Description&rdt_cid=2983442620287616008&utm_campaign=x_20200301_bravo_org_x_BDSY_x_x_x&utm_medium=reddit&utm_source=soc&utm_term=BDSY-Reddit-AMA-Description'>\n",
      "<HTML url='https://www.bravotv.com/below-deck-sailing-yacht?cid=soc_reddit_x_20200301_bravo_org_x_BDSY_x_x_x_BDSY-Reddit-AMA-Description&rdt_cid=2983442620287616008&utm_campaign=x_20200301_bravo_org_x_BDSY_x_x_x&utm_medium=reddit&utm_source=soc&utm_term=BDSY-Reddit-AMA-Description'>\n",
      "<HTML url='https://www.bravotv.com/below-deck-sailing-yacht?cid=soc_reddit_x_20200301_bravo_org_x_BDSY_x_x_x_BDSY-Reddit-AMA-Description&rdt_cid=2983442620287616008&utm_campaign=x_20200301_bravo_org_x_BDSY_x_x_x&utm_medium=reddit&utm_source=soc&utm_term=BDSY-Reddit-AMA-Description'>\n",
      "<HTML url='https://www.bravotv.com/below-deck-sailing-yacht?cid=soc_reddit_x_20200301_bravo_org_x_BDSY_x_x_x_BDSY-Reddit-AMA-Description&rdt_cid=2983442620287616008&utm_campaign=x_20200301_bravo_org_x_BDSY_x_x_x&utm_medium=reddit&utm_source=soc&utm_term=BDSY-Reddit-AMA-Description'>\n",
      "<HTML url='https://www.bravotv.com/below-deck-sailing-yacht?cid=soc_reddit_x_20200301_bravo_org_x_BDSY_x_x_x_BDSY-Reddit-AMA-Description&rdt_cid=2983442620287616008&utm_campaign=x_20200301_bravo_org_x_BDSY_x_x_x&utm_medium=reddit&utm_source=soc&utm_term=BDSY-Reddit-AMA-Description'>\n",
      "<HTML url='https://www.bravotv.com/below-deck-sailing-yacht?cid=soc_reddit_x_20200301_bravo_org_x_BDSY_x_x_x_BDSY-Reddit-AMA-Description&rdt_cid=2983442620287616008&utm_campaign=x_20200301_bravo_org_x_BDSY_x_x_x&utm_medium=reddit&utm_source=soc&utm_term=BDSY-Reddit-AMA-Description'>\n",
      "<HTML url='https://www.bravotv.com/below-deck-sailing-yacht?cid=soc_reddit_x_20200301_bravo_org_x_BDSY_x_x_x_BDSY-Reddit-AMA-Description&rdt_cid=2983442620287616008&utm_campaign=x_20200301_bravo_org_x_BDSY_x_x_x&utm_medium=reddit&utm_source=soc&utm_term=BDSY-Reddit-AMA-Description'>\n",
      "<HTML url='https://www.bravotv.com/below-deck-sailing-yacht?cid=soc_reddit_x_20200301_bravo_org_x_BDSY_x_x_x_BDSY-Reddit-AMA-Description&rdt_cid=2983442620287616008&utm_campaign=x_20200301_bravo_org_x_BDSY_x_x_x&utm_medium=reddit&utm_source=soc&utm_term=BDSY-Reddit-AMA-Description'>\n",
      "<HTML url='https://www.bravotv.com/below-deck-sailing-yacht?cid=soc_reddit_x_20200301_bravo_org_x_BDSY_x_x_x_BDSY-Reddit-AMA-Description&rdt_cid=2983442620287616008&utm_campaign=x_20200301_bravo_org_x_BDSY_x_x_x&utm_medium=reddit&utm_source=soc&utm_term=BDSY-Reddit-AMA-Description'>\n",
      "<HTML url='https://www.bravotv.com/below-deck-sailing-yacht?cid=soc_reddit_x_20200301_bravo_org_x_BDSY_x_x_x_BDSY-Reddit-AMA-Description&rdt_cid=2983442620287616008&utm_campaign=x_20200301_bravo_org_x_BDSY_x_x_x&utm_medium=reddit&utm_source=soc&utm_term=BDSY-Reddit-AMA-Description'>\n",
      "<HTML url='https://www.bravotv.com/below-deck-sailing-yacht?cid=soc_reddit_x_20200301_bravo_org_x_BDSY_x_x_x_BDSY-Reddit-AMA-Description&rdt_cid=2983442620287616008&utm_campaign=x_20200301_bravo_org_x_BDSY_x_x_x&utm_medium=reddit&utm_source=soc&utm_term=BDSY-Reddit-AMA-Description'>\n",
      "<HTML url='https://www.bravotv.com/below-deck-sailing-yacht?cid=soc_reddit_x_20200301_bravo_org_x_BDSY_x_x_x_BDSY-Reddit-AMA-Description&rdt_cid=2983442620287616008&utm_campaign=x_20200301_bravo_org_x_BDSY_x_x_x&utm_medium=reddit&utm_source=soc&utm_term=BDSY-Reddit-AMA-Description'>\n"
     ]
    },
    {
     "name": "stdout",
     "output_type": "stream",
     "text": [
      "<HTML url='https://www.bravotv.com/below-deck-sailing-yacht?cid=soc_reddit_x_20200301_bravo_org_x_BDSY_x_x_x_BDSY-Reddit-AMA-Description&rdt_cid=2983442620287616008&utm_campaign=x_20200301_bravo_org_x_BDSY_x_x_x&utm_medium=reddit&utm_source=soc&utm_term=BDSY-Reddit-AMA-Description'>\n",
      "<HTML url='https://www.bravotv.com/below-deck-sailing-yacht?cid=soc_reddit_x_20200301_bravo_org_x_BDSY_x_x_x_BDSY-Reddit-AMA-Description&rdt_cid=2983442620287616008&utm_campaign=x_20200301_bravo_org_x_BDSY_x_x_x&utm_medium=reddit&utm_source=soc&utm_term=BDSY-Reddit-AMA-Description'>\n",
      "<HTML url='https://www.bravotv.com/below-deck-sailing-yacht?cid=soc_reddit_x_20200301_bravo_org_x_BDSY_x_x_x_BDSY-Reddit-AMA-Description&rdt_cid=2983442620287616008&utm_campaign=x_20200301_bravo_org_x_BDSY_x_x_x&utm_medium=reddit&utm_source=soc&utm_term=BDSY-Reddit-AMA-Description'>\n",
      "<HTML url='https://www.bravotv.com/below-deck-sailing-yacht?cid=soc_reddit_x_20200301_bravo_org_x_BDSY_x_x_x_BDSY-Reddit-AMA-Description&rdt_cid=2983442620287616008&utm_campaign=x_20200301_bravo_org_x_BDSY_x_x_x&utm_medium=reddit&utm_source=soc&utm_term=BDSY-Reddit-AMA-Description'>\n",
      "<HTML url='https://www.bravotv.com/below-deck-sailing-yacht?cid=soc_reddit_x_20200301_bravo_org_x_BDSY_x_x_x_BDSY-Reddit-AMA-Description&rdt_cid=2983442620287616008&utm_campaign=x_20200301_bravo_org_x_BDSY_x_x_x&utm_medium=reddit&utm_source=soc&utm_term=BDSY-Reddit-AMA-Description'>\n",
      "<HTML url='https://www.bravotv.com/below-deck-sailing-yacht?cid=soc_reddit_x_20200301_bravo_org_x_BDSY_x_x_x_BDSY-Reddit-AMA-Description&rdt_cid=2983442620287616008&utm_campaign=x_20200301_bravo_org_x_BDSY_x_x_x&utm_medium=reddit&utm_source=soc&utm_term=BDSY-Reddit-AMA-Description'>\n",
      "<HTML url='https://www.bravotv.com/below-deck-sailing-yacht?cid=soc_reddit_x_20200301_bravo_org_x_BDSY_x_x_x_BDSY-Reddit-AMA-Description&rdt_cid=2983442620287616008&utm_campaign=x_20200301_bravo_org_x_BDSY_x_x_x&utm_medium=reddit&utm_source=soc&utm_term=BDSY-Reddit-AMA-Description'>\n",
      "<HTML url='https://www.bravotv.com/below-deck-sailing-yacht?cid=soc_reddit_x_20200301_bravo_org_x_BDSY_x_x_x_BDSY-Reddit-AMA-Description&rdt_cid=2983442620287616008&utm_campaign=x_20200301_bravo_org_x_BDSY_x_x_x&utm_medium=reddit&utm_source=soc&utm_term=BDSY-Reddit-AMA-Description'>\n",
      "<HTML url='https://www.bravotv.com/below-deck-sailing-yacht?cid=soc_reddit_x_20200301_bravo_org_x_BDSY_x_x_x_BDSY-Reddit-AMA-Description&rdt_cid=2983442620287616008&utm_campaign=x_20200301_bravo_org_x_BDSY_x_x_x&utm_medium=reddit&utm_source=soc&utm_term=BDSY-Reddit-AMA-Description'>\n",
      "<HTML url='https://www.bravotv.com/below-deck-sailing-yacht?cid=soc_reddit_x_20200301_bravo_org_x_BDSY_x_x_x_BDSY-Reddit-AMA-Description&rdt_cid=2983442620287616008&utm_campaign=x_20200301_bravo_org_x_BDSY_x_x_x&utm_medium=reddit&utm_source=soc&utm_term=BDSY-Reddit-AMA-Description'>\n",
      "<HTML url='https://www.bravotv.com/below-deck-sailing-yacht?cid=soc_reddit_x_20200301_bravo_org_x_BDSY_x_x_x_BDSY-Reddit-AMA-Description&rdt_cid=2983442620287616008&utm_campaign=x_20200301_bravo_org_x_BDSY_x_x_x&utm_medium=reddit&utm_source=soc&utm_term=BDSY-Reddit-AMA-Description'>\n",
      "<HTML url='https://www.bravotv.com/below-deck-sailing-yacht?cid=soc_reddit_x_20200301_bravo_org_x_BDSY_x_x_x_BDSY-Reddit-AMA-Description&rdt_cid=2983442620287616008&utm_campaign=x_20200301_bravo_org_x_BDSY_x_x_x&utm_medium=reddit&utm_source=soc&utm_term=BDSY-Reddit-AMA-Description'>\n",
      "<HTML url='https://www.bravotv.com/below-deck-sailing-yacht?cid=soc_reddit_x_20200301_bravo_org_x_BDSY_x_x_x_BDSY-Reddit-AMA-Description&rdt_cid=2983442620287616008&utm_campaign=x_20200301_bravo_org_x_BDSY_x_x_x&utm_medium=reddit&utm_source=soc&utm_term=BDSY-Reddit-AMA-Description'>\n",
      "<HTML url='https://www.bravotv.com/below-deck-sailing-yacht?cid=soc_reddit_x_20200301_bravo_org_x_BDSY_x_x_x_BDSY-Reddit-AMA-Description&rdt_cid=2983442620287616008&utm_campaign=x_20200301_bravo_org_x_BDSY_x_x_x&utm_medium=reddit&utm_source=soc&utm_term=BDSY-Reddit-AMA-Description'>\n",
      "<HTML url='https://www.bravotv.com/below-deck-sailing-yacht?cid=soc_reddit_x_20200301_bravo_org_x_BDSY_x_x_x_BDSY-Reddit-AMA-Description&rdt_cid=2983442620287616008&utm_campaign=x_20200301_bravo_org_x_BDSY_x_x_x&utm_medium=reddit&utm_source=soc&utm_term=BDSY-Reddit-AMA-Description'>\n",
      "<HTML url='https://www.bravotv.com/below-deck-sailing-yacht?cid=soc_reddit_x_20200301_bravo_org_x_BDSY_x_x_x_BDSY-Reddit-AMA-Description&rdt_cid=2983442620287616008&utm_campaign=x_20200301_bravo_org_x_BDSY_x_x_x&utm_medium=reddit&utm_source=soc&utm_term=BDSY-Reddit-AMA-Description'>\n",
      "<HTML url='https://www.bravotv.com/below-deck-sailing-yacht?cid=soc_reddit_x_20200301_bravo_org_x_BDSY_x_x_x_BDSY-Reddit-AMA-Description&rdt_cid=2983442620287616008&utm_campaign=x_20200301_bravo_org_x_BDSY_x_x_x&utm_medium=reddit&utm_source=soc&utm_term=BDSY-Reddit-AMA-Description'>\n",
      "<HTML url='https://www.bravotv.com/below-deck-sailing-yacht?cid=soc_reddit_x_20200301_bravo_org_x_BDSY_x_x_x_BDSY-Reddit-AMA-Description&rdt_cid=2983442620287616008&utm_campaign=x_20200301_bravo_org_x_BDSY_x_x_x&utm_medium=reddit&utm_source=soc&utm_term=BDSY-Reddit-AMA-Description'>\n",
      "<HTML url='https://www.bravotv.com/below-deck-sailing-yacht?cid=soc_reddit_x_20200301_bravo_org_x_BDSY_x_x_x_BDSY-Reddit-AMA-Description&rdt_cid=2983442620287616008&utm_campaign=x_20200301_bravo_org_x_BDSY_x_x_x&utm_medium=reddit&utm_source=soc&utm_term=BDSY-Reddit-AMA-Description'>\n",
      "<HTML url='https://www.bravotv.com/below-deck-sailing-yacht?cid=soc_reddit_x_20200301_bravo_org_x_BDSY_x_x_x_BDSY-Reddit-AMA-Description&rdt_cid=2983442620287616008&utm_campaign=x_20200301_bravo_org_x_BDSY_x_x_x&utm_medium=reddit&utm_source=soc&utm_term=BDSY-Reddit-AMA-Description'>\n",
      "<HTML url='https://www.bravotv.com/below-deck-sailing-yacht?cid=soc_reddit_x_20200301_bravo_org_x_BDSY_x_x_x_BDSY-Reddit-AMA-Description&rdt_cid=2983442620287616008&utm_campaign=x_20200301_bravo_org_x_BDSY_x_x_x&utm_medium=reddit&utm_source=soc&utm_term=BDSY-Reddit-AMA-Description'>\n",
      "<HTML url='https://www.bravotv.com/below-deck-sailing-yacht?cid=soc_reddit_x_20200301_bravo_org_x_BDSY_x_x_x_BDSY-Reddit-AMA-Description&rdt_cid=2983442620287616008&utm_campaign=x_20200301_bravo_org_x_BDSY_x_x_x&utm_medium=reddit&utm_source=soc&utm_term=BDSY-Reddit-AMA-Description'>\n",
      "<HTML url='https://www.bravotv.com/below-deck-sailing-yacht?cid=soc_reddit_x_20200301_bravo_org_x_BDSY_x_x_x_BDSY-Reddit-AMA-Description&rdt_cid=2983442620287616008&utm_campaign=x_20200301_bravo_org_x_BDSY_x_x_x&utm_medium=reddit&utm_source=soc&utm_term=BDSY-Reddit-AMA-Description'>\n",
      "<HTML url='https://www.bravotv.com/below-deck-sailing-yacht?cid=soc_reddit_x_20200301_bravo_org_x_BDSY_x_x_x_BDSY-Reddit-AMA-Description&rdt_cid=2983442620287616008&utm_campaign=x_20200301_bravo_org_x_BDSY_x_x_x&utm_medium=reddit&utm_source=soc&utm_term=BDSY-Reddit-AMA-Description'>\n",
      "<HTML url='https://www.bravotv.com/below-deck-sailing-yacht?cid=soc_reddit_x_20200301_bravo_org_x_BDSY_x_x_x_BDSY-Reddit-AMA-Description&rdt_cid=2983442620287616008&utm_campaign=x_20200301_bravo_org_x_BDSY_x_x_x&utm_medium=reddit&utm_source=soc&utm_term=BDSY-Reddit-AMA-Description'>\n",
      "<HTML url='https://www.bravotv.com/below-deck-sailing-yacht?cid=soc_reddit_x_20200301_bravo_org_x_BDSY_x_x_x_BDSY-Reddit-AMA-Description&rdt_cid=2983442620287616008&utm_campaign=x_20200301_bravo_org_x_BDSY_x_x_x&utm_medium=reddit&utm_source=soc&utm_term=BDSY-Reddit-AMA-Description'>\n",
      "<HTML url='https://www.bravotv.com/below-deck-sailing-yacht?cid=soc_reddit_x_20200301_bravo_org_x_BDSY_x_x_x_BDSY-Reddit-AMA-Description&rdt_cid=2983442620287616008&utm_campaign=x_20200301_bravo_org_x_BDSY_x_x_x&utm_medium=reddit&utm_source=soc&utm_term=BDSY-Reddit-AMA-Description'>\n",
      "<HTML url='https://www.bravotv.com/below-deck-sailing-yacht?cid=soc_reddit_x_20200301_bravo_org_x_BDSY_x_x_x_BDSY-Reddit-AMA-Description&rdt_cid=2983442620287616008&utm_campaign=x_20200301_bravo_org_x_BDSY_x_x_x&utm_medium=reddit&utm_source=soc&utm_term=BDSY-Reddit-AMA-Description'>\n",
      "<HTML url='https://www.bravotv.com/below-deck-sailing-yacht?cid=soc_reddit_x_20200301_bravo_org_x_BDSY_x_x_x_BDSY-Reddit-AMA-Description&rdt_cid=2983442620287616008&utm_campaign=x_20200301_bravo_org_x_BDSY_x_x_x&utm_medium=reddit&utm_source=soc&utm_term=BDSY-Reddit-AMA-Description'>\n"
     ]
    },
    {
     "name": "stdout",
     "output_type": "stream",
     "text": [
      "<HTML url='https://www.bravotv.com/below-deck-sailing-yacht?cid=soc_reddit_x_20200301_bravo_org_x_BDSY_x_x_x_BDSY-Reddit-AMA-Description&rdt_cid=2983442620287616008&utm_campaign=x_20200301_bravo_org_x_BDSY_x_x_x&utm_medium=reddit&utm_source=soc&utm_term=BDSY-Reddit-AMA-Description'>\n",
      "<HTML url='https://www.bravotv.com/below-deck-sailing-yacht?cid=soc_reddit_x_20200301_bravo_org_x_BDSY_x_x_x_BDSY-Reddit-AMA-Description&rdt_cid=2983442620287616008&utm_campaign=x_20200301_bravo_org_x_BDSY_x_x_x&utm_medium=reddit&utm_source=soc&utm_term=BDSY-Reddit-AMA-Description'>\n",
      "<HTML url='https://www.bravotv.com/below-deck-sailing-yacht?cid=soc_reddit_x_20200301_bravo_org_x_BDSY_x_x_x_BDSY-Reddit-AMA-Description&rdt_cid=2983442620287616008&utm_campaign=x_20200301_bravo_org_x_BDSY_x_x_x&utm_medium=reddit&utm_source=soc&utm_term=BDSY-Reddit-AMA-Description'>\n",
      "<HTML url='https://www.bravotv.com/below-deck-sailing-yacht?cid=soc_reddit_x_20200301_bravo_org_x_BDSY_x_x_x_BDSY-Reddit-AMA-Description&rdt_cid=2983442620287616008&utm_campaign=x_20200301_bravo_org_x_BDSY_x_x_x&utm_medium=reddit&utm_source=soc&utm_term=BDSY-Reddit-AMA-Description'>\n",
      "<HTML url='https://www.bravotv.com/below-deck-sailing-yacht?cid=soc_reddit_x_20200301_bravo_org_x_BDSY_x_x_x_BDSY-Reddit-AMA-Description&rdt_cid=2983442620287616008&utm_campaign=x_20200301_bravo_org_x_BDSY_x_x_x&utm_medium=reddit&utm_source=soc&utm_term=BDSY-Reddit-AMA-Description'>\n",
      "<HTML url='https://www.bravotv.com/below-deck-sailing-yacht?cid=soc_reddit_x_20200301_bravo_org_x_BDSY_x_x_x_BDSY-Reddit-AMA-Description&rdt_cid=2983442620287616008&utm_campaign=x_20200301_bravo_org_x_BDSY_x_x_x&utm_medium=reddit&utm_source=soc&utm_term=BDSY-Reddit-AMA-Description'>\n",
      "<HTML url='https://www.bravotv.com/below-deck-sailing-yacht?cid=soc_reddit_x_20200301_bravo_org_x_BDSY_x_x_x_BDSY-Reddit-AMA-Description&rdt_cid=2983442620287616008&utm_campaign=x_20200301_bravo_org_x_BDSY_x_x_x&utm_medium=reddit&utm_source=soc&utm_term=BDSY-Reddit-AMA-Description'>\n",
      "<HTML url='https://www.bravotv.com/below-deck-sailing-yacht?cid=soc_reddit_x_20200301_bravo_org_x_BDSY_x_x_x_BDSY-Reddit-AMA-Description&rdt_cid=2983442620287616008&utm_campaign=x_20200301_bravo_org_x_BDSY_x_x_x&utm_medium=reddit&utm_source=soc&utm_term=BDSY-Reddit-AMA-Description'>\n",
      "<HTML url='https://www.bravotv.com/below-deck-sailing-yacht?cid=soc_reddit_x_20200301_bravo_org_x_BDSY_x_x_x_BDSY-Reddit-AMA-Description&rdt_cid=2983442620287616008&utm_campaign=x_20200301_bravo_org_x_BDSY_x_x_x&utm_medium=reddit&utm_source=soc&utm_term=BDSY-Reddit-AMA-Description'>\n",
      "<HTML url='https://www.bravotv.com/below-deck-sailing-yacht?cid=soc_reddit_x_20200301_bravo_org_x_BDSY_x_x_x_BDSY-Reddit-AMA-Description&rdt_cid=2983442620287616008&utm_campaign=x_20200301_bravo_org_x_BDSY_x_x_x&utm_medium=reddit&utm_source=soc&utm_term=BDSY-Reddit-AMA-Description'>\n",
      "<HTML url='https://www.bravotv.com/below-deck-sailing-yacht?cid=soc_reddit_x_20200301_bravo_org_x_BDSY_x_x_x_BDSY-Reddit-AMA-Description&rdt_cid=2983442620287616008&utm_campaign=x_20200301_bravo_org_x_BDSY_x_x_x&utm_medium=reddit&utm_source=soc&utm_term=BDSY-Reddit-AMA-Description'>\n",
      "<HTML url='https://www.bravotv.com/below-deck-sailing-yacht?cid=soc_reddit_x_20200301_bravo_org_x_BDSY_x_x_x_BDSY-Reddit-AMA-Description&rdt_cid=2983442620287616008&utm_campaign=x_20200301_bravo_org_x_BDSY_x_x_x&utm_medium=reddit&utm_source=soc&utm_term=BDSY-Reddit-AMA-Description'>\n",
      "<HTML url='https://www.bravotv.com/below-deck-sailing-yacht?cid=soc_reddit_x_20200301_bravo_org_x_BDSY_x_x_x_BDSY-Reddit-AMA-Description&rdt_cid=2983442620287616008&utm_campaign=x_20200301_bravo_org_x_BDSY_x_x_x&utm_medium=reddit&utm_source=soc&utm_term=BDSY-Reddit-AMA-Description'>\n",
      "<HTML url='https://www.bravotv.com/below-deck-sailing-yacht?cid=soc_reddit_x_20200301_bravo_org_x_BDSY_x_x_x_BDSY-Reddit-AMA-Description&rdt_cid=2983442620287616008&utm_campaign=x_20200301_bravo_org_x_BDSY_x_x_x&utm_medium=reddit&utm_source=soc&utm_term=BDSY-Reddit-AMA-Description'>\n",
      "<HTML url='https://www.bravotv.com/below-deck-sailing-yacht?cid=soc_reddit_x_20200301_bravo_org_x_BDSY_x_x_x_BDSY-Reddit-AMA-Description&rdt_cid=2983442620287616008&utm_campaign=x_20200301_bravo_org_x_BDSY_x_x_x&utm_medium=reddit&utm_source=soc&utm_term=BDSY-Reddit-AMA-Description'>\n",
      "<HTML url='https://www.bravotv.com/below-deck-sailing-yacht?cid=soc_reddit_x_20200301_bravo_org_x_BDSY_x_x_x_BDSY-Reddit-AMA-Description&rdt_cid=2983442620287616008&utm_campaign=x_20200301_bravo_org_x_BDSY_x_x_x&utm_medium=reddit&utm_source=soc&utm_term=BDSY-Reddit-AMA-Description'>\n",
      "<HTML url='https://www.bravotv.com/below-deck-sailing-yacht?cid=soc_reddit_x_20200301_bravo_org_x_BDSY_x_x_x_BDSY-Reddit-AMA-Description&rdt_cid=2983442620287616008&utm_campaign=x_20200301_bravo_org_x_BDSY_x_x_x&utm_medium=reddit&utm_source=soc&utm_term=BDSY-Reddit-AMA-Description'>\n",
      "<HTML url='https://www.bravotv.com/below-deck-sailing-yacht?cid=soc_reddit_x_20200301_bravo_org_x_BDSY_x_x_x_BDSY-Reddit-AMA-Description&rdt_cid=2983442620287616008&utm_campaign=x_20200301_bravo_org_x_BDSY_x_x_x&utm_medium=reddit&utm_source=soc&utm_term=BDSY-Reddit-AMA-Description'>\n",
      "<HTML url='https://www.bravotv.com/below-deck-sailing-yacht?cid=soc_reddit_x_20200301_bravo_org_x_BDSY_x_x_x_BDSY-Reddit-AMA-Description&rdt_cid=2983442620287616008&utm_campaign=x_20200301_bravo_org_x_BDSY_x_x_x&utm_medium=reddit&utm_source=soc&utm_term=BDSY-Reddit-AMA-Description'>\n",
      "<HTML url='https://www.bravotv.com/below-deck-sailing-yacht?cid=soc_reddit_x_20200301_bravo_org_x_BDSY_x_x_x_BDSY-Reddit-AMA-Description&rdt_cid=2983442620287616008&utm_campaign=x_20200301_bravo_org_x_BDSY_x_x_x&utm_medium=reddit&utm_source=soc&utm_term=BDSY-Reddit-AMA-Description'>\n",
      "<HTML url='https://www.bravotv.com/below-deck-sailing-yacht?cid=soc_reddit_x_20200301_bravo_org_x_BDSY_x_x_x_BDSY-Reddit-AMA-Description&rdt_cid=2983442620287616008&utm_campaign=x_20200301_bravo_org_x_BDSY_x_x_x&utm_medium=reddit&utm_source=soc&utm_term=BDSY-Reddit-AMA-Description'>\n",
      "<HTML url='https://www.bravotv.com/below-deck-sailing-yacht?cid=soc_reddit_x_20200301_bravo_org_x_BDSY_x_x_x_BDSY-Reddit-AMA-Description&rdt_cid=2983442620287616008&utm_campaign=x_20200301_bravo_org_x_BDSY_x_x_x&utm_medium=reddit&utm_source=soc&utm_term=BDSY-Reddit-AMA-Description'>\n",
      "<HTML url='https://www.bravotv.com/below-deck-sailing-yacht?cid=soc_reddit_x_20200301_bravo_org_x_BDSY_x_x_x_BDSY-Reddit-AMA-Description&rdt_cid=2983442620287616008&utm_campaign=x_20200301_bravo_org_x_BDSY_x_x_x&utm_medium=reddit&utm_source=soc&utm_term=BDSY-Reddit-AMA-Description'>\n",
      "<HTML url='https://www.bravotv.com/below-deck-sailing-yacht?cid=soc_reddit_x_20200301_bravo_org_x_BDSY_x_x_x_BDSY-Reddit-AMA-Description&rdt_cid=2983442620287616008&utm_campaign=x_20200301_bravo_org_x_BDSY_x_x_x&utm_medium=reddit&utm_source=soc&utm_term=BDSY-Reddit-AMA-Description'>\n",
      "<HTML url='https://www.bravotv.com/below-deck-sailing-yacht?cid=soc_reddit_x_20200301_bravo_org_x_BDSY_x_x_x_BDSY-Reddit-AMA-Description&rdt_cid=2983442620287616008&utm_campaign=x_20200301_bravo_org_x_BDSY_x_x_x&utm_medium=reddit&utm_source=soc&utm_term=BDSY-Reddit-AMA-Description'>\n",
      "<HTML url='https://www.bravotv.com/below-deck-sailing-yacht?cid=soc_reddit_x_20200301_bravo_org_x_BDSY_x_x_x_BDSY-Reddit-AMA-Description&rdt_cid=2983442620287616008&utm_campaign=x_20200301_bravo_org_x_BDSY_x_x_x&utm_medium=reddit&utm_source=soc&utm_term=BDSY-Reddit-AMA-Description'>\n",
      "<HTML url='https://www.bravotv.com/below-deck-sailing-yacht?cid=soc_reddit_x_20200301_bravo_org_x_BDSY_x_x_x_BDSY-Reddit-AMA-Description&rdt_cid=2983442620287616008&utm_campaign=x_20200301_bravo_org_x_BDSY_x_x_x&utm_medium=reddit&utm_source=soc&utm_term=BDSY-Reddit-AMA-Description'>\n",
      "<HTML url='https://www.bravotv.com/below-deck-sailing-yacht?cid=soc_reddit_x_20200301_bravo_org_x_BDSY_x_x_x_BDSY-Reddit-AMA-Description&rdt_cid=2983442620287616008&utm_campaign=x_20200301_bravo_org_x_BDSY_x_x_x&utm_medium=reddit&utm_source=soc&utm_term=BDSY-Reddit-AMA-Description'>\n",
      "<HTML url='https://www.bravotv.com/below-deck-sailing-yacht?cid=soc_reddit_x_20200301_bravo_org_x_BDSY_x_x_x_BDSY-Reddit-AMA-Description&rdt_cid=2983442620287616008&utm_campaign=x_20200301_bravo_org_x_BDSY_x_x_x&utm_medium=reddit&utm_source=soc&utm_term=BDSY-Reddit-AMA-Description'>\n"
     ]
    },
    {
     "name": "stdout",
     "output_type": "stream",
     "text": [
      "<HTML url='https://www.bravotv.com/below-deck-sailing-yacht?cid=soc_reddit_x_20200301_bravo_org_x_BDSY_x_x_x_BDSY-Reddit-AMA-Description&rdt_cid=2983442620287616008&utm_campaign=x_20200301_bravo_org_x_BDSY_x_x_x&utm_medium=reddit&utm_source=soc&utm_term=BDSY-Reddit-AMA-Description'>\n",
      "<HTML url='https://www.bravotv.com/below-deck-sailing-yacht?cid=soc_reddit_x_20200301_bravo_org_x_BDSY_x_x_x_BDSY-Reddit-AMA-Description&rdt_cid=2983442620287616008&utm_campaign=x_20200301_bravo_org_x_BDSY_x_x_x&utm_medium=reddit&utm_source=soc&utm_term=BDSY-Reddit-AMA-Description'>\n",
      "<HTML url='https://www.bravotv.com/below-deck-sailing-yacht?cid=soc_reddit_x_20200301_bravo_org_x_BDSY_x_x_x_BDSY-Reddit-AMA-Description&rdt_cid=2983442620287616008&utm_campaign=x_20200301_bravo_org_x_BDSY_x_x_x&utm_medium=reddit&utm_source=soc&utm_term=BDSY-Reddit-AMA-Description'>\n",
      "<HTML url='https://www.bravotv.com/below-deck-sailing-yacht?cid=soc_reddit_x_20200301_bravo_org_x_BDSY_x_x_x_BDSY-Reddit-AMA-Description&rdt_cid=2983442620287616008&utm_campaign=x_20200301_bravo_org_x_BDSY_x_x_x&utm_medium=reddit&utm_source=soc&utm_term=BDSY-Reddit-AMA-Description'>\n",
      "<HTML url='https://www.bravotv.com/below-deck-sailing-yacht?cid=soc_reddit_x_20200301_bravo_org_x_BDSY_x_x_x_BDSY-Reddit-AMA-Description&rdt_cid=2983442620287616008&utm_campaign=x_20200301_bravo_org_x_BDSY_x_x_x&utm_medium=reddit&utm_source=soc&utm_term=BDSY-Reddit-AMA-Description'>\n",
      "<HTML url='https://www.bravotv.com/below-deck-sailing-yacht?cid=soc_reddit_x_20200301_bravo_org_x_BDSY_x_x_x_BDSY-Reddit-AMA-Description&rdt_cid=2983442620287616008&utm_campaign=x_20200301_bravo_org_x_BDSY_x_x_x&utm_medium=reddit&utm_source=soc&utm_term=BDSY-Reddit-AMA-Description'>\n",
      "<HTML url='https://www.bravotv.com/below-deck-sailing-yacht?cid=soc_reddit_x_20200301_bravo_org_x_BDSY_x_x_x_BDSY-Reddit-AMA-Description&rdt_cid=2983442620287616008&utm_campaign=x_20200301_bravo_org_x_BDSY_x_x_x&utm_medium=reddit&utm_source=soc&utm_term=BDSY-Reddit-AMA-Description'>\n",
      "<HTML url='https://www.bravotv.com/below-deck-sailing-yacht?cid=soc_reddit_x_20200301_bravo_org_x_BDSY_x_x_x_BDSY-Reddit-AMA-Description&rdt_cid=2983442620287616008&utm_campaign=x_20200301_bravo_org_x_BDSY_x_x_x&utm_medium=reddit&utm_source=soc&utm_term=BDSY-Reddit-AMA-Description'>\n",
      "<HTML url='https://www.bravotv.com/below-deck-sailing-yacht?cid=soc_reddit_x_20200301_bravo_org_x_BDSY_x_x_x_BDSY-Reddit-AMA-Description&rdt_cid=2983442620287616008&utm_campaign=x_20200301_bravo_org_x_BDSY_x_x_x&utm_medium=reddit&utm_source=soc&utm_term=BDSY-Reddit-AMA-Description'>\n",
      "<HTML url='https://www.bravotv.com/below-deck-sailing-yacht?cid=soc_reddit_x_20200301_bravo_org_x_BDSY_x_x_x_BDSY-Reddit-AMA-Description&rdt_cid=2983442620287616008&utm_campaign=x_20200301_bravo_org_x_BDSY_x_x_x&utm_medium=reddit&utm_source=soc&utm_term=BDSY-Reddit-AMA-Description'>\n",
      "<HTML url='https://www.bravotv.com/below-deck-sailing-yacht?cid=soc_reddit_x_20200301_bravo_org_x_BDSY_x_x_x_BDSY-Reddit-AMA-Description&rdt_cid=2983442620287616008&utm_campaign=x_20200301_bravo_org_x_BDSY_x_x_x&utm_medium=reddit&utm_source=soc&utm_term=BDSY-Reddit-AMA-Description'>\n",
      "<HTML url='https://www.bravotv.com/below-deck-sailing-yacht?cid=soc_reddit_x_20200301_bravo_org_x_BDSY_x_x_x_BDSY-Reddit-AMA-Description&rdt_cid=2983442620287616008&utm_campaign=x_20200301_bravo_org_x_BDSY_x_x_x&utm_medium=reddit&utm_source=soc&utm_term=BDSY-Reddit-AMA-Description'>\n",
      "<HTML url='https://www.bravotv.com/below-deck-sailing-yacht?cid=soc_reddit_x_20200301_bravo_org_x_BDSY_x_x_x_BDSY-Reddit-AMA-Description&rdt_cid=2983442620287616008&utm_campaign=x_20200301_bravo_org_x_BDSY_x_x_x&utm_medium=reddit&utm_source=soc&utm_term=BDSY-Reddit-AMA-Description'>\n",
      "<HTML url='https://www.bravotv.com/below-deck-sailing-yacht?cid=soc_reddit_x_20200301_bravo_org_x_BDSY_x_x_x_BDSY-Reddit-AMA-Description&rdt_cid=2983442620287616008&utm_campaign=x_20200301_bravo_org_x_BDSY_x_x_x&utm_medium=reddit&utm_source=soc&utm_term=BDSY-Reddit-AMA-Description'>\n",
      "<HTML url='https://www.bravotv.com/below-deck-sailing-yacht?cid=soc_reddit_x_20200301_bravo_org_x_BDSY_x_x_x_BDSY-Reddit-AMA-Description&rdt_cid=2983442620287616008&utm_campaign=x_20200301_bravo_org_x_BDSY_x_x_x&utm_medium=reddit&utm_source=soc&utm_term=BDSY-Reddit-AMA-Description'>\n",
      "<HTML url='https://www.bravotv.com/below-deck-sailing-yacht?cid=soc_reddit_x_20200301_bravo_org_x_BDSY_x_x_x_BDSY-Reddit-AMA-Description&rdt_cid=2983442620287616008&utm_campaign=x_20200301_bravo_org_x_BDSY_x_x_x&utm_medium=reddit&utm_source=soc&utm_term=BDSY-Reddit-AMA-Description'>\n",
      "<HTML url='https://www.bravotv.com/below-deck-sailing-yacht?cid=soc_reddit_x_20200301_bravo_org_x_BDSY_x_x_x_BDSY-Reddit-AMA-Description&rdt_cid=2983442620287616008&utm_campaign=x_20200301_bravo_org_x_BDSY_x_x_x&utm_medium=reddit&utm_source=soc&utm_term=BDSY-Reddit-AMA-Description'>\n",
      "<HTML url='https://www.bravotv.com/below-deck-sailing-yacht?cid=soc_reddit_x_20200301_bravo_org_x_BDSY_x_x_x_BDSY-Reddit-AMA-Description&rdt_cid=2983442620287616008&utm_campaign=x_20200301_bravo_org_x_BDSY_x_x_x&utm_medium=reddit&utm_source=soc&utm_term=BDSY-Reddit-AMA-Description'>\n",
      "<HTML url='https://www.bravotv.com/below-deck-sailing-yacht?cid=soc_reddit_x_20200301_bravo_org_x_BDSY_x_x_x_BDSY-Reddit-AMA-Description&rdt_cid=2983442620287616008&utm_campaign=x_20200301_bravo_org_x_BDSY_x_x_x&utm_medium=reddit&utm_source=soc&utm_term=BDSY-Reddit-AMA-Description'>\n",
      "<HTML url='https://www.bravotv.com/below-deck-sailing-yacht?cid=soc_reddit_x_20200301_bravo_org_x_BDSY_x_x_x_BDSY-Reddit-AMA-Description&rdt_cid=2983442620287616008&utm_campaign=x_20200301_bravo_org_x_BDSY_x_x_x&utm_medium=reddit&utm_source=soc&utm_term=BDSY-Reddit-AMA-Description'>\n",
      "<HTML url='https://www.bravotv.com/below-deck-sailing-yacht?cid=soc_reddit_x_20200301_bravo_org_x_BDSY_x_x_x_BDSY-Reddit-AMA-Description&rdt_cid=2983442620287616008&utm_campaign=x_20200301_bravo_org_x_BDSY_x_x_x&utm_medium=reddit&utm_source=soc&utm_term=BDSY-Reddit-AMA-Description'>\n",
      "<HTML url='https://www.bravotv.com/below-deck-sailing-yacht?cid=soc_reddit_x_20200301_bravo_org_x_BDSY_x_x_x_BDSY-Reddit-AMA-Description&rdt_cid=2983442620287616008&utm_campaign=x_20200301_bravo_org_x_BDSY_x_x_x&utm_medium=reddit&utm_source=soc&utm_term=BDSY-Reddit-AMA-Description'>\n",
      "<HTML url='https://www.bravotv.com/below-deck-sailing-yacht?cid=soc_reddit_x_20200301_bravo_org_x_BDSY_x_x_x_BDSY-Reddit-AMA-Description&rdt_cid=2983442620287616008&utm_campaign=x_20200301_bravo_org_x_BDSY_x_x_x&utm_medium=reddit&utm_source=soc&utm_term=BDSY-Reddit-AMA-Description'>\n",
      "<HTML url='https://www.bravotv.com/below-deck-sailing-yacht?cid=soc_reddit_x_20200301_bravo_org_x_BDSY_x_x_x_BDSY-Reddit-AMA-Description&rdt_cid=2983442620287616008&utm_campaign=x_20200301_bravo_org_x_BDSY_x_x_x&utm_medium=reddit&utm_source=soc&utm_term=BDSY-Reddit-AMA-Description'>\n",
      "<HTML url='https://www.bravotv.com/below-deck-sailing-yacht?cid=soc_reddit_x_20200301_bravo_org_x_BDSY_x_x_x_BDSY-Reddit-AMA-Description&rdt_cid=2983442620287616008&utm_campaign=x_20200301_bravo_org_x_BDSY_x_x_x&utm_medium=reddit&utm_source=soc&utm_term=BDSY-Reddit-AMA-Description'>\n",
      "<HTML url='https://www.bravotv.com/below-deck-sailing-yacht?cid=soc_reddit_x_20200301_bravo_org_x_BDSY_x_x_x_BDSY-Reddit-AMA-Description&rdt_cid=2983442620287616008&utm_campaign=x_20200301_bravo_org_x_BDSY_x_x_x&utm_medium=reddit&utm_source=soc&utm_term=BDSY-Reddit-AMA-Description'>\n",
      "<HTML url='https://www.bravotv.com/below-deck-sailing-yacht?cid=soc_reddit_x_20200301_bravo_org_x_BDSY_x_x_x_BDSY-Reddit-AMA-Description&rdt_cid=2983442620287616008&utm_campaign=x_20200301_bravo_org_x_BDSY_x_x_x&utm_medium=reddit&utm_source=soc&utm_term=BDSY-Reddit-AMA-Description'>\n",
      "<HTML url='https://www.bravotv.com/below-deck-sailing-yacht?cid=soc_reddit_x_20200301_bravo_org_x_BDSY_x_x_x_BDSY-Reddit-AMA-Description&rdt_cid=2983442620287616008&utm_campaign=x_20200301_bravo_org_x_BDSY_x_x_x&utm_medium=reddit&utm_source=soc&utm_term=BDSY-Reddit-AMA-Description'>\n",
      "<HTML url='https://www.bravotv.com/below-deck-sailing-yacht?cid=soc_reddit_x_20200301_bravo_org_x_BDSY_x_x_x_BDSY-Reddit-AMA-Description&rdt_cid=2983442620287616008&utm_campaign=x_20200301_bravo_org_x_BDSY_x_x_x&utm_medium=reddit&utm_source=soc&utm_term=BDSY-Reddit-AMA-Description'>\n"
     ]
    },
    {
     "name": "stdout",
     "output_type": "stream",
     "text": [
      "<HTML url='https://www.bravotv.com/below-deck-sailing-yacht?cid=soc_reddit_x_20200301_bravo_org_x_BDSY_x_x_x_BDSY-Reddit-AMA-Description&rdt_cid=2983442620287616008&utm_campaign=x_20200301_bravo_org_x_BDSY_x_x_x&utm_medium=reddit&utm_source=soc&utm_term=BDSY-Reddit-AMA-Description'>\n",
      "<HTML url='https://www.bravotv.com/below-deck-sailing-yacht?cid=soc_reddit_x_20200301_bravo_org_x_BDSY_x_x_x_BDSY-Reddit-AMA-Description&rdt_cid=2983442620287616008&utm_campaign=x_20200301_bravo_org_x_BDSY_x_x_x&utm_medium=reddit&utm_source=soc&utm_term=BDSY-Reddit-AMA-Description'>\n",
      "<HTML url='https://www.bravotv.com/below-deck-sailing-yacht?cid=soc_reddit_x_20200301_bravo_org_x_BDSY_x_x_x_BDSY-Reddit-AMA-Description&rdt_cid=2983442620287616008&utm_campaign=x_20200301_bravo_org_x_BDSY_x_x_x&utm_medium=reddit&utm_source=soc&utm_term=BDSY-Reddit-AMA-Description'>\n",
      "<HTML url='https://www.bravotv.com/below-deck-sailing-yacht?cid=soc_reddit_x_20200301_bravo_org_x_BDSY_x_x_x_BDSY-Reddit-AMA-Description&rdt_cid=2983442620287616008&utm_campaign=x_20200301_bravo_org_x_BDSY_x_x_x&utm_medium=reddit&utm_source=soc&utm_term=BDSY-Reddit-AMA-Description'>\n",
      "<HTML url='https://www.bravotv.com/below-deck-sailing-yacht?cid=soc_reddit_x_20200301_bravo_org_x_BDSY_x_x_x_BDSY-Reddit-AMA-Description&rdt_cid=2983442620287616008&utm_campaign=x_20200301_bravo_org_x_BDSY_x_x_x&utm_medium=reddit&utm_source=soc&utm_term=BDSY-Reddit-AMA-Description'>\n",
      "<HTML url='https://www.bravotv.com/below-deck-sailing-yacht?cid=soc_reddit_x_20200301_bravo_org_x_BDSY_x_x_x_BDSY-Reddit-AMA-Description&rdt_cid=2983442620287616008&utm_campaign=x_20200301_bravo_org_x_BDSY_x_x_x&utm_medium=reddit&utm_source=soc&utm_term=BDSY-Reddit-AMA-Description'>\n",
      "<HTML url='https://www.bravotv.com/below-deck-sailing-yacht?cid=soc_reddit_x_20200301_bravo_org_x_BDSY_x_x_x_BDSY-Reddit-AMA-Description&rdt_cid=2983442620287616008&utm_campaign=x_20200301_bravo_org_x_BDSY_x_x_x&utm_medium=reddit&utm_source=soc&utm_term=BDSY-Reddit-AMA-Description'>\n",
      "<HTML url='https://www.bravotv.com/below-deck-sailing-yacht?cid=soc_reddit_x_20200301_bravo_org_x_BDSY_x_x_x_BDSY-Reddit-AMA-Description&rdt_cid=2983442620287616008&utm_campaign=x_20200301_bravo_org_x_BDSY_x_x_x&utm_medium=reddit&utm_source=soc&utm_term=BDSY-Reddit-AMA-Description'>\n",
      "<HTML url='https://www.bravotv.com/below-deck-sailing-yacht?cid=soc_reddit_x_20200301_bravo_org_x_BDSY_x_x_x_BDSY-Reddit-AMA-Description&rdt_cid=2983442620287616008&utm_campaign=x_20200301_bravo_org_x_BDSY_x_x_x&utm_medium=reddit&utm_source=soc&utm_term=BDSY-Reddit-AMA-Description'>\n",
      "<HTML url='https://www.bravotv.com/below-deck-sailing-yacht?cid=soc_reddit_x_20200301_bravo_org_x_BDSY_x_x_x_BDSY-Reddit-AMA-Description&rdt_cid=2983442620287616008&utm_campaign=x_20200301_bravo_org_x_BDSY_x_x_x&utm_medium=reddit&utm_source=soc&utm_term=BDSY-Reddit-AMA-Description'>\n",
      "<HTML url='https://www.bravotv.com/below-deck-sailing-yacht?cid=soc_reddit_x_20200301_bravo_org_x_BDSY_x_x_x_BDSY-Reddit-AMA-Description&rdt_cid=2983442620287616008&utm_campaign=x_20200301_bravo_org_x_BDSY_x_x_x&utm_medium=reddit&utm_source=soc&utm_term=BDSY-Reddit-AMA-Description'>\n",
      "<HTML url='https://www.bravotv.com/below-deck-sailing-yacht?cid=soc_reddit_x_20200301_bravo_org_x_BDSY_x_x_x_BDSY-Reddit-AMA-Description&rdt_cid=2983442620287616008&utm_campaign=x_20200301_bravo_org_x_BDSY_x_x_x&utm_medium=reddit&utm_source=soc&utm_term=BDSY-Reddit-AMA-Description'>\n",
      "<HTML url='https://www.bravotv.com/below-deck-sailing-yacht?cid=soc_reddit_x_20200301_bravo_org_x_BDSY_x_x_x_BDSY-Reddit-AMA-Description&rdt_cid=2983442620287616008&utm_campaign=x_20200301_bravo_org_x_BDSY_x_x_x&utm_medium=reddit&utm_source=soc&utm_term=BDSY-Reddit-AMA-Description'>\n",
      "<HTML url='https://www.bravotv.com/below-deck-sailing-yacht?cid=soc_reddit_x_20200301_bravo_org_x_BDSY_x_x_x_BDSY-Reddit-AMA-Description&rdt_cid=2983442620287616008&utm_campaign=x_20200301_bravo_org_x_BDSY_x_x_x&utm_medium=reddit&utm_source=soc&utm_term=BDSY-Reddit-AMA-Description'>\n",
      "<HTML url='https://www.bravotv.com/below-deck-sailing-yacht?cid=soc_reddit_x_20200301_bravo_org_x_BDSY_x_x_x_BDSY-Reddit-AMA-Description&rdt_cid=2983442620287616008&utm_campaign=x_20200301_bravo_org_x_BDSY_x_x_x&utm_medium=reddit&utm_source=soc&utm_term=BDSY-Reddit-AMA-Description'>\n",
      "<HTML url='https://www.bravotv.com/below-deck-sailing-yacht?cid=soc_reddit_x_20200301_bravo_org_x_BDSY_x_x_x_BDSY-Reddit-AMA-Description&rdt_cid=2983442620287616008&utm_campaign=x_20200301_bravo_org_x_BDSY_x_x_x&utm_medium=reddit&utm_source=soc&utm_term=BDSY-Reddit-AMA-Description'>\n",
      "<HTML url='https://www.bravotv.com/below-deck-sailing-yacht?cid=soc_reddit_x_20200301_bravo_org_x_BDSY_x_x_x_BDSY-Reddit-AMA-Description&rdt_cid=2983442620287616008&utm_campaign=x_20200301_bravo_org_x_BDSY_x_x_x&utm_medium=reddit&utm_source=soc&utm_term=BDSY-Reddit-AMA-Description'>\n",
      "<HTML url='https://www.bravotv.com/below-deck-sailing-yacht?cid=soc_reddit_x_20200301_bravo_org_x_BDSY_x_x_x_BDSY-Reddit-AMA-Description&rdt_cid=2983442620287616008&utm_campaign=x_20200301_bravo_org_x_BDSY_x_x_x&utm_medium=reddit&utm_source=soc&utm_term=BDSY-Reddit-AMA-Description'>\n",
      "<HTML url='https://www.bravotv.com/below-deck-sailing-yacht?cid=soc_reddit_x_20200301_bravo_org_x_BDSY_x_x_x_BDSY-Reddit-AMA-Description&rdt_cid=2983442620287616008&utm_campaign=x_20200301_bravo_org_x_BDSY_x_x_x&utm_medium=reddit&utm_source=soc&utm_term=BDSY-Reddit-AMA-Description'>\n",
      "<HTML url='https://www.bravotv.com/below-deck-sailing-yacht?cid=soc_reddit_x_20200301_bravo_org_x_BDSY_x_x_x_BDSY-Reddit-AMA-Description&rdt_cid=2983442620287616008&utm_campaign=x_20200301_bravo_org_x_BDSY_x_x_x&utm_medium=reddit&utm_source=soc&utm_term=BDSY-Reddit-AMA-Description'>\n",
      "<HTML url='https://www.bravotv.com/below-deck-sailing-yacht?cid=soc_reddit_x_20200301_bravo_org_x_BDSY_x_x_x_BDSY-Reddit-AMA-Description&rdt_cid=2983442620287616008&utm_campaign=x_20200301_bravo_org_x_BDSY_x_x_x&utm_medium=reddit&utm_source=soc&utm_term=BDSY-Reddit-AMA-Description'>\n",
      "<HTML url='https://www.bravotv.com/below-deck-sailing-yacht?cid=soc_reddit_x_20200301_bravo_org_x_BDSY_x_x_x_BDSY-Reddit-AMA-Description&rdt_cid=2983442620287616008&utm_campaign=x_20200301_bravo_org_x_BDSY_x_x_x&utm_medium=reddit&utm_source=soc&utm_term=BDSY-Reddit-AMA-Description'>\n",
      "<HTML url='https://www.bravotv.com/below-deck-sailing-yacht?cid=soc_reddit_x_20200301_bravo_org_x_BDSY_x_x_x_BDSY-Reddit-AMA-Description&rdt_cid=2983442620287616008&utm_campaign=x_20200301_bravo_org_x_BDSY_x_x_x&utm_medium=reddit&utm_source=soc&utm_term=BDSY-Reddit-AMA-Description'>\n",
      "<HTML url='https://www.bravotv.com/below-deck-sailing-yacht?cid=soc_reddit_x_20200301_bravo_org_x_BDSY_x_x_x_BDSY-Reddit-AMA-Description&rdt_cid=2983442620287616008&utm_campaign=x_20200301_bravo_org_x_BDSY_x_x_x&utm_medium=reddit&utm_source=soc&utm_term=BDSY-Reddit-AMA-Description'>\n",
      "<HTML url='https://www.bravotv.com/below-deck-sailing-yacht?cid=soc_reddit_x_20200301_bravo_org_x_BDSY_x_x_x_BDSY-Reddit-AMA-Description&rdt_cid=2983442620287616008&utm_campaign=x_20200301_bravo_org_x_BDSY_x_x_x&utm_medium=reddit&utm_source=soc&utm_term=BDSY-Reddit-AMA-Description'>\n",
      "<HTML url='https://www.bravotv.com/below-deck-sailing-yacht?cid=soc_reddit_x_20200301_bravo_org_x_BDSY_x_x_x_BDSY-Reddit-AMA-Description&rdt_cid=2983442620287616008&utm_campaign=x_20200301_bravo_org_x_BDSY_x_x_x&utm_medium=reddit&utm_source=soc&utm_term=BDSY-Reddit-AMA-Description'>\n",
      "<HTML url='https://www.bravotv.com/below-deck-sailing-yacht?cid=soc_reddit_x_20200301_bravo_org_x_BDSY_x_x_x_BDSY-Reddit-AMA-Description&rdt_cid=2983442620287616008&utm_campaign=x_20200301_bravo_org_x_BDSY_x_x_x&utm_medium=reddit&utm_source=soc&utm_term=BDSY-Reddit-AMA-Description'>\n",
      "<HTML url='https://www.bravotv.com/below-deck-sailing-yacht?cid=soc_reddit_x_20200301_bravo_org_x_BDSY_x_x_x_BDSY-Reddit-AMA-Description&rdt_cid=2983442620287616008&utm_campaign=x_20200301_bravo_org_x_BDSY_x_x_x&utm_medium=reddit&utm_source=soc&utm_term=BDSY-Reddit-AMA-Description'>\n",
      "<HTML url='https://www.bravotv.com/below-deck-sailing-yacht?cid=soc_reddit_x_20200301_bravo_org_x_BDSY_x_x_x_BDSY-Reddit-AMA-Description&rdt_cid=2983442620287616008&utm_campaign=x_20200301_bravo_org_x_BDSY_x_x_x&utm_medium=reddit&utm_source=soc&utm_term=BDSY-Reddit-AMA-Description'>\n"
     ]
    },
    {
     "name": "stdout",
     "output_type": "stream",
     "text": [
      "<HTML url='https://www.bravotv.com/below-deck-sailing-yacht?cid=soc_reddit_x_20200301_bravo_org_x_BDSY_x_x_x_BDSY-Reddit-AMA-Description&rdt_cid=2983442620287616008&utm_campaign=x_20200301_bravo_org_x_BDSY_x_x_x&utm_medium=reddit&utm_source=soc&utm_term=BDSY-Reddit-AMA-Description'>\n",
      "<HTML url='https://www.bravotv.com/below-deck-sailing-yacht?cid=soc_reddit_x_20200301_bravo_org_x_BDSY_x_x_x_BDSY-Reddit-AMA-Description&rdt_cid=2983442620287616008&utm_campaign=x_20200301_bravo_org_x_BDSY_x_x_x&utm_medium=reddit&utm_source=soc&utm_term=BDSY-Reddit-AMA-Description'>\n",
      "<HTML url='https://www.bravotv.com/below-deck-sailing-yacht?cid=soc_reddit_x_20200301_bravo_org_x_BDSY_x_x_x_BDSY-Reddit-AMA-Description&rdt_cid=2983442620287616008&utm_campaign=x_20200301_bravo_org_x_BDSY_x_x_x&utm_medium=reddit&utm_source=soc&utm_term=BDSY-Reddit-AMA-Description'>\n",
      "<HTML url='https://www.bravotv.com/below-deck-sailing-yacht?cid=soc_reddit_x_20200301_bravo_org_x_BDSY_x_x_x_BDSY-Reddit-AMA-Description&rdt_cid=2983442620287616008&utm_campaign=x_20200301_bravo_org_x_BDSY_x_x_x&utm_medium=reddit&utm_source=soc&utm_term=BDSY-Reddit-AMA-Description'>\n",
      "<HTML url='https://www.bravotv.com/below-deck-sailing-yacht?cid=soc_reddit_x_20200301_bravo_org_x_BDSY_x_x_x_BDSY-Reddit-AMA-Description&rdt_cid=2983442620287616008&utm_campaign=x_20200301_bravo_org_x_BDSY_x_x_x&utm_medium=reddit&utm_source=soc&utm_term=BDSY-Reddit-AMA-Description'>\n",
      "<HTML url='https://www.bravotv.com/below-deck-sailing-yacht?cid=soc_reddit_x_20200301_bravo_org_x_BDSY_x_x_x_BDSY-Reddit-AMA-Description&rdt_cid=2983442620287616008&utm_campaign=x_20200301_bravo_org_x_BDSY_x_x_x&utm_medium=reddit&utm_source=soc&utm_term=BDSY-Reddit-AMA-Description'>\n",
      "<HTML url='https://www.bravotv.com/below-deck-sailing-yacht?cid=soc_reddit_x_20200301_bravo_org_x_BDSY_x_x_x_BDSY-Reddit-AMA-Description&rdt_cid=2983442620287616008&utm_campaign=x_20200301_bravo_org_x_BDSY_x_x_x&utm_medium=reddit&utm_source=soc&utm_term=BDSY-Reddit-AMA-Description'>\n",
      "<HTML url='https://www.bravotv.com/below-deck-sailing-yacht?cid=soc_reddit_x_20200301_bravo_org_x_BDSY_x_x_x_BDSY-Reddit-AMA-Description&rdt_cid=2983442620287616008&utm_campaign=x_20200301_bravo_org_x_BDSY_x_x_x&utm_medium=reddit&utm_source=soc&utm_term=BDSY-Reddit-AMA-Description'>\n",
      "<HTML url='https://www.bravotv.com/below-deck-sailing-yacht?cid=soc_reddit_x_20200301_bravo_org_x_BDSY_x_x_x_BDSY-Reddit-AMA-Description&rdt_cid=2983442620287616008&utm_campaign=x_20200301_bravo_org_x_BDSY_x_x_x&utm_medium=reddit&utm_source=soc&utm_term=BDSY-Reddit-AMA-Description'>\n",
      "<HTML url='https://www.bravotv.com/below-deck-sailing-yacht?cid=soc_reddit_x_20200301_bravo_org_x_BDSY_x_x_x_BDSY-Reddit-AMA-Description&rdt_cid=2983442620287616008&utm_campaign=x_20200301_bravo_org_x_BDSY_x_x_x&utm_medium=reddit&utm_source=soc&utm_term=BDSY-Reddit-AMA-Description'>\n",
      "<HTML url='https://www.bravotv.com/below-deck-sailing-yacht?cid=soc_reddit_x_20200301_bravo_org_x_BDSY_x_x_x_BDSY-Reddit-AMA-Description&rdt_cid=2983442620287616008&utm_campaign=x_20200301_bravo_org_x_BDSY_x_x_x&utm_medium=reddit&utm_source=soc&utm_term=BDSY-Reddit-AMA-Description'>\n",
      "<HTML url='https://www.bravotv.com/below-deck-sailing-yacht?cid=soc_reddit_x_20200301_bravo_org_x_BDSY_x_x_x_BDSY-Reddit-AMA-Description&rdt_cid=2983442620287616008&utm_campaign=x_20200301_bravo_org_x_BDSY_x_x_x&utm_medium=reddit&utm_source=soc&utm_term=BDSY-Reddit-AMA-Description'>\n",
      "<HTML url='https://www.bravotv.com/below-deck-sailing-yacht?cid=soc_reddit_x_20200301_bravo_org_x_BDSY_x_x_x_BDSY-Reddit-AMA-Description&rdt_cid=2983442620287616008&utm_campaign=x_20200301_bravo_org_x_BDSY_x_x_x&utm_medium=reddit&utm_source=soc&utm_term=BDSY-Reddit-AMA-Description'>\n",
      "<HTML url='https://www.bravotv.com/below-deck-sailing-yacht?cid=soc_reddit_x_20200301_bravo_org_x_BDSY_x_x_x_BDSY-Reddit-AMA-Description&rdt_cid=2983442620287616008&utm_campaign=x_20200301_bravo_org_x_BDSY_x_x_x&utm_medium=reddit&utm_source=soc&utm_term=BDSY-Reddit-AMA-Description'>\n",
      "<HTML url='https://www.bravotv.com/below-deck-sailing-yacht?cid=soc_reddit_x_20200301_bravo_org_x_BDSY_x_x_x_BDSY-Reddit-AMA-Description&rdt_cid=2983442620287616008&utm_campaign=x_20200301_bravo_org_x_BDSY_x_x_x&utm_medium=reddit&utm_source=soc&utm_term=BDSY-Reddit-AMA-Description'>\n",
      "<HTML url='https://www.bravotv.com/below-deck-sailing-yacht?cid=soc_reddit_x_20200301_bravo_org_x_BDSY_x_x_x_BDSY-Reddit-AMA-Description&rdt_cid=2983442620287616008&utm_campaign=x_20200301_bravo_org_x_BDSY_x_x_x&utm_medium=reddit&utm_source=soc&utm_term=BDSY-Reddit-AMA-Description'>\n",
      "<HTML url='https://www.bravotv.com/below-deck-sailing-yacht?cid=soc_reddit_x_20200301_bravo_org_x_BDSY_x_x_x_BDSY-Reddit-AMA-Description&rdt_cid=2983442620287616008&utm_campaign=x_20200301_bravo_org_x_BDSY_x_x_x&utm_medium=reddit&utm_source=soc&utm_term=BDSY-Reddit-AMA-Description'>\n",
      "<HTML url='https://www.bravotv.com/below-deck-sailing-yacht?cid=soc_reddit_x_20200301_bravo_org_x_BDSY_x_x_x_BDSY-Reddit-AMA-Description&rdt_cid=2983442620287616008&utm_campaign=x_20200301_bravo_org_x_BDSY_x_x_x&utm_medium=reddit&utm_source=soc&utm_term=BDSY-Reddit-AMA-Description'>\n",
      "<HTML url='https://www.bravotv.com/below-deck-sailing-yacht?cid=soc_reddit_x_20200301_bravo_org_x_BDSY_x_x_x_BDSY-Reddit-AMA-Description&rdt_cid=2983442620287616008&utm_campaign=x_20200301_bravo_org_x_BDSY_x_x_x&utm_medium=reddit&utm_source=soc&utm_term=BDSY-Reddit-AMA-Description'>\n",
      "<HTML url='https://www.bravotv.com/below-deck-sailing-yacht?cid=soc_reddit_x_20200301_bravo_org_x_BDSY_x_x_x_BDSY-Reddit-AMA-Description&rdt_cid=2983442620287616008&utm_campaign=x_20200301_bravo_org_x_BDSY_x_x_x&utm_medium=reddit&utm_source=soc&utm_term=BDSY-Reddit-AMA-Description'>\n",
      "<HTML url='https://www.bravotv.com/below-deck-sailing-yacht?cid=soc_reddit_x_20200301_bravo_org_x_BDSY_x_x_x_BDSY-Reddit-AMA-Description&rdt_cid=2983442620287616008&utm_campaign=x_20200301_bravo_org_x_BDSY_x_x_x&utm_medium=reddit&utm_source=soc&utm_term=BDSY-Reddit-AMA-Description'>\n",
      "<HTML url='https://www.bravotv.com/below-deck-sailing-yacht?cid=soc_reddit_x_20200301_bravo_org_x_BDSY_x_x_x_BDSY-Reddit-AMA-Description&rdt_cid=2983442620287616008&utm_campaign=x_20200301_bravo_org_x_BDSY_x_x_x&utm_medium=reddit&utm_source=soc&utm_term=BDSY-Reddit-AMA-Description'>\n",
      "<HTML url='https://www.bravotv.com/below-deck-sailing-yacht?cid=soc_reddit_x_20200301_bravo_org_x_BDSY_x_x_x_BDSY-Reddit-AMA-Description&rdt_cid=2983442620287616008&utm_campaign=x_20200301_bravo_org_x_BDSY_x_x_x&utm_medium=reddit&utm_source=soc&utm_term=BDSY-Reddit-AMA-Description'>\n",
      "<HTML url='https://www.bravotv.com/below-deck-sailing-yacht?cid=soc_reddit_x_20200301_bravo_org_x_BDSY_x_x_x_BDSY-Reddit-AMA-Description&rdt_cid=2983442620287616008&utm_campaign=x_20200301_bravo_org_x_BDSY_x_x_x&utm_medium=reddit&utm_source=soc&utm_term=BDSY-Reddit-AMA-Description'>\n",
      "<HTML url='https://www.bravotv.com/below-deck-sailing-yacht?cid=soc_reddit_x_20200301_bravo_org_x_BDSY_x_x_x_BDSY-Reddit-AMA-Description&rdt_cid=2983442620287616008&utm_campaign=x_20200301_bravo_org_x_BDSY_x_x_x&utm_medium=reddit&utm_source=soc&utm_term=BDSY-Reddit-AMA-Description'>\n",
      "<HTML url='https://www.bravotv.com/below-deck-sailing-yacht?cid=soc_reddit_x_20200301_bravo_org_x_BDSY_x_x_x_BDSY-Reddit-AMA-Description&rdt_cid=2983442620287616008&utm_campaign=x_20200301_bravo_org_x_BDSY_x_x_x&utm_medium=reddit&utm_source=soc&utm_term=BDSY-Reddit-AMA-Description'>\n",
      "<HTML url='https://www.bravotv.com/below-deck-sailing-yacht?cid=soc_reddit_x_20200301_bravo_org_x_BDSY_x_x_x_BDSY-Reddit-AMA-Description&rdt_cid=2983442620287616008&utm_campaign=x_20200301_bravo_org_x_BDSY_x_x_x&utm_medium=reddit&utm_source=soc&utm_term=BDSY-Reddit-AMA-Description'>\n",
      "<HTML url='https://www.bravotv.com/below-deck-sailing-yacht?cid=soc_reddit_x_20200301_bravo_org_x_BDSY_x_x_x_BDSY-Reddit-AMA-Description&rdt_cid=2983442620287616008&utm_campaign=x_20200301_bravo_org_x_BDSY_x_x_x&utm_medium=reddit&utm_source=soc&utm_term=BDSY-Reddit-AMA-Description'>\n",
      "<HTML url='https://www.bravotv.com/below-deck-sailing-yacht?cid=soc_reddit_x_20200301_bravo_org_x_BDSY_x_x_x_BDSY-Reddit-AMA-Description&rdt_cid=2983442620287616008&utm_campaign=x_20200301_bravo_org_x_BDSY_x_x_x&utm_medium=reddit&utm_source=soc&utm_term=BDSY-Reddit-AMA-Description'>\n"
     ]
    },
    {
     "name": "stdout",
     "output_type": "stream",
     "text": [
      "<HTML url='https://www.bravotv.com/below-deck-sailing-yacht?cid=soc_reddit_x_20200301_bravo_org_x_BDSY_x_x_x_BDSY-Reddit-AMA-Description&rdt_cid=2983442620287616008&utm_campaign=x_20200301_bravo_org_x_BDSY_x_x_x&utm_medium=reddit&utm_source=soc&utm_term=BDSY-Reddit-AMA-Description'>\n",
      "<HTML url='https://www.bravotv.com/below-deck-sailing-yacht?cid=soc_reddit_x_20200301_bravo_org_x_BDSY_x_x_x_BDSY-Reddit-AMA-Description&rdt_cid=2983442620287616008&utm_campaign=x_20200301_bravo_org_x_BDSY_x_x_x&utm_medium=reddit&utm_source=soc&utm_term=BDSY-Reddit-AMA-Description'>\n",
      "<HTML url='https://www.bravotv.com/below-deck-sailing-yacht?cid=soc_reddit_x_20200301_bravo_org_x_BDSY_x_x_x_BDSY-Reddit-AMA-Description&rdt_cid=2983442620287616008&utm_campaign=x_20200301_bravo_org_x_BDSY_x_x_x&utm_medium=reddit&utm_source=soc&utm_term=BDSY-Reddit-AMA-Description'>\n",
      "<HTML url='https://www.bravotv.com/below-deck-sailing-yacht?cid=soc_reddit_x_20200301_bravo_org_x_BDSY_x_x_x_BDSY-Reddit-AMA-Description&rdt_cid=2983442620287616008&utm_campaign=x_20200301_bravo_org_x_BDSY_x_x_x&utm_medium=reddit&utm_source=soc&utm_term=BDSY-Reddit-AMA-Description'>\n",
      "<HTML url='https://www.bravotv.com/below-deck-sailing-yacht?cid=soc_reddit_x_20200301_bravo_org_x_BDSY_x_x_x_BDSY-Reddit-AMA-Description&rdt_cid=2983442620287616008&utm_campaign=x_20200301_bravo_org_x_BDSY_x_x_x&utm_medium=reddit&utm_source=soc&utm_term=BDSY-Reddit-AMA-Description'>\n",
      "<HTML url='https://www.bravotv.com/below-deck-sailing-yacht?cid=soc_reddit_x_20200301_bravo_org_x_BDSY_x_x_x_BDSY-Reddit-AMA-Description&rdt_cid=2983442620287616008&utm_campaign=x_20200301_bravo_org_x_BDSY_x_x_x&utm_medium=reddit&utm_source=soc&utm_term=BDSY-Reddit-AMA-Description'>\n",
      "<HTML url='https://www.bravotv.com/below-deck-sailing-yacht?cid=soc_reddit_x_20200301_bravo_org_x_BDSY_x_x_x_BDSY-Reddit-AMA-Description&rdt_cid=2983442620287616008&utm_campaign=x_20200301_bravo_org_x_BDSY_x_x_x&utm_medium=reddit&utm_source=soc&utm_term=BDSY-Reddit-AMA-Description'>\n",
      "<HTML url='https://www.bravotv.com/below-deck-sailing-yacht?cid=soc_reddit_x_20200301_bravo_org_x_BDSY_x_x_x_BDSY-Reddit-AMA-Description&rdt_cid=2983442620287616008&utm_campaign=x_20200301_bravo_org_x_BDSY_x_x_x&utm_medium=reddit&utm_source=soc&utm_term=BDSY-Reddit-AMA-Description'>\n",
      "<HTML url='https://www.bravotv.com/below-deck-sailing-yacht?cid=soc_reddit_x_20200301_bravo_org_x_BDSY_x_x_x_BDSY-Reddit-AMA-Description&rdt_cid=2983442620287616008&utm_campaign=x_20200301_bravo_org_x_BDSY_x_x_x&utm_medium=reddit&utm_source=soc&utm_term=BDSY-Reddit-AMA-Description'>\n",
      "<HTML url='https://www.bravotv.com/below-deck-sailing-yacht?cid=soc_reddit_x_20200301_bravo_org_x_BDSY_x_x_x_BDSY-Reddit-AMA-Description&rdt_cid=2983442620287616008&utm_campaign=x_20200301_bravo_org_x_BDSY_x_x_x&utm_medium=reddit&utm_source=soc&utm_term=BDSY-Reddit-AMA-Description'>\n",
      "<HTML url='https://www.bravotv.com/below-deck-sailing-yacht?cid=soc_reddit_x_20200301_bravo_org_x_BDSY_x_x_x_BDSY-Reddit-AMA-Description&rdt_cid=2983442620287616008&utm_campaign=x_20200301_bravo_org_x_BDSY_x_x_x&utm_medium=reddit&utm_source=soc&utm_term=BDSY-Reddit-AMA-Description'>\n",
      "<HTML url='https://www.bravotv.com/below-deck-sailing-yacht?cid=soc_reddit_x_20200301_bravo_org_x_BDSY_x_x_x_BDSY-Reddit-AMA-Description&rdt_cid=2983442620287616008&utm_campaign=x_20200301_bravo_org_x_BDSY_x_x_x&utm_medium=reddit&utm_source=soc&utm_term=BDSY-Reddit-AMA-Description'>\n",
      "<HTML url='https://www.bravotv.com/below-deck-sailing-yacht?cid=soc_reddit_x_20200301_bravo_org_x_BDSY_x_x_x_BDSY-Reddit-AMA-Description&rdt_cid=2983442620287616008&utm_campaign=x_20200301_bravo_org_x_BDSY_x_x_x&utm_medium=reddit&utm_source=soc&utm_term=BDSY-Reddit-AMA-Description'>\n",
      "<HTML url='https://www.bravotv.com/below-deck-sailing-yacht?cid=soc_reddit_x_20200301_bravo_org_x_BDSY_x_x_x_BDSY-Reddit-AMA-Description&rdt_cid=2983442620287616008&utm_campaign=x_20200301_bravo_org_x_BDSY_x_x_x&utm_medium=reddit&utm_source=soc&utm_term=BDSY-Reddit-AMA-Description'>\n",
      "<HTML url='https://www.bravotv.com/below-deck-sailing-yacht?cid=soc_reddit_x_20200301_bravo_org_x_BDSY_x_x_x_BDSY-Reddit-AMA-Description&rdt_cid=2983442620287616008&utm_campaign=x_20200301_bravo_org_x_BDSY_x_x_x&utm_medium=reddit&utm_source=soc&utm_term=BDSY-Reddit-AMA-Description'>\n",
      "<HTML url='https://www.bravotv.com/below-deck-sailing-yacht?cid=soc_reddit_x_20200301_bravo_org_x_BDSY_x_x_x_BDSY-Reddit-AMA-Description&rdt_cid=2983442620287616008&utm_campaign=x_20200301_bravo_org_x_BDSY_x_x_x&utm_medium=reddit&utm_source=soc&utm_term=BDSY-Reddit-AMA-Description'>\n",
      "<HTML url='https://www.bravotv.com/below-deck-sailing-yacht?cid=soc_reddit_x_20200301_bravo_org_x_BDSY_x_x_x_BDSY-Reddit-AMA-Description&rdt_cid=2983442620287616008&utm_campaign=x_20200301_bravo_org_x_BDSY_x_x_x&utm_medium=reddit&utm_source=soc&utm_term=BDSY-Reddit-AMA-Description'>\n",
      "<HTML url='https://www.bravotv.com/below-deck-sailing-yacht?cid=soc_reddit_x_20200301_bravo_org_x_BDSY_x_x_x_BDSY-Reddit-AMA-Description&rdt_cid=2983442620287616008&utm_campaign=x_20200301_bravo_org_x_BDSY_x_x_x&utm_medium=reddit&utm_source=soc&utm_term=BDSY-Reddit-AMA-Description'>\n",
      "<HTML url='https://www.bravotv.com/below-deck-sailing-yacht?cid=soc_reddit_x_20200301_bravo_org_x_BDSY_x_x_x_BDSY-Reddit-AMA-Description&rdt_cid=2983442620287616008&utm_campaign=x_20200301_bravo_org_x_BDSY_x_x_x&utm_medium=reddit&utm_source=soc&utm_term=BDSY-Reddit-AMA-Description'>\n",
      "<HTML url='https://www.bravotv.com/below-deck-sailing-yacht?cid=soc_reddit_x_20200301_bravo_org_x_BDSY_x_x_x_BDSY-Reddit-AMA-Description&rdt_cid=2983442620287616008&utm_campaign=x_20200301_bravo_org_x_BDSY_x_x_x&utm_medium=reddit&utm_source=soc&utm_term=BDSY-Reddit-AMA-Description'>\n",
      "<HTML url='https://www.bravotv.com/below-deck-sailing-yacht?cid=soc_reddit_x_20200301_bravo_org_x_BDSY_x_x_x_BDSY-Reddit-AMA-Description&rdt_cid=2983442620287616008&utm_campaign=x_20200301_bravo_org_x_BDSY_x_x_x&utm_medium=reddit&utm_source=soc&utm_term=BDSY-Reddit-AMA-Description'>\n",
      "<HTML url='https://www.bravotv.com/below-deck-sailing-yacht?cid=soc_reddit_x_20200301_bravo_org_x_BDSY_x_x_x_BDSY-Reddit-AMA-Description&rdt_cid=2983442620287616008&utm_campaign=x_20200301_bravo_org_x_BDSY_x_x_x&utm_medium=reddit&utm_source=soc&utm_term=BDSY-Reddit-AMA-Description'>\n",
      "<HTML url='https://www.bravotv.com/below-deck-sailing-yacht?cid=soc_reddit_x_20200301_bravo_org_x_BDSY_x_x_x_BDSY-Reddit-AMA-Description&rdt_cid=2983442620287616008&utm_campaign=x_20200301_bravo_org_x_BDSY_x_x_x&utm_medium=reddit&utm_source=soc&utm_term=BDSY-Reddit-AMA-Description'>\n",
      "<HTML url='https://www.bravotv.com/below-deck-sailing-yacht?cid=soc_reddit_x_20200301_bravo_org_x_BDSY_x_x_x_BDSY-Reddit-AMA-Description&rdt_cid=2983442620287616008&utm_campaign=x_20200301_bravo_org_x_BDSY_x_x_x&utm_medium=reddit&utm_source=soc&utm_term=BDSY-Reddit-AMA-Description'>\n",
      "<HTML url='https://www.bravotv.com/below-deck-sailing-yacht?cid=soc_reddit_x_20200301_bravo_org_x_BDSY_x_x_x_BDSY-Reddit-AMA-Description&rdt_cid=2983442620287616008&utm_campaign=x_20200301_bravo_org_x_BDSY_x_x_x&utm_medium=reddit&utm_source=soc&utm_term=BDSY-Reddit-AMA-Description'>\n",
      "<HTML url='https://www.bravotv.com/below-deck-sailing-yacht?cid=soc_reddit_x_20200301_bravo_org_x_BDSY_x_x_x_BDSY-Reddit-AMA-Description&rdt_cid=2983442620287616008&utm_campaign=x_20200301_bravo_org_x_BDSY_x_x_x&utm_medium=reddit&utm_source=soc&utm_term=BDSY-Reddit-AMA-Description'>\n",
      "<HTML url='https://www.bravotv.com/below-deck-sailing-yacht?cid=soc_reddit_x_20200301_bravo_org_x_BDSY_x_x_x_BDSY-Reddit-AMA-Description&rdt_cid=2983442620287616008&utm_campaign=x_20200301_bravo_org_x_BDSY_x_x_x&utm_medium=reddit&utm_source=soc&utm_term=BDSY-Reddit-AMA-Description'>\n",
      "<HTML url='https://www.bravotv.com/below-deck-sailing-yacht?cid=soc_reddit_x_20200301_bravo_org_x_BDSY_x_x_x_BDSY-Reddit-AMA-Description&rdt_cid=2983442620287616008&utm_campaign=x_20200301_bravo_org_x_BDSY_x_x_x&utm_medium=reddit&utm_source=soc&utm_term=BDSY-Reddit-AMA-Description'>\n",
      "<HTML url='https://www.bravotv.com/below-deck-sailing-yacht?cid=soc_reddit_x_20200301_bravo_org_x_BDSY_x_x_x_BDSY-Reddit-AMA-Description&rdt_cid=2983442620287616008&utm_campaign=x_20200301_bravo_org_x_BDSY_x_x_x&utm_medium=reddit&utm_source=soc&utm_term=BDSY-Reddit-AMA-Description'>\n"
     ]
    },
    {
     "name": "stdout",
     "output_type": "stream",
     "text": [
      "<HTML url='https://www.bravotv.com/below-deck-sailing-yacht?cid=soc_reddit_x_20200301_bravo_org_x_BDSY_x_x_x_BDSY-Reddit-AMA-Description&rdt_cid=2983442620287616008&utm_campaign=x_20200301_bravo_org_x_BDSY_x_x_x&utm_medium=reddit&utm_source=soc&utm_term=BDSY-Reddit-AMA-Description'>\n",
      "<HTML url='https://www.bravotv.com/below-deck-sailing-yacht?cid=soc_reddit_x_20200301_bravo_org_x_BDSY_x_x_x_BDSY-Reddit-AMA-Description&rdt_cid=2983442620287616008&utm_campaign=x_20200301_bravo_org_x_BDSY_x_x_x&utm_medium=reddit&utm_source=soc&utm_term=BDSY-Reddit-AMA-Description'>\n",
      "<HTML url='https://www.bravotv.com/below-deck-sailing-yacht?cid=soc_reddit_x_20200301_bravo_org_x_BDSY_x_x_x_BDSY-Reddit-AMA-Description&rdt_cid=2983442620287616008&utm_campaign=x_20200301_bravo_org_x_BDSY_x_x_x&utm_medium=reddit&utm_source=soc&utm_term=BDSY-Reddit-AMA-Description'>\n",
      "<HTML url='https://www.bravotv.com/below-deck-sailing-yacht?cid=soc_reddit_x_20200301_bravo_org_x_BDSY_x_x_x_BDSY-Reddit-AMA-Description&rdt_cid=2983442620287616008&utm_campaign=x_20200301_bravo_org_x_BDSY_x_x_x&utm_medium=reddit&utm_source=soc&utm_term=BDSY-Reddit-AMA-Description'>\n",
      "<HTML url='https://www.bravotv.com/below-deck-sailing-yacht?cid=soc_reddit_x_20200301_bravo_org_x_BDSY_x_x_x_BDSY-Reddit-AMA-Description&rdt_cid=2983442620287616008&utm_campaign=x_20200301_bravo_org_x_BDSY_x_x_x&utm_medium=reddit&utm_source=soc&utm_term=BDSY-Reddit-AMA-Description'>\n",
      "<HTML url='https://www.bravotv.com/below-deck-sailing-yacht?cid=soc_reddit_x_20200301_bravo_org_x_BDSY_x_x_x_BDSY-Reddit-AMA-Description&rdt_cid=2983442620287616008&utm_campaign=x_20200301_bravo_org_x_BDSY_x_x_x&utm_medium=reddit&utm_source=soc&utm_term=BDSY-Reddit-AMA-Description'>\n",
      "<HTML url='https://www.bravotv.com/below-deck-sailing-yacht?cid=soc_reddit_x_20200301_bravo_org_x_BDSY_x_x_x_BDSY-Reddit-AMA-Description&rdt_cid=2983442620287616008&utm_campaign=x_20200301_bravo_org_x_BDSY_x_x_x&utm_medium=reddit&utm_source=soc&utm_term=BDSY-Reddit-AMA-Description'>\n",
      "<HTML url='https://www.bravotv.com/below-deck-sailing-yacht?cid=soc_reddit_x_20200301_bravo_org_x_BDSY_x_x_x_BDSY-Reddit-AMA-Description&rdt_cid=2983442620287616008&utm_campaign=x_20200301_bravo_org_x_BDSY_x_x_x&utm_medium=reddit&utm_source=soc&utm_term=BDSY-Reddit-AMA-Description'>\n",
      "<HTML url='https://www.bravotv.com/below-deck-sailing-yacht?cid=soc_reddit_x_20200301_bravo_org_x_BDSY_x_x_x_BDSY-Reddit-AMA-Description&rdt_cid=2983442620287616008&utm_campaign=x_20200301_bravo_org_x_BDSY_x_x_x&utm_medium=reddit&utm_source=soc&utm_term=BDSY-Reddit-AMA-Description'>\n",
      "<HTML url='https://www.bravotv.com/below-deck-sailing-yacht?cid=soc_reddit_x_20200301_bravo_org_x_BDSY_x_x_x_BDSY-Reddit-AMA-Description&rdt_cid=2983442620287616008&utm_campaign=x_20200301_bravo_org_x_BDSY_x_x_x&utm_medium=reddit&utm_source=soc&utm_term=BDSY-Reddit-AMA-Description'>\n",
      "<HTML url='https://www.bravotv.com/below-deck-sailing-yacht?cid=soc_reddit_x_20200301_bravo_org_x_BDSY_x_x_x_BDSY-Reddit-AMA-Description&rdt_cid=2983442620287616008&utm_campaign=x_20200301_bravo_org_x_BDSY_x_x_x&utm_medium=reddit&utm_source=soc&utm_term=BDSY-Reddit-AMA-Description'>\n",
      "<HTML url='https://www.bravotv.com/below-deck-sailing-yacht?cid=soc_reddit_x_20200301_bravo_org_x_BDSY_x_x_x_BDSY-Reddit-AMA-Description&rdt_cid=2983442620287616008&utm_campaign=x_20200301_bravo_org_x_BDSY_x_x_x&utm_medium=reddit&utm_source=soc&utm_term=BDSY-Reddit-AMA-Description'>\n",
      "<HTML url='https://www.bravotv.com/below-deck-sailing-yacht?cid=soc_reddit_x_20200301_bravo_org_x_BDSY_x_x_x_BDSY-Reddit-AMA-Description&rdt_cid=2983442620287616008&utm_campaign=x_20200301_bravo_org_x_BDSY_x_x_x&utm_medium=reddit&utm_source=soc&utm_term=BDSY-Reddit-AMA-Description'>\n",
      "<HTML url='https://www.bravotv.com/below-deck-sailing-yacht?cid=soc_reddit_x_20200301_bravo_org_x_BDSY_x_x_x_BDSY-Reddit-AMA-Description&rdt_cid=2983442620287616008&utm_campaign=x_20200301_bravo_org_x_BDSY_x_x_x&utm_medium=reddit&utm_source=soc&utm_term=BDSY-Reddit-AMA-Description'>\n",
      "<HTML url='https://www.bravotv.com/below-deck-sailing-yacht?cid=soc_reddit_x_20200301_bravo_org_x_BDSY_x_x_x_BDSY-Reddit-AMA-Description&rdt_cid=2983442620287616008&utm_campaign=x_20200301_bravo_org_x_BDSY_x_x_x&utm_medium=reddit&utm_source=soc&utm_term=BDSY-Reddit-AMA-Description'>\n",
      "<HTML url='https://www.bravotv.com/below-deck-sailing-yacht?cid=soc_reddit_x_20200301_bravo_org_x_BDSY_x_x_x_BDSY-Reddit-AMA-Description&rdt_cid=2983442620287616008&utm_campaign=x_20200301_bravo_org_x_BDSY_x_x_x&utm_medium=reddit&utm_source=soc&utm_term=BDSY-Reddit-AMA-Description'>\n",
      "<HTML url='https://www.bravotv.com/below-deck-sailing-yacht?cid=soc_reddit_x_20200301_bravo_org_x_BDSY_x_x_x_BDSY-Reddit-AMA-Description&rdt_cid=2983442620287616008&utm_campaign=x_20200301_bravo_org_x_BDSY_x_x_x&utm_medium=reddit&utm_source=soc&utm_term=BDSY-Reddit-AMA-Description'>\n",
      "<HTML url='https://www.bravotv.com/below-deck-sailing-yacht?cid=soc_reddit_x_20200301_bravo_org_x_BDSY_x_x_x_BDSY-Reddit-AMA-Description&rdt_cid=2983442620287616008&utm_campaign=x_20200301_bravo_org_x_BDSY_x_x_x&utm_medium=reddit&utm_source=soc&utm_term=BDSY-Reddit-AMA-Description'>\n",
      "<HTML url='https://www.bravotv.com/below-deck-sailing-yacht?cid=soc_reddit_x_20200301_bravo_org_x_BDSY_x_x_x_BDSY-Reddit-AMA-Description&rdt_cid=2983442620287616008&utm_campaign=x_20200301_bravo_org_x_BDSY_x_x_x&utm_medium=reddit&utm_source=soc&utm_term=BDSY-Reddit-AMA-Description'>\n",
      "<HTML url='https://www.bravotv.com/below-deck-sailing-yacht?cid=soc_reddit_x_20200301_bravo_org_x_BDSY_x_x_x_BDSY-Reddit-AMA-Description&rdt_cid=2983442620287616008&utm_campaign=x_20200301_bravo_org_x_BDSY_x_x_x&utm_medium=reddit&utm_source=soc&utm_term=BDSY-Reddit-AMA-Description'>\n",
      "<HTML url='https://www.bravotv.com/below-deck-sailing-yacht?cid=soc_reddit_x_20200301_bravo_org_x_BDSY_x_x_x_BDSY-Reddit-AMA-Description&rdt_cid=2983442620287616008&utm_campaign=x_20200301_bravo_org_x_BDSY_x_x_x&utm_medium=reddit&utm_source=soc&utm_term=BDSY-Reddit-AMA-Description'>\n",
      "<HTML url='https://www.bravotv.com/below-deck-sailing-yacht?cid=soc_reddit_x_20200301_bravo_org_x_BDSY_x_x_x_BDSY-Reddit-AMA-Description&rdt_cid=2983442620287616008&utm_campaign=x_20200301_bravo_org_x_BDSY_x_x_x&utm_medium=reddit&utm_source=soc&utm_term=BDSY-Reddit-AMA-Description'>\n",
      "<HTML url='https://www.bravotv.com/below-deck-sailing-yacht?cid=soc_reddit_x_20200301_bravo_org_x_BDSY_x_x_x_BDSY-Reddit-AMA-Description&rdt_cid=2983442620287616008&utm_campaign=x_20200301_bravo_org_x_BDSY_x_x_x&utm_medium=reddit&utm_source=soc&utm_term=BDSY-Reddit-AMA-Description'>\n",
      "<HTML url='https://www.bravotv.com/below-deck-sailing-yacht?cid=soc_reddit_x_20200301_bravo_org_x_BDSY_x_x_x_BDSY-Reddit-AMA-Description&rdt_cid=2983442620287616008&utm_campaign=x_20200301_bravo_org_x_BDSY_x_x_x&utm_medium=reddit&utm_source=soc&utm_term=BDSY-Reddit-AMA-Description'>\n",
      "<HTML url='https://www.bravotv.com/below-deck-sailing-yacht?cid=soc_reddit_x_20200301_bravo_org_x_BDSY_x_x_x_BDSY-Reddit-AMA-Description&rdt_cid=2983442620287616008&utm_campaign=x_20200301_bravo_org_x_BDSY_x_x_x&utm_medium=reddit&utm_source=soc&utm_term=BDSY-Reddit-AMA-Description'>\n",
      "<HTML url='https://www.bravotv.com/below-deck-sailing-yacht?cid=soc_reddit_x_20200301_bravo_org_x_BDSY_x_x_x_BDSY-Reddit-AMA-Description&rdt_cid=2983442620287616008&utm_campaign=x_20200301_bravo_org_x_BDSY_x_x_x&utm_medium=reddit&utm_source=soc&utm_term=BDSY-Reddit-AMA-Description'>\n",
      "<HTML url='https://www.bravotv.com/below-deck-sailing-yacht?cid=soc_reddit_x_20200301_bravo_org_x_BDSY_x_x_x_BDSY-Reddit-AMA-Description&rdt_cid=2983442620287616008&utm_campaign=x_20200301_bravo_org_x_BDSY_x_x_x&utm_medium=reddit&utm_source=soc&utm_term=BDSY-Reddit-AMA-Description'>\n",
      "<HTML url='https://www.bravotv.com/below-deck-sailing-yacht?cid=soc_reddit_x_20200301_bravo_org_x_BDSY_x_x_x_BDSY-Reddit-AMA-Description&rdt_cid=2983442620287616008&utm_campaign=x_20200301_bravo_org_x_BDSY_x_x_x&utm_medium=reddit&utm_source=soc&utm_term=BDSY-Reddit-AMA-Description'>\n",
      "<HTML url='https://www.bravotv.com/below-deck-sailing-yacht?cid=soc_reddit_x_20200301_bravo_org_x_BDSY_x_x_x_BDSY-Reddit-AMA-Description&rdt_cid=2983442620287616008&utm_campaign=x_20200301_bravo_org_x_BDSY_x_x_x&utm_medium=reddit&utm_source=soc&utm_term=BDSY-Reddit-AMA-Description'>\n"
     ]
    },
    {
     "name": "stdout",
     "output_type": "stream",
     "text": [
      "<HTML url='https://www.bravotv.com/below-deck-sailing-yacht?cid=soc_reddit_x_20200301_bravo_org_x_BDSY_x_x_x_BDSY-Reddit-AMA-Description&rdt_cid=2983442620287616008&utm_campaign=x_20200301_bravo_org_x_BDSY_x_x_x&utm_medium=reddit&utm_source=soc&utm_term=BDSY-Reddit-AMA-Description'>\n",
      "<HTML url='https://www.bravotv.com/below-deck-sailing-yacht?cid=soc_reddit_x_20200301_bravo_org_x_BDSY_x_x_x_BDSY-Reddit-AMA-Description&rdt_cid=2983442620287616008&utm_campaign=x_20200301_bravo_org_x_BDSY_x_x_x&utm_medium=reddit&utm_source=soc&utm_term=BDSY-Reddit-AMA-Description'>\n",
      "<HTML url='https://www.bravotv.com/below-deck-sailing-yacht?cid=soc_reddit_x_20200301_bravo_org_x_BDSY_x_x_x_BDSY-Reddit-AMA-Description&rdt_cid=2983442620287616008&utm_campaign=x_20200301_bravo_org_x_BDSY_x_x_x&utm_medium=reddit&utm_source=soc&utm_term=BDSY-Reddit-AMA-Description'>\n",
      "<HTML url='https://www.bravotv.com/below-deck-sailing-yacht?cid=soc_reddit_x_20200301_bravo_org_x_BDSY_x_x_x_BDSY-Reddit-AMA-Description&rdt_cid=2983442620287616008&utm_campaign=x_20200301_bravo_org_x_BDSY_x_x_x&utm_medium=reddit&utm_source=soc&utm_term=BDSY-Reddit-AMA-Description'>\n",
      "<HTML url='https://www.bravotv.com/below-deck-sailing-yacht?cid=soc_reddit_x_20200301_bravo_org_x_BDSY_x_x_x_BDSY-Reddit-AMA-Description&rdt_cid=2983442620287616008&utm_campaign=x_20200301_bravo_org_x_BDSY_x_x_x&utm_medium=reddit&utm_source=soc&utm_term=BDSY-Reddit-AMA-Description'>\n",
      "<HTML url='https://www.bravotv.com/below-deck-sailing-yacht?cid=soc_reddit_x_20200301_bravo_org_x_BDSY_x_x_x_BDSY-Reddit-AMA-Description&rdt_cid=2983442620287616008&utm_campaign=x_20200301_bravo_org_x_BDSY_x_x_x&utm_medium=reddit&utm_source=soc&utm_term=BDSY-Reddit-AMA-Description'>\n",
      "<HTML url='https://www.bravotv.com/below-deck-sailing-yacht?cid=soc_reddit_x_20200301_bravo_org_x_BDSY_x_x_x_BDSY-Reddit-AMA-Description&rdt_cid=2983442620287616008&utm_campaign=x_20200301_bravo_org_x_BDSY_x_x_x&utm_medium=reddit&utm_source=soc&utm_term=BDSY-Reddit-AMA-Description'>\n",
      "<HTML url='https://www.bravotv.com/below-deck-sailing-yacht?cid=soc_reddit_x_20200301_bravo_org_x_BDSY_x_x_x_BDSY-Reddit-AMA-Description&rdt_cid=2983442620287616008&utm_campaign=x_20200301_bravo_org_x_BDSY_x_x_x&utm_medium=reddit&utm_source=soc&utm_term=BDSY-Reddit-AMA-Description'>\n",
      "<HTML url='https://www.bravotv.com/below-deck-sailing-yacht?cid=soc_reddit_x_20200301_bravo_org_x_BDSY_x_x_x_BDSY-Reddit-AMA-Description&rdt_cid=2983442620287616008&utm_campaign=x_20200301_bravo_org_x_BDSY_x_x_x&utm_medium=reddit&utm_source=soc&utm_term=BDSY-Reddit-AMA-Description'>\n",
      "<HTML url='https://www.bravotv.com/below-deck-sailing-yacht?cid=soc_reddit_x_20200301_bravo_org_x_BDSY_x_x_x_BDSY-Reddit-AMA-Description&rdt_cid=2983442620287616008&utm_campaign=x_20200301_bravo_org_x_BDSY_x_x_x&utm_medium=reddit&utm_source=soc&utm_term=BDSY-Reddit-AMA-Description'>\n",
      "<HTML url='https://www.bravotv.com/below-deck-sailing-yacht?cid=soc_reddit_x_20200301_bravo_org_x_BDSY_x_x_x_BDSY-Reddit-AMA-Description&rdt_cid=2983442620287616008&utm_campaign=x_20200301_bravo_org_x_BDSY_x_x_x&utm_medium=reddit&utm_source=soc&utm_term=BDSY-Reddit-AMA-Description'>\n",
      "<HTML url='https://www.bravotv.com/below-deck-sailing-yacht?cid=soc_reddit_x_20200301_bravo_org_x_BDSY_x_x_x_BDSY-Reddit-AMA-Description&rdt_cid=2983442620287616008&utm_campaign=x_20200301_bravo_org_x_BDSY_x_x_x&utm_medium=reddit&utm_source=soc&utm_term=BDSY-Reddit-AMA-Description'>\n",
      "<HTML url='https://www.bravotv.com/below-deck-sailing-yacht?cid=soc_reddit_x_20200301_bravo_org_x_BDSY_x_x_x_BDSY-Reddit-AMA-Description&rdt_cid=2983442620287616008&utm_campaign=x_20200301_bravo_org_x_BDSY_x_x_x&utm_medium=reddit&utm_source=soc&utm_term=BDSY-Reddit-AMA-Description'>\n",
      "<HTML url='https://www.bravotv.com/below-deck-sailing-yacht?cid=soc_reddit_x_20200301_bravo_org_x_BDSY_x_x_x_BDSY-Reddit-AMA-Description&rdt_cid=2983442620287616008&utm_campaign=x_20200301_bravo_org_x_BDSY_x_x_x&utm_medium=reddit&utm_source=soc&utm_term=BDSY-Reddit-AMA-Description'>\n",
      "<HTML url='https://www.bravotv.com/below-deck-sailing-yacht?cid=soc_reddit_x_20200301_bravo_org_x_BDSY_x_x_x_BDSY-Reddit-AMA-Description&rdt_cid=2983442620287616008&utm_campaign=x_20200301_bravo_org_x_BDSY_x_x_x&utm_medium=reddit&utm_source=soc&utm_term=BDSY-Reddit-AMA-Description'>\n",
      "<HTML url='https://www.bravotv.com/below-deck-sailing-yacht?cid=soc_reddit_x_20200301_bravo_org_x_BDSY_x_x_x_BDSY-Reddit-AMA-Description&rdt_cid=2983442620287616008&utm_campaign=x_20200301_bravo_org_x_BDSY_x_x_x&utm_medium=reddit&utm_source=soc&utm_term=BDSY-Reddit-AMA-Description'>\n",
      "<HTML url='https://www.bravotv.com/below-deck-sailing-yacht?cid=soc_reddit_x_20200301_bravo_org_x_BDSY_x_x_x_BDSY-Reddit-AMA-Description&rdt_cid=2983442620287616008&utm_campaign=x_20200301_bravo_org_x_BDSY_x_x_x&utm_medium=reddit&utm_source=soc&utm_term=BDSY-Reddit-AMA-Description'>\n",
      "<HTML url='https://www.bravotv.com/below-deck-sailing-yacht?cid=soc_reddit_x_20200301_bravo_org_x_BDSY_x_x_x_BDSY-Reddit-AMA-Description&rdt_cid=2983442620287616008&utm_campaign=x_20200301_bravo_org_x_BDSY_x_x_x&utm_medium=reddit&utm_source=soc&utm_term=BDSY-Reddit-AMA-Description'>\n",
      "<HTML url='https://www.bravotv.com/below-deck-sailing-yacht?cid=soc_reddit_x_20200301_bravo_org_x_BDSY_x_x_x_BDSY-Reddit-AMA-Description&rdt_cid=2983442620287616008&utm_campaign=x_20200301_bravo_org_x_BDSY_x_x_x&utm_medium=reddit&utm_source=soc&utm_term=BDSY-Reddit-AMA-Description'>\n",
      "<HTML url='https://www.bravotv.com/below-deck-sailing-yacht?cid=soc_reddit_x_20200301_bravo_org_x_BDSY_x_x_x_BDSY-Reddit-AMA-Description&rdt_cid=2983442620287616008&utm_campaign=x_20200301_bravo_org_x_BDSY_x_x_x&utm_medium=reddit&utm_source=soc&utm_term=BDSY-Reddit-AMA-Description'>\n",
      "<HTML url='https://www.bravotv.com/below-deck-sailing-yacht?cid=soc_reddit_x_20200301_bravo_org_x_BDSY_x_x_x_BDSY-Reddit-AMA-Description&rdt_cid=2983442620287616008&utm_campaign=x_20200301_bravo_org_x_BDSY_x_x_x&utm_medium=reddit&utm_source=soc&utm_term=BDSY-Reddit-AMA-Description'>\n",
      "<HTML url='https://www.bravotv.com/below-deck-sailing-yacht?cid=soc_reddit_x_20200301_bravo_org_x_BDSY_x_x_x_BDSY-Reddit-AMA-Description&rdt_cid=2983442620287616008&utm_campaign=x_20200301_bravo_org_x_BDSY_x_x_x&utm_medium=reddit&utm_source=soc&utm_term=BDSY-Reddit-AMA-Description'>\n",
      "<HTML url='https://www.bravotv.com/below-deck-sailing-yacht?cid=soc_reddit_x_20200301_bravo_org_x_BDSY_x_x_x_BDSY-Reddit-AMA-Description&rdt_cid=2983442620287616008&utm_campaign=x_20200301_bravo_org_x_BDSY_x_x_x&utm_medium=reddit&utm_source=soc&utm_term=BDSY-Reddit-AMA-Description'>\n",
      "<HTML url='https://www.bravotv.com/below-deck-sailing-yacht?cid=soc_reddit_x_20200301_bravo_org_x_BDSY_x_x_x_BDSY-Reddit-AMA-Description&rdt_cid=2983442620287616008&utm_campaign=x_20200301_bravo_org_x_BDSY_x_x_x&utm_medium=reddit&utm_source=soc&utm_term=BDSY-Reddit-AMA-Description'>\n",
      "<HTML url='https://www.bravotv.com/below-deck-sailing-yacht?cid=soc_reddit_x_20200301_bravo_org_x_BDSY_x_x_x_BDSY-Reddit-AMA-Description&rdt_cid=2983442620287616008&utm_campaign=x_20200301_bravo_org_x_BDSY_x_x_x&utm_medium=reddit&utm_source=soc&utm_term=BDSY-Reddit-AMA-Description'>\n",
      "<HTML url='https://www.bravotv.com/below-deck-sailing-yacht?cid=soc_reddit_x_20200301_bravo_org_x_BDSY_x_x_x_BDSY-Reddit-AMA-Description&rdt_cid=2983442620287616008&utm_campaign=x_20200301_bravo_org_x_BDSY_x_x_x&utm_medium=reddit&utm_source=soc&utm_term=BDSY-Reddit-AMA-Description'>\n",
      "<HTML url='https://www.bravotv.com/below-deck-sailing-yacht?cid=soc_reddit_x_20200301_bravo_org_x_BDSY_x_x_x_BDSY-Reddit-AMA-Description&rdt_cid=2983442620287616008&utm_campaign=x_20200301_bravo_org_x_BDSY_x_x_x&utm_medium=reddit&utm_source=soc&utm_term=BDSY-Reddit-AMA-Description'>\n",
      "<HTML url='https://www.bravotv.com/below-deck-sailing-yacht?cid=soc_reddit_x_20200301_bravo_org_x_BDSY_x_x_x_BDSY-Reddit-AMA-Description&rdt_cid=2983442620287616008&utm_campaign=x_20200301_bravo_org_x_BDSY_x_x_x&utm_medium=reddit&utm_source=soc&utm_term=BDSY-Reddit-AMA-Description'>\n",
      "<HTML url='https://www.bravotv.com/below-deck-sailing-yacht?cid=soc_reddit_x_20200301_bravo_org_x_BDSY_x_x_x_BDSY-Reddit-AMA-Description&rdt_cid=2983442620287616008&utm_campaign=x_20200301_bravo_org_x_BDSY_x_x_x&utm_medium=reddit&utm_source=soc&utm_term=BDSY-Reddit-AMA-Description'>\n"
     ]
    },
    {
     "name": "stdout",
     "output_type": "stream",
     "text": [
      "<HTML url='https://www.bravotv.com/below-deck-sailing-yacht?cid=soc_reddit_x_20200301_bravo_org_x_BDSY_x_x_x_BDSY-Reddit-AMA-Description&rdt_cid=2983442620287616008&utm_campaign=x_20200301_bravo_org_x_BDSY_x_x_x&utm_medium=reddit&utm_source=soc&utm_term=BDSY-Reddit-AMA-Description'>\n",
      "<HTML url='https://www.bravotv.com/below-deck-sailing-yacht?cid=soc_reddit_x_20200301_bravo_org_x_BDSY_x_x_x_BDSY-Reddit-AMA-Description&rdt_cid=2983442620287616008&utm_campaign=x_20200301_bravo_org_x_BDSY_x_x_x&utm_medium=reddit&utm_source=soc&utm_term=BDSY-Reddit-AMA-Description'>\n",
      "<HTML url='https://www.bravotv.com/below-deck-sailing-yacht?cid=soc_reddit_x_20200301_bravo_org_x_BDSY_x_x_x_BDSY-Reddit-AMA-Description&rdt_cid=2983442620287616008&utm_campaign=x_20200301_bravo_org_x_BDSY_x_x_x&utm_medium=reddit&utm_source=soc&utm_term=BDSY-Reddit-AMA-Description'>\n",
      "<HTML url='https://www.bravotv.com/below-deck-sailing-yacht?cid=soc_reddit_x_20200301_bravo_org_x_BDSY_x_x_x_BDSY-Reddit-AMA-Description&rdt_cid=2983442620287616008&utm_campaign=x_20200301_bravo_org_x_BDSY_x_x_x&utm_medium=reddit&utm_source=soc&utm_term=BDSY-Reddit-AMA-Description'>\n",
      "<HTML url='https://www.bravotv.com/below-deck-sailing-yacht?cid=soc_reddit_x_20200301_bravo_org_x_BDSY_x_x_x_BDSY-Reddit-AMA-Description&rdt_cid=2983442620287616008&utm_campaign=x_20200301_bravo_org_x_BDSY_x_x_x&utm_medium=reddit&utm_source=soc&utm_term=BDSY-Reddit-AMA-Description'>\n",
      "<HTML url='https://www.bravotv.com/below-deck-sailing-yacht?cid=soc_reddit_x_20200301_bravo_org_x_BDSY_x_x_x_BDSY-Reddit-AMA-Description&rdt_cid=2983442620287616008&utm_campaign=x_20200301_bravo_org_x_BDSY_x_x_x&utm_medium=reddit&utm_source=soc&utm_term=BDSY-Reddit-AMA-Description'>\n",
      "<HTML url='https://www.bravotv.com/below-deck-sailing-yacht?cid=soc_reddit_x_20200301_bravo_org_x_BDSY_x_x_x_BDSY-Reddit-AMA-Description&rdt_cid=2983442620287616008&utm_campaign=x_20200301_bravo_org_x_BDSY_x_x_x&utm_medium=reddit&utm_source=soc&utm_term=BDSY-Reddit-AMA-Description'>\n",
      "<HTML url='https://www.bravotv.com/below-deck-sailing-yacht?cid=soc_reddit_x_20200301_bravo_org_x_BDSY_x_x_x_BDSY-Reddit-AMA-Description&rdt_cid=2983442620287616008&utm_campaign=x_20200301_bravo_org_x_BDSY_x_x_x&utm_medium=reddit&utm_source=soc&utm_term=BDSY-Reddit-AMA-Description'>\n",
      "<HTML url='https://www.bravotv.com/below-deck-sailing-yacht?cid=soc_reddit_x_20200301_bravo_org_x_BDSY_x_x_x_BDSY-Reddit-AMA-Description&rdt_cid=2983442620287616008&utm_campaign=x_20200301_bravo_org_x_BDSY_x_x_x&utm_medium=reddit&utm_source=soc&utm_term=BDSY-Reddit-AMA-Description'>\n",
      "<HTML url='https://www.bravotv.com/below-deck-sailing-yacht?cid=soc_reddit_x_20200301_bravo_org_x_BDSY_x_x_x_BDSY-Reddit-AMA-Description&rdt_cid=2983442620287616008&utm_campaign=x_20200301_bravo_org_x_BDSY_x_x_x&utm_medium=reddit&utm_source=soc&utm_term=BDSY-Reddit-AMA-Description'>\n",
      "<HTML url='https://www.bravotv.com/below-deck-sailing-yacht?cid=soc_reddit_x_20200301_bravo_org_x_BDSY_x_x_x_BDSY-Reddit-AMA-Description&rdt_cid=2983442620287616008&utm_campaign=x_20200301_bravo_org_x_BDSY_x_x_x&utm_medium=reddit&utm_source=soc&utm_term=BDSY-Reddit-AMA-Description'>\n",
      "<HTML url='https://www.bravotv.com/below-deck-sailing-yacht?cid=soc_reddit_x_20200301_bravo_org_x_BDSY_x_x_x_BDSY-Reddit-AMA-Description&rdt_cid=2983442620287616008&utm_campaign=x_20200301_bravo_org_x_BDSY_x_x_x&utm_medium=reddit&utm_source=soc&utm_term=BDSY-Reddit-AMA-Description'>\n",
      "<HTML url='https://www.bravotv.com/below-deck-sailing-yacht?cid=soc_reddit_x_20200301_bravo_org_x_BDSY_x_x_x_BDSY-Reddit-AMA-Description&rdt_cid=2983442620287616008&utm_campaign=x_20200301_bravo_org_x_BDSY_x_x_x&utm_medium=reddit&utm_source=soc&utm_term=BDSY-Reddit-AMA-Description'>\n",
      "<HTML url='https://www.bravotv.com/below-deck-sailing-yacht?cid=soc_reddit_x_20200301_bravo_org_x_BDSY_x_x_x_BDSY-Reddit-AMA-Description&rdt_cid=2983442620287616008&utm_campaign=x_20200301_bravo_org_x_BDSY_x_x_x&utm_medium=reddit&utm_source=soc&utm_term=BDSY-Reddit-AMA-Description'>\n",
      "<HTML url='https://www.bravotv.com/below-deck-sailing-yacht?cid=soc_reddit_x_20200301_bravo_org_x_BDSY_x_x_x_BDSY-Reddit-AMA-Description&rdt_cid=2983442620287616008&utm_campaign=x_20200301_bravo_org_x_BDSY_x_x_x&utm_medium=reddit&utm_source=soc&utm_term=BDSY-Reddit-AMA-Description'>\n",
      "<HTML url='https://www.bravotv.com/below-deck-sailing-yacht?cid=soc_reddit_x_20200301_bravo_org_x_BDSY_x_x_x_BDSY-Reddit-AMA-Description&rdt_cid=2983442620287616008&utm_campaign=x_20200301_bravo_org_x_BDSY_x_x_x&utm_medium=reddit&utm_source=soc&utm_term=BDSY-Reddit-AMA-Description'>\n",
      "<HTML url='https://www.bravotv.com/below-deck-sailing-yacht?cid=soc_reddit_x_20200301_bravo_org_x_BDSY_x_x_x_BDSY-Reddit-AMA-Description&rdt_cid=2983442620287616008&utm_campaign=x_20200301_bravo_org_x_BDSY_x_x_x&utm_medium=reddit&utm_source=soc&utm_term=BDSY-Reddit-AMA-Description'>\n",
      "<HTML url='https://www.bravotv.com/below-deck-sailing-yacht?cid=soc_reddit_x_20200301_bravo_org_x_BDSY_x_x_x_BDSY-Reddit-AMA-Description&rdt_cid=2983442620287616008&utm_campaign=x_20200301_bravo_org_x_BDSY_x_x_x&utm_medium=reddit&utm_source=soc&utm_term=BDSY-Reddit-AMA-Description'>\n",
      "<HTML url='https://www.bravotv.com/below-deck-sailing-yacht?cid=soc_reddit_x_20200301_bravo_org_x_BDSY_x_x_x_BDSY-Reddit-AMA-Description&rdt_cid=2983442620287616008&utm_campaign=x_20200301_bravo_org_x_BDSY_x_x_x&utm_medium=reddit&utm_source=soc&utm_term=BDSY-Reddit-AMA-Description'>\n",
      "<HTML url='https://www.bravotv.com/below-deck-sailing-yacht?cid=soc_reddit_x_20200301_bravo_org_x_BDSY_x_x_x_BDSY-Reddit-AMA-Description&rdt_cid=2983442620287616008&utm_campaign=x_20200301_bravo_org_x_BDSY_x_x_x&utm_medium=reddit&utm_source=soc&utm_term=BDSY-Reddit-AMA-Description'>\n",
      "<HTML url='https://www.bravotv.com/below-deck-sailing-yacht?cid=soc_reddit_x_20200301_bravo_org_x_BDSY_x_x_x_BDSY-Reddit-AMA-Description&rdt_cid=2983442620287616008&utm_campaign=x_20200301_bravo_org_x_BDSY_x_x_x&utm_medium=reddit&utm_source=soc&utm_term=BDSY-Reddit-AMA-Description'>\n",
      "<HTML url='https://www.bravotv.com/below-deck-sailing-yacht?cid=soc_reddit_x_20200301_bravo_org_x_BDSY_x_x_x_BDSY-Reddit-AMA-Description&rdt_cid=2983442620287616008&utm_campaign=x_20200301_bravo_org_x_BDSY_x_x_x&utm_medium=reddit&utm_source=soc&utm_term=BDSY-Reddit-AMA-Description'>\n",
      "<HTML url='https://www.bravotv.com/below-deck-sailing-yacht?cid=soc_reddit_x_20200301_bravo_org_x_BDSY_x_x_x_BDSY-Reddit-AMA-Description&rdt_cid=2983442620287616008&utm_campaign=x_20200301_bravo_org_x_BDSY_x_x_x&utm_medium=reddit&utm_source=soc&utm_term=BDSY-Reddit-AMA-Description'>\n",
      "<HTML url='https://www.bravotv.com/below-deck-sailing-yacht?cid=soc_reddit_x_20200301_bravo_org_x_BDSY_x_x_x_BDSY-Reddit-AMA-Description&rdt_cid=2983442620287616008&utm_campaign=x_20200301_bravo_org_x_BDSY_x_x_x&utm_medium=reddit&utm_source=soc&utm_term=BDSY-Reddit-AMA-Description'>\n",
      "<HTML url='https://www.bravotv.com/below-deck-sailing-yacht?cid=soc_reddit_x_20200301_bravo_org_x_BDSY_x_x_x_BDSY-Reddit-AMA-Description&rdt_cid=2983442620287616008&utm_campaign=x_20200301_bravo_org_x_BDSY_x_x_x&utm_medium=reddit&utm_source=soc&utm_term=BDSY-Reddit-AMA-Description'>\n",
      "<HTML url='https://www.bravotv.com/below-deck-sailing-yacht?cid=soc_reddit_x_20200301_bravo_org_x_BDSY_x_x_x_BDSY-Reddit-AMA-Description&rdt_cid=2983442620287616008&utm_campaign=x_20200301_bravo_org_x_BDSY_x_x_x&utm_medium=reddit&utm_source=soc&utm_term=BDSY-Reddit-AMA-Description'>\n",
      "<HTML url='https://www.bravotv.com/below-deck-sailing-yacht?cid=soc_reddit_x_20200301_bravo_org_x_BDSY_x_x_x_BDSY-Reddit-AMA-Description&rdt_cid=2983442620287616008&utm_campaign=x_20200301_bravo_org_x_BDSY_x_x_x&utm_medium=reddit&utm_source=soc&utm_term=BDSY-Reddit-AMA-Description'>\n",
      "<HTML url='https://www.bravotv.com/below-deck-sailing-yacht?cid=soc_reddit_x_20200301_bravo_org_x_BDSY_x_x_x_BDSY-Reddit-AMA-Description&rdt_cid=2983442620287616008&utm_campaign=x_20200301_bravo_org_x_BDSY_x_x_x&utm_medium=reddit&utm_source=soc&utm_term=BDSY-Reddit-AMA-Description'>\n",
      "<HTML url='https://www.bravotv.com/below-deck-sailing-yacht?cid=soc_reddit_x_20200301_bravo_org_x_BDSY_x_x_x_BDSY-Reddit-AMA-Description&rdt_cid=2983442620287616008&utm_campaign=x_20200301_bravo_org_x_BDSY_x_x_x&utm_medium=reddit&utm_source=soc&utm_term=BDSY-Reddit-AMA-Description'>\n"
     ]
    },
    {
     "name": "stdout",
     "output_type": "stream",
     "text": [
      "<HTML url='https://www.bravotv.com/below-deck-sailing-yacht?cid=soc_reddit_x_20200301_bravo_org_x_BDSY_x_x_x_BDSY-Reddit-AMA-Description&rdt_cid=2983442620287616008&utm_campaign=x_20200301_bravo_org_x_BDSY_x_x_x&utm_medium=reddit&utm_source=soc&utm_term=BDSY-Reddit-AMA-Description'>\n",
      "<HTML url='https://www.bravotv.com/below-deck-sailing-yacht?cid=soc_reddit_x_20200301_bravo_org_x_BDSY_x_x_x_BDSY-Reddit-AMA-Description&rdt_cid=2983442620287616008&utm_campaign=x_20200301_bravo_org_x_BDSY_x_x_x&utm_medium=reddit&utm_source=soc&utm_term=BDSY-Reddit-AMA-Description'>\n",
      "<HTML url='https://www.bravotv.com/below-deck-sailing-yacht?cid=soc_reddit_x_20200301_bravo_org_x_BDSY_x_x_x_BDSY-Reddit-AMA-Description&rdt_cid=2983442620287616008&utm_campaign=x_20200301_bravo_org_x_BDSY_x_x_x&utm_medium=reddit&utm_source=soc&utm_term=BDSY-Reddit-AMA-Description'>\n",
      "<HTML url='https://www.bravotv.com/below-deck-sailing-yacht?cid=soc_reddit_x_20200301_bravo_org_x_BDSY_x_x_x_BDSY-Reddit-AMA-Description&rdt_cid=2983442620287616008&utm_campaign=x_20200301_bravo_org_x_BDSY_x_x_x&utm_medium=reddit&utm_source=soc&utm_term=BDSY-Reddit-AMA-Description'>\n",
      "<HTML url='https://www.bravotv.com/below-deck-sailing-yacht?cid=soc_reddit_x_20200301_bravo_org_x_BDSY_x_x_x_BDSY-Reddit-AMA-Description&rdt_cid=2983442620287616008&utm_campaign=x_20200301_bravo_org_x_BDSY_x_x_x&utm_medium=reddit&utm_source=soc&utm_term=BDSY-Reddit-AMA-Description'>\n",
      "<HTML url='https://www.bravotv.com/below-deck-sailing-yacht?cid=soc_reddit_x_20200301_bravo_org_x_BDSY_x_x_x_BDSY-Reddit-AMA-Description&rdt_cid=2983442620287616008&utm_campaign=x_20200301_bravo_org_x_BDSY_x_x_x&utm_medium=reddit&utm_source=soc&utm_term=BDSY-Reddit-AMA-Description'>\n",
      "<HTML url='https://www.bravotv.com/below-deck-sailing-yacht?cid=soc_reddit_x_20200301_bravo_org_x_BDSY_x_x_x_BDSY-Reddit-AMA-Description&rdt_cid=2983442620287616008&utm_campaign=x_20200301_bravo_org_x_BDSY_x_x_x&utm_medium=reddit&utm_source=soc&utm_term=BDSY-Reddit-AMA-Description'>\n",
      "<HTML url='https://www.bravotv.com/below-deck-sailing-yacht?cid=soc_reddit_x_20200301_bravo_org_x_BDSY_x_x_x_BDSY-Reddit-AMA-Description&rdt_cid=2983442620287616008&utm_campaign=x_20200301_bravo_org_x_BDSY_x_x_x&utm_medium=reddit&utm_source=soc&utm_term=BDSY-Reddit-AMA-Description'>\n",
      "<HTML url='https://www.bravotv.com/below-deck-sailing-yacht?cid=soc_reddit_x_20200301_bravo_org_x_BDSY_x_x_x_BDSY-Reddit-AMA-Description&rdt_cid=2983442620287616008&utm_campaign=x_20200301_bravo_org_x_BDSY_x_x_x&utm_medium=reddit&utm_source=soc&utm_term=BDSY-Reddit-AMA-Description'>\n",
      "<HTML url='https://www.bravotv.com/below-deck-sailing-yacht?cid=soc_reddit_x_20200301_bravo_org_x_BDSY_x_x_x_BDSY-Reddit-AMA-Description&rdt_cid=2983442620287616008&utm_campaign=x_20200301_bravo_org_x_BDSY_x_x_x&utm_medium=reddit&utm_source=soc&utm_term=BDSY-Reddit-AMA-Description'>\n",
      "<HTML url='https://www.bravotv.com/below-deck-sailing-yacht?cid=soc_reddit_x_20200301_bravo_org_x_BDSY_x_x_x_BDSY-Reddit-AMA-Description&rdt_cid=2983442620287616008&utm_campaign=x_20200301_bravo_org_x_BDSY_x_x_x&utm_medium=reddit&utm_source=soc&utm_term=BDSY-Reddit-AMA-Description'>\n",
      "<HTML url='https://www.bravotv.com/below-deck-sailing-yacht?cid=soc_reddit_x_20200301_bravo_org_x_BDSY_x_x_x_BDSY-Reddit-AMA-Description&rdt_cid=2983442620287616008&utm_campaign=x_20200301_bravo_org_x_BDSY_x_x_x&utm_medium=reddit&utm_source=soc&utm_term=BDSY-Reddit-AMA-Description'>\n",
      "<HTML url='https://www.bravotv.com/below-deck-sailing-yacht?cid=soc_reddit_x_20200301_bravo_org_x_BDSY_x_x_x_BDSY-Reddit-AMA-Description&rdt_cid=2983442620287616008&utm_campaign=x_20200301_bravo_org_x_BDSY_x_x_x&utm_medium=reddit&utm_source=soc&utm_term=BDSY-Reddit-AMA-Description'>\n",
      "<HTML url='https://www.bravotv.com/below-deck-sailing-yacht?cid=soc_reddit_x_20200301_bravo_org_x_BDSY_x_x_x_BDSY-Reddit-AMA-Description&rdt_cid=2983442620287616008&utm_campaign=x_20200301_bravo_org_x_BDSY_x_x_x&utm_medium=reddit&utm_source=soc&utm_term=BDSY-Reddit-AMA-Description'>\n",
      "<HTML url='https://www.bravotv.com/below-deck-sailing-yacht?cid=soc_reddit_x_20200301_bravo_org_x_BDSY_x_x_x_BDSY-Reddit-AMA-Description&rdt_cid=2983442620287616008&utm_campaign=x_20200301_bravo_org_x_BDSY_x_x_x&utm_medium=reddit&utm_source=soc&utm_term=BDSY-Reddit-AMA-Description'>\n",
      "<HTML url='https://www.bravotv.com/below-deck-sailing-yacht?cid=soc_reddit_x_20200301_bravo_org_x_BDSY_x_x_x_BDSY-Reddit-AMA-Description&rdt_cid=2983442620287616008&utm_campaign=x_20200301_bravo_org_x_BDSY_x_x_x&utm_medium=reddit&utm_source=soc&utm_term=BDSY-Reddit-AMA-Description'>\n",
      "<HTML url='https://www.bravotv.com/below-deck-sailing-yacht?cid=soc_reddit_x_20200301_bravo_org_x_BDSY_x_x_x_BDSY-Reddit-AMA-Description&rdt_cid=2983442620287616008&utm_campaign=x_20200301_bravo_org_x_BDSY_x_x_x&utm_medium=reddit&utm_source=soc&utm_term=BDSY-Reddit-AMA-Description'>\n",
      "<HTML url='https://www.bravotv.com/below-deck-sailing-yacht?cid=soc_reddit_x_20200301_bravo_org_x_BDSY_x_x_x_BDSY-Reddit-AMA-Description&rdt_cid=2983442620287616008&utm_campaign=x_20200301_bravo_org_x_BDSY_x_x_x&utm_medium=reddit&utm_source=soc&utm_term=BDSY-Reddit-AMA-Description'>\n",
      "<HTML url='https://www.bravotv.com/below-deck-sailing-yacht?cid=soc_reddit_x_20200301_bravo_org_x_BDSY_x_x_x_BDSY-Reddit-AMA-Description&rdt_cid=2983442620287616008&utm_campaign=x_20200301_bravo_org_x_BDSY_x_x_x&utm_medium=reddit&utm_source=soc&utm_term=BDSY-Reddit-AMA-Description'>\n",
      "<HTML url='https://www.bravotv.com/below-deck-sailing-yacht?cid=soc_reddit_x_20200301_bravo_org_x_BDSY_x_x_x_BDSY-Reddit-AMA-Description&rdt_cid=2983442620287616008&utm_campaign=x_20200301_bravo_org_x_BDSY_x_x_x&utm_medium=reddit&utm_source=soc&utm_term=BDSY-Reddit-AMA-Description'>\n",
      "<HTML url='https://www.bravotv.com/below-deck-sailing-yacht?cid=soc_reddit_x_20200301_bravo_org_x_BDSY_x_x_x_BDSY-Reddit-AMA-Description&rdt_cid=2983442620287616008&utm_campaign=x_20200301_bravo_org_x_BDSY_x_x_x&utm_medium=reddit&utm_source=soc&utm_term=BDSY-Reddit-AMA-Description'>\n",
      "<HTML url='https://www.bravotv.com/below-deck-sailing-yacht?cid=soc_reddit_x_20200301_bravo_org_x_BDSY_x_x_x_BDSY-Reddit-AMA-Description&rdt_cid=2983442620287616008&utm_campaign=x_20200301_bravo_org_x_BDSY_x_x_x&utm_medium=reddit&utm_source=soc&utm_term=BDSY-Reddit-AMA-Description'>\n",
      "<HTML url='https://www.bravotv.com/below-deck-sailing-yacht?cid=soc_reddit_x_20200301_bravo_org_x_BDSY_x_x_x_BDSY-Reddit-AMA-Description&rdt_cid=2983442620287616008&utm_campaign=x_20200301_bravo_org_x_BDSY_x_x_x&utm_medium=reddit&utm_source=soc&utm_term=BDSY-Reddit-AMA-Description'>\n",
      "<HTML url='https://www.bravotv.com/below-deck-sailing-yacht?cid=soc_reddit_x_20200301_bravo_org_x_BDSY_x_x_x_BDSY-Reddit-AMA-Description&rdt_cid=2983442620287616008&utm_campaign=x_20200301_bravo_org_x_BDSY_x_x_x&utm_medium=reddit&utm_source=soc&utm_term=BDSY-Reddit-AMA-Description'>\n",
      "<HTML url='https://www.bravotv.com/below-deck-sailing-yacht?cid=soc_reddit_x_20200301_bravo_org_x_BDSY_x_x_x_BDSY-Reddit-AMA-Description&rdt_cid=2983442620287616008&utm_campaign=x_20200301_bravo_org_x_BDSY_x_x_x&utm_medium=reddit&utm_source=soc&utm_term=BDSY-Reddit-AMA-Description'>\n",
      "<HTML url='https://www.bravotv.com/below-deck-sailing-yacht?cid=soc_reddit_x_20200301_bravo_org_x_BDSY_x_x_x_BDSY-Reddit-AMA-Description&rdt_cid=2983442620287616008&utm_campaign=x_20200301_bravo_org_x_BDSY_x_x_x&utm_medium=reddit&utm_source=soc&utm_term=BDSY-Reddit-AMA-Description'>\n",
      "<HTML url='https://www.bravotv.com/below-deck-sailing-yacht?cid=soc_reddit_x_20200301_bravo_org_x_BDSY_x_x_x_BDSY-Reddit-AMA-Description&rdt_cid=2983442620287616008&utm_campaign=x_20200301_bravo_org_x_BDSY_x_x_x&utm_medium=reddit&utm_source=soc&utm_term=BDSY-Reddit-AMA-Description'>\n",
      "<HTML url='https://www.bravotv.com/below-deck-sailing-yacht?cid=soc_reddit_x_20200301_bravo_org_x_BDSY_x_x_x_BDSY-Reddit-AMA-Description&rdt_cid=2983442620287616008&utm_campaign=x_20200301_bravo_org_x_BDSY_x_x_x&utm_medium=reddit&utm_source=soc&utm_term=BDSY-Reddit-AMA-Description'>\n",
      "<HTML url='https://www.bravotv.com/below-deck-sailing-yacht?cid=soc_reddit_x_20200301_bravo_org_x_BDSY_x_x_x_BDSY-Reddit-AMA-Description&rdt_cid=2983442620287616008&utm_campaign=x_20200301_bravo_org_x_BDSY_x_x_x&utm_medium=reddit&utm_source=soc&utm_term=BDSY-Reddit-AMA-Description'>\n"
     ]
    },
    {
     "name": "stdout",
     "output_type": "stream",
     "text": [
      "<HTML url='https://www.bravotv.com/below-deck-sailing-yacht?cid=soc_reddit_x_20200301_bravo_org_x_BDSY_x_x_x_BDSY-Reddit-AMA-Description&rdt_cid=2983442620287616008&utm_campaign=x_20200301_bravo_org_x_BDSY_x_x_x&utm_medium=reddit&utm_source=soc&utm_term=BDSY-Reddit-AMA-Description'>\n",
      "<HTML url='https://www.bravotv.com/below-deck-sailing-yacht?cid=soc_reddit_x_20200301_bravo_org_x_BDSY_x_x_x_BDSY-Reddit-AMA-Description&rdt_cid=2983442620287616008&utm_campaign=x_20200301_bravo_org_x_BDSY_x_x_x&utm_medium=reddit&utm_source=soc&utm_term=BDSY-Reddit-AMA-Description'>\n",
      "<HTML url='https://www.bravotv.com/below-deck-sailing-yacht?cid=soc_reddit_x_20200301_bravo_org_x_BDSY_x_x_x_BDSY-Reddit-AMA-Description&rdt_cid=2983442620287616008&utm_campaign=x_20200301_bravo_org_x_BDSY_x_x_x&utm_medium=reddit&utm_source=soc&utm_term=BDSY-Reddit-AMA-Description'>\n",
      "<HTML url='https://www.bravotv.com/below-deck-sailing-yacht?cid=soc_reddit_x_20200301_bravo_org_x_BDSY_x_x_x_BDSY-Reddit-AMA-Description&rdt_cid=2983442620287616008&utm_campaign=x_20200301_bravo_org_x_BDSY_x_x_x&utm_medium=reddit&utm_source=soc&utm_term=BDSY-Reddit-AMA-Description'>\n",
      "<HTML url='https://www.bravotv.com/below-deck-sailing-yacht?cid=soc_reddit_x_20200301_bravo_org_x_BDSY_x_x_x_BDSY-Reddit-AMA-Description&rdt_cid=2983442620287616008&utm_campaign=x_20200301_bravo_org_x_BDSY_x_x_x&utm_medium=reddit&utm_source=soc&utm_term=BDSY-Reddit-AMA-Description'>\n",
      "<HTML url='https://www.bravotv.com/below-deck-sailing-yacht?cid=soc_reddit_x_20200301_bravo_org_x_BDSY_x_x_x_BDSY-Reddit-AMA-Description&rdt_cid=2983442620287616008&utm_campaign=x_20200301_bravo_org_x_BDSY_x_x_x&utm_medium=reddit&utm_source=soc&utm_term=BDSY-Reddit-AMA-Description'>\n",
      "<HTML url='https://www.bravotv.com/below-deck-sailing-yacht?cid=soc_reddit_x_20200301_bravo_org_x_BDSY_x_x_x_BDSY-Reddit-AMA-Description&rdt_cid=2983442620287616008&utm_campaign=x_20200301_bravo_org_x_BDSY_x_x_x&utm_medium=reddit&utm_source=soc&utm_term=BDSY-Reddit-AMA-Description'>\n",
      "<HTML url='https://www.bravotv.com/below-deck-sailing-yacht?cid=soc_reddit_x_20200301_bravo_org_x_BDSY_x_x_x_BDSY-Reddit-AMA-Description&rdt_cid=2983442620287616008&utm_campaign=x_20200301_bravo_org_x_BDSY_x_x_x&utm_medium=reddit&utm_source=soc&utm_term=BDSY-Reddit-AMA-Description'>\n",
      "<HTML url='https://www.bravotv.com/below-deck-sailing-yacht?cid=soc_reddit_x_20200301_bravo_org_x_BDSY_x_x_x_BDSY-Reddit-AMA-Description&rdt_cid=2983442620287616008&utm_campaign=x_20200301_bravo_org_x_BDSY_x_x_x&utm_medium=reddit&utm_source=soc&utm_term=BDSY-Reddit-AMA-Description'>\n",
      "<HTML url='https://www.bravotv.com/below-deck-sailing-yacht?cid=soc_reddit_x_20200301_bravo_org_x_BDSY_x_x_x_BDSY-Reddit-AMA-Description&rdt_cid=2983442620287616008&utm_campaign=x_20200301_bravo_org_x_BDSY_x_x_x&utm_medium=reddit&utm_source=soc&utm_term=BDSY-Reddit-AMA-Description'>\n",
      "<HTML url='https://www.bravotv.com/below-deck-sailing-yacht?cid=soc_reddit_x_20200301_bravo_org_x_BDSY_x_x_x_BDSY-Reddit-AMA-Description&rdt_cid=2983442620287616008&utm_campaign=x_20200301_bravo_org_x_BDSY_x_x_x&utm_medium=reddit&utm_source=soc&utm_term=BDSY-Reddit-AMA-Description'>\n",
      "<HTML url='https://www.bravotv.com/below-deck-sailing-yacht?cid=soc_reddit_x_20200301_bravo_org_x_BDSY_x_x_x_BDSY-Reddit-AMA-Description&rdt_cid=2983442620287616008&utm_campaign=x_20200301_bravo_org_x_BDSY_x_x_x&utm_medium=reddit&utm_source=soc&utm_term=BDSY-Reddit-AMA-Description'>\n",
      "<HTML url='https://www.bravotv.com/below-deck-sailing-yacht?cid=soc_reddit_x_20200301_bravo_org_x_BDSY_x_x_x_BDSY-Reddit-AMA-Description&rdt_cid=2983442620287616008&utm_campaign=x_20200301_bravo_org_x_BDSY_x_x_x&utm_medium=reddit&utm_source=soc&utm_term=BDSY-Reddit-AMA-Description'>\n",
      "<HTML url='https://www.bravotv.com/below-deck-sailing-yacht?cid=soc_reddit_x_20200301_bravo_org_x_BDSY_x_x_x_BDSY-Reddit-AMA-Description&rdt_cid=2983442620287616008&utm_campaign=x_20200301_bravo_org_x_BDSY_x_x_x&utm_medium=reddit&utm_source=soc&utm_term=BDSY-Reddit-AMA-Description'>\n",
      "<HTML url='https://www.bravotv.com/below-deck-sailing-yacht?cid=soc_reddit_x_20200301_bravo_org_x_BDSY_x_x_x_BDSY-Reddit-AMA-Description&rdt_cid=2983442620287616008&utm_campaign=x_20200301_bravo_org_x_BDSY_x_x_x&utm_medium=reddit&utm_source=soc&utm_term=BDSY-Reddit-AMA-Description'>\n",
      "<HTML url='https://www.bravotv.com/below-deck-sailing-yacht?cid=soc_reddit_x_20200301_bravo_org_x_BDSY_x_x_x_BDSY-Reddit-AMA-Description&rdt_cid=2983442620287616008&utm_campaign=x_20200301_bravo_org_x_BDSY_x_x_x&utm_medium=reddit&utm_source=soc&utm_term=BDSY-Reddit-AMA-Description'>\n",
      "<HTML url='https://www.bravotv.com/below-deck-sailing-yacht?cid=soc_reddit_x_20200301_bravo_org_x_BDSY_x_x_x_BDSY-Reddit-AMA-Description&rdt_cid=2983442620287616008&utm_campaign=x_20200301_bravo_org_x_BDSY_x_x_x&utm_medium=reddit&utm_source=soc&utm_term=BDSY-Reddit-AMA-Description'>\n",
      "<HTML url='https://www.bravotv.com/below-deck-sailing-yacht?cid=soc_reddit_x_20200301_bravo_org_x_BDSY_x_x_x_BDSY-Reddit-AMA-Description&rdt_cid=2983442620287616008&utm_campaign=x_20200301_bravo_org_x_BDSY_x_x_x&utm_medium=reddit&utm_source=soc&utm_term=BDSY-Reddit-AMA-Description'>\n",
      "<HTML url='https://www.bravotv.com/below-deck-sailing-yacht?cid=soc_reddit_x_20200301_bravo_org_x_BDSY_x_x_x_BDSY-Reddit-AMA-Description&rdt_cid=2983442620287616008&utm_campaign=x_20200301_bravo_org_x_BDSY_x_x_x&utm_medium=reddit&utm_source=soc&utm_term=BDSY-Reddit-AMA-Description'>\n",
      "<HTML url='https://www.bravotv.com/below-deck-sailing-yacht?cid=soc_reddit_x_20200301_bravo_org_x_BDSY_x_x_x_BDSY-Reddit-AMA-Description&rdt_cid=2983442620287616008&utm_campaign=x_20200301_bravo_org_x_BDSY_x_x_x&utm_medium=reddit&utm_source=soc&utm_term=BDSY-Reddit-AMA-Description'>\n",
      "<HTML url='https://www.bravotv.com/below-deck-sailing-yacht?cid=soc_reddit_x_20200301_bravo_org_x_BDSY_x_x_x_BDSY-Reddit-AMA-Description&rdt_cid=2983442620287616008&utm_campaign=x_20200301_bravo_org_x_BDSY_x_x_x&utm_medium=reddit&utm_source=soc&utm_term=BDSY-Reddit-AMA-Description'>\n",
      "<HTML url='https://www.bravotv.com/below-deck-sailing-yacht?cid=soc_reddit_x_20200301_bravo_org_x_BDSY_x_x_x_BDSY-Reddit-AMA-Description&rdt_cid=2983442620287616008&utm_campaign=x_20200301_bravo_org_x_BDSY_x_x_x&utm_medium=reddit&utm_source=soc&utm_term=BDSY-Reddit-AMA-Description'>\n",
      "<HTML url='https://www.bravotv.com/below-deck-sailing-yacht?cid=soc_reddit_x_20200301_bravo_org_x_BDSY_x_x_x_BDSY-Reddit-AMA-Description&rdt_cid=2983442620287616008&utm_campaign=x_20200301_bravo_org_x_BDSY_x_x_x&utm_medium=reddit&utm_source=soc&utm_term=BDSY-Reddit-AMA-Description'>\n",
      "<HTML url='https://www.bravotv.com/below-deck-sailing-yacht?cid=soc_reddit_x_20200301_bravo_org_x_BDSY_x_x_x_BDSY-Reddit-AMA-Description&rdt_cid=2983442620287616008&utm_campaign=x_20200301_bravo_org_x_BDSY_x_x_x&utm_medium=reddit&utm_source=soc&utm_term=BDSY-Reddit-AMA-Description'>\n",
      "<HTML url='https://www.bravotv.com/below-deck-sailing-yacht?cid=soc_reddit_x_20200301_bravo_org_x_BDSY_x_x_x_BDSY-Reddit-AMA-Description&rdt_cid=2983442620287616008&utm_campaign=x_20200301_bravo_org_x_BDSY_x_x_x&utm_medium=reddit&utm_source=soc&utm_term=BDSY-Reddit-AMA-Description'>\n",
      "<HTML url='https://www.bravotv.com/below-deck-sailing-yacht?cid=soc_reddit_x_20200301_bravo_org_x_BDSY_x_x_x_BDSY-Reddit-AMA-Description&rdt_cid=2983442620287616008&utm_campaign=x_20200301_bravo_org_x_BDSY_x_x_x&utm_medium=reddit&utm_source=soc&utm_term=BDSY-Reddit-AMA-Description'>\n",
      "<HTML url='https://www.bravotv.com/below-deck-sailing-yacht?cid=soc_reddit_x_20200301_bravo_org_x_BDSY_x_x_x_BDSY-Reddit-AMA-Description&rdt_cid=2983442620287616008&utm_campaign=x_20200301_bravo_org_x_BDSY_x_x_x&utm_medium=reddit&utm_source=soc&utm_term=BDSY-Reddit-AMA-Description'>\n",
      "<HTML url='https://www.bravotv.com/below-deck-sailing-yacht?cid=soc_reddit_x_20200301_bravo_org_x_BDSY_x_x_x_BDSY-Reddit-AMA-Description&rdt_cid=2983442620287616008&utm_campaign=x_20200301_bravo_org_x_BDSY_x_x_x&utm_medium=reddit&utm_source=soc&utm_term=BDSY-Reddit-AMA-Description'>\n",
      "<HTML url='https://www.bravotv.com/below-deck-sailing-yacht?cid=soc_reddit_x_20200301_bravo_org_x_BDSY_x_x_x_BDSY-Reddit-AMA-Description&rdt_cid=2983442620287616008&utm_campaign=x_20200301_bravo_org_x_BDSY_x_x_x&utm_medium=reddit&utm_source=soc&utm_term=BDSY-Reddit-AMA-Description'>\n"
     ]
    },
    {
     "name": "stdout",
     "output_type": "stream",
     "text": [
      "<HTML url='https://www.bravotv.com/below-deck-sailing-yacht?cid=soc_reddit_x_20200301_bravo_org_x_BDSY_x_x_x_BDSY-Reddit-AMA-Description&rdt_cid=2983442620287616008&utm_campaign=x_20200301_bravo_org_x_BDSY_x_x_x&utm_medium=reddit&utm_source=soc&utm_term=BDSY-Reddit-AMA-Description'>\n",
      "<HTML url='https://www.bravotv.com/below-deck-sailing-yacht?cid=soc_reddit_x_20200301_bravo_org_x_BDSY_x_x_x_BDSY-Reddit-AMA-Description&rdt_cid=2983442620287616008&utm_campaign=x_20200301_bravo_org_x_BDSY_x_x_x&utm_medium=reddit&utm_source=soc&utm_term=BDSY-Reddit-AMA-Description'>\n",
      "<HTML url='https://www.bravotv.com/below-deck-sailing-yacht?cid=soc_reddit_x_20200301_bravo_org_x_BDSY_x_x_x_BDSY-Reddit-AMA-Description&rdt_cid=2983442620287616008&utm_campaign=x_20200301_bravo_org_x_BDSY_x_x_x&utm_medium=reddit&utm_source=soc&utm_term=BDSY-Reddit-AMA-Description'>\n",
      "<HTML url='https://www.bravotv.com/below-deck-sailing-yacht?cid=soc_reddit_x_20200301_bravo_org_x_BDSY_x_x_x_BDSY-Reddit-AMA-Description&rdt_cid=2983442620287616008&utm_campaign=x_20200301_bravo_org_x_BDSY_x_x_x&utm_medium=reddit&utm_source=soc&utm_term=BDSY-Reddit-AMA-Description'>\n",
      "<HTML url='https://www.bravotv.com/below-deck-sailing-yacht?cid=soc_reddit_x_20200301_bravo_org_x_BDSY_x_x_x_BDSY-Reddit-AMA-Description&rdt_cid=2983442620287616008&utm_campaign=x_20200301_bravo_org_x_BDSY_x_x_x&utm_medium=reddit&utm_source=soc&utm_term=BDSY-Reddit-AMA-Description'>\n",
      "<HTML url='https://www.bravotv.com/below-deck-sailing-yacht?cid=soc_reddit_x_20200301_bravo_org_x_BDSY_x_x_x_BDSY-Reddit-AMA-Description&rdt_cid=2983442620287616008&utm_campaign=x_20200301_bravo_org_x_BDSY_x_x_x&utm_medium=reddit&utm_source=soc&utm_term=BDSY-Reddit-AMA-Description'>\n",
      "<HTML url='https://www.bravotv.com/below-deck-sailing-yacht?cid=soc_reddit_x_20200301_bravo_org_x_BDSY_x_x_x_BDSY-Reddit-AMA-Description&rdt_cid=2983442620287616008&utm_campaign=x_20200301_bravo_org_x_BDSY_x_x_x&utm_medium=reddit&utm_source=soc&utm_term=BDSY-Reddit-AMA-Description'>\n",
      "<HTML url='https://www.bravotv.com/below-deck-sailing-yacht?cid=soc_reddit_x_20200301_bravo_org_x_BDSY_x_x_x_BDSY-Reddit-AMA-Description&rdt_cid=2983442620287616008&utm_campaign=x_20200301_bravo_org_x_BDSY_x_x_x&utm_medium=reddit&utm_source=soc&utm_term=BDSY-Reddit-AMA-Description'>\n",
      "<HTML url='https://www.bravotv.com/below-deck-sailing-yacht?cid=soc_reddit_x_20200301_bravo_org_x_BDSY_x_x_x_BDSY-Reddit-AMA-Description&rdt_cid=2983442620287616008&utm_campaign=x_20200301_bravo_org_x_BDSY_x_x_x&utm_medium=reddit&utm_source=soc&utm_term=BDSY-Reddit-AMA-Description'>\n",
      "<HTML url='https://www.bravotv.com/below-deck-sailing-yacht?cid=soc_reddit_x_20200301_bravo_org_x_BDSY_x_x_x_BDSY-Reddit-AMA-Description&rdt_cid=2983442620287616008&utm_campaign=x_20200301_bravo_org_x_BDSY_x_x_x&utm_medium=reddit&utm_source=soc&utm_term=BDSY-Reddit-AMA-Description'>\n",
      "<HTML url='https://www.bravotv.com/below-deck-sailing-yacht?cid=soc_reddit_x_20200301_bravo_org_x_BDSY_x_x_x_BDSY-Reddit-AMA-Description&rdt_cid=2983442620287616008&utm_campaign=x_20200301_bravo_org_x_BDSY_x_x_x&utm_medium=reddit&utm_source=soc&utm_term=BDSY-Reddit-AMA-Description'>\n",
      "<HTML url='https://www.bravotv.com/below-deck-sailing-yacht?cid=soc_reddit_x_20200301_bravo_org_x_BDSY_x_x_x_BDSY-Reddit-AMA-Description&rdt_cid=2983442620287616008&utm_campaign=x_20200301_bravo_org_x_BDSY_x_x_x&utm_medium=reddit&utm_source=soc&utm_term=BDSY-Reddit-AMA-Description'>\n",
      "<HTML url='https://www.bravotv.com/below-deck-sailing-yacht?cid=soc_reddit_x_20200301_bravo_org_x_BDSY_x_x_x_BDSY-Reddit-AMA-Description&rdt_cid=2983442620287616008&utm_campaign=x_20200301_bravo_org_x_BDSY_x_x_x&utm_medium=reddit&utm_source=soc&utm_term=BDSY-Reddit-AMA-Description'>\n",
      "<HTML url='https://www.bravotv.com/below-deck-sailing-yacht?cid=soc_reddit_x_20200301_bravo_org_x_BDSY_x_x_x_BDSY-Reddit-AMA-Description&rdt_cid=2983442620287616008&utm_campaign=x_20200301_bravo_org_x_BDSY_x_x_x&utm_medium=reddit&utm_source=soc&utm_term=BDSY-Reddit-AMA-Description'>\n",
      "<HTML url='https://www.bravotv.com/below-deck-sailing-yacht?cid=soc_reddit_x_20200301_bravo_org_x_BDSY_x_x_x_BDSY-Reddit-AMA-Description&rdt_cid=2983442620287616008&utm_campaign=x_20200301_bravo_org_x_BDSY_x_x_x&utm_medium=reddit&utm_source=soc&utm_term=BDSY-Reddit-AMA-Description'>\n",
      "<HTML url='https://www.bravotv.com/below-deck-sailing-yacht?cid=soc_reddit_x_20200301_bravo_org_x_BDSY_x_x_x_BDSY-Reddit-AMA-Description&rdt_cid=2983442620287616008&utm_campaign=x_20200301_bravo_org_x_BDSY_x_x_x&utm_medium=reddit&utm_source=soc&utm_term=BDSY-Reddit-AMA-Description'>\n",
      "<HTML url='https://www.bravotv.com/below-deck-sailing-yacht?cid=soc_reddit_x_20200301_bravo_org_x_BDSY_x_x_x_BDSY-Reddit-AMA-Description&rdt_cid=2983442620287616008&utm_campaign=x_20200301_bravo_org_x_BDSY_x_x_x&utm_medium=reddit&utm_source=soc&utm_term=BDSY-Reddit-AMA-Description'>\n",
      "<HTML url='https://www.bravotv.com/below-deck-sailing-yacht?cid=soc_reddit_x_20200301_bravo_org_x_BDSY_x_x_x_BDSY-Reddit-AMA-Description&rdt_cid=2983442620287616008&utm_campaign=x_20200301_bravo_org_x_BDSY_x_x_x&utm_medium=reddit&utm_source=soc&utm_term=BDSY-Reddit-AMA-Description'>\n",
      "<HTML url='https://www.bravotv.com/below-deck-sailing-yacht?cid=soc_reddit_x_20200301_bravo_org_x_BDSY_x_x_x_BDSY-Reddit-AMA-Description&rdt_cid=2983442620287616008&utm_campaign=x_20200301_bravo_org_x_BDSY_x_x_x&utm_medium=reddit&utm_source=soc&utm_term=BDSY-Reddit-AMA-Description'>\n",
      "<HTML url='https://www.bravotv.com/below-deck-sailing-yacht?cid=soc_reddit_x_20200301_bravo_org_x_BDSY_x_x_x_BDSY-Reddit-AMA-Description&rdt_cid=2983442620287616008&utm_campaign=x_20200301_bravo_org_x_BDSY_x_x_x&utm_medium=reddit&utm_source=soc&utm_term=BDSY-Reddit-AMA-Description'>\n",
      "<HTML url='https://www.bravotv.com/below-deck-sailing-yacht?cid=soc_reddit_x_20200301_bravo_org_x_BDSY_x_x_x_BDSY-Reddit-AMA-Description&rdt_cid=2983442620287616008&utm_campaign=x_20200301_bravo_org_x_BDSY_x_x_x&utm_medium=reddit&utm_source=soc&utm_term=BDSY-Reddit-AMA-Description'>\n",
      "<HTML url='https://www.bravotv.com/below-deck-sailing-yacht?cid=soc_reddit_x_20200301_bravo_org_x_BDSY_x_x_x_BDSY-Reddit-AMA-Description&rdt_cid=2983442620287616008&utm_campaign=x_20200301_bravo_org_x_BDSY_x_x_x&utm_medium=reddit&utm_source=soc&utm_term=BDSY-Reddit-AMA-Description'>\n",
      "<HTML url='https://www.bravotv.com/below-deck-sailing-yacht?cid=soc_reddit_x_20200301_bravo_org_x_BDSY_x_x_x_BDSY-Reddit-AMA-Description&rdt_cid=2983442620287616008&utm_campaign=x_20200301_bravo_org_x_BDSY_x_x_x&utm_medium=reddit&utm_source=soc&utm_term=BDSY-Reddit-AMA-Description'>\n",
      "<HTML url='https://www.bravotv.com/below-deck-sailing-yacht?cid=soc_reddit_x_20200301_bravo_org_x_BDSY_x_x_x_BDSY-Reddit-AMA-Description&rdt_cid=2983442620287616008&utm_campaign=x_20200301_bravo_org_x_BDSY_x_x_x&utm_medium=reddit&utm_source=soc&utm_term=BDSY-Reddit-AMA-Description'>\n",
      "<HTML url='https://www.bravotv.com/below-deck-sailing-yacht?cid=soc_reddit_x_20200301_bravo_org_x_BDSY_x_x_x_BDSY-Reddit-AMA-Description&rdt_cid=2983442620287616008&utm_campaign=x_20200301_bravo_org_x_BDSY_x_x_x&utm_medium=reddit&utm_source=soc&utm_term=BDSY-Reddit-AMA-Description'>\n",
      "<HTML url='https://www.bravotv.com/below-deck-sailing-yacht?cid=soc_reddit_x_20200301_bravo_org_x_BDSY_x_x_x_BDSY-Reddit-AMA-Description&rdt_cid=2983442620287616008&utm_campaign=x_20200301_bravo_org_x_BDSY_x_x_x&utm_medium=reddit&utm_source=soc&utm_term=BDSY-Reddit-AMA-Description'>\n",
      "<HTML url='https://www.bravotv.com/below-deck-sailing-yacht?cid=soc_reddit_x_20200301_bravo_org_x_BDSY_x_x_x_BDSY-Reddit-AMA-Description&rdt_cid=2983442620287616008&utm_campaign=x_20200301_bravo_org_x_BDSY_x_x_x&utm_medium=reddit&utm_source=soc&utm_term=BDSY-Reddit-AMA-Description'>\n",
      "<HTML url='https://www.bravotv.com/below-deck-sailing-yacht?cid=soc_reddit_x_20200301_bravo_org_x_BDSY_x_x_x_BDSY-Reddit-AMA-Description&rdt_cid=2983442620287616008&utm_campaign=x_20200301_bravo_org_x_BDSY_x_x_x&utm_medium=reddit&utm_source=soc&utm_term=BDSY-Reddit-AMA-Description'>\n",
      "<HTML url='https://www.bravotv.com/below-deck-sailing-yacht?cid=soc_reddit_x_20200301_bravo_org_x_BDSY_x_x_x_BDSY-Reddit-AMA-Description&rdt_cid=2983442620287616008&utm_campaign=x_20200301_bravo_org_x_BDSY_x_x_x&utm_medium=reddit&utm_source=soc&utm_term=BDSY-Reddit-AMA-Description'>\n"
     ]
    },
    {
     "name": "stdout",
     "output_type": "stream",
     "text": [
      "<HTML url='https://www.bravotv.com/below-deck-sailing-yacht?cid=soc_reddit_x_20200301_bravo_org_x_BDSY_x_x_x_BDSY-Reddit-AMA-Description&rdt_cid=2983442620287616008&utm_campaign=x_20200301_bravo_org_x_BDSY_x_x_x&utm_medium=reddit&utm_source=soc&utm_term=BDSY-Reddit-AMA-Description'>\n",
      "<HTML url='https://www.bravotv.com/below-deck-sailing-yacht?cid=soc_reddit_x_20200301_bravo_org_x_BDSY_x_x_x_BDSY-Reddit-AMA-Description&rdt_cid=2983442620287616008&utm_campaign=x_20200301_bravo_org_x_BDSY_x_x_x&utm_medium=reddit&utm_source=soc&utm_term=BDSY-Reddit-AMA-Description'>\n",
      "<HTML url='https://www.bravotv.com/below-deck-sailing-yacht?cid=soc_reddit_x_20200301_bravo_org_x_BDSY_x_x_x_BDSY-Reddit-AMA-Description&rdt_cid=2983442620287616008&utm_campaign=x_20200301_bravo_org_x_BDSY_x_x_x&utm_medium=reddit&utm_source=soc&utm_term=BDSY-Reddit-AMA-Description'>\n",
      "<HTML url='https://www.bravotv.com/below-deck-sailing-yacht?cid=soc_reddit_x_20200301_bravo_org_x_BDSY_x_x_x_BDSY-Reddit-AMA-Description&rdt_cid=2983442620287616008&utm_campaign=x_20200301_bravo_org_x_BDSY_x_x_x&utm_medium=reddit&utm_source=soc&utm_term=BDSY-Reddit-AMA-Description'>\n",
      "<HTML url='https://www.bravotv.com/below-deck-sailing-yacht?cid=soc_reddit_x_20200301_bravo_org_x_BDSY_x_x_x_BDSY-Reddit-AMA-Description&rdt_cid=2983442620287616008&utm_campaign=x_20200301_bravo_org_x_BDSY_x_x_x&utm_medium=reddit&utm_source=soc&utm_term=BDSY-Reddit-AMA-Description'>\n",
      "<HTML url='https://www.bravotv.com/below-deck-sailing-yacht?cid=soc_reddit_x_20200301_bravo_org_x_BDSY_x_x_x_BDSY-Reddit-AMA-Description&rdt_cid=2983442620287616008&utm_campaign=x_20200301_bravo_org_x_BDSY_x_x_x&utm_medium=reddit&utm_source=soc&utm_term=BDSY-Reddit-AMA-Description'>\n",
      "<HTML url='https://www.bravotv.com/below-deck-sailing-yacht?cid=soc_reddit_x_20200301_bravo_org_x_BDSY_x_x_x_BDSY-Reddit-AMA-Description&rdt_cid=2983442620287616008&utm_campaign=x_20200301_bravo_org_x_BDSY_x_x_x&utm_medium=reddit&utm_source=soc&utm_term=BDSY-Reddit-AMA-Description'>\n",
      "<HTML url='https://www.bravotv.com/below-deck-sailing-yacht?cid=soc_reddit_x_20200301_bravo_org_x_BDSY_x_x_x_BDSY-Reddit-AMA-Description&rdt_cid=2983442620287616008&utm_campaign=x_20200301_bravo_org_x_BDSY_x_x_x&utm_medium=reddit&utm_source=soc&utm_term=BDSY-Reddit-AMA-Description'>\n",
      "<HTML url='https://www.bravotv.com/below-deck-sailing-yacht?cid=soc_reddit_x_20200301_bravo_org_x_BDSY_x_x_x_BDSY-Reddit-AMA-Description&rdt_cid=2983442620287616008&utm_campaign=x_20200301_bravo_org_x_BDSY_x_x_x&utm_medium=reddit&utm_source=soc&utm_term=BDSY-Reddit-AMA-Description'>\n",
      "<HTML url='https://www.bravotv.com/below-deck-sailing-yacht?cid=soc_reddit_x_20200301_bravo_org_x_BDSY_x_x_x_BDSY-Reddit-AMA-Description&rdt_cid=2983442620287616008&utm_campaign=x_20200301_bravo_org_x_BDSY_x_x_x&utm_medium=reddit&utm_source=soc&utm_term=BDSY-Reddit-AMA-Description'>\n",
      "<HTML url='https://www.bravotv.com/below-deck-sailing-yacht?cid=soc_reddit_x_20200301_bravo_org_x_BDSY_x_x_x_BDSY-Reddit-AMA-Description&rdt_cid=2983442620287616008&utm_campaign=x_20200301_bravo_org_x_BDSY_x_x_x&utm_medium=reddit&utm_source=soc&utm_term=BDSY-Reddit-AMA-Description'>\n",
      "<HTML url='https://www.bravotv.com/below-deck-sailing-yacht?cid=soc_reddit_x_20200301_bravo_org_x_BDSY_x_x_x_BDSY-Reddit-AMA-Description&rdt_cid=2983442620287616008&utm_campaign=x_20200301_bravo_org_x_BDSY_x_x_x&utm_medium=reddit&utm_source=soc&utm_term=BDSY-Reddit-AMA-Description'>\n",
      "<HTML url='https://www.bravotv.com/below-deck-sailing-yacht?cid=soc_reddit_x_20200301_bravo_org_x_BDSY_x_x_x_BDSY-Reddit-AMA-Description&rdt_cid=2983442620287616008&utm_campaign=x_20200301_bravo_org_x_BDSY_x_x_x&utm_medium=reddit&utm_source=soc&utm_term=BDSY-Reddit-AMA-Description'>\n",
      "<HTML url='https://www.bravotv.com/below-deck-sailing-yacht?cid=soc_reddit_x_20200301_bravo_org_x_BDSY_x_x_x_BDSY-Reddit-AMA-Description&rdt_cid=2983442620287616008&utm_campaign=x_20200301_bravo_org_x_BDSY_x_x_x&utm_medium=reddit&utm_source=soc&utm_term=BDSY-Reddit-AMA-Description'>\n",
      "<HTML url='https://www.bravotv.com/below-deck-sailing-yacht?cid=soc_reddit_x_20200301_bravo_org_x_BDSY_x_x_x_BDSY-Reddit-AMA-Description&rdt_cid=2983442620287616008&utm_campaign=x_20200301_bravo_org_x_BDSY_x_x_x&utm_medium=reddit&utm_source=soc&utm_term=BDSY-Reddit-AMA-Description'>\n",
      "<HTML url='https://www.bravotv.com/below-deck-sailing-yacht?cid=soc_reddit_x_20200301_bravo_org_x_BDSY_x_x_x_BDSY-Reddit-AMA-Description&rdt_cid=2983442620287616008&utm_campaign=x_20200301_bravo_org_x_BDSY_x_x_x&utm_medium=reddit&utm_source=soc&utm_term=BDSY-Reddit-AMA-Description'>\n",
      "<HTML url='https://www.bravotv.com/below-deck-sailing-yacht?cid=soc_reddit_x_20200301_bravo_org_x_BDSY_x_x_x_BDSY-Reddit-AMA-Description&rdt_cid=2983442620287616008&utm_campaign=x_20200301_bravo_org_x_BDSY_x_x_x&utm_medium=reddit&utm_source=soc&utm_term=BDSY-Reddit-AMA-Description'>\n",
      "<HTML url='https://www.bravotv.com/below-deck-sailing-yacht?cid=soc_reddit_x_20200301_bravo_org_x_BDSY_x_x_x_BDSY-Reddit-AMA-Description&rdt_cid=2983442620287616008&utm_campaign=x_20200301_bravo_org_x_BDSY_x_x_x&utm_medium=reddit&utm_source=soc&utm_term=BDSY-Reddit-AMA-Description'>\n",
      "<HTML url='https://www.bravotv.com/below-deck-sailing-yacht?cid=soc_reddit_x_20200301_bravo_org_x_BDSY_x_x_x_BDSY-Reddit-AMA-Description&rdt_cid=2983442620287616008&utm_campaign=x_20200301_bravo_org_x_BDSY_x_x_x&utm_medium=reddit&utm_source=soc&utm_term=BDSY-Reddit-AMA-Description'>\n",
      "<HTML url='https://www.bravotv.com/below-deck-sailing-yacht?cid=soc_reddit_x_20200301_bravo_org_x_BDSY_x_x_x_BDSY-Reddit-AMA-Description&rdt_cid=2983442620287616008&utm_campaign=x_20200301_bravo_org_x_BDSY_x_x_x&utm_medium=reddit&utm_source=soc&utm_term=BDSY-Reddit-AMA-Description'>\n",
      "<HTML url='https://www.bravotv.com/below-deck-sailing-yacht?cid=soc_reddit_x_20200301_bravo_org_x_BDSY_x_x_x_BDSY-Reddit-AMA-Description&rdt_cid=2983442620287616008&utm_campaign=x_20200301_bravo_org_x_BDSY_x_x_x&utm_medium=reddit&utm_source=soc&utm_term=BDSY-Reddit-AMA-Description'>\n",
      "<HTML url='https://www.bravotv.com/below-deck-sailing-yacht?cid=soc_reddit_x_20200301_bravo_org_x_BDSY_x_x_x_BDSY-Reddit-AMA-Description&rdt_cid=2983442620287616008&utm_campaign=x_20200301_bravo_org_x_BDSY_x_x_x&utm_medium=reddit&utm_source=soc&utm_term=BDSY-Reddit-AMA-Description'>\n",
      "<HTML url='https://www.bravotv.com/below-deck-sailing-yacht?cid=soc_reddit_x_20200301_bravo_org_x_BDSY_x_x_x_BDSY-Reddit-AMA-Description&rdt_cid=2983442620287616008&utm_campaign=x_20200301_bravo_org_x_BDSY_x_x_x&utm_medium=reddit&utm_source=soc&utm_term=BDSY-Reddit-AMA-Description'>\n",
      "<HTML url='https://www.bravotv.com/below-deck-sailing-yacht?cid=soc_reddit_x_20200301_bravo_org_x_BDSY_x_x_x_BDSY-Reddit-AMA-Description&rdt_cid=2983442620287616008&utm_campaign=x_20200301_bravo_org_x_BDSY_x_x_x&utm_medium=reddit&utm_source=soc&utm_term=BDSY-Reddit-AMA-Description'>\n",
      "<HTML url='https://www.bravotv.com/below-deck-sailing-yacht?cid=soc_reddit_x_20200301_bravo_org_x_BDSY_x_x_x_BDSY-Reddit-AMA-Description&rdt_cid=2983442620287616008&utm_campaign=x_20200301_bravo_org_x_BDSY_x_x_x&utm_medium=reddit&utm_source=soc&utm_term=BDSY-Reddit-AMA-Description'>\n",
      "<HTML url='https://www.bravotv.com/below-deck-sailing-yacht?cid=soc_reddit_x_20200301_bravo_org_x_BDSY_x_x_x_BDSY-Reddit-AMA-Description&rdt_cid=2983442620287616008&utm_campaign=x_20200301_bravo_org_x_BDSY_x_x_x&utm_medium=reddit&utm_source=soc&utm_term=BDSY-Reddit-AMA-Description'>\n",
      "<HTML url='https://www.bravotv.com/below-deck-sailing-yacht?cid=soc_reddit_x_20200301_bravo_org_x_BDSY_x_x_x_BDSY-Reddit-AMA-Description&rdt_cid=2983442620287616008&utm_campaign=x_20200301_bravo_org_x_BDSY_x_x_x&utm_medium=reddit&utm_source=soc&utm_term=BDSY-Reddit-AMA-Description'>\n",
      "<HTML url='https://www.bravotv.com/below-deck-sailing-yacht?cid=soc_reddit_x_20200301_bravo_org_x_BDSY_x_x_x_BDSY-Reddit-AMA-Description&rdt_cid=2983442620287616008&utm_campaign=x_20200301_bravo_org_x_BDSY_x_x_x&utm_medium=reddit&utm_source=soc&utm_term=BDSY-Reddit-AMA-Description'>\n",
      "<HTML url='https://www.bravotv.com/below-deck-sailing-yacht?cid=soc_reddit_x_20200301_bravo_org_x_BDSY_x_x_x_BDSY-Reddit-AMA-Description&rdt_cid=2983442620287616008&utm_campaign=x_20200301_bravo_org_x_BDSY_x_x_x&utm_medium=reddit&utm_source=soc&utm_term=BDSY-Reddit-AMA-Description'>\n"
     ]
    },
    {
     "name": "stdout",
     "output_type": "stream",
     "text": [
      "<HTML url='https://www.bravotv.com/below-deck-sailing-yacht?cid=soc_reddit_x_20200301_bravo_org_x_BDSY_x_x_x_BDSY-Reddit-AMA-Description&rdt_cid=2983442620287616008&utm_campaign=x_20200301_bravo_org_x_BDSY_x_x_x&utm_medium=reddit&utm_source=soc&utm_term=BDSY-Reddit-AMA-Description'>\n",
      "<HTML url='https://www.bravotv.com/below-deck-sailing-yacht?cid=soc_reddit_x_20200301_bravo_org_x_BDSY_x_x_x_BDSY-Reddit-AMA-Description&rdt_cid=2983442620287616008&utm_campaign=x_20200301_bravo_org_x_BDSY_x_x_x&utm_medium=reddit&utm_source=soc&utm_term=BDSY-Reddit-AMA-Description'>\n",
      "<HTML url='https://www.bravotv.com/below-deck-sailing-yacht?cid=soc_reddit_x_20200301_bravo_org_x_BDSY_x_x_x_BDSY-Reddit-AMA-Description&rdt_cid=2983442620287616008&utm_campaign=x_20200301_bravo_org_x_BDSY_x_x_x&utm_medium=reddit&utm_source=soc&utm_term=BDSY-Reddit-AMA-Description'>\n",
      "<HTML url='https://www.bravotv.com/below-deck-sailing-yacht?cid=soc_reddit_x_20200301_bravo_org_x_BDSY_x_x_x_BDSY-Reddit-AMA-Description&rdt_cid=2983442620287616008&utm_campaign=x_20200301_bravo_org_x_BDSY_x_x_x&utm_medium=reddit&utm_source=soc&utm_term=BDSY-Reddit-AMA-Description'>\n",
      "<HTML url='https://www.bravotv.com/below-deck-sailing-yacht?cid=soc_reddit_x_20200301_bravo_org_x_BDSY_x_x_x_BDSY-Reddit-AMA-Description&rdt_cid=2983442620287616008&utm_campaign=x_20200301_bravo_org_x_BDSY_x_x_x&utm_medium=reddit&utm_source=soc&utm_term=BDSY-Reddit-AMA-Description'>\n",
      "<HTML url='https://www.bravotv.com/below-deck-sailing-yacht?cid=soc_reddit_x_20200301_bravo_org_x_BDSY_x_x_x_BDSY-Reddit-AMA-Description&rdt_cid=2983442620287616008&utm_campaign=x_20200301_bravo_org_x_BDSY_x_x_x&utm_medium=reddit&utm_source=soc&utm_term=BDSY-Reddit-AMA-Description'>\n",
      "<HTML url='https://www.bravotv.com/below-deck-sailing-yacht?cid=soc_reddit_x_20200301_bravo_org_x_BDSY_x_x_x_BDSY-Reddit-AMA-Description&rdt_cid=2983442620287616008&utm_campaign=x_20200301_bravo_org_x_BDSY_x_x_x&utm_medium=reddit&utm_source=soc&utm_term=BDSY-Reddit-AMA-Description'>\n",
      "<HTML url='https://www.bravotv.com/below-deck-sailing-yacht?cid=soc_reddit_x_20200301_bravo_org_x_BDSY_x_x_x_BDSY-Reddit-AMA-Description&rdt_cid=2983442620287616008&utm_campaign=x_20200301_bravo_org_x_BDSY_x_x_x&utm_medium=reddit&utm_source=soc&utm_term=BDSY-Reddit-AMA-Description'>\n",
      "<HTML url='https://www.bravotv.com/below-deck-sailing-yacht?cid=soc_reddit_x_20200301_bravo_org_x_BDSY_x_x_x_BDSY-Reddit-AMA-Description&rdt_cid=2983442620287616008&utm_campaign=x_20200301_bravo_org_x_BDSY_x_x_x&utm_medium=reddit&utm_source=soc&utm_term=BDSY-Reddit-AMA-Description'>\n",
      "<HTML url='https://www.bravotv.com/below-deck-sailing-yacht?cid=soc_reddit_x_20200301_bravo_org_x_BDSY_x_x_x_BDSY-Reddit-AMA-Description&rdt_cid=2983442620287616008&utm_campaign=x_20200301_bravo_org_x_BDSY_x_x_x&utm_medium=reddit&utm_source=soc&utm_term=BDSY-Reddit-AMA-Description'>\n",
      "<HTML url='https://www.bravotv.com/below-deck-sailing-yacht?cid=soc_reddit_x_20200301_bravo_org_x_BDSY_x_x_x_BDSY-Reddit-AMA-Description&rdt_cid=2983442620287616008&utm_campaign=x_20200301_bravo_org_x_BDSY_x_x_x&utm_medium=reddit&utm_source=soc&utm_term=BDSY-Reddit-AMA-Description'>\n",
      "<HTML url='https://www.bravotv.com/below-deck-sailing-yacht?cid=soc_reddit_x_20200301_bravo_org_x_BDSY_x_x_x_BDSY-Reddit-AMA-Description&rdt_cid=2983442620287616008&utm_campaign=x_20200301_bravo_org_x_BDSY_x_x_x&utm_medium=reddit&utm_source=soc&utm_term=BDSY-Reddit-AMA-Description'>\n",
      "<HTML url='https://www.bravotv.com/below-deck-sailing-yacht?cid=soc_reddit_x_20200301_bravo_org_x_BDSY_x_x_x_BDSY-Reddit-AMA-Description&rdt_cid=2983442620287616008&utm_campaign=x_20200301_bravo_org_x_BDSY_x_x_x&utm_medium=reddit&utm_source=soc&utm_term=BDSY-Reddit-AMA-Description'>\n",
      "<HTML url='https://www.bravotv.com/below-deck-sailing-yacht?cid=soc_reddit_x_20200301_bravo_org_x_BDSY_x_x_x_BDSY-Reddit-AMA-Description&rdt_cid=2983442620287616008&utm_campaign=x_20200301_bravo_org_x_BDSY_x_x_x&utm_medium=reddit&utm_source=soc&utm_term=BDSY-Reddit-AMA-Description'>\n",
      "<HTML url='https://www.bravotv.com/below-deck-sailing-yacht?cid=soc_reddit_x_20200301_bravo_org_x_BDSY_x_x_x_BDSY-Reddit-AMA-Description&rdt_cid=2983442620287616008&utm_campaign=x_20200301_bravo_org_x_BDSY_x_x_x&utm_medium=reddit&utm_source=soc&utm_term=BDSY-Reddit-AMA-Description'>\n",
      "<HTML url='https://www.bravotv.com/below-deck-sailing-yacht?cid=soc_reddit_x_20200301_bravo_org_x_BDSY_x_x_x_BDSY-Reddit-AMA-Description&rdt_cid=2983442620287616008&utm_campaign=x_20200301_bravo_org_x_BDSY_x_x_x&utm_medium=reddit&utm_source=soc&utm_term=BDSY-Reddit-AMA-Description'>\n",
      "<HTML url='https://www.bravotv.com/below-deck-sailing-yacht?cid=soc_reddit_x_20200301_bravo_org_x_BDSY_x_x_x_BDSY-Reddit-AMA-Description&rdt_cid=2983442620287616008&utm_campaign=x_20200301_bravo_org_x_BDSY_x_x_x&utm_medium=reddit&utm_source=soc&utm_term=BDSY-Reddit-AMA-Description'>\n",
      "<HTML url='https://www.bravotv.com/below-deck-sailing-yacht?cid=soc_reddit_x_20200301_bravo_org_x_BDSY_x_x_x_BDSY-Reddit-AMA-Description&rdt_cid=2983442620287616008&utm_campaign=x_20200301_bravo_org_x_BDSY_x_x_x&utm_medium=reddit&utm_source=soc&utm_term=BDSY-Reddit-AMA-Description'>\n",
      "<HTML url='https://www.bravotv.com/below-deck-sailing-yacht?cid=soc_reddit_x_20200301_bravo_org_x_BDSY_x_x_x_BDSY-Reddit-AMA-Description&rdt_cid=2983442620287616008&utm_campaign=x_20200301_bravo_org_x_BDSY_x_x_x&utm_medium=reddit&utm_source=soc&utm_term=BDSY-Reddit-AMA-Description'>\n",
      "<HTML url='https://www.bravotv.com/below-deck-sailing-yacht?cid=soc_reddit_x_20200301_bravo_org_x_BDSY_x_x_x_BDSY-Reddit-AMA-Description&rdt_cid=2983442620287616008&utm_campaign=x_20200301_bravo_org_x_BDSY_x_x_x&utm_medium=reddit&utm_source=soc&utm_term=BDSY-Reddit-AMA-Description'>\n",
      "<HTML url='https://www.bravotv.com/below-deck-sailing-yacht?cid=soc_reddit_x_20200301_bravo_org_x_BDSY_x_x_x_BDSY-Reddit-AMA-Description&rdt_cid=2983442620287616008&utm_campaign=x_20200301_bravo_org_x_BDSY_x_x_x&utm_medium=reddit&utm_source=soc&utm_term=BDSY-Reddit-AMA-Description'>\n",
      "<HTML url='https://www.bravotv.com/below-deck-sailing-yacht?cid=soc_reddit_x_20200301_bravo_org_x_BDSY_x_x_x_BDSY-Reddit-AMA-Description&rdt_cid=2983442620287616008&utm_campaign=x_20200301_bravo_org_x_BDSY_x_x_x&utm_medium=reddit&utm_source=soc&utm_term=BDSY-Reddit-AMA-Description'>\n",
      "<HTML url='https://www.bravotv.com/below-deck-sailing-yacht?cid=soc_reddit_x_20200301_bravo_org_x_BDSY_x_x_x_BDSY-Reddit-AMA-Description&rdt_cid=2983442620287616008&utm_campaign=x_20200301_bravo_org_x_BDSY_x_x_x&utm_medium=reddit&utm_source=soc&utm_term=BDSY-Reddit-AMA-Description'>\n",
      "<HTML url='https://www.bravotv.com/below-deck-sailing-yacht?cid=soc_reddit_x_20200301_bravo_org_x_BDSY_x_x_x_BDSY-Reddit-AMA-Description&rdt_cid=2983442620287616008&utm_campaign=x_20200301_bravo_org_x_BDSY_x_x_x&utm_medium=reddit&utm_source=soc&utm_term=BDSY-Reddit-AMA-Description'>\n",
      "<HTML url='https://www.bravotv.com/below-deck-sailing-yacht?cid=soc_reddit_x_20200301_bravo_org_x_BDSY_x_x_x_BDSY-Reddit-AMA-Description&rdt_cid=2983442620287616008&utm_campaign=x_20200301_bravo_org_x_BDSY_x_x_x&utm_medium=reddit&utm_source=soc&utm_term=BDSY-Reddit-AMA-Description'>\n",
      "<HTML url='https://www.bravotv.com/below-deck-sailing-yacht?cid=soc_reddit_x_20200301_bravo_org_x_BDSY_x_x_x_BDSY-Reddit-AMA-Description&rdt_cid=2983442620287616008&utm_campaign=x_20200301_bravo_org_x_BDSY_x_x_x&utm_medium=reddit&utm_source=soc&utm_term=BDSY-Reddit-AMA-Description'>\n",
      "<HTML url='https://www.bravotv.com/below-deck-sailing-yacht?cid=soc_reddit_x_20200301_bravo_org_x_BDSY_x_x_x_BDSY-Reddit-AMA-Description&rdt_cid=2983442620287616008&utm_campaign=x_20200301_bravo_org_x_BDSY_x_x_x&utm_medium=reddit&utm_source=soc&utm_term=BDSY-Reddit-AMA-Description'>\n",
      "<HTML url='https://www.bravotv.com/below-deck-sailing-yacht?cid=soc_reddit_x_20200301_bravo_org_x_BDSY_x_x_x_BDSY-Reddit-AMA-Description&rdt_cid=2983442620287616008&utm_campaign=x_20200301_bravo_org_x_BDSY_x_x_x&utm_medium=reddit&utm_source=soc&utm_term=BDSY-Reddit-AMA-Description'>\n",
      "<HTML url='https://www.bravotv.com/below-deck-sailing-yacht?cid=soc_reddit_x_20200301_bravo_org_x_BDSY_x_x_x_BDSY-Reddit-AMA-Description&rdt_cid=2983442620287616008&utm_campaign=x_20200301_bravo_org_x_BDSY_x_x_x&utm_medium=reddit&utm_source=soc&utm_term=BDSY-Reddit-AMA-Description'>\n"
     ]
    },
    {
     "name": "stdout",
     "output_type": "stream",
     "text": [
      "<HTML url='https://www.bravotv.com/below-deck-sailing-yacht?cid=soc_reddit_x_20200301_bravo_org_x_BDSY_x_x_x_BDSY-Reddit-AMA-Description&rdt_cid=2983442620287616008&utm_campaign=x_20200301_bravo_org_x_BDSY_x_x_x&utm_medium=reddit&utm_source=soc&utm_term=BDSY-Reddit-AMA-Description'>\n",
      "<HTML url='https://www.bravotv.com/below-deck-sailing-yacht?cid=soc_reddit_x_20200301_bravo_org_x_BDSY_x_x_x_BDSY-Reddit-AMA-Description&rdt_cid=2983442620287616008&utm_campaign=x_20200301_bravo_org_x_BDSY_x_x_x&utm_medium=reddit&utm_source=soc&utm_term=BDSY-Reddit-AMA-Description'>\n",
      "<HTML url='https://www.bravotv.com/below-deck-sailing-yacht?cid=soc_reddit_x_20200301_bravo_org_x_BDSY_x_x_x_BDSY-Reddit-AMA-Description&rdt_cid=2983442620287616008&utm_campaign=x_20200301_bravo_org_x_BDSY_x_x_x&utm_medium=reddit&utm_source=soc&utm_term=BDSY-Reddit-AMA-Description'>\n",
      "<HTML url='https://www.bravotv.com/below-deck-sailing-yacht?cid=soc_reddit_x_20200301_bravo_org_x_BDSY_x_x_x_BDSY-Reddit-AMA-Description&rdt_cid=2983442620287616008&utm_campaign=x_20200301_bravo_org_x_BDSY_x_x_x&utm_medium=reddit&utm_source=soc&utm_term=BDSY-Reddit-AMA-Description'>\n",
      "<HTML url='https://www.bravotv.com/below-deck-sailing-yacht?cid=soc_reddit_x_20200301_bravo_org_x_BDSY_x_x_x_BDSY-Reddit-AMA-Description&rdt_cid=2983442620287616008&utm_campaign=x_20200301_bravo_org_x_BDSY_x_x_x&utm_medium=reddit&utm_source=soc&utm_term=BDSY-Reddit-AMA-Description'>\n",
      "<HTML url='https://www.bravotv.com/below-deck-sailing-yacht?cid=soc_reddit_x_20200301_bravo_org_x_BDSY_x_x_x_BDSY-Reddit-AMA-Description&rdt_cid=2983442620287616008&utm_campaign=x_20200301_bravo_org_x_BDSY_x_x_x&utm_medium=reddit&utm_source=soc&utm_term=BDSY-Reddit-AMA-Description'>\n",
      "<HTML url='https://www.bravotv.com/below-deck-sailing-yacht?cid=soc_reddit_x_20200301_bravo_org_x_BDSY_x_x_x_BDSY-Reddit-AMA-Description&rdt_cid=2983442620287616008&utm_campaign=x_20200301_bravo_org_x_BDSY_x_x_x&utm_medium=reddit&utm_source=soc&utm_term=BDSY-Reddit-AMA-Description'>\n",
      "<HTML url='https://www.bravotv.com/below-deck-sailing-yacht?cid=soc_reddit_x_20200301_bravo_org_x_BDSY_x_x_x_BDSY-Reddit-AMA-Description&rdt_cid=2983442620287616008&utm_campaign=x_20200301_bravo_org_x_BDSY_x_x_x&utm_medium=reddit&utm_source=soc&utm_term=BDSY-Reddit-AMA-Description'>\n",
      "<HTML url='https://www.bravotv.com/below-deck-sailing-yacht?cid=soc_reddit_x_20200301_bravo_org_x_BDSY_x_x_x_BDSY-Reddit-AMA-Description&rdt_cid=2983442620287616008&utm_campaign=x_20200301_bravo_org_x_BDSY_x_x_x&utm_medium=reddit&utm_source=soc&utm_term=BDSY-Reddit-AMA-Description'>\n",
      "<HTML url='https://www.bravotv.com/below-deck-sailing-yacht?cid=soc_reddit_x_20200301_bravo_org_x_BDSY_x_x_x_BDSY-Reddit-AMA-Description&rdt_cid=2983442620287616008&utm_campaign=x_20200301_bravo_org_x_BDSY_x_x_x&utm_medium=reddit&utm_source=soc&utm_term=BDSY-Reddit-AMA-Description'>\n",
      "<HTML url='https://www.bravotv.com/below-deck-sailing-yacht?cid=soc_reddit_x_20200301_bravo_org_x_BDSY_x_x_x_BDSY-Reddit-AMA-Description&rdt_cid=2983442620287616008&utm_campaign=x_20200301_bravo_org_x_BDSY_x_x_x&utm_medium=reddit&utm_source=soc&utm_term=BDSY-Reddit-AMA-Description'>\n",
      "<HTML url='https://www.bravotv.com/below-deck-sailing-yacht?cid=soc_reddit_x_20200301_bravo_org_x_BDSY_x_x_x_BDSY-Reddit-AMA-Description&rdt_cid=2983442620287616008&utm_campaign=x_20200301_bravo_org_x_BDSY_x_x_x&utm_medium=reddit&utm_source=soc&utm_term=BDSY-Reddit-AMA-Description'>\n",
      "<HTML url='https://www.bravotv.com/below-deck-sailing-yacht?cid=soc_reddit_x_20200301_bravo_org_x_BDSY_x_x_x_BDSY-Reddit-AMA-Description&rdt_cid=2983442620287616008&utm_campaign=x_20200301_bravo_org_x_BDSY_x_x_x&utm_medium=reddit&utm_source=soc&utm_term=BDSY-Reddit-AMA-Description'>\n",
      "<HTML url='https://www.bravotv.com/below-deck-sailing-yacht?cid=soc_reddit_x_20200301_bravo_org_x_BDSY_x_x_x_BDSY-Reddit-AMA-Description&rdt_cid=2983442620287616008&utm_campaign=x_20200301_bravo_org_x_BDSY_x_x_x&utm_medium=reddit&utm_source=soc&utm_term=BDSY-Reddit-AMA-Description'>\n",
      "<HTML url='https://www.bravotv.com/below-deck-sailing-yacht?cid=soc_reddit_x_20200301_bravo_org_x_BDSY_x_x_x_BDSY-Reddit-AMA-Description&rdt_cid=2983442620287616008&utm_campaign=x_20200301_bravo_org_x_BDSY_x_x_x&utm_medium=reddit&utm_source=soc&utm_term=BDSY-Reddit-AMA-Description'>\n",
      "<HTML url='https://www.bravotv.com/below-deck-sailing-yacht?cid=soc_reddit_x_20200301_bravo_org_x_BDSY_x_x_x_BDSY-Reddit-AMA-Description&rdt_cid=2983442620287616008&utm_campaign=x_20200301_bravo_org_x_BDSY_x_x_x&utm_medium=reddit&utm_source=soc&utm_term=BDSY-Reddit-AMA-Description'>\n",
      "<HTML url='https://www.bravotv.com/below-deck-sailing-yacht?cid=soc_reddit_x_20200301_bravo_org_x_BDSY_x_x_x_BDSY-Reddit-AMA-Description&rdt_cid=2983442620287616008&utm_campaign=x_20200301_bravo_org_x_BDSY_x_x_x&utm_medium=reddit&utm_source=soc&utm_term=BDSY-Reddit-AMA-Description'>\n",
      "<HTML url='https://www.bravotv.com/below-deck-sailing-yacht?cid=soc_reddit_x_20200301_bravo_org_x_BDSY_x_x_x_BDSY-Reddit-AMA-Description&rdt_cid=2983442620287616008&utm_campaign=x_20200301_bravo_org_x_BDSY_x_x_x&utm_medium=reddit&utm_source=soc&utm_term=BDSY-Reddit-AMA-Description'>\n",
      "<HTML url='https://www.bravotv.com/below-deck-sailing-yacht?cid=soc_reddit_x_20200301_bravo_org_x_BDSY_x_x_x_BDSY-Reddit-AMA-Description&rdt_cid=2983442620287616008&utm_campaign=x_20200301_bravo_org_x_BDSY_x_x_x&utm_medium=reddit&utm_source=soc&utm_term=BDSY-Reddit-AMA-Description'>\n",
      "<HTML url='https://www.bravotv.com/below-deck-sailing-yacht?cid=soc_reddit_x_20200301_bravo_org_x_BDSY_x_x_x_BDSY-Reddit-AMA-Description&rdt_cid=2983442620287616008&utm_campaign=x_20200301_bravo_org_x_BDSY_x_x_x&utm_medium=reddit&utm_source=soc&utm_term=BDSY-Reddit-AMA-Description'>\n",
      "<HTML url='https://www.bravotv.com/below-deck-sailing-yacht?cid=soc_reddit_x_20200301_bravo_org_x_BDSY_x_x_x_BDSY-Reddit-AMA-Description&rdt_cid=2983442620287616008&utm_campaign=x_20200301_bravo_org_x_BDSY_x_x_x&utm_medium=reddit&utm_source=soc&utm_term=BDSY-Reddit-AMA-Description'>\n",
      "<HTML url='https://www.bravotv.com/below-deck-sailing-yacht?cid=soc_reddit_x_20200301_bravo_org_x_BDSY_x_x_x_BDSY-Reddit-AMA-Description&rdt_cid=2983442620287616008&utm_campaign=x_20200301_bravo_org_x_BDSY_x_x_x&utm_medium=reddit&utm_source=soc&utm_term=BDSY-Reddit-AMA-Description'>\n"
     ]
    },
    {
     "ename": "CancelledError",
     "evalue": "",
     "output_type": "error",
     "traceback": [
      "\u001b[0;31m---------------------------------------------------------------------------\u001b[0m",
      "\u001b[0;31mCancelledError\u001b[0m                            Traceback (most recent call last)",
      "\u001b[0;32m<ipython-input-31-c355fd3e8e93>\u001b[0m in \u001b[0;36m<module>\u001b[0;34m\u001b[0m\n\u001b[1;32m      1\u001b[0m \u001b[0mr\u001b[0m \u001b[0;34m=\u001b[0m \u001b[0;32mawait\u001b[0m \u001b[0masession\u001b[0m\u001b[0;34m.\u001b[0m\u001b[0mget\u001b[0m\u001b[0;34m(\u001b[0m\u001b[0;34m'https://reddit.com'\u001b[0m\u001b[0;34m)\u001b[0m\u001b[0;34m\u001b[0m\u001b[0;34m\u001b[0m\u001b[0m\n\u001b[0;32m----> 2\u001b[0;31m \u001b[0;32masync\u001b[0m \u001b[0;32mfor\u001b[0m \u001b[0mhtml\u001b[0m \u001b[0;32min\u001b[0m \u001b[0mr\u001b[0m\u001b[0;34m.\u001b[0m\u001b[0mhtml\u001b[0m\u001b[0;34m:\u001b[0m\u001b[0;34m\u001b[0m\u001b[0;34m\u001b[0m\u001b[0m\n\u001b[0m\u001b[1;32m      3\u001b[0m      \u001b[0mprint\u001b[0m\u001b[0;34m(\u001b[0m\u001b[0mhtml\u001b[0m\u001b[0;34m)\u001b[0m\u001b[0;34m\u001b[0m\u001b[0;34m\u001b[0m\u001b[0m\n",
      "\u001b[0;32m~/opt/anaconda3/lib/python3.8/site-packages/requests_html.py\u001b[0m in \u001b[0;36m__anext__\u001b[0;34m(self)\u001b[0m\n\u001b[1;32m    494\u001b[0m             \u001b[0;32mif\u001b[0m \u001b[0;32mnot\u001b[0m \u001b[0murl\u001b[0m\u001b[0;34m:\u001b[0m\u001b[0;34m\u001b[0m\u001b[0;34m\u001b[0m\u001b[0m\n\u001b[1;32m    495\u001b[0m                 \u001b[0;32mbreak\u001b[0m\u001b[0;34m\u001b[0m\u001b[0;34m\u001b[0m\u001b[0m\n\u001b[0;32m--> 496\u001b[0;31m             \u001b[0mresponse\u001b[0m \u001b[0;34m=\u001b[0m \u001b[0;32mawait\u001b[0m \u001b[0mself\u001b[0m\u001b[0;34m.\u001b[0m\u001b[0msession\u001b[0m\u001b[0;34m.\u001b[0m\u001b[0mget\u001b[0m\u001b[0;34m(\u001b[0m\u001b[0murl\u001b[0m\u001b[0;34m)\u001b[0m\u001b[0;34m\u001b[0m\u001b[0;34m\u001b[0m\u001b[0m\n\u001b[0m\u001b[1;32m    497\u001b[0m             \u001b[0;32mreturn\u001b[0m \u001b[0mresponse\u001b[0m\u001b[0;34m.\u001b[0m\u001b[0mhtml\u001b[0m\u001b[0;34m\u001b[0m\u001b[0;34m\u001b[0m\u001b[0m\n\u001b[1;32m    498\u001b[0m \u001b[0;34m\u001b[0m\u001b[0m\n",
      "\u001b[0;31mCancelledError\u001b[0m: "
     ]
    }
   ],
   "source": [
    "r = await asession.get('https://reddit.com')\n",
    "async for html in r.html:\n",
    "     print(html)"
   ]
  },
  {
   "cell_type": "code",
   "execution_count": 35,
   "metadata": {},
   "outputs": [
    {
     "name": "stdout",
     "output_type": "stream",
     "text": [
      "{'https://httpbin.org'}\n"
     ]
    }
   ],
   "source": [
    "from requests_html import HTML\n",
    "doc = \"\"\"<a href='https://httpbin.org'>\"\"\"\n",
    "\n",
    "html = HTML(html=doc)\n",
    "print(html.links)"
   ]
  },
  {
   "cell_type": "code",
   "execution_count": 36,
   "metadata": {},
   "outputs": [
    {
     "ename": "RuntimeError",
     "evalue": "Cannot use HTMLSession within an existing event loop. Use AsyncHTMLSession instead.",
     "output_type": "error",
     "traceback": [
      "\u001b[0;31m---------------------------------------------------------------------------\u001b[0m",
      "\u001b[0;31mRuntimeError\u001b[0m                              Traceback (most recent call last)",
      "\u001b[0;32m<ipython-input-36-9855beefd6af>\u001b[0m in \u001b[0;36m<module>\u001b[0;34m\u001b[0m\n\u001b[1;32m      8\u001b[0m         }\n\u001b[1;32m      9\u001b[0m     \"\"\"\n\u001b[0;32m---> 10\u001b[0;31m \u001b[0mval\u001b[0m \u001b[0;34m=\u001b[0m \u001b[0mhtml\u001b[0m\u001b[0;34m.\u001b[0m\u001b[0mrender\u001b[0m\u001b[0;34m(\u001b[0m\u001b[0mscript\u001b[0m\u001b[0;34m=\u001b[0m\u001b[0mscript\u001b[0m\u001b[0;34m,\u001b[0m \u001b[0mreload\u001b[0m\u001b[0;34m=\u001b[0m\u001b[0;32mFalse\u001b[0m\u001b[0;34m)\u001b[0m\u001b[0;34m\u001b[0m\u001b[0;34m\u001b[0m\u001b[0m\n\u001b[0m\u001b[1;32m     11\u001b[0m \u001b[0;34m\u001b[0m\u001b[0m\n\u001b[1;32m     12\u001b[0m \u001b[0mprint\u001b[0m\u001b[0;34m(\u001b[0m\u001b[0mval\u001b[0m\u001b[0;34m)\u001b[0m\u001b[0;34m\u001b[0m\u001b[0;34m\u001b[0m\u001b[0m\n",
      "\u001b[0;32m~/opt/anaconda3/lib/python3.8/site-packages/requests_html.py\u001b[0m in \u001b[0;36mrender\u001b[0;34m(self, retries, script, wait, scrolldown, sleep, reload, timeout, keep_page)\u001b[0m\n\u001b[1;32m    584\u001b[0m         \"\"\"\n\u001b[1;32m    585\u001b[0m \u001b[0;34m\u001b[0m\u001b[0m\n\u001b[0;32m--> 586\u001b[0;31m         \u001b[0mself\u001b[0m\u001b[0;34m.\u001b[0m\u001b[0mbrowser\u001b[0m \u001b[0;34m=\u001b[0m \u001b[0mself\u001b[0m\u001b[0;34m.\u001b[0m\u001b[0msession\u001b[0m\u001b[0;34m.\u001b[0m\u001b[0mbrowser\u001b[0m  \u001b[0;31m# Automatically create a event loop and browser\u001b[0m\u001b[0;34m\u001b[0m\u001b[0;34m\u001b[0m\u001b[0m\n\u001b[0m\u001b[1;32m    587\u001b[0m         \u001b[0mcontent\u001b[0m \u001b[0;34m=\u001b[0m \u001b[0;32mNone\u001b[0m\u001b[0;34m\u001b[0m\u001b[0;34m\u001b[0m\u001b[0m\n\u001b[1;32m    588\u001b[0m \u001b[0;34m\u001b[0m\u001b[0m\n",
      "\u001b[0;32m~/opt/anaconda3/lib/python3.8/site-packages/requests_html.py\u001b[0m in \u001b[0;36mbrowser\u001b[0;34m(self)\u001b[0m\n\u001b[1;32m    727\u001b[0m             \u001b[0mself\u001b[0m\u001b[0;34m.\u001b[0m\u001b[0mloop\u001b[0m \u001b[0;34m=\u001b[0m \u001b[0masyncio\u001b[0m\u001b[0;34m.\u001b[0m\u001b[0mget_event_loop\u001b[0m\u001b[0;34m(\u001b[0m\u001b[0;34m)\u001b[0m\u001b[0;34m\u001b[0m\u001b[0;34m\u001b[0m\u001b[0m\n\u001b[1;32m    728\u001b[0m             \u001b[0;32mif\u001b[0m \u001b[0mself\u001b[0m\u001b[0;34m.\u001b[0m\u001b[0mloop\u001b[0m\u001b[0;34m.\u001b[0m\u001b[0mis_running\u001b[0m\u001b[0;34m(\u001b[0m\u001b[0;34m)\u001b[0m\u001b[0;34m:\u001b[0m\u001b[0;34m\u001b[0m\u001b[0;34m\u001b[0m\u001b[0m\n\u001b[0;32m--> 729\u001b[0;31m                 \u001b[0;32mraise\u001b[0m \u001b[0mRuntimeError\u001b[0m\u001b[0;34m(\u001b[0m\u001b[0;34m\"Cannot use HTMLSession within an existing event loop. Use AsyncHTMLSession instead.\"\u001b[0m\u001b[0;34m)\u001b[0m\u001b[0;34m\u001b[0m\u001b[0;34m\u001b[0m\u001b[0m\n\u001b[0m\u001b[1;32m    730\u001b[0m             \u001b[0mself\u001b[0m\u001b[0;34m.\u001b[0m\u001b[0m_browser\u001b[0m \u001b[0;34m=\u001b[0m \u001b[0mself\u001b[0m\u001b[0;34m.\u001b[0m\u001b[0mloop\u001b[0m\u001b[0;34m.\u001b[0m\u001b[0mrun_until_complete\u001b[0m\u001b[0;34m(\u001b[0m\u001b[0msuper\u001b[0m\u001b[0;34m(\u001b[0m\u001b[0;34m)\u001b[0m\u001b[0;34m.\u001b[0m\u001b[0mbrowser\u001b[0m\u001b[0;34m)\u001b[0m\u001b[0;34m\u001b[0m\u001b[0;34m\u001b[0m\u001b[0m\n\u001b[1;32m    731\u001b[0m         \u001b[0;32mreturn\u001b[0m \u001b[0mself\u001b[0m\u001b[0;34m.\u001b[0m\u001b[0m_browser\u001b[0m\u001b[0;34m\u001b[0m\u001b[0;34m\u001b[0m\u001b[0m\n",
      "\u001b[0;31mRuntimeError\u001b[0m: Cannot use HTMLSession within an existing event loop. Use AsyncHTMLSession instead."
     ]
    }
   ],
   "source": [
    "script = \"\"\"\n",
    "        () => {\n",
    "            return {\n",
    "                width: document.documentElement.clientWidth,\n",
    "                height: document.documentElement.clientHeight,\n",
    "                deviceScaleFactor: window.devicePixelRatio,\n",
    "            }\n",
    "        }\n",
    "    \"\"\"\n",
    "val = html.render(script=script, reload=False)\n",
    "\n",
    "print(val)\n",
    "#{'width': 800, 'height': 600, 'deviceScaleFactor': 1}"
   ]
  },
  {
   "cell_type": "code",
   "execution_count": null,
   "metadata": {},
   "outputs": [],
   "source": []
  }
 ],
 "metadata": {
  "kernelspec": {
   "display_name": "Python 3",
   "language": "python",
   "name": "python3"
  },
  "language_info": {
   "codemirror_mode": {
    "name": "ipython",
    "version": 3
   },
   "file_extension": ".py",
   "mimetype": "text/x-python",
   "name": "python",
   "nbconvert_exporter": "python",
   "pygments_lexer": "ipython3",
   "version": "3.8.5"
  }
 },
 "nbformat": 4,
 "nbformat_minor": 4
}
