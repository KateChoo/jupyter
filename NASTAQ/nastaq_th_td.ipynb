{
 "cells": [
  {
   "cell_type": "code",
   "execution_count": 128,
   "metadata": {},
   "outputs": [
    {
     "data": {
      "text/plain": [
       "'UTF-8'"
      ]
     },
     "execution_count": 128,
     "metadata": {},
     "output_type": "execute_result"
    }
   ],
   "source": [
    "import requests\n",
    "r = requests.get('https://en.wikipedia.org/wiki/Nasdaq-100')\n",
    "r.status_code\n",
    "r.headers['content-type']\n",
    "r.encoding\n",
    "#r.text\n",
    "#r.json() #X"
   ]
  },
  {
   "cell_type": "code",
   "execution_count": 129,
   "metadata": {},
   "outputs": [],
   "source": [
    "from requests_html import HTMLSession\n",
    "#from requests_html import HTML\n",
    "session = HTMLSession()\n",
    "\n",
    "r = session.get('https://en.wikipedia.org/wiki/Nasdaq-100')\n",
    "#r_html = HTML(html=html_text)\n",
    "#r.html.absolute_links"
   ]
  },
  {
   "cell_type": "code",
   "execution_count": 130,
   "metadata": {},
   "outputs": [
    {
     "name": "stdout",
     "output_type": "stream",
     "text": [
      "[<Element 'table' class=('wikitable', 'sortable') id='constituents'>]\n",
      "1\n"
     ]
    }
   ],
   "source": [
    "table_class = '.wikitable sortable jquery-tablesorter' #X\n",
    "table_id = '#constituents' #V\n",
    "r_table = r.html.find(table_id)\n",
    "print(r_table)\n",
    "print(len(r_table))"
   ]
  },
  {
   "cell_type": "code",
   "execution_count": 131,
   "metadata": {},
   "outputs": [
    {
     "name": "stdout",
     "output_type": "stream",
     "text": [
      "[<Element 'tbody' >]\n",
      "1\n"
     ]
    }
   ],
   "source": [
    "r_table_body = r_table[0].find('tbody')\n",
    "print(r_table_body)\n",
    "print(len(r_table_body))"
   ]
  },
  {
   "cell_type": "code",
   "execution_count": 132,
   "metadata": {},
   "outputs": [
    {
     "name": "stdout",
     "output_type": "stream",
     "text": [
      "Activision Blizzard\n",
      "ATVI\n",
      "Communication Services\n",
      "Interactive Home Entertainment\n"
     ]
    }
   ],
   "source": [
    "tr_s = r_table[0].find('tr')\n",
    "#print(tr)\n",
    "for tr in tr_s[1:2]:\n",
    "    print(tr.text)"
   ]
  },
  {
   "cell_type": "code",
   "execution_count": 148,
   "metadata": {},
   "outputs": [
    {
     "name": "stdout",
     "output_type": "stream",
     "text": [
      "['Company', 'Ticker', 'GICS Sector', 'GICS Sub-Industry']\n",
      "Company\n"
     ]
    }
   ],
   "source": [
    "#!!!!!!!!!  直接找th, td\n",
    "headers = []\n",
    "\n",
    "th = r_table[0].find('th')\n",
    "#print(th)\n",
    "for header in th:\n",
    "    headers.append(header.text)\n",
    "print(headers)\n",
    "print(headers[0])\n",
    "company_header = headers[0]"
   ]
  },
  {
   "cell_type": "code",
   "execution_count": 162,
   "metadata": {},
   "outputs": [
    {
     "name": "stdout",
     "output_type": "stream",
     "text": [
      "['Activision Blizzard', 'Adobe Inc.', 'Advanced Micro Devices', 'Alexion Pharmaceuticals', 'Align Technology', 'Alphabet Inc. (Class A)', 'Alphabet Inc. (Class C)', 'Amazon.com', 'American Electric Power', 'Amgen', 'Analog Devices', 'Ansys', 'Apple Inc.', 'Applied Materials, Inc.', 'ASML Holding', 'Atlassian', 'Autodesk', 'Automatic Data Processing, Inc.', 'Baidu', 'Biogen', 'Booking Holdings', 'Broadcom Inc.', 'Cadence Design Systems', 'CDW', 'Cerner Corporation', 'Charter Communications, Inc.', 'Check Point Software Technologies Ltd.', 'Cintas Corporation', 'Cisco Systems', 'Cognizant Technology Solutions Corporation', 'Comcast Corporation', 'Copart', 'Costco Wholesale Corporation', 'CSX Corporation', 'DexCom', 'DocuSign', 'Dollar Tree, Inc.', 'eBay Inc.', 'Electronic Arts', 'Exelon Corporation', 'Facebook, Inc.', 'Fastenal Company', 'Fiserv, Inc.', 'Fox Corporation (Class A)', 'Fox Corporation (Class B)', 'Gilead Sciences, Inc.', 'Idexx Laboratories', 'Illumina, Inc.', 'Incyte Corporation', 'Intel Corporation', 'Intuit', 'Intuitive Surgical', 'JD.com', 'Keurig Dr Pepper Inc.', 'KLA Corporation', 'Kraft Heinz Co', 'Lam Research', 'Lululemon Athletica', 'Marriott International', 'Marvell Technology Group', 'Match Group', 'Maxim Integrated Products', 'MercadoLibre', 'Microchip Technology', 'Micron Technology, Inc.', 'Microsoft Corporation', 'Moderna', 'Mondelēz International', 'Monster Beverage Corporation', 'NetEase, Inc.', 'Netflix', 'Nvidia Corporation', 'NXP Semiconductors', \"O'Reilly Automotive, Inc.\", 'Okta, Inc.', 'Paccar', 'Paychex, Inc.', 'PayPal', 'Peloton Interactive', 'PepsiCo, Inc.', 'Pinduoduo Inc.', 'Qualcomm', 'Regeneron Pharmaceuticals', 'Ross Stores, Inc.', 'Seagen Inc.', 'Sirius XM Holdings Inc.', 'Skyworks Solutions, Inc.', 'Splunk', 'Starbucks Corporation', 'Synopsys, Inc.', 'T-Mobile US', 'Tesla, Inc.', 'Texas Instruments', 'Trip.com Group', 'Verisign', 'Verisk Analytics', 'Vertex Pharmaceuticals', 'Walgreen Boots Alliance, Inc.', 'Workday, Inc.', 'Xcel Energy Inc.', 'Xilinx, Inc.', 'Zoom Video Communications']\n"
     ]
    }
   ],
   "source": [
    "#COMPANY!!!!!!!!!  直接找th, td\n",
    "td_s = r_table[0].find('td')\n",
    "# print(td_s)\n",
    "company =[]\n",
    "company_data = {}\n",
    "for td_company in td_s[0::4]:  \n",
    "    #print(td_company.text)\n",
    "    company.append(td_company.text)\n",
    "    #company_data['company'] = td_company\n",
    "print(company)\n",
    "#print(company_data)  只能顯示一個"
   ]
  },
  {
   "cell_type": "code",
   "execution_count": 163,
   "metadata": {},
   "outputs": [
    {
     "name": "stdout",
     "output_type": "stream",
     "text": [
      "['ATVI', 'ADBE', 'AMD', 'ALXN', 'ALGN', 'GOOGL', 'GOOG', 'AMZN', 'AEP', 'AMGN', 'ADI', 'ANSS', 'AAPL', 'AMAT', 'ASML', 'TEAM', 'ADSK', 'ADP', 'BIDU', 'BIIB', 'BKNG', 'AVGO', 'CDNS', 'CDW', 'CERN', 'CHTR', 'CHKP', 'CTAS', 'CSCO', 'CTSH', 'CMCSA', 'CPRT', 'COST', 'CSX', 'DXCM', 'DOCU', 'DLTR', 'EBAY', 'EA', 'EXC', 'FB', 'FAST', 'FISV', 'FOXA', 'FOX', 'GILD', 'IDXX', 'ILMN', 'INCY', 'INTC', 'INTU', 'ISRG', 'JD', 'KDP', 'KLAC', 'KHC', 'LRCX', 'LULU', 'MAR', 'MRVL', 'MTCH', 'MXIM', 'MELI', 'MCHP', 'MU', 'MSFT', 'MRNA', 'MDLZ', 'MNST', 'NTES', 'NFLX', 'NVDA', 'NXPI', 'ORLY', 'OKTA', 'PCAR', 'PAYX', 'PYPL', 'PTON', 'PEP', 'PDD', 'QCOM', 'REGN', 'ROST', 'SGEN', 'SIRI', 'SWKS', 'SPLK', 'SBUX', 'SNPS', 'TMUS', 'TSLA', 'TXN', 'TCOM', 'VRSN', 'VRSK', 'VRTX', 'WBA', 'WDAY', 'XEL', 'XLNX', 'ZM']\n"
     ]
    }
   ],
   "source": [
    "#TICKER!!!!!!!!!  直接找th, td\n",
    "td_s = r_table[0].find('td')\n",
    "# print(td_s)\n",
    "ticker =[]\n",
    "for td_ticker in td_s[1::4]:  \n",
    "    ticker.append(td_ticker.text)\n",
    "print(ticker)"
   ]
  },
  {
   "cell_type": "code",
   "execution_count": 165,
   "metadata": {},
   "outputs": [
    {
     "name": "stdout",
     "output_type": "stream",
     "text": [
      "['Communication Services', 'Information Technology', 'Information Technology', 'Health Care', 'Health Care', 'Communication Services', 'Communication Services', 'Consumer Discretionary', 'Utilities', 'Health Care', 'Information Technology', 'Information Technology', 'Information Technology', 'Information Technology', 'Information Technology', 'Information Technology', 'Information Technology', 'Information Technology', 'Communication Services', 'Health Care', 'Consumer Discretionary', 'Information Technology', 'Information Technology', 'Information Technology', 'Health Care', 'Communication Services', 'Information Technology', 'Industrials', 'Information Technology', 'Information Technology', 'Communication Services', 'Industrials', 'Consumer Staples', 'Industrials', 'Health Care', 'Information Technology', 'Consumer Discretionary', 'Consumer Discretionary', 'Communication Services', 'Utilities', 'Communication Services', 'Industrials', 'Information Technology', 'Communication Services', 'Communication Services', 'Health Care', 'Health Care', 'Health Care', 'Health Care', 'Information Technology', 'Information Technology', 'Health Care', 'Consumer Discretionary', 'Consumer Staples', 'Information Technology', 'Consumer Staples', 'Information Technology', 'Consumer Discretionary', 'Consumer Discretionary', 'Information Technology', 'Communication Services', 'Information Technology', 'Consumer Discretionary', 'Information Technology', 'Information Technology', 'Information Technology', 'Health Care', 'Consumer Staples', 'Consumer Staples', 'Communication Services', 'Communication Services', 'Information Technology', 'Information Technology', 'Consumer Discretionary', 'Information Technology', 'Industrials', 'Information Technology', 'Information Technology', 'Consumer Discretionary', 'Consumer Staples', 'Consumer Discretionary', 'Information Technology', 'Health Care', 'Consumer Discretionary', 'Health Care', 'Communication Services', 'Information Technology', 'Information Technology', 'Consumer Discretionary', 'Information Technology', 'Communication Services', 'Consumer Discretionary', 'Information Technology', 'Consumer Discretionary', 'Information Technology', 'Industrials', 'Health Care', 'Consumer Staples', 'Information Technology', 'Utilities', 'Information Technology', 'Information Technology']\n"
     ]
    }
   ],
   "source": [
    "#GICS Sector!!!!!!!!!  直接找th, td\n",
    "td_s = r_table[0].find('td')\n",
    "# print(td_s)\n",
    "sector =[]\n",
    "for td_sector in td_s[2::4]:  \n",
    "    sector.append(td_sector.text)\n",
    "print(sector)"
   ]
  },
  {
   "cell_type": "code",
   "execution_count": 168,
   "metadata": {},
   "outputs": [
    {
     "name": "stdout",
     "output_type": "stream",
     "text": [
      "{'Activision Blizzard': 'ATVI', 'Adobe Inc.': 'ADBE', 'Advanced Micro Devices': 'AMD', 'Alexion Pharmaceuticals': 'ALXN', 'Align Technology': 'ALGN', 'Alphabet Inc. (Class A)': 'GOOGL', 'Alphabet Inc. (Class C)': 'GOOG', 'Amazon.com': 'AMZN', 'American Electric Power': 'AEP', 'Amgen': 'AMGN', 'Analog Devices': 'ADI', 'Ansys': 'ANSS', 'Apple Inc.': 'AAPL', 'Applied Materials, Inc.': 'AMAT', 'ASML Holding': 'ASML', 'Atlassian': 'TEAM', 'Autodesk': 'ADSK', 'Automatic Data Processing, Inc.': 'ADP', 'Baidu': 'BIDU', 'Biogen': 'BIIB', 'Booking Holdings': 'BKNG', 'Broadcom Inc.': 'AVGO', 'Cadence Design Systems': 'CDNS', 'CDW': 'CDW', 'Cerner Corporation': 'CERN', 'Charter Communications, Inc.': 'CHTR', 'Check Point Software Technologies Ltd.': 'CHKP', 'Cintas Corporation': 'CTAS', 'Cisco Systems': 'CSCO', 'Cognizant Technology Solutions Corporation': 'CTSH', 'Comcast Corporation': 'CMCSA', 'Copart': 'CPRT', 'Costco Wholesale Corporation': 'COST', 'CSX Corporation': 'CSX', 'DexCom': 'DXCM', 'DocuSign': 'DOCU', 'Dollar Tree, Inc.': 'DLTR', 'eBay Inc.': 'EBAY', 'Electronic Arts': 'EA', 'Exelon Corporation': 'EXC', 'Facebook, Inc.': 'FB', 'Fastenal Company': 'FAST', 'Fiserv, Inc.': 'FISV', 'Fox Corporation (Class A)': 'FOXA', 'Fox Corporation (Class B)': 'FOX', 'Gilead Sciences, Inc.': 'GILD', 'Idexx Laboratories': 'IDXX', 'Illumina, Inc.': 'ILMN', 'Incyte Corporation': 'INCY', 'Intel Corporation': 'INTC', 'Intuit': 'INTU', 'Intuitive Surgical': 'ISRG', 'JD.com': 'JD', 'Keurig Dr Pepper Inc.': 'KDP', 'KLA Corporation': 'KLAC', 'Kraft Heinz Co': 'KHC', 'Lam Research': 'LRCX', 'Lululemon Athletica': 'LULU', 'Marriott International': 'MAR', 'Marvell Technology Group': 'MRVL', 'Match Group': 'MTCH', 'Maxim Integrated Products': 'MXIM', 'MercadoLibre': 'MELI', 'Microchip Technology': 'MCHP', 'Micron Technology, Inc.': 'MU', 'Microsoft Corporation': 'MSFT', 'Moderna': 'MRNA', 'Mondelēz International': 'MDLZ', 'Monster Beverage Corporation': 'MNST', 'NetEase, Inc.': 'NTES', 'Netflix': 'NFLX', 'Nvidia Corporation': 'NVDA', 'NXP Semiconductors': 'NXPI', \"O'Reilly Automotive, Inc.\": 'ORLY', 'Okta, Inc.': 'OKTA', 'Paccar': 'PCAR', 'Paychex, Inc.': 'PAYX', 'PayPal': 'PYPL', 'Peloton Interactive': 'PTON', 'PepsiCo, Inc.': 'PEP', 'Pinduoduo Inc.': 'PDD', 'Qualcomm': 'QCOM', 'Regeneron Pharmaceuticals': 'REGN', 'Ross Stores, Inc.': 'ROST', 'Seagen Inc.': 'SGEN', 'Sirius XM Holdings Inc.': 'SIRI', 'Skyworks Solutions, Inc.': 'SWKS', 'Splunk': 'SPLK', 'Starbucks Corporation': 'SBUX', 'Synopsys, Inc.': 'SNPS', 'T-Mobile US': 'TMUS', 'Tesla, Inc.': 'TSLA', 'Texas Instruments': 'TXN', 'Trip.com Group': 'TCOM', 'Verisign': 'VRSN', 'Verisk Analytics': 'VRSK', 'Vertex Pharmaceuticals': 'VRTX', 'Walgreen Boots Alliance, Inc.': 'WBA', 'Workday, Inc.': 'WDAY', 'Xcel Energy Inc.': 'XEL', 'Xilinx, Inc.': 'XLNX', 'Zoom Video Communications': 'ZM'}\n"
     ]
    }
   ],
   "source": [
    "data = dict(zip(company, ticker))\n",
    "print(data)"
   ]
  },
  {
   "cell_type": "code",
   "execution_count": 164,
   "metadata": {},
   "outputs": [
    {
     "name": "stdout",
     "output_type": "stream",
     "text": [
      "Activision Blizzard\n",
      "ATVI\n"
     ]
    }
   ],
   "source": [
    "print(company[0])\n",
    "print(ticker[0])"
   ]
  },
  {
   "cell_type": "code",
   "execution_count": 157,
   "metadata": {},
   "outputs": [
    {
     "name": "stdout",
     "output_type": "stream",
     "text": [
      "{'Company': 'Activision Blizzard', 'Ticker': 'ATVI', 'GICS Sector': 'Communication Services', 'GICS Sub-Industry': 'Interactive Home Entertainment'}\n"
     ]
    }
   ],
   "source": [
    "#!!!!!!!!!  直接找th, td\n",
    "headers = []\n",
    "\n",
    "th = r_table[0].find('th')\n",
    "#print(th)\n",
    "for header in th:\n",
    "    headers.append(header.text)\n",
    "\n",
    "td_s = r_table[0].find('td')\n",
    "# print(td_s)\n",
    "company =[]\n",
    "for td_company in td_s[0:20]:  \n",
    "    company.append(td_company.text)\n",
    "company_data = dict(zip(headers, company))   #要一樣長度才會顯示\n",
    "print(company_data)"
   ]
  },
  {
   "cell_type": "code",
   "execution_count": 121,
   "metadata": {},
   "outputs": [
    {
     "name": "stdout",
     "output_type": "stream",
     "text": [
      "Company\n",
      "Ticker\n",
      "GICS Sector\n",
      "GICS Sub-Industry\n",
      "Activision Blizzard\n",
      "ATVI\n",
      "Communication Services\n",
      "Interactive Home Entertainment\n"
     ]
    }
   ],
   "source": [
    "tr_s = r_table[0].find('tr')\n",
    "for tr in tr_s[1:2]:\n",
    "    print(tr.text)"
   ]
  },
  {
   "cell_type": "code",
   "execution_count": null,
   "metadata": {},
   "outputs": [],
   "source": []
  },
  {
   "cell_type": "code",
   "execution_count": 59,
   "metadata": {},
   "outputs": [
    {
     "name": "stdout",
     "output_type": "stream",
     "text": [
      "['Company, Ticker, GICS Sector, GICS Sub-Industry']\n",
      "['Activision Blizzard, ATVI, Communication Services, Interactive Home Entertainment']\n"
     ]
    }
   ],
   "source": [
    "rows = r_table_body[0].find('tr')\n",
    "header_row = rows[0].text\n",
    "# print(header_row)\n",
    "# print('='*30)\n",
    "title = []\n",
    "row_data = []\n",
    "data = {}\n",
    "title.append(header_row.replace(\"\\n\", \", \"))\n",
    "for idx, tr in enumerate(rows[1:2]):\n",
    "#     print(tr.text)\n",
    "#     print('='*30)\n",
    "    row_data.append(tr.text.replace(\"\\n\", \", \"))\n",
    "    \n",
    "print(title)\n",
    "print(row_data)\n",
    "# row_data_string = ''.join(str(e) for e in row_data)\n",
    "# print(row_data_string)"
   ]
  },
  {
   "cell_type": "code",
   "execution_count": 74,
   "metadata": {},
   "outputs": [
    {
     "ename": "TypeError",
     "evalue": "'Element' object is not subscriptable",
     "output_type": "error",
     "traceback": [
      "\u001b[1;31m---------------------------------------------------------------------------\u001b[0m",
      "\u001b[1;31mTypeError\u001b[0m                                 Traceback (most recent call last)",
      "\u001b[1;32m<ipython-input-74-755e6a080d19>\u001b[0m in \u001b[0;36m<module>\u001b[1;34m\u001b[0m\n\u001b[0;32m      1\u001b[0m \u001b[0mcols\u001b[0m \u001b[1;33m=\u001b[0m \u001b[0mr_table_body\u001b[0m\u001b[1;33m[\u001b[0m\u001b[1;36m0\u001b[0m\u001b[1;33m]\u001b[0m\u001b[1;33m.\u001b[0m\u001b[0mfind\u001b[0m\u001b[1;33m(\u001b[0m\u001b[1;34m'td'\u001b[0m\u001b[1;33m)\u001b[0m\u001b[1;33m[\u001b[0m\u001b[1;36m0\u001b[0m\u001b[1;33m]\u001b[0m\u001b[1;33m\u001b[0m\u001b[1;33m\u001b[0m\u001b[0m\n\u001b[1;32m----> 2\u001b[1;33m \u001b[0mcols_company\u001b[0m \u001b[1;33m=\u001b[0m \u001b[0mcols\u001b[0m\u001b[1;33m[\u001b[0m\u001b[1;36m0\u001b[0m\u001b[1;33m]\u001b[0m\u001b[1;33m.\u001b[0m\u001b[0mtext\u001b[0m\u001b[1;33m\u001b[0m\u001b[1;33m\u001b[0m\u001b[0m\n\u001b[0m\u001b[0;32m      3\u001b[0m \u001b[0mcol_data\u001b[0m \u001b[1;33m=\u001b[0m \u001b[1;33m[\u001b[0m\u001b[1;33m]\u001b[0m\u001b[1;33m\u001b[0m\u001b[1;33m\u001b[0m\u001b[0m\n\u001b[0;32m      4\u001b[0m \u001b[1;31m# for row in rows[1:2]:\u001b[0m\u001b[1;33m\u001b[0m\u001b[1;33m\u001b[0m\u001b[1;33m\u001b[0m\u001b[0m\n\u001b[0;32m      5\u001b[0m \u001b[1;31m#     for col in cols:\u001b[0m\u001b[1;33m\u001b[0m\u001b[1;33m\u001b[0m\u001b[1;33m\u001b[0m\u001b[0m\n",
      "\u001b[1;31mTypeError\u001b[0m: 'Element' object is not subscriptable"
     ]
    }
   ],
   "source": [
    "cols = r_table_body[0].find('td')\n",
    "cols_company = cols[0].text\n",
    "col_data = []\n",
    "# for row in rows[1:2]:\n",
    "#     for col in cols:\n",
    "#         print(col.text)\n",
    "for col in cols[0:1]:\n",
    "    print(col.text)\n",
    "    col_data.append(col.text)\n",
    "# print(cols[0].text)\n",
    "# print(cols[1].text)\n",
    "# print(cols[2].text)\n",
    "# print(cols[3].text)"
   ]
  },
  {
   "cell_type": "code",
   "execution_count": 90,
   "metadata": {},
   "outputs": [
    {
     "name": "stdout",
     "output_type": "stream",
     "text": [
      "Activision Blizzard\n",
      "ATVI\n",
      "Communication Services\n",
      "Interactive Home Entertainment\n",
      "==============================\n",
      "Activision Blizzard\n",
      "ATVI\n",
      "['Activision Blizzard', 'ATVI']\n"
     ]
    }
   ],
   "source": [
    "rows = r_table_body[0].find('tr')\n",
    "cols = r_table_body[0].find('td')\n",
    "data = {}\n",
    "col_data = []\n",
    "for row in rows[1:2]:\n",
    "    print(row.text)\n",
    "print('='*30)\n",
    "for col in cols[0:2]:\n",
    "    print(col.text)\n",
    "    col_data.append(col.text)\n",
    "print(col_data)\n",
    "#print(data)"
   ]
  },
  {
   "cell_type": "code",
   "execution_count": null,
   "metadata": {},
   "outputs": [],
   "source": []
  },
  {
   "cell_type": "code",
   "execution_count": null,
   "metadata": {},
   "outputs": [],
   "source": []
  }
 ],
 "metadata": {
  "kernelspec": {
   "display_name": "Python 3",
   "language": "python",
   "name": "python3"
  },
  "language_info": {
   "codemirror_mode": {
    "name": "ipython",
    "version": 3
   },
   "file_extension": ".py",
   "mimetype": "text/x-python",
   "name": "python",
   "nbconvert_exporter": "python",
   "pygments_lexer": "ipython3",
   "version": "3.8.5"
  }
 },
 "nbformat": 4,
 "nbformat_minor": 4
}
