{
 "cells": [
  {
   "cell_type": "code",
   "execution_count": 14,
   "metadata": {},
   "outputs": [
    {
     "name": "stdout",
     "output_type": "stream",
     "text": [
      "['Year', 'Closing level', 'Change in Index-in Points', 'Change in Index-in%']\n",
      "{'1985': '132.29', '1986': '141.41', '1987': '156.25', '1988': '177.41', '1989': '223.84', '1990': '200.53', '1991': '330.86', '1992': '360.19', '1993': '398.28', '1994': '404.27', '1995': '576.23', '1996': '821.36', '1997': '990.80', '1998': '1,836.01', '1999': '3,707.83', '2000': '2,341.70', '2001': '1,577.05', '2002': '984.36', '2003': '1,467.92', '2004': '1,621.12', '2005': '1,645.20', '2006': '1,756.90', '2007': '2,084.93', '2008': '1,211.65', '2009': '1,860.31', '2010': '2,217.86', '2011': '2,277.83', '2012': '2,660.93', '2013': '3,592.00', '2014': '4,236.28', '2015': '4,593.27', '2016': '4,863.62', '2017': '6,396.42', '2018': '6,329.96', '2019': '8,733.07', '2020': '12,888.28'}\n"
     ]
    }
   ],
   "source": [
    "from requests_html import HTMLSession\n",
    "import json\n",
    "session = HTMLSession()\n",
    "r = session.get('https://en.wikipedia.org/wiki/Nasdaq-100')\n",
    "try:\n",
    "    # 找尋table\n",
    "    table_class = '.wikitable.sortable'  # r_table[1]\n",
    "    \n",
    "    r_table = r.html.find(table_class)\n",
    "    #print(r_table[1].text)\n",
    "    #!!!!!!!!!  直接找th         ==========================*==========\n",
    "    headers = []\n",
    "    th = r_table[1].find('th')\n",
    "    for header in th:\n",
    "        headers.append(header.text.replace('\\n', '-').replace('\\xa0', ''))\n",
    "    print(headers)\n",
    "    # YEAR!!!!!!!!!  直接找td ==========================*==========\n",
    "    td = r_table[1].find('td')  # !!!!!\n",
    "    year = []\n",
    "\n",
    "    for td_year in td[0::4]:\n",
    "        year.append(td_year.text)\n",
    "    \n",
    "    #print(year)\n",
    "     # Closing level!!!!!!!!!             ==========================*==========\n",
    "    closing_level = []\n",
    "    \n",
    "    for td_closing in td[1::4]:\n",
    "        closing_level.append(td_closing.text)\n",
    "        \n",
    "     # idx_points!!!!!!!!!             ==========================*==========\n",
    "    idx_points = []\n",
    "\n",
    "    for td_idx_p in td[2::4]:\n",
    "        idx_points.append(td_idx_p.text)   \n",
    "    # idx_percentage!!!!!!!!!             ==========================*==========\n",
    "    \n",
    "    idx_percentage = []\n",
    "\n",
    "    for td_idx_perc in td[3::4]:\n",
    "        idx_percentage.append(td_idx_perc.text + '%')\n",
    "    \n",
    "    #=======*=========*====*\n",
    "    data = dict(zip(year, closing_level))\n",
    "    #data = dict(zip(year, idx_points))\n",
    "    #data = dict(zip(year, idx_percentage))\n",
    "    print(data)\n",
    "except:\n",
    "    print('website may not be approachable ')"
   ]
  },
  {
   "cell_type": "code",
   "execution_count": 21,
   "metadata": {},
   "outputs": [
    {
     "name": "stdout",
     "output_type": "stream",
     "text": [
      "{'1985': '', '1986': '9.12', '1987': '14.84', '1988': '21.16', '1989': '46.43', '1990': '−23.31', '1991': '130.33', '1992': '29.33', '1993': '38.09', '1994': '5.99', '1995': '171.96', '1996': '245.13', '1997': '169.44', '1998': '845.21', '1999': '1,871.81', '2000': '−1,366.13', '2001': '−764.65', '2002': '−592.69', '2003': '483.56', '2004': '153.20', '2005': '24.08', '2006': '111.70', '2007': '328.03', '2008': '−873.28', '2009': '648.66', '2010': '357.55', '2011': '59.97', '2012': '383.10', '2013': '931.07', '2014': '644.28', '2015': '356.99', '2016': '270.35', '2017': '1,532.80', '2018': '−66.46', '2019': '2,403.11', '2020': '4,155.21'}\n"
     ]
    }
   ],
   "source": [
    " # idx_percentage!!!!!!!!!             ==========================*==========\n",
    "idx_points = []\n",
    "\n",
    "for td_idx_p in td[2::4]:\n",
    "    idx_points.append(td_idx_p.text)\n",
    "\n",
    "data = dict(zip(year, idx_points))\n",
    "print(data)"
   ]
  },
  {
   "cell_type": "code",
   "execution_count": 22,
   "metadata": {},
   "outputs": [
    {
     "name": "stdout",
     "output_type": "stream",
     "text": [
      "{'1985': '%', '1986': '6.89%', '1987': '10.49%', '1988': '13.54%', '1989': '26.17%', '1990': '−10.41%', '1991': '64.99%', '1992': '8.86%', '1993': '10.57%', '1994': '1.50%', '1995': '42.54%', '1996': '42.54%', '1997': '20.63%', '1998': '85.31%', '1999': '101.95%', '2000': '−36.84%', '2001': '−32.65%', '2002': '−37.58%', '2003': '49.12%', '2004': '10.44%', '2005': '1.49%', '2006': '6.79%', '2007': '18.67%', '2008': '−41.89%', '2009': '53.54%', '2010': '19.22%', '2011': '2.70%', '2012': '16.82%', '2013': '34.99%', '2014': '17.94%', '2015': '8.43%', '2016': '5.89%', '2017': '31.52%', '2018': '−1.04%', '2019': '37.96%', '2020': '47.58%'}\n"
     ]
    }
   ],
   "source": [
    " # idx_percentage!!!!!!!!!             ==========================*==========\n",
    "idx_percentage = []\n",
    "\n",
    "for td_idx_perc in td[3::4]:\n",
    "    idx_percentage.append(td_idx_perc.text + '%')\n",
    "\n",
    "#print(idx_percentage)\n",
    "data = dict(zip(year, idx_percentage))\n",
    "print(data)"
   ]
  },
  {
   "cell_type": "code",
   "execution_count": 15,
   "metadata": {},
   "outputs": [
    {
     "name": "stdout",
     "output_type": "stream",
     "text": [
      "{\"1985\": \"132.29\", \"1986\": \"141.41\", \"1987\": \"156.25\", \"1988\": \"177.41\", \"1989\": \"223.84\", \"1990\": \"200.53\", \"1991\": \"330.86\", \"1992\": \"360.19\", \"1993\": \"398.28\", \"1994\": \"404.27\", \"1995\": \"576.23\", \"1996\": \"821.36\", \"1997\": \"990.80\", \"1998\": \"1,836.01\", \"1999\": \"3,707.83\", \"2000\": \"2,341.70\", \"2001\": \"1,577.05\", \"2002\": \"984.36\", \"2003\": \"1,467.92\", \"2004\": \"1,621.12\", \"2005\": \"1,645.20\", \"2006\": \"1,756.90\", \"2007\": \"2,084.93\", \"2008\": \"1,211.65\", \"2009\": \"1,860.31\", \"2010\": \"2,217.86\", \"2011\": \"2,277.83\", \"2012\": \"2,660.93\", \"2013\": \"3,592.00\", \"2014\": \"4,236.28\", \"2015\": \"4,593.27\", \"2016\": \"4,863.62\", \"2017\": \"6,396.42\", \"2018\": \"6,329.96\", \"2019\": \"8,733.07\", \"2020\": \"12,888.28\"}\n"
     ]
    }
   ],
   "source": [
    "\n",
    "    json_object = json.dumps(data)\n",
    "    print(json_object)\n",
    "    # with open('nastaq_company_ticker', 'w') as fp:\n",
    "    #     json.dump(json_object, fp)"
   ]
  },
  {
   "cell_type": "code",
   "execution_count": null,
   "metadata": {},
   "outputs": [],
   "source": []
  }
 ],
 "metadata": {
  "kernelspec": {
   "display_name": "Python 3",
   "language": "python",
   "name": "python3"
  },
  "language_info": {
   "codemirror_mode": {
    "name": "ipython",
    "version": 3
   },
   "file_extension": ".py",
   "mimetype": "text/x-python",
   "name": "python",
   "nbconvert_exporter": "python",
   "pygments_lexer": "ipython3",
   "version": "3.8.5"
  }
 },
 "nbformat": 4,
 "nbformat_minor": 4
}
