{
 "cells": [
  {
   "cell_type": "code",
   "execution_count": null,
   "metadata": {},
   "outputs": [],
   "source": [
    "from requests_html import HTMLSession\n",
    "import json\n",
    "session = HTMLSession()\n",
    "r = session.get('https://en.wikipedia.org/wiki/Nasdaq-100')\n",
    "try:\n",
    "    # 找尋table\n",
    "    table_class = '.wikitable.sortable'  # r_table[1]\n",
    "\n",
    "    r_table = r.html.find(table_class)\n",
    "    # print(r_table[1].text)\n",
    "    #!!!!!!!!!  直接找th         ==========================*==========\n",
    "    headers = []\n",
    "    th = r_table[1].find('th')\n",
    "    for header in th:\n",
    "        headers.append(header.text.replace('\\n', '-').replace('\\xa0', ''))\n",
    "    print(headers)\n",
    "    # YEAR!!!!!!!!!  直接找td ==========================*==========\n",
    "    td = r_table[1].find('td')  # !!!!!\n",
    "    year = []\n",
    "\n",
    "    for td_year in td[0::4]:\n",
    "        year.append(td_year.text)\n",
    "\n",
    "    # print(year)\n",
    "     # Closing level!!!!!!!!!   ==========================*==========\n",
    "    closing_level = []\n",
    "\n",
    "    for td_closing in td[1::4]:\n",
    "        closing_level.append(td_closing.text)\n",
    "\n",
    "     # idx_points!!!!!!!!!      ==========================*==========\n",
    "    idx_points = []\n",
    "\n",
    "    for td_idx_p in td[2::4]:\n",
    "        idx_points.append(td_idx_p.text.replace('\\u2212', '-'))\n",
    "    # idx_percentage!!!!!!!!!   ==========================*==========\n",
    "\n",
    "    idx_percentage = []\n",
    "\n",
    "    for td_idx_perc in td[3::4]:\n",
    "        idx_percentage.append(td_idx_perc.text.replace('\\u2212', '-') + '%')\n",
    "\n",
    "    # =======*=========*====*\n",
    "    #data = dict(zip(year, closing_level))\n",
    "    data = dict(zip(year, idx_points))\n",
    "    #data = dict(zip(year, idx_percentage))\n",
    "    # print(data)\n",
    "    json_object = json.dumps(data)\n",
    "    print(json_object)\n",
    "except:\n",
    "    print('website may not be approachable ')"
   ]
  },
  {
   "cell_type": "code",
   "execution_count": null,
   "metadata": {},
   "outputs": [],
   "source": []
  }
 ],
 "metadata": {
  "kernelspec": {
   "display_name": "Python 3",
   "language": "python",
   "name": "python3"
  },
  "language_info": {
   "codemirror_mode": {
    "name": "ipython",
    "version": 3
   },
   "file_extension": ".py",
   "mimetype": "text/x-python",
   "name": "python",
   "nbconvert_exporter": "python",
   "pygments_lexer": "ipython3",
   "version": "3.8.5"
  }
 },
 "nbformat": 4,
 "nbformat_minor": 4
}
