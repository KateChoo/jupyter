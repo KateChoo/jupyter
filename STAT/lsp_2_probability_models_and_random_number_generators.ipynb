{
 "cells": [
  {
   "cell_type": "markdown",
   "metadata": {
    "id": "r5Zec0cFbk4P"
   },
   "source": [
    "# Lecture 2: Probability Models & Random Number Generators (RNGs)"
   ]
  },
  {
   "cell_type": "markdown",
   "metadata": {
    "id": "830dm5oQbtnK"
   },
   "source": [
    "## First Package for Statstisics: scipy.stats"
   ]
  },
  {
   "cell_type": "code",
   "execution_count": 1,
   "metadata": {
    "id": "_VwnpFv3b1dC"
   },
   "outputs": [],
   "source": [
    "import scipy.stats"
   ]
  },
  {
   "cell_type": "markdown",
   "metadata": {
    "id": "YxWSb4yNb3J2"
   },
   "source": [
    "### Discrete Random Variables"
   ]
  },
  {
   "cell_type": "markdown",
   "metadata": {
    "id": "I_8c_0rzcG-Q"
   },
   "source": [
    "#### Bernoulli Distribution"
   ]
  },
  {
   "cell_type": "code",
   "execution_count": 2,
   "metadata": {
    "colab": {
     "base_uri": "https://localhost:8080/"
    },
    "id": "2PkMtCfdhHhO",
    "outputId": "204a117d-8480-406b-92ae-2c8fa7324c22"
   },
   "outputs": [
    {
     "data": {
      "text/plain": [
       "array([0, 0, 1, 1, 0, 0, 1, 1, 0, 1])"
      ]
     },
     "execution_count": 2,
     "metadata": {
      "tags": []
     },
     "output_type": "execute_result"
    }
   ],
   "source": [
    "sample1 = scipy.stats.bernoulli(0.5).rvs(10)\n",
    "sample1"
   ]
  },
  {
   "cell_type": "markdown",
   "metadata": {
    "id": "v7cXlM6fcQ4C"
   },
   "source": [
    "#### Binomial Distribution"
   ]
  },
  {
   "cell_type": "code",
   "execution_count": 3,
   "metadata": {
    "colab": {
     "base_uri": "https://localhost:8080/"
    },
    "id": "BGI5C-pnhvrV",
    "outputId": "fb297e53-f7bf-4c88-df2f-a6d2eda0b25b"
   },
   "outputs": [
    {
     "data": {
      "text/plain": [
       "array([5, 5, 3, ..., 7, 4, 7])"
      ]
     },
     "execution_count": 3,
     "metadata": {
      "tags": []
     },
     "output_type": "execute_result"
    }
   ],
   "source": [
    "sample2 = scipy.stats.binom(n = 10, p = 0.5).rvs(3000)\n",
    "sample2"
   ]
  },
  {
   "cell_type": "code",
   "execution_count": 4,
   "metadata": {
    "colab": {
     "base_uri": "https://localhost:8080/",
     "height": 332
    },
    "id": "fN2As-jEjyVj",
    "outputId": "f438709d-16f6-43a3-e775-bddf0a5ed302"
   },
   "outputs": [
    {
     "data": {
      "text/plain": [
       "(array([0.00066667, 0.008     , 0.03966667, 0.11566667, 0.21966667,\n",
       "        0.23566667, 0.21      , 0.119     , 0.041     , 0.01066667]),\n",
       " array([ 0.,  1.,  2.,  3.,  4.,  5.,  6.,  7.,  8.,  9., 10.]),\n",
       " <a list of 10 Patch objects>)"
      ]
     },
     "execution_count": 4,
     "metadata": {
      "tags": []
     },
     "output_type": "execute_result"
    },
    {
     "data": {
      "image/png": "[encoded data removed]",
      "text/plain": [
       "<Figure size 432x288 with 1 Axes>"
      ]
     },
     "metadata": {
      "needs_background": "light",
      "tags": []
     },
     "output_type": "display_data"
    }
   ],
   "source": [
    "import matplotlib.pyplot as plt\n",
    "\n",
    "plt.hist(sample2, density = True)"
   ]
  },
  {
   "cell_type": "markdown",
   "metadata": {
    "id": "vTFtPh_TckNs"
   },
   "source": [
    "### Continuous Random Variables"
   ]
  },
  {
   "cell_type": "markdown",
   "metadata": {
    "id": "tjBMEehJcoD-"
   },
   "source": [
    "#### Uniform Distribution"
   ]
  },
  {
   "cell_type": "code",
   "execution_count": null,
   "metadata": {
    "id": "EIvRpv7Pp49G"
   },
   "outputs": [],
   "source": [
    "sample3 = scipy.stats.uniform(0, 1).rvs(1000)\n",
    "sample3"
   ]
  },
  {
   "cell_type": "code",
   "execution_count": 6,
   "metadata": {
    "colab": {
     "base_uri": "https://localhost:8080/",
     "height": 349
    },
    "id": "uuBQvG0gcu7R",
    "outputId": "0d94e806-b090-4928-a2ff-21fc781f0ac6"
   },
   "outputs": [
    {
     "data": {
      "text/plain": [
       "(array([ 95.,  94., 103.,  96.,  95., 100., 112.,  95., 110., 100.]),\n",
       " array([2.33485169e-04, 1.00162598e-01, 2.00091710e-01, 3.00020822e-01,\n",
       "        3.99949935e-01, 4.99879047e-01, 5.99808159e-01, 6.99737272e-01,\n",
       "        7.99666384e-01, 8.99595496e-01, 9.99524609e-01]),\n",
       " <a list of 10 Patch objects>)"
      ]
     },
     "execution_count": 6,
     "metadata": {
      "tags": []
     },
     "output_type": "execute_result"
    },
    {
     "data": {
      "image/png": "[encoded data removed]",
      "text/plain": [
       "<Figure size 432x288 with 1 Axes>"
      ]
     },
     "metadata": {
      "needs_background": "light",
      "tags": []
     },
     "output_type": "display_data"
    }
   ],
   "source": [
    "plt.hist(sample3)"
   ]
  },
  {
   "cell_type": "markdown",
   "metadata": {
    "id": "jM5TAMhTc4zM"
   },
   "source": [
    "#### Normal Distribution"
   ]
  },
  {
   "cell_type": "code",
   "execution_count": 7,
   "metadata": {
    "colab": {
     "base_uri": "https://localhost:8080/",
     "height": 349
    },
    "id": "34vS-LB5dDyR",
    "outputId": "96bd47ad-efa7-4117-cec9-065649afa0d0"
   },
   "outputs": [
    {
     "data": {
      "text/plain": [
       "(array([ 11.,  38.,  75., 201., 236., 233., 126.,  61.,  16.,   3.]),\n",
       " array([-3.04118123, -2.400924  , -1.76066678, -1.12040955, -0.48015233,\n",
       "         0.1601049 ,  0.80036213,  1.44061935,  2.08087658,  2.7211338 ,\n",
       "         3.36139103]),\n",
       " <a list of 10 Patch objects>)"
      ]
     },
     "execution_count": 7,
     "metadata": {
      "tags": []
     },
     "output_type": "execute_result"
    },
    {
     "data": {
      "image/png": "[encoded data removed]",
      "text/plain": [
       "<Figure size 432x288 with 1 Axes>"
      ]
     },
     "metadata": {
      "needs_background": "light",
      "tags": []
     },
     "output_type": "display_data"
    }
   ],
   "source": [
    "sample4 = scipy.stats.norm().rvs(1000) # standard normal distribution\n",
    "plt.hist(sample4)"
   ]
  },
  {
   "cell_type": "code",
   "execution_count": 8,
   "metadata": {
    "colab": {
     "base_uri": "https://localhost:8080/"
    },
    "id": "C5c_vV2mdMTx",
    "outputId": "ae510b72-ced5-4fa9-c70a-c2d9b9219654"
   },
   "outputs": [
    {
     "data": {
      "text/plain": [
       "-0.007723290956472124"
      ]
     },
     "execution_count": 8,
     "metadata": {
      "tags": []
     },
     "output_type": "execute_result"
    }
   ],
   "source": [
    "sample4.mean()"
   ]
  },
  {
   "cell_type": "code",
   "execution_count": 9,
   "metadata": {
    "colab": {
     "base_uri": "https://localhost:8080/"
    },
    "id": "tXirqeGRdTZM",
    "outputId": "1e772bd3-7c26-42ac-f497-530257b9cae3"
   },
   "outputs": [
    {
     "data": {
      "text/plain": [
       "1.0064427554923365"
      ]
     },
     "execution_count": 9,
     "metadata": {
      "tags": []
     },
     "output_type": "execute_result"
    }
   ],
   "source": [
    "sample4.std()"
   ]
  },
  {
   "cell_type": "markdown",
   "metadata": {
    "id": "u3AeGmdPguu2"
   },
   "source": [
    "#### $\\chi^2$ Distribution"
   ]
  },
  {
   "cell_type": "code",
   "execution_count": 10,
   "metadata": {
    "colab": {
     "base_uri": "https://localhost:8080/",
     "height": 349
    },
    "id": "J4zFL-XWguFe",
    "outputId": "4522f252-143e-4b0e-bf82-89a20bbd1615"
   },
   "outputs": [
    {
     "data": {
      "text/plain": [
       "(array([729., 131.,  64.,  35.,  21.,  11.,   5.,   2.,   1.,   1.]),\n",
       " array([1.74455552e-06, 1.12989654e+00, 2.25979133e+00, 3.38968612e+00,\n",
       "        4.51958091e+00, 5.64947570e+00, 6.77937049e+00, 7.90926528e+00,\n",
       "        9.03916007e+00, 1.01690549e+01, 1.12989497e+01]),\n",
       " <a list of 10 Patch objects>)"
      ]
     },
     "execution_count": 10,
     "metadata": {
      "tags": []
     },
     "output_type": "execute_result"
    },
    {
     "data": {
      "image/png": "[encoded data removed]",
      "text/plain": [
       "<Figure size 432x288 with 1 Axes>"
      ]
     },
     "metadata": {
      "needs_background": "light",
      "tags": []
     },
     "output_type": "display_data"
    }
   ],
   "source": [
    "sample5 = sample4 ** 2\n",
    "plt.hist(sample5)"
   ]
  },
  {
   "cell_type": "code",
   "execution_count": 11,
   "metadata": {
    "colab": {
     "base_uri": "https://localhost:8080/",
     "height": 349
    },
    "id": "B5twsIG1h_PN",
    "outputId": "43fcd654-4e0a-4723-80a6-f7b8692fb984"
   },
   "outputs": [
    {
     "data": {
      "text/plain": [
       "(array([737., 143.,  61.,  35.,   9.,  10.,   1.,   3.,   0.,   1.]),\n",
       " array([1.57482800e-06, 1.14643738e+00, 2.29287318e+00, 3.43930898e+00,\n",
       "        4.58574478e+00, 5.73218058e+00, 6.87861638e+00, 8.02505218e+00,\n",
       "        9.17148798e+00, 1.03179238e+01, 1.14643596e+01]),\n",
       " <a list of 10 Patch objects>)"
      ]
     },
     "execution_count": 11,
     "metadata": {
      "tags": []
     },
     "output_type": "execute_result"
    },
    {
     "data": {
      "image/png": "[encoded data removed]",
      "text/plain": [
       "<Figure size 432x288 with 1 Axes>"
      ]
     },
     "metadata": {
      "needs_background": "light",
      "tags": []
     },
     "output_type": "display_data"
    }
   ],
   "source": [
    "sample6 = scipy.stats.chi2(df = 1).rvs(1000)\n",
    "plt.hist(sample6)"
   ]
  },
  {
   "cell_type": "markdown",
   "metadata": {
    "id": "BOutK5ghd2N6"
   },
   "source": [
    "### Cumulative Distribution Function (CDF) "
   ]
  },
  {
   "cell_type": "code",
   "execution_count": 12,
   "metadata": {
    "colab": {
     "base_uri": "https://localhost:8080/"
    },
    "id": "OFh6xic3d8nv",
    "outputId": "a1dc4625-3243-47e3-9320-3da6e6eef84b"
   },
   "outputs": [
    {
     "data": {
      "text/plain": [
       "0.5"
      ]
     },
     "execution_count": 12,
     "metadata": {
      "tags": []
     },
     "output_type": "execute_result"
    }
   ],
   "source": [
    "scipy.stats.norm().cdf(x = 0)"
   ]
  },
  {
   "cell_type": "code",
   "execution_count": 13,
   "metadata": {
    "colab": {
     "base_uri": "https://localhost:8080/",
     "height": 279
    },
    "id": "TExqrstSeBz7",
    "outputId": "77e0ff7c-f9ac-4b6d-8874-dbba236a4af4"
   },
   "outputs": [
    {
     "data": {
      "image/png": "[encoded data removed]",
      "text/plain": [
       "<Figure size 432x288 with 1 Axes>"
      ]
     },
     "metadata": {
      "needs_background": "light",
      "tags": []
     },
     "output_type": "display_data"
    }
   ],
   "source": [
    "import numpy as np\n",
    "\n",
    "x = np.linspace(-3, 3, 100)\n",
    "sample7 = [scipy.stats.norm().cdf(x = i) for i in x]\n",
    "plt.plot(x, sample7)\n",
    "plt.xlabel(\"$x$\")\n",
    "plt.ylabel(\"Pr($X = x$)\")\n",
    "plt.grid(True)"
   ]
  },
  {
   "cell_type": "markdown",
   "metadata": {
    "id": "kDvIbuksdZf5"
   },
   "source": [
    "### Percentiles"
   ]
  },
  {
   "cell_type": "code",
   "execution_count": 14,
   "metadata": {
    "colab": {
     "base_uri": "https://localhost:8080/"
    },
    "id": "dLlwP_96sppg",
    "outputId": "691e7df4-f7c9-4dc2-e29b-8b9ae7fd1b88"
   },
   "outputs": [
    {
     "data": {
      "text/plain": [
       "1.6448536269514722"
      ]
     },
     "execution_count": 14,
     "metadata": {
      "tags": []
     },
     "output_type": "execute_result"
    }
   ],
   "source": [
    "scipy.stats.norm().ppf(0.95)"
   ]
  },
  {
   "cell_type": "code",
   "execution_count": 15,
   "metadata": {
    "colab": {
     "base_uri": "https://localhost:8080/"
    },
    "id": "bNmnEua_tfzF",
    "outputId": "3fb55a62-1e31-4eed-a8be-cbd8b1cf703c"
   },
   "outputs": [
    {
     "data": {
      "text/plain": [
       "1.959963984540054"
      ]
     },
     "execution_count": 15,
     "metadata": {
      "tags": []
     },
     "output_type": "execute_result"
    }
   ],
   "source": [
    "scipy.stats.norm().ppf(0.975)"
   ]
  }
 ],
 "metadata": {
  "colab": {
   "collapsed_sections": [],
   "name": "lsp_2_probability_models_and_random_number_generators.ipynb",
   "provenance": []
  },
  "kernelspec": {
   "display_name": "Python 3",
   "language": "python",
   "name": "python3"
  },
  "language_info": {
   "codemirror_mode": {
    "name": "ipython",
    "version": 3
   },
   "file_extension": ".py",
   "mimetype": "text/x-python",
   "name": "python",
   "nbconvert_exporter": "python",
   "pygments_lexer": "ipython3",
   "version": "3.8.5"
  }
 },
 "nbformat": 4,
 "nbformat_minor": 1
}
