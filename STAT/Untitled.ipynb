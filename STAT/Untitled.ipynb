{
 "cells": [
  {
   "cell_type": "code",
   "execution_count": 2,
   "metadata": {},
   "outputs": [
    {
     "name": "stdout",
     "output_type": "stream",
     "text": [
      "Collecting ffn\n",
      "  Downloading https://files.pythonhosted.org/packages/81/f1/6dcfadb91e9ca0ddbe81dcfd8d86a60d0c58af92ce686b0da94296787e31/ffn-0.3.5-py3-none-any.whl\n",
      "Requirement already satisfied: pandas>=0.19 in /Library/Frameworks/Python.framework/Versions/3.7/lib/python3.7/site-packages (from ffn) (1.2.3)\n",
      "Requirement already satisfied: numpy>=1.5 in /Library/Frameworks/Python.framework/Versions/3.7/lib/python3.7/site-packages (from ffn) (1.20.1)\n",
      "Collecting matplotlib>=1 (from ffn)\n",
      "\u001b[?25l  Downloading https://files.pythonhosted.org/packages/7e/32/46285e083ce5b4a46468236e3073c794324700e62d7fbf26894ec390d99a/matplotlib-3.3.4-cp37-cp37m-macosx_10_9_x86_64.whl (8.5MB)\n",
      "\u001b[K    100% |████████████████████████████████| 8.5MB 179kB/s ta 0:00:011    24% |███████▉                        | 2.1MB 2.2MB/s eta 0:00:03\n",
      "\u001b[?25hCollecting tabulate>=0.7.5 (from ffn)\n",
      "  Downloading https://files.pythonhosted.org/packages/ca/80/7c0cad11bd99985cfe7c09427ee0b4f9bd6b048bd13d4ffb32c6db237dfb/tabulate-0.8.9-py3-none-any.whl\n",
      "Collecting scipy>=0.15 (from ffn)\n",
      "\u001b[?25l  Downloading https://files.pythonhosted.org/packages/6b/ac/20b92f916734d27d3fa0e0c3c1a25eff1d3a3efdd571d3c99e0c90cf7250/scipy-1.6.1-cp37-cp37m-macosx_10_9_x86_64.whl (30.7MB)\n",
      "\u001b[K    100% |████████████████████████████████| 30.7MB 312kB/s ta 0:00:01\n",
      "\u001b[?25hCollecting pandas-datareader>=0.2 (from ffn)\n",
      "\u001b[?25l  Downloading https://files.pythonhosted.org/packages/22/f1/a02eea03628865c3d4c29849cda8c8a73f43358048aee47d79dfbfa6c6c3/pandas_datareader-0.9.0-py3-none-any.whl (107kB)\n",
      "\u001b[K    100% |████████████████████████████████| 112kB 870kB/s ta 0:00:01\n",
      "\u001b[?25hCollecting scikit-learn>=0.15 (from ffn)\n",
      "\u001b[?25l  Downloading https://files.pythonhosted.org/packages/f9/67/cf40f5f74a4619469c97f5351770e7bec7ab54b52fa838586eee03c4bdca/scikit_learn-0.24.1-cp37-cp37m-macosx_10_13_x86_64.whl (7.2MB)\n",
      "\u001b[K    100% |████████████████████████████████| 7.2MB 719kB/s ta 0:00:01\n",
      "\u001b[?25hRequirement already satisfied: future>=0.15 in /Library/Frameworks/Python.framework/Versions/3.7/lib/python3.7/site-packages (from ffn) (0.18.2)\n",
      "Collecting decorator>=4 (from ffn)\n",
      "  Downloading https://files.pythonhosted.org/packages/ed/1b/72a1821152d07cf1d8b6fce298aeb06a7eb90f4d6d41acec9861e7cc6df0/decorator-4.4.2-py2.py3-none-any.whl\n",
      "Requirement already satisfied: pytz>=2017.3 in /Library/Frameworks/Python.framework/Versions/3.7/lib/python3.7/site-packages (from pandas>=0.19->ffn) (2021.1)\n",
      "Requirement already satisfied: python-dateutil>=2.7.3 in /Library/Frameworks/Python.framework/Versions/3.7/lib/python3.7/site-packages (from pandas>=0.19->ffn) (2.8.1)\n",
      "Collecting pillow>=6.2.0 (from matplotlib>=1->ffn)\n",
      "\u001b[?25l  Downloading https://files.pythonhosted.org/packages/69/3f/926523d380ed32194148b04f968e4f5f22d87e9837ec3f93e47daf432bc1/Pillow-8.1.2-cp37-cp37m-macosx_10_10_x86_64.whl (2.2MB)\n",
      "\u001b[K    100% |████████████████████████████████| 2.2MB 617kB/s ta 0:00:01\n",
      "\u001b[?25hCollecting cycler>=0.10 (from matplotlib>=1->ffn)\n",
      "  Downloading https://files.pythonhosted.org/packages/f7/d2/e07d3ebb2bd7af696440ce7e754c59dd546ffe1bbe732c8ab68b9c834e61/cycler-0.10.0-py2.py3-none-any.whl\n",
      "Collecting kiwisolver>=1.0.1 (from matplotlib>=1->ffn)\n",
      "\u001b[?25l  Downloading https://files.pythonhosted.org/packages/49/9b/f45d28fc09ff54287d60c7e0056b306b7c9abe5d23ac8f5686f7c940d30b/kiwisolver-1.3.1-cp37-cp37m-macosx_10_9_x86_64.whl (61kB)\n",
      "\u001b[K    100% |████████████████████████████████| 61kB 382kB/s ta 0:00:01\n",
      "\u001b[?25hCollecting pyparsing!=2.0.4,!=2.1.2,!=2.1.6,>=2.0.3 (from matplotlib>=1->ffn)\n",
      "\u001b[?25l  Downloading https://files.pythonhosted.org/packages/8a/bb/488841f56197b13700afd5658fc279a2025a39e22449b7cf29864669b15d/pyparsing-2.4.7-py2.py3-none-any.whl (67kB)\n",
      "\u001b[K    100% |████████████████████████████████| 71kB 568kB/s ta 0:00:01\n",
      "\u001b[?25hRequirement already satisfied: lxml in /Library/Frameworks/Python.framework/Versions/3.7/lib/python3.7/site-packages (from pandas-datareader>=0.2->ffn) (4.6.2)\n",
      "Requirement already satisfied: requests>=2.19.0 in /Library/Frameworks/Python.framework/Versions/3.7/lib/python3.7/site-packages (from pandas-datareader>=0.2->ffn) (2.25.1)\n",
      "Collecting threadpoolctl>=2.0.0 (from scikit-learn>=0.15->ffn)\n",
      "  Downloading https://files.pythonhosted.org/packages/f7/12/ec3f2e203afa394a149911729357aa48affc59c20e2c1c8297a60f33f133/threadpoolctl-2.1.0-py3-none-any.whl\n",
      "Collecting joblib>=0.11 (from scikit-learn>=0.15->ffn)\n",
      "\u001b[?25l  Downloading https://files.pythonhosted.org/packages/55/85/70c6602b078bd9e6f3da4f467047e906525c355a4dacd4f71b97a35d9897/joblib-1.0.1-py3-none-any.whl (303kB)\n",
      "\u001b[K    100% |████████████████████████████████| 307kB 534kB/s ta 0:00:01\n",
      "\u001b[?25hRequirement already satisfied: six>=1.5 in /Users/choochoo/Library/Python/3.7/lib/python/site-packages (from python-dateutil>=2.7.3->pandas>=0.19->ffn) (1.15.0)\n",
      "Requirement already satisfied: idna<3,>=2.5 in /Library/Frameworks/Python.framework/Versions/3.7/lib/python3.7/site-packages (from requests>=2.19.0->pandas-datareader>=0.2->ffn) (2.10)\n",
      "Requirement already satisfied: chardet<5,>=3.0.2 in /Library/Frameworks/Python.framework/Versions/3.7/lib/python3.7/site-packages (from requests>=2.19.0->pandas-datareader>=0.2->ffn) (4.0.0)\n",
      "Requirement already satisfied: certifi>=2017.4.17 in /Library/Frameworks/Python.framework/Versions/3.7/lib/python3.7/site-packages (from requests>=2.19.0->pandas-datareader>=0.2->ffn) (2020.12.5)\n",
      "Requirement already satisfied: urllib3<1.27,>=1.21.1 in /Library/Frameworks/Python.framework/Versions/3.7/lib/python3.7/site-packages (from requests>=2.19.0->pandas-datareader>=0.2->ffn) (1.26.3)\n",
      "Installing collected packages: pillow, cycler, kiwisolver, pyparsing, matplotlib, tabulate, scipy, pandas-datareader, threadpoolctl, joblib, scikit-learn, decorator, ffn\n",
      "Successfully installed cycler-0.10.0 decorator-4.4.2 ffn-0.3.5 joblib-1.0.1 kiwisolver-1.3.1 matplotlib-3.3.4 pandas-datareader-0.9.0 pillow-8.1.2 pyparsing-2.4.7 scikit-learn-0.24.1 scipy-1.6.1 tabulate-0.8.9 threadpoolctl-2.1.0\n",
      "\u001b[33mYou are using pip version 19.0.3, however version 21.0.1 is available.\n",
      "You should consider upgrading via the 'pip install --upgrade pip' command.\u001b[0m\n"
     ]
    }
   ],
   "source": [
    "!pip3 install ffn"
   ]
  },
  {
   "cell_type": "code",
   "execution_count": 4,
   "metadata": {},
   "outputs": [
    {
     "ename": "ModuleNotFoundError",
     "evalue": "No module named 'ffn'",
     "output_type": "error",
     "traceback": [
      "\u001b[0;31m---------------------------------------------------------------------------\u001b[0m",
      "\u001b[0;31mModuleNotFoundError\u001b[0m                       Traceback (most recent call last)",
      "\u001b[0;32m<ipython-input-4-a6bec7b2e827>\u001b[0m in \u001b[0;36m<module>\u001b[0;34m\u001b[0m\n\u001b[0;32m----> 1\u001b[0;31m \u001b[0;32mimport\u001b[0m \u001b[0mffn\u001b[0m\u001b[0;34m\u001b[0m\u001b[0;34m\u001b[0m\u001b[0m\n\u001b[0m\u001b[1;32m      2\u001b[0m \u001b[0mdf\u001b[0m \u001b[0;34m=\u001b[0m \u001b[0mffn\u001b[0m\u001b[0;34m.\u001b[0m\u001b[0mget\u001b[0m\u001b[0;34m(\u001b[0m\u001b[0;34m\"2330.tw, twii\"\u001b[0m\u001b[0;34m,\u001b[0m \u001b[0mstart\u001b[0m \u001b[0;34m=\u001b[0m \u001b[0;34m\"2020-1-1\"\u001b[0m\u001b[0;34m)\u001b[0m\u001b[0;34m\u001b[0m\u001b[0;34m\u001b[0m\u001b[0m\n\u001b[1;32m      3\u001b[0m \u001b[0mdf\u001b[0m\u001b[0;34m.\u001b[0m\u001b[0mhead\u001b[0m\u001b[0;34m(\u001b[0m\u001b[0;34m)\u001b[0m\u001b[0;34m\u001b[0m\u001b[0;34m\u001b[0m\u001b[0m\n",
      "\u001b[0;31mModuleNotFoundError\u001b[0m: No module named 'ffn'"
     ]
    }
   ],
   "source": [
    "import ffn\n",
    "df = ffn.get(\"2330.tw, twii\", start = \"2020-1-1\")\n",
    "df.head()"
   ]
  },
  {
   "cell_type": "code",
   "execution_count": null,
   "metadata": {},
   "outputs": [],
   "source": []
  }
 ],
 "metadata": {
  "kernelspec": {
   "display_name": "Python 3",
   "language": "python",
   "name": "python3"
  },
  "language_info": {
   "codemirror_mode": {
    "name": "ipython",
    "version": 3
   },
   "file_extension": ".py",
   "mimetype": "text/x-python",
   "name": "python",
   "nbconvert_exporter": "python",
   "pygments_lexer": "ipython3",
   "version": "3.8.5"
  }
 },
 "nbformat": 4,
 "nbformat_minor": 4
}
