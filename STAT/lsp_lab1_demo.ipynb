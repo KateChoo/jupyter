{
  "nbformat": 4,
  "nbformat_minor": 0,
  "metadata": {
    "colab": {
      "name": "lsp_lab1_demo.ipynb",
      "provenance": [],
      "collapsed_sections": []
    },
    "kernelspec": {
      "name": "python3",
      "display_name": "Python 3"
    }
  },
  "cells": [
    {
      "cell_type": "code",
      "metadata": {
        "id": "amNqVNDwoJ3s"
      },
      "source": [
        "!pip install ffn"
      ],
      "execution_count": null,
      "outputs": []
    },
    {
      "cell_type": "code",
      "metadata": {
        "id": "v9G_k76ZoXFE"
      },
      "source": [
        "import ffn\r\n",
        "\r\n",
        "tbl = ffn.get(\"fb, aapl, amzn, nflx, goog\", start = \"2020-01-01\")"
      ],
      "execution_count": null,
      "outputs": []
    },
    {
      "cell_type": "code",
      "metadata": {
        "colab": {
          "base_uri": "https://localhost:8080/",
          "height": 225
        },
        "id": "4AKfJXeFolIA",
        "outputId": "73ba1256-fc08-492b-a2b6-9a068d340005"
      },
      "source": [
        "tmp = tbl / tbl.iloc[0]\r\n",
        "\r\n",
        "tmp.head()"
      ],
      "execution_count": null,
      "outputs": [
        {
          "output_type": "execute_result",
          "data": {
            "text/html": [
              "<div>\n",
              "<style scoped>\n",
              "    .dataframe tbody tr th:only-of-type {\n",
              "        vertical-align: middle;\n",
              "    }\n",
              "\n",
              "    .dataframe tbody tr th {\n",
              "        vertical-align: top;\n",
              "    }\n",
              "\n",
              "    .dataframe thead th {\n",
              "        text-align: right;\n",
              "    }\n",
              "</style>\n",
              "<table border=\"1\" class=\"dataframe\">\n",
              "  <thead>\n",
              "    <tr style=\"text-align: right;\">\n",
              "      <th></th>\n",
              "      <th>fb</th>\n",
              "      <th>aapl</th>\n",
              "      <th>amzn</th>\n",
              "      <th>nflx</th>\n",
              "      <th>goog</th>\n",
              "    </tr>\n",
              "    <tr>\n",
              "      <th>Date</th>\n",
              "      <th></th>\n",
              "      <th></th>\n",
              "      <th></th>\n",
              "      <th></th>\n",
              "      <th></th>\n",
              "    </tr>\n",
              "  </thead>\n",
              "  <tbody>\n",
              "    <tr>\n",
              "      <th>2020-01-02</th>\n",
              "      <td>1.000000</td>\n",
              "      <td>1.000000</td>\n",
              "      <td>1.000000</td>\n",
              "      <td>1.000000</td>\n",
              "      <td>1.000000</td>\n",
              "    </tr>\n",
              "    <tr>\n",
              "      <th>2020-01-03</th>\n",
              "      <td>0.994709</td>\n",
              "      <td>0.990278</td>\n",
              "      <td>0.987861</td>\n",
              "      <td>0.988145</td>\n",
              "      <td>0.995093</td>\n",
              "    </tr>\n",
              "    <tr>\n",
              "      <th>2020-01-06</th>\n",
              "      <td>1.013443</td>\n",
              "      <td>0.998169</td>\n",
              "      <td>1.002566</td>\n",
              "      <td>1.018253</td>\n",
              "      <td>1.019629</td>\n",
              "    </tr>\n",
              "    <tr>\n",
              "      <th>2020-01-07</th>\n",
              "      <td>1.015635</td>\n",
              "      <td>0.993474</td>\n",
              "      <td>1.004663</td>\n",
              "      <td>1.002850</td>\n",
              "      <td>1.018993</td>\n",
              "    </tr>\n",
              "    <tr>\n",
              "      <th>2020-01-08</th>\n",
              "      <td>1.025932</td>\n",
              "      <td>1.009456</td>\n",
              "      <td>0.996818</td>\n",
              "      <td>1.028653</td>\n",
              "      <td>1.027023</td>\n",
              "    </tr>\n",
              "  </tbody>\n",
              "</table>\n",
              "</div>"
            ],
            "text/plain": [
              "                  fb      aapl      amzn      nflx      goog\n",
              "Date                                                        \n",
              "2020-01-02  1.000000  1.000000  1.000000  1.000000  1.000000\n",
              "2020-01-03  0.994709  0.990278  0.987861  0.988145  0.995093\n",
              "2020-01-06  1.013443  0.998169  1.002566  1.018253  1.019629\n",
              "2020-01-07  1.015635  0.993474  1.004663  1.002850  1.018993\n",
              "2020-01-08  1.025932  1.009456  0.996818  1.028653  1.027023"
            ]
          },
          "metadata": {
            "tags": []
          },
          "execution_count": 3
        }
      ]
    },
    {
      "cell_type": "code",
      "metadata": {
        "colab": {
          "base_uri": "https://localhost:8080/",
          "height": 225
        },
        "id": "dDNPyEXpozEA",
        "outputId": "31575d6f-afbf-4ff1-d131-c4be3a93b99c"
      },
      "source": [
        "tbl[\"My Position\"] = tmp.sum(1)\r\n",
        "tbl.head()"
      ],
      "execution_count": null,
      "outputs": [
        {
          "output_type": "execute_result",
          "data": {
            "text/html": [
              "<div>\n",
              "<style scoped>\n",
              "    .dataframe tbody tr th:only-of-type {\n",
              "        vertical-align: middle;\n",
              "    }\n",
              "\n",
              "    .dataframe tbody tr th {\n",
              "        vertical-align: top;\n",
              "    }\n",
              "\n",
              "    .dataframe thead th {\n",
              "        text-align: right;\n",
              "    }\n",
              "</style>\n",
              "<table border=\"1\" class=\"dataframe\">\n",
              "  <thead>\n",
              "    <tr style=\"text-align: right;\">\n",
              "      <th></th>\n",
              "      <th>fb</th>\n",
              "      <th>aapl</th>\n",
              "      <th>amzn</th>\n",
              "      <th>nflx</th>\n",
              "      <th>goog</th>\n",
              "      <th>My Position</th>\n",
              "    </tr>\n",
              "    <tr>\n",
              "      <th>Date</th>\n",
              "      <th></th>\n",
              "      <th></th>\n",
              "      <th></th>\n",
              "      <th></th>\n",
              "      <th></th>\n",
              "      <th></th>\n",
              "    </tr>\n",
              "  </thead>\n",
              "  <tbody>\n",
              "    <tr>\n",
              "      <th>2020-01-02</th>\n",
              "      <td>209.779999</td>\n",
              "      <td>74.333511</td>\n",
              "      <td>1898.010010</td>\n",
              "      <td>329.809998</td>\n",
              "      <td>1367.369995</td>\n",
              "      <td>5.000000</td>\n",
              "    </tr>\n",
              "    <tr>\n",
              "      <th>2020-01-03</th>\n",
              "      <td>208.669998</td>\n",
              "      <td>73.610840</td>\n",
              "      <td>1874.969971</td>\n",
              "      <td>325.899994</td>\n",
              "      <td>1360.660034</td>\n",
              "      <td>4.956085</td>\n",
              "    </tr>\n",
              "    <tr>\n",
              "      <th>2020-01-06</th>\n",
              "      <td>212.600006</td>\n",
              "      <td>74.197395</td>\n",
              "      <td>1902.880005</td>\n",
              "      <td>335.829987</td>\n",
              "      <td>1394.209961</td>\n",
              "      <td>5.052059</td>\n",
              "    </tr>\n",
              "    <tr>\n",
              "      <th>2020-01-07</th>\n",
              "      <td>213.059998</td>\n",
              "      <td>73.848442</td>\n",
              "      <td>1906.859985</td>\n",
              "      <td>330.750000</td>\n",
              "      <td>1393.339966</td>\n",
              "      <td>5.035615</td>\n",
              "    </tr>\n",
              "    <tr>\n",
              "      <th>2020-01-08</th>\n",
              "      <td>215.220001</td>\n",
              "      <td>75.036385</td>\n",
              "      <td>1891.969971</td>\n",
              "      <td>339.260010</td>\n",
              "      <td>1404.319946</td>\n",
              "      <td>5.087881</td>\n",
              "    </tr>\n",
              "  </tbody>\n",
              "</table>\n",
              "</div>"
            ],
            "text/plain": [
              "                    fb       aapl  ...         goog  My Position\n",
              "Date                               ...                          \n",
              "2020-01-02  209.779999  74.333511  ...  1367.369995     5.000000\n",
              "2020-01-03  208.669998  73.610840  ...  1360.660034     4.956085\n",
              "2020-01-06  212.600006  74.197395  ...  1394.209961     5.052059\n",
              "2020-01-07  213.059998  73.848442  ...  1393.339966     5.035615\n",
              "2020-01-08  215.220001  75.036385  ...  1404.319946     5.087881\n",
              "\n",
              "[5 rows x 6 columns]"
            ]
          },
          "metadata": {
            "tags": []
          },
          "execution_count": 4
        }
      ]
    },
    {
      "cell_type": "code",
      "metadata": {
        "colab": {
          "base_uri": "https://localhost:8080/",
          "height": 310
        },
        "id": "r-MnBXSNqmZE",
        "outputId": "a0a117de-fd84-4598-d6f1-508e9c4771b4"
      },
      "source": [
        "%matplotlib inline\r\n",
        "\r\n",
        "ax = (tbl[\"My Position\"].rebase() - 100).plot.line(grid = True)\r\n",
        "ax.set_ylabel(\"Return rate (%)\")\r\n",
        "ax.set_title(\"My Portfolio\")"
      ],
      "execution_count": null,
      "outputs": [
        {
          "output_type": "execute_result",
          "data": {
            "text/plain": [
              "Text(0.5, 1.0, 'My Portfolio')"
            ]
          },
          "metadata": {
            "tags": []
          },
          "execution_count": 5
        },
        {
          "output_type": "display_data",
          "data": {
            "image/png": "[encoded data removed]",
            "text/plain": [
              "<Figure size 432x288 with 1 Axes>"
            ]
          },
          "metadata": {
            "tags": [],
            "needs_background": "light"
          }
        }
      ]
    },
    {
      "cell_type": "code",
      "metadata": {
        "id": "CoohI8ESq5lq"
      },
      "source": [
        "tbl.to_excel(\"output.xlsx\")"
      ],
      "execution_count": null,
      "outputs": []
    }
  ]
}