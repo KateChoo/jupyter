{
 "cells": [
  {
   "cell_type": "code",
   "execution_count": 3,
   "metadata": {},
   "outputs": [],
   "source": [
    "from requests_html import HTMLSession\n",
    "from requests_html import HTML\n",
    "session = HTMLSession()\n",
    "\n",
    "r = session.get('https://en.wikipedia.org/wiki/Toy_Story_3')\n",
    "#r.html.absolute_links"
   ]
  },
  {
   "cell_type": "code",
   "execution_count": 4,
   "metadata": {},
   "outputs": [
    {
     "name": "stdout",
     "output_type": "stream",
     "text": [
      "[<Element 'table' class=('infobox', 'vevent') style='width:22em;font-size:90%;'>, <Element 'table' class=('infobox', 'vevent', 'haudio') style='width:22em'>]\n"
     ]
    }
   ],
   "source": [
    "table_class = '.infobox' #vevent\n",
    "r_table = r.html.find(table_class)\n",
    "print(r_table)"
   ]
  },
  {
   "cell_type": "code",
   "execution_count": 5,
   "metadata": {},
   "outputs": [
    {
     "name": "stdout",
     "output_type": "stream",
     "text": [
      "Toy Story 3\n",
      "Soundtrack album by\n",
      "Randy Newman\n",
      "Released\n",
      "Recorded\n",
      "Genre\n",
      "Length\n",
      "Label\n",
      "Pixar chronology\n",
      "Randy Newman chronology\n",
      "Singles from Toy Story 3\n",
      "==============================\n",
      "June 15, 2010[161]\n",
      "2009–10\n",
      "Score\n",
      "56:18\n",
      "Walt Disney\n",
      "Up\n",
      "(2009)\n",
      "Toy Story 3\n",
      "(2010)\n",
      "Cars 2\n",
      "(2011)\n",
      "Up\n",
      "(2009)\n",
      "Toy Story 3\n",
      "(2010)\n",
      "Cars 2\n",
      "(2011)\n",
      "\n",
      "The Princess and the Frog\n",
      "(2009)\n",
      "Toy Story 3\n",
      "(2010)\n",
      "Monsters University\n",
      "(2013)\n",
      "The Princess and the Frog\n",
      "(2009)\n",
      "Toy Story 3\n",
      "(2010)\n",
      "Monsters University\n",
      "(2013)\n",
      "\"We Belong Together\"\n",
      "Released: 2010\n",
      "\n"
     ]
    }
   ],
   "source": [
    "#print(r_table[1].find('tr'))\n",
    "r1_t_tr = r_table[1].find('tr')\n",
    "\n",
    "for r1_t_th in r1_t_tr:\n",
    "    for r1_th in r1_t_th.find('th'):\n",
    "        print(r1_th.text)\n",
    "print('='*30)        \n",
    "# for r1_t_td in r_table[1].find('td'):\n",
    "#     for r1_td in r1_t_th.find('td'):\n",
    "#         print(r1_td.text)\n",
    "\n",
    "#print(r_table[1].find('td'))\n",
    "for td in r_table[1].find('td'):\n",
    "    print(td.text)"
   ]
  },
  {
   "cell_type": "code",
   "execution_count": 83,
   "metadata": {},
   "outputs": [
    {
     "ename": "AttributeError",
     "evalue": "'Element' object has no attribute 'td'",
     "output_type": "error",
     "traceback": [
      "\u001b[1;31m---------------------------------------------------------------------------\u001b[0m",
      "\u001b[1;31mAttributeError\u001b[0m                            Traceback (most recent call last)",
      "\u001b[1;32m<ipython-input-83-6e366c67e02a>\u001b[0m in \u001b[0;36m<module>\u001b[1;34m\u001b[0m\n\u001b[0;32m     13\u001b[0m     \u001b[1;32melse\u001b[0m\u001b[1;33m:\u001b[0m\u001b[1;33m\u001b[0m\u001b[1;33m\u001b[0m\u001b[0m\n\u001b[0;32m     14\u001b[0m         \u001b[0mcontent_key\u001b[0m \u001b[1;33m=\u001b[0m \u001b[0mth\u001b[0m\u001b[1;33m.\u001b[0m\u001b[0mtext\u001b[0m\u001b[1;33m\u001b[0m\u001b[1;33m\u001b[0m\u001b[0m\n\u001b[1;32m---> 15\u001b[1;33m         \u001b[0mcontent_value\u001b[0m \u001b[1;33m=\u001b[0m \u001b[0mth\u001b[0m\u001b[1;33m.\u001b[0m\u001b[0mtd\u001b[0m\u001b[1;33m.\u001b[0m\u001b[0mtext\u001b[0m\u001b[1;33m\u001b[0m\u001b[1;33m\u001b[0m\u001b[0m\n\u001b[0m\u001b[0;32m     16\u001b[0m         \u001b[0mprint\u001b[0m\u001b[1;33m(\u001b[0m\u001b[0mcontent_value\u001b[0m\u001b[1;33m)\u001b[0m\u001b[1;33m\u001b[0m\u001b[1;33m\u001b[0m\u001b[0m\n\u001b[0;32m     17\u001b[0m \u001b[1;31m# print(movie_info)\u001b[0m\u001b[1;33m\u001b[0m\u001b[1;33m\u001b[0m\u001b[1;33m\u001b[0m\u001b[0m\n",
      "\u001b[1;31mAttributeError\u001b[0m: 'Element' object has no attribute 'td'"
     ]
    }
   ],
   "source": [
    "#keith的作法\n",
    "movie_info = {}\n",
    "# for td in r_table[0].find('td')[1:]:\n",
    "#     content_value = td.text\n",
    "#     print(content_value)\n",
    "for index, th in enumerate(r_table[0].find('th')[0:10]):\n",
    "#     print(th.text)\n",
    "    #ths.append(th.text)\n",
    "    if index == 0:\n",
    "        movie_info['title'] = th.text\n",
    "    elif index == 1:\n",
    "        continue\n",
    "    else:\n",
    "        content_key = th.text\n",
    "\n",
    "# print(movie_info)"
   ]
  },
  {
   "cell_type": "code",
   "execution_count": 6,
   "metadata": {},
   "outputs": [
    {
     "name": "stdout",
     "output_type": "stream",
     "text": [
      "==============================\n",
      "{'Directed by': 'Lee Unkrich', 'Produced by': 'Darla K. Anderson', 'Screenplay by': 'Michael Arndt', 'Story by': 'John Lasseter, Andrew Stanton, Lee Unkrich', 'Starring': 'Tom Hanks, Tim Allen, Joan Cusack, Don Rickles, Wallace Shawn, John Ratzenberger, Estelle Harris, Blake Clark, Jeff Pidgeon, Ned Beatty, Michael Keaton, Jodi Benson, John Morris', 'Music by': 'Randy Newman', 'Cinematography': 'Jeremy Lasky, Kim White', 'Edited by': 'Ken Schretzmann', 'Production\\ncompanies': 'Walt Disney Pictures, Pixar Animation Studios', 'Distributed by': 'Walt Disney Studios, Motion Pictures', 'Release date': 'June 12, 2010 (2010-06-12) (Taormina Film Fest), June 18, 2010 (2010-06-18) (United States)', 'Running time': '103 minutes[1]', 'Country': 'United States', 'Language': 'English', 'Budget': '$200 million[1]', 'Box office': '$1.067 billion[1]'}\n"
     ]
    }
   ],
   "source": [
    "#!!!!!心血!!!!\n",
    "tr = r_table[0].find('tr')\n",
    "ths = []\n",
    "tds = []\n",
    "\n",
    "for th in r_table[0].find('th')[1:]:\n",
    "#     print(th.text)\n",
    "    ths.append(th.text)\n",
    "print('='*30)        \n",
    "\n",
    "for td in r_table[0].find('td')[1:]: #[0]Theatrical release poster\n",
    "#     print(td.text)\n",
    "    tds.append(td.text.replace('\\n', ', ').replace('\\xa0', ' '))\n",
    "# print(ths)\n",
    "# print(tds)\n",
    "\n",
    "data = dict(zip(ths, tds))\n",
    "print(data)\n"
   ]
  },
  {
   "cell_type": "code",
   "execution_count": null,
   "metadata": {},
   "outputs": [],
   "source": [
    "Production\\ncompanies"
   ]
  }
 ],
 "metadata": {
  "kernelspec": {
   "display_name": "Python 3",
   "language": "python",
   "name": "python3"
  },
  "language_info": {
   "codemirror_mode": {
    "name": "ipython",
    "version": 3
   },
   "file_extension": ".py",
   "mimetype": "text/x-python",
   "name": "python",
   "nbconvert_exporter": "python",
   "pygments_lexer": "ipython3",
   "version": "3.8.5"
  }
 },
 "nbformat": 4,
 "nbformat_minor": 4
}
